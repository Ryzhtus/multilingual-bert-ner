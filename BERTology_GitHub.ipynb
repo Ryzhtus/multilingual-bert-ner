{
  "nbformat": 4,
  "nbformat_minor": 0,
  "metadata": {
    "colab": {
      "name": "BERTology GitHub.ipynb",
      "provenance": [],
      "collapsed_sections": [],
      "toc_visible": true
    },
    "kernelspec": {
      "name": "python3",
      "display_name": "Python 3"
    },
    "accelerator": "GPU",
    "widgets": {
      "application/vnd.jupyter.widget-state+json": {
        "2df6b7180641477288db0cbaed8ecd5b": {
          "model_module": "@jupyter-widgets/controls",
          "model_name": "HBoxModel",
          "state": {
            "_view_name": "HBoxView",
            "_dom_classes": [],
            "_model_name": "HBoxModel",
            "_view_module": "@jupyter-widgets/controls",
            "_model_module_version": "1.5.0",
            "_view_count": null,
            "_view_module_version": "1.5.0",
            "box_style": "",
            "layout": "IPY_MODEL_bb9cdcae2aa345099405f8c69843a686",
            "_model_module": "@jupyter-widgets/controls",
            "children": [
              "IPY_MODEL_44f6225b11ee406fb3d60be02f032635",
              "IPY_MODEL_81d5df2dad2c482791ebf89eaa04b50d"
            ]
          }
        },
        "bb9cdcae2aa345099405f8c69843a686": {
          "model_module": "@jupyter-widgets/base",
          "model_name": "LayoutModel",
          "state": {
            "_view_name": "LayoutView",
            "grid_template_rows": null,
            "right": null,
            "justify_content": null,
            "_view_module": "@jupyter-widgets/base",
            "overflow": null,
            "_model_module_version": "1.2.0",
            "_view_count": null,
            "flex_flow": null,
            "width": null,
            "min_width": null,
            "border": null,
            "align_items": null,
            "bottom": null,
            "_model_module": "@jupyter-widgets/base",
            "top": null,
            "grid_column": null,
            "overflow_y": null,
            "overflow_x": null,
            "grid_auto_flow": null,
            "grid_area": null,
            "grid_template_columns": null,
            "flex": null,
            "_model_name": "LayoutModel",
            "justify_items": null,
            "grid_row": null,
            "max_height": null,
            "align_content": null,
            "visibility": null,
            "align_self": null,
            "height": null,
            "min_height": null,
            "padding": null,
            "grid_auto_rows": null,
            "grid_gap": null,
            "max_width": null,
            "order": null,
            "_view_module_version": "1.2.0",
            "grid_template_areas": null,
            "object_position": null,
            "object_fit": null,
            "grid_auto_columns": null,
            "margin": null,
            "display": null,
            "left": null
          }
        },
        "44f6225b11ee406fb3d60be02f032635": {
          "model_module": "@jupyter-widgets/controls",
          "model_name": "FloatProgressModel",
          "state": {
            "_view_name": "ProgressView",
            "style": "IPY_MODEL_521222c32b054621b3324c0e0ab9a664",
            "_dom_classes": [],
            "description": "Downloading: 100%",
            "_model_name": "FloatProgressModel",
            "bar_style": "success",
            "max": 995526,
            "_view_module": "@jupyter-widgets/controls",
            "_model_module_version": "1.5.0",
            "value": 995526,
            "_view_count": null,
            "_view_module_version": "1.5.0",
            "orientation": "horizontal",
            "min": 0,
            "description_tooltip": null,
            "_model_module": "@jupyter-widgets/controls",
            "layout": "IPY_MODEL_f775a9ddbb564cc792055d4f14fafa33"
          }
        },
        "81d5df2dad2c482791ebf89eaa04b50d": {
          "model_module": "@jupyter-widgets/controls",
          "model_name": "HTMLModel",
          "state": {
            "_view_name": "HTMLView",
            "style": "IPY_MODEL_baf1715247a54e1db73d2ee077183e0b",
            "_dom_classes": [],
            "description": "",
            "_model_name": "HTMLModel",
            "placeholder": "​",
            "_view_module": "@jupyter-widgets/controls",
            "_model_module_version": "1.5.0",
            "value": " 996k/996k [00:00&lt;00:00, 6.76MB/s]",
            "_view_count": null,
            "_view_module_version": "1.5.0",
            "description_tooltip": null,
            "_model_module": "@jupyter-widgets/controls",
            "layout": "IPY_MODEL_f17c7d303fce4a18b462bc6f421163f6"
          }
        },
        "521222c32b054621b3324c0e0ab9a664": {
          "model_module": "@jupyter-widgets/controls",
          "model_name": "ProgressStyleModel",
          "state": {
            "_view_name": "StyleView",
            "_model_name": "ProgressStyleModel",
            "description_width": "initial",
            "_view_module": "@jupyter-widgets/base",
            "_model_module_version": "1.5.0",
            "_view_count": null,
            "_view_module_version": "1.2.0",
            "bar_color": null,
            "_model_module": "@jupyter-widgets/controls"
          }
        },
        "f775a9ddbb564cc792055d4f14fafa33": {
          "model_module": "@jupyter-widgets/base",
          "model_name": "LayoutModel",
          "state": {
            "_view_name": "LayoutView",
            "grid_template_rows": null,
            "right": null,
            "justify_content": null,
            "_view_module": "@jupyter-widgets/base",
            "overflow": null,
            "_model_module_version": "1.2.0",
            "_view_count": null,
            "flex_flow": null,
            "width": null,
            "min_width": null,
            "border": null,
            "align_items": null,
            "bottom": null,
            "_model_module": "@jupyter-widgets/base",
            "top": null,
            "grid_column": null,
            "overflow_y": null,
            "overflow_x": null,
            "grid_auto_flow": null,
            "grid_area": null,
            "grid_template_columns": null,
            "flex": null,
            "_model_name": "LayoutModel",
            "justify_items": null,
            "grid_row": null,
            "max_height": null,
            "align_content": null,
            "visibility": null,
            "align_self": null,
            "height": null,
            "min_height": null,
            "padding": null,
            "grid_auto_rows": null,
            "grid_gap": null,
            "max_width": null,
            "order": null,
            "_view_module_version": "1.2.0",
            "grid_template_areas": null,
            "object_position": null,
            "object_fit": null,
            "grid_auto_columns": null,
            "margin": null,
            "display": null,
            "left": null
          }
        },
        "baf1715247a54e1db73d2ee077183e0b": {
          "model_module": "@jupyter-widgets/controls",
          "model_name": "DescriptionStyleModel",
          "state": {
            "_view_name": "StyleView",
            "_model_name": "DescriptionStyleModel",
            "description_width": "",
            "_view_module": "@jupyter-widgets/base",
            "_model_module_version": "1.5.0",
            "_view_count": null,
            "_view_module_version": "1.2.0",
            "_model_module": "@jupyter-widgets/controls"
          }
        },
        "f17c7d303fce4a18b462bc6f421163f6": {
          "model_module": "@jupyter-widgets/base",
          "model_name": "LayoutModel",
          "state": {
            "_view_name": "LayoutView",
            "grid_template_rows": null,
            "right": null,
            "justify_content": null,
            "_view_module": "@jupyter-widgets/base",
            "overflow": null,
            "_model_module_version": "1.2.0",
            "_view_count": null,
            "flex_flow": null,
            "width": null,
            "min_width": null,
            "border": null,
            "align_items": null,
            "bottom": null,
            "_model_module": "@jupyter-widgets/base",
            "top": null,
            "grid_column": null,
            "overflow_y": null,
            "overflow_x": null,
            "grid_auto_flow": null,
            "grid_area": null,
            "grid_template_columns": null,
            "flex": null,
            "_model_name": "LayoutModel",
            "justify_items": null,
            "grid_row": null,
            "max_height": null,
            "align_content": null,
            "visibility": null,
            "align_self": null,
            "height": null,
            "min_height": null,
            "padding": null,
            "grid_auto_rows": null,
            "grid_gap": null,
            "max_width": null,
            "order": null,
            "_view_module_version": "1.2.0",
            "grid_template_areas": null,
            "object_position": null,
            "object_fit": null,
            "grid_auto_columns": null,
            "margin": null,
            "display": null,
            "left": null
          }
        },
        "a13084bcb534474bbdd67240e340cf85": {
          "model_module": "@jupyter-widgets/controls",
          "model_name": "HBoxModel",
          "state": {
            "_view_name": "HBoxView",
            "_dom_classes": [],
            "_model_name": "HBoxModel",
            "_view_module": "@jupyter-widgets/controls",
            "_model_module_version": "1.5.0",
            "_view_count": null,
            "_view_module_version": "1.5.0",
            "box_style": "",
            "layout": "IPY_MODEL_5cdba171d9954b598faaf2ebcc008be3",
            "_model_module": "@jupyter-widgets/controls",
            "children": [
              "IPY_MODEL_f598d59becd7424f8eff8a13fefbb0d6",
              "IPY_MODEL_838afcc4912d47ebac521cf2ed33159e"
            ]
          }
        },
        "5cdba171d9954b598faaf2ebcc008be3": {
          "model_module": "@jupyter-widgets/base",
          "model_name": "LayoutModel",
          "state": {
            "_view_name": "LayoutView",
            "grid_template_rows": null,
            "right": null,
            "justify_content": null,
            "_view_module": "@jupyter-widgets/base",
            "overflow": null,
            "_model_module_version": "1.2.0",
            "_view_count": null,
            "flex_flow": null,
            "width": null,
            "min_width": null,
            "border": null,
            "align_items": null,
            "bottom": null,
            "_model_module": "@jupyter-widgets/base",
            "top": null,
            "grid_column": null,
            "overflow_y": null,
            "overflow_x": null,
            "grid_auto_flow": null,
            "grid_area": null,
            "grid_template_columns": null,
            "flex": null,
            "_model_name": "LayoutModel",
            "justify_items": null,
            "grid_row": null,
            "max_height": null,
            "align_content": null,
            "visibility": null,
            "align_self": null,
            "height": null,
            "min_height": null,
            "padding": null,
            "grid_auto_rows": null,
            "grid_gap": null,
            "max_width": null,
            "order": null,
            "_view_module_version": "1.2.0",
            "grid_template_areas": null,
            "object_position": null,
            "object_fit": null,
            "grid_auto_columns": null,
            "margin": null,
            "display": null,
            "left": null
          }
        },
        "f598d59becd7424f8eff8a13fefbb0d6": {
          "model_module": "@jupyter-widgets/controls",
          "model_name": "FloatProgressModel",
          "state": {
            "_view_name": "ProgressView",
            "style": "IPY_MODEL_d6ddc7521ff44ec2b6880165f0a15d8a",
            "_dom_classes": [],
            "description": "Downloading: 100%",
            "_model_name": "FloatProgressModel",
            "bar_style": "success",
            "max": 995526,
            "_view_module": "@jupyter-widgets/controls",
            "_model_module_version": "1.5.0",
            "value": 995526,
            "_view_count": null,
            "_view_module_version": "1.5.0",
            "orientation": "horizontal",
            "min": 0,
            "description_tooltip": null,
            "_model_module": "@jupyter-widgets/controls",
            "layout": "IPY_MODEL_5f98480bed1f4b09a0ecb7fbceec73ed"
          }
        },
        "838afcc4912d47ebac521cf2ed33159e": {
          "model_module": "@jupyter-widgets/controls",
          "model_name": "HTMLModel",
          "state": {
            "_view_name": "HTMLView",
            "style": "IPY_MODEL_188b3742e0b948dcad74ead9de56535d",
            "_dom_classes": [],
            "description": "",
            "_model_name": "HTMLModel",
            "placeholder": "​",
            "_view_module": "@jupyter-widgets/controls",
            "_model_module_version": "1.5.0",
            "value": " 996k/996k [00:00&lt;00:00, 1.65MB/s]",
            "_view_count": null,
            "_view_module_version": "1.5.0",
            "description_tooltip": null,
            "_model_module": "@jupyter-widgets/controls",
            "layout": "IPY_MODEL_93803d912648404da4e358c6397dcc87"
          }
        },
        "d6ddc7521ff44ec2b6880165f0a15d8a": {
          "model_module": "@jupyter-widgets/controls",
          "model_name": "ProgressStyleModel",
          "state": {
            "_view_name": "StyleView",
            "_model_name": "ProgressStyleModel",
            "description_width": "initial",
            "_view_module": "@jupyter-widgets/base",
            "_model_module_version": "1.5.0",
            "_view_count": null,
            "_view_module_version": "1.2.0",
            "bar_color": null,
            "_model_module": "@jupyter-widgets/controls"
          }
        },
        "5f98480bed1f4b09a0ecb7fbceec73ed": {
          "model_module": "@jupyter-widgets/base",
          "model_name": "LayoutModel",
          "state": {
            "_view_name": "LayoutView",
            "grid_template_rows": null,
            "right": null,
            "justify_content": null,
            "_view_module": "@jupyter-widgets/base",
            "overflow": null,
            "_model_module_version": "1.2.0",
            "_view_count": null,
            "flex_flow": null,
            "width": null,
            "min_width": null,
            "border": null,
            "align_items": null,
            "bottom": null,
            "_model_module": "@jupyter-widgets/base",
            "top": null,
            "grid_column": null,
            "overflow_y": null,
            "overflow_x": null,
            "grid_auto_flow": null,
            "grid_area": null,
            "grid_template_columns": null,
            "flex": null,
            "_model_name": "LayoutModel",
            "justify_items": null,
            "grid_row": null,
            "max_height": null,
            "align_content": null,
            "visibility": null,
            "align_self": null,
            "height": null,
            "min_height": null,
            "padding": null,
            "grid_auto_rows": null,
            "grid_gap": null,
            "max_width": null,
            "order": null,
            "_view_module_version": "1.2.0",
            "grid_template_areas": null,
            "object_position": null,
            "object_fit": null,
            "grid_auto_columns": null,
            "margin": null,
            "display": null,
            "left": null
          }
        },
        "188b3742e0b948dcad74ead9de56535d": {
          "model_module": "@jupyter-widgets/controls",
          "model_name": "DescriptionStyleModel",
          "state": {
            "_view_name": "StyleView",
            "_model_name": "DescriptionStyleModel",
            "description_width": "",
            "_view_module": "@jupyter-widgets/base",
            "_model_module_version": "1.5.0",
            "_view_count": null,
            "_view_module_version": "1.2.0",
            "_model_module": "@jupyter-widgets/controls"
          }
        },
        "93803d912648404da4e358c6397dcc87": {
          "model_module": "@jupyter-widgets/base",
          "model_name": "LayoutModel",
          "state": {
            "_view_name": "LayoutView",
            "grid_template_rows": null,
            "right": null,
            "justify_content": null,
            "_view_module": "@jupyter-widgets/base",
            "overflow": null,
            "_model_module_version": "1.2.0",
            "_view_count": null,
            "flex_flow": null,
            "width": null,
            "min_width": null,
            "border": null,
            "align_items": null,
            "bottom": null,
            "_model_module": "@jupyter-widgets/base",
            "top": null,
            "grid_column": null,
            "overflow_y": null,
            "overflow_x": null,
            "grid_auto_flow": null,
            "grid_area": null,
            "grid_template_columns": null,
            "flex": null,
            "_model_name": "LayoutModel",
            "justify_items": null,
            "grid_row": null,
            "max_height": null,
            "align_content": null,
            "visibility": null,
            "align_self": null,
            "height": null,
            "min_height": null,
            "padding": null,
            "grid_auto_rows": null,
            "grid_gap": null,
            "max_width": null,
            "order": null,
            "_view_module_version": "1.2.0",
            "grid_template_areas": null,
            "object_position": null,
            "object_fit": null,
            "grid_auto_columns": null,
            "margin": null,
            "display": null,
            "left": null
          }
        },
        "b0ed6c375f564e86a8b12ab4fe14cf44": {
          "model_module": "@jupyter-widgets/controls",
          "model_name": "HBoxModel",
          "state": {
            "_view_name": "HBoxView",
            "_dom_classes": [],
            "_model_name": "HBoxModel",
            "_view_module": "@jupyter-widgets/controls",
            "_model_module_version": "1.5.0",
            "_view_count": null,
            "_view_module_version": "1.5.0",
            "box_style": "",
            "layout": "IPY_MODEL_8362e830812b4ef0981b4259f2974066",
            "_model_module": "@jupyter-widgets/controls",
            "children": [
              "IPY_MODEL_32ff400a83a14539a535b90b16c3a73b",
              "IPY_MODEL_e269c2f82fe5470a9b9b36c7c50c80ac"
            ]
          }
        },
        "8362e830812b4ef0981b4259f2974066": {
          "model_module": "@jupyter-widgets/base",
          "model_name": "LayoutModel",
          "state": {
            "_view_name": "LayoutView",
            "grid_template_rows": null,
            "right": null,
            "justify_content": null,
            "_view_module": "@jupyter-widgets/base",
            "overflow": null,
            "_model_module_version": "1.2.0",
            "_view_count": null,
            "flex_flow": null,
            "width": null,
            "min_width": null,
            "border": null,
            "align_items": null,
            "bottom": null,
            "_model_module": "@jupyter-widgets/base",
            "top": null,
            "grid_column": null,
            "overflow_y": null,
            "overflow_x": null,
            "grid_auto_flow": null,
            "grid_area": null,
            "grid_template_columns": null,
            "flex": null,
            "_model_name": "LayoutModel",
            "justify_items": null,
            "grid_row": null,
            "max_height": null,
            "align_content": null,
            "visibility": null,
            "align_self": null,
            "height": null,
            "min_height": null,
            "padding": null,
            "grid_auto_rows": null,
            "grid_gap": null,
            "max_width": null,
            "order": null,
            "_view_module_version": "1.2.0",
            "grid_template_areas": null,
            "object_position": null,
            "object_fit": null,
            "grid_auto_columns": null,
            "margin": null,
            "display": null,
            "left": null
          }
        },
        "32ff400a83a14539a535b90b16c3a73b": {
          "model_module": "@jupyter-widgets/controls",
          "model_name": "FloatProgressModel",
          "state": {
            "_view_name": "ProgressView",
            "style": "IPY_MODEL_ccfcd506b0c6482f8e443345cc31fbd6",
            "_dom_classes": [],
            "description": "Downloading: 100%",
            "_model_name": "FloatProgressModel",
            "bar_style": "success",
            "max": 625,
            "_view_module": "@jupyter-widgets/controls",
            "_model_module_version": "1.5.0",
            "value": 625,
            "_view_count": null,
            "_view_module_version": "1.5.0",
            "orientation": "horizontal",
            "min": 0,
            "description_tooltip": null,
            "_model_module": "@jupyter-widgets/controls",
            "layout": "IPY_MODEL_fba6b2ea11d849048210e10518020f9a"
          }
        },
        "e269c2f82fe5470a9b9b36c7c50c80ac": {
          "model_module": "@jupyter-widgets/controls",
          "model_name": "HTMLModel",
          "state": {
            "_view_name": "HTMLView",
            "style": "IPY_MODEL_3b6b6c3f56004eebbf7c4dfa98fdf26d",
            "_dom_classes": [],
            "description": "",
            "_model_name": "HTMLModel",
            "placeholder": "​",
            "_view_module": "@jupyter-widgets/controls",
            "_model_module_version": "1.5.0",
            "value": " 625/625 [00:00&lt;00:00, 1.10kB/s]",
            "_view_count": null,
            "_view_module_version": "1.5.0",
            "description_tooltip": null,
            "_model_module": "@jupyter-widgets/controls",
            "layout": "IPY_MODEL_3e168fa794864e03ae73ca2095290b28"
          }
        },
        "ccfcd506b0c6482f8e443345cc31fbd6": {
          "model_module": "@jupyter-widgets/controls",
          "model_name": "ProgressStyleModel",
          "state": {
            "_view_name": "StyleView",
            "_model_name": "ProgressStyleModel",
            "description_width": "initial",
            "_view_module": "@jupyter-widgets/base",
            "_model_module_version": "1.5.0",
            "_view_count": null,
            "_view_module_version": "1.2.0",
            "bar_color": null,
            "_model_module": "@jupyter-widgets/controls"
          }
        },
        "fba6b2ea11d849048210e10518020f9a": {
          "model_module": "@jupyter-widgets/base",
          "model_name": "LayoutModel",
          "state": {
            "_view_name": "LayoutView",
            "grid_template_rows": null,
            "right": null,
            "justify_content": null,
            "_view_module": "@jupyter-widgets/base",
            "overflow": null,
            "_model_module_version": "1.2.0",
            "_view_count": null,
            "flex_flow": null,
            "width": null,
            "min_width": null,
            "border": null,
            "align_items": null,
            "bottom": null,
            "_model_module": "@jupyter-widgets/base",
            "top": null,
            "grid_column": null,
            "overflow_y": null,
            "overflow_x": null,
            "grid_auto_flow": null,
            "grid_area": null,
            "grid_template_columns": null,
            "flex": null,
            "_model_name": "LayoutModel",
            "justify_items": null,
            "grid_row": null,
            "max_height": null,
            "align_content": null,
            "visibility": null,
            "align_self": null,
            "height": null,
            "min_height": null,
            "padding": null,
            "grid_auto_rows": null,
            "grid_gap": null,
            "max_width": null,
            "order": null,
            "_view_module_version": "1.2.0",
            "grid_template_areas": null,
            "object_position": null,
            "object_fit": null,
            "grid_auto_columns": null,
            "margin": null,
            "display": null,
            "left": null
          }
        },
        "3b6b6c3f56004eebbf7c4dfa98fdf26d": {
          "model_module": "@jupyter-widgets/controls",
          "model_name": "DescriptionStyleModel",
          "state": {
            "_view_name": "StyleView",
            "_model_name": "DescriptionStyleModel",
            "description_width": "",
            "_view_module": "@jupyter-widgets/base",
            "_model_module_version": "1.5.0",
            "_view_count": null,
            "_view_module_version": "1.2.0",
            "_model_module": "@jupyter-widgets/controls"
          }
        },
        "3e168fa794864e03ae73ca2095290b28": {
          "model_module": "@jupyter-widgets/base",
          "model_name": "LayoutModel",
          "state": {
            "_view_name": "LayoutView",
            "grid_template_rows": null,
            "right": null,
            "justify_content": null,
            "_view_module": "@jupyter-widgets/base",
            "overflow": null,
            "_model_module_version": "1.2.0",
            "_view_count": null,
            "flex_flow": null,
            "width": null,
            "min_width": null,
            "border": null,
            "align_items": null,
            "bottom": null,
            "_model_module": "@jupyter-widgets/base",
            "top": null,
            "grid_column": null,
            "overflow_y": null,
            "overflow_x": null,
            "grid_auto_flow": null,
            "grid_area": null,
            "grid_template_columns": null,
            "flex": null,
            "_model_name": "LayoutModel",
            "justify_items": null,
            "grid_row": null,
            "max_height": null,
            "align_content": null,
            "visibility": null,
            "align_self": null,
            "height": null,
            "min_height": null,
            "padding": null,
            "grid_auto_rows": null,
            "grid_gap": null,
            "max_width": null,
            "order": null,
            "_view_module_version": "1.2.0",
            "grid_template_areas": null,
            "object_position": null,
            "object_fit": null,
            "grid_auto_columns": null,
            "margin": null,
            "display": null,
            "left": null
          }
        },
        "84830328c97e4d35a000484395d47e51": {
          "model_module": "@jupyter-widgets/controls",
          "model_name": "HBoxModel",
          "state": {
            "_view_name": "HBoxView",
            "_dom_classes": [],
            "_model_name": "HBoxModel",
            "_view_module": "@jupyter-widgets/controls",
            "_model_module_version": "1.5.0",
            "_view_count": null,
            "_view_module_version": "1.5.0",
            "box_style": "",
            "layout": "IPY_MODEL_f3936e1fdf3e437c823f10beb31166cf",
            "_model_module": "@jupyter-widgets/controls",
            "children": [
              "IPY_MODEL_671e78ce99ba4096a79b44c5268ed511",
              "IPY_MODEL_e9f358ed78d0484ab5c1bb97d91eed2a"
            ]
          }
        },
        "f3936e1fdf3e437c823f10beb31166cf": {
          "model_module": "@jupyter-widgets/base",
          "model_name": "LayoutModel",
          "state": {
            "_view_name": "LayoutView",
            "grid_template_rows": null,
            "right": null,
            "justify_content": null,
            "_view_module": "@jupyter-widgets/base",
            "overflow": null,
            "_model_module_version": "1.2.0",
            "_view_count": null,
            "flex_flow": null,
            "width": null,
            "min_width": null,
            "border": null,
            "align_items": null,
            "bottom": null,
            "_model_module": "@jupyter-widgets/base",
            "top": null,
            "grid_column": null,
            "overflow_y": null,
            "overflow_x": null,
            "grid_auto_flow": null,
            "grid_area": null,
            "grid_template_columns": null,
            "flex": null,
            "_model_name": "LayoutModel",
            "justify_items": null,
            "grid_row": null,
            "max_height": null,
            "align_content": null,
            "visibility": null,
            "align_self": null,
            "height": null,
            "min_height": null,
            "padding": null,
            "grid_auto_rows": null,
            "grid_gap": null,
            "max_width": null,
            "order": null,
            "_view_module_version": "1.2.0",
            "grid_template_areas": null,
            "object_position": null,
            "object_fit": null,
            "grid_auto_columns": null,
            "margin": null,
            "display": null,
            "left": null
          }
        },
        "671e78ce99ba4096a79b44c5268ed511": {
          "model_module": "@jupyter-widgets/controls",
          "model_name": "FloatProgressModel",
          "state": {
            "_view_name": "ProgressView",
            "style": "IPY_MODEL_fda3d3e77df54d1eb3ff7efaa16e111a",
            "_dom_classes": [],
            "description": "Downloading: 100%",
            "_model_name": "FloatProgressModel",
            "bar_style": "success",
            "max": 714314041,
            "_view_module": "@jupyter-widgets/controls",
            "_model_module_version": "1.5.0",
            "value": 714314041,
            "_view_count": null,
            "_view_module_version": "1.5.0",
            "orientation": "horizontal",
            "min": 0,
            "description_tooltip": null,
            "_model_module": "@jupyter-widgets/controls",
            "layout": "IPY_MODEL_aa7440907dbb4e48ab50b60245dde681"
          }
        },
        "e9f358ed78d0484ab5c1bb97d91eed2a": {
          "model_module": "@jupyter-widgets/controls",
          "model_name": "HTMLModel",
          "state": {
            "_view_name": "HTMLView",
            "style": "IPY_MODEL_9954f1761b574e5ba4f0286f305b7521",
            "_dom_classes": [],
            "description": "",
            "_model_name": "HTMLModel",
            "placeholder": "​",
            "_view_module": "@jupyter-widgets/controls",
            "_model_module_version": "1.5.0",
            "value": " 714M/714M [00:58&lt;00:00, 12.2MB/s]",
            "_view_count": null,
            "_view_module_version": "1.5.0",
            "description_tooltip": null,
            "_model_module": "@jupyter-widgets/controls",
            "layout": "IPY_MODEL_5f016cc826fa4275b732fa40b4bf90b5"
          }
        },
        "fda3d3e77df54d1eb3ff7efaa16e111a": {
          "model_module": "@jupyter-widgets/controls",
          "model_name": "ProgressStyleModel",
          "state": {
            "_view_name": "StyleView",
            "_model_name": "ProgressStyleModel",
            "description_width": "initial",
            "_view_module": "@jupyter-widgets/base",
            "_model_module_version": "1.5.0",
            "_view_count": null,
            "_view_module_version": "1.2.0",
            "bar_color": null,
            "_model_module": "@jupyter-widgets/controls"
          }
        },
        "aa7440907dbb4e48ab50b60245dde681": {
          "model_module": "@jupyter-widgets/base",
          "model_name": "LayoutModel",
          "state": {
            "_view_name": "LayoutView",
            "grid_template_rows": null,
            "right": null,
            "justify_content": null,
            "_view_module": "@jupyter-widgets/base",
            "overflow": null,
            "_model_module_version": "1.2.0",
            "_view_count": null,
            "flex_flow": null,
            "width": null,
            "min_width": null,
            "border": null,
            "align_items": null,
            "bottom": null,
            "_model_module": "@jupyter-widgets/base",
            "top": null,
            "grid_column": null,
            "overflow_y": null,
            "overflow_x": null,
            "grid_auto_flow": null,
            "grid_area": null,
            "grid_template_columns": null,
            "flex": null,
            "_model_name": "LayoutModel",
            "justify_items": null,
            "grid_row": null,
            "max_height": null,
            "align_content": null,
            "visibility": null,
            "align_self": null,
            "height": null,
            "min_height": null,
            "padding": null,
            "grid_auto_rows": null,
            "grid_gap": null,
            "max_width": null,
            "order": null,
            "_view_module_version": "1.2.0",
            "grid_template_areas": null,
            "object_position": null,
            "object_fit": null,
            "grid_auto_columns": null,
            "margin": null,
            "display": null,
            "left": null
          }
        },
        "9954f1761b574e5ba4f0286f305b7521": {
          "model_module": "@jupyter-widgets/controls",
          "model_name": "DescriptionStyleModel",
          "state": {
            "_view_name": "StyleView",
            "_model_name": "DescriptionStyleModel",
            "description_width": "",
            "_view_module": "@jupyter-widgets/base",
            "_model_module_version": "1.5.0",
            "_view_count": null,
            "_view_module_version": "1.2.0",
            "_model_module": "@jupyter-widgets/controls"
          }
        },
        "5f016cc826fa4275b732fa40b4bf90b5": {
          "model_module": "@jupyter-widgets/base",
          "model_name": "LayoutModel",
          "state": {
            "_view_name": "LayoutView",
            "grid_template_rows": null,
            "right": null,
            "justify_content": null,
            "_view_module": "@jupyter-widgets/base",
            "overflow": null,
            "_model_module_version": "1.2.0",
            "_view_count": null,
            "flex_flow": null,
            "width": null,
            "min_width": null,
            "border": null,
            "align_items": null,
            "bottom": null,
            "_model_module": "@jupyter-widgets/base",
            "top": null,
            "grid_column": null,
            "overflow_y": null,
            "overflow_x": null,
            "grid_auto_flow": null,
            "grid_area": null,
            "grid_template_columns": null,
            "flex": null,
            "_model_name": "LayoutModel",
            "justify_items": null,
            "grid_row": null,
            "max_height": null,
            "align_content": null,
            "visibility": null,
            "align_self": null,
            "height": null,
            "min_height": null,
            "padding": null,
            "grid_auto_rows": null,
            "grid_gap": null,
            "max_width": null,
            "order": null,
            "_view_module_version": "1.2.0",
            "grid_template_areas": null,
            "object_position": null,
            "object_fit": null,
            "grid_auto_columns": null,
            "margin": null,
            "display": null,
            "left": null
          }
        },
        "8247657b8ed640608c67da1a42425fca": {
          "model_module": "@jupyter-widgets/controls",
          "model_name": "HBoxModel",
          "state": {
            "_view_name": "HBoxView",
            "_dom_classes": [],
            "_model_name": "HBoxModel",
            "_view_module": "@jupyter-widgets/controls",
            "_model_module_version": "1.5.0",
            "_view_count": null,
            "_view_module_version": "1.5.0",
            "box_style": "",
            "layout": "IPY_MODEL_56427e8b80bf4b1399947f3113188dc7",
            "_model_module": "@jupyter-widgets/controls",
            "children": [
              "IPY_MODEL_954fba14ea9c41c58bacbf816891b314",
              "IPY_MODEL_7bd8b4cd0bda4cd5b645645b118ea2f6"
            ]
          }
        },
        "56427e8b80bf4b1399947f3113188dc7": {
          "model_module": "@jupyter-widgets/base",
          "model_name": "LayoutModel",
          "state": {
            "_view_name": "LayoutView",
            "grid_template_rows": null,
            "right": null,
            "justify_content": null,
            "_view_module": "@jupyter-widgets/base",
            "overflow": null,
            "_model_module_version": "1.2.0",
            "_view_count": null,
            "flex_flow": null,
            "width": null,
            "min_width": null,
            "border": null,
            "align_items": null,
            "bottom": null,
            "_model_module": "@jupyter-widgets/base",
            "top": null,
            "grid_column": null,
            "overflow_y": null,
            "overflow_x": null,
            "grid_auto_flow": null,
            "grid_area": null,
            "grid_template_columns": null,
            "flex": null,
            "_model_name": "LayoutModel",
            "justify_items": null,
            "grid_row": null,
            "max_height": null,
            "align_content": null,
            "visibility": null,
            "align_self": null,
            "height": null,
            "min_height": null,
            "padding": null,
            "grid_auto_rows": null,
            "grid_gap": null,
            "max_width": null,
            "order": null,
            "_view_module_version": "1.2.0",
            "grid_template_areas": null,
            "object_position": null,
            "object_fit": null,
            "grid_auto_columns": null,
            "margin": null,
            "display": null,
            "left": null
          }
        },
        "954fba14ea9c41c58bacbf816891b314": {
          "model_module": "@jupyter-widgets/controls",
          "model_name": "FloatProgressModel",
          "state": {
            "_view_name": "ProgressView",
            "style": "IPY_MODEL_67f5b3a15f264a97899321c05909e653",
            "_dom_classes": [],
            "description": "Downloading: 100%",
            "_model_name": "FloatProgressModel",
            "bar_style": "success",
            "max": 5069051,
            "_view_module": "@jupyter-widgets/controls",
            "_model_module_version": "1.5.0",
            "value": 5069051,
            "_view_count": null,
            "_view_module_version": "1.5.0",
            "orientation": "horizontal",
            "min": 0,
            "description_tooltip": null,
            "_model_module": "@jupyter-widgets/controls",
            "layout": "IPY_MODEL_923788196cd9411b9e8f14f8b5704d93"
          }
        },
        "7bd8b4cd0bda4cd5b645645b118ea2f6": {
          "model_module": "@jupyter-widgets/controls",
          "model_name": "HTMLModel",
          "state": {
            "_view_name": "HTMLView",
            "style": "IPY_MODEL_d40c91e807a54f8994678ecca1a1d3fe",
            "_dom_classes": [],
            "description": "",
            "_model_name": "HTMLModel",
            "placeholder": "​",
            "_view_module": "@jupyter-widgets/controls",
            "_model_module_version": "1.5.0",
            "value": " 5.07M/5.07M [00:01&lt;00:00, 4.14MB/s]",
            "_view_count": null,
            "_view_module_version": "1.5.0",
            "description_tooltip": null,
            "_model_module": "@jupyter-widgets/controls",
            "layout": "IPY_MODEL_bcca8d41c0184de3ba7c60f174720075"
          }
        },
        "67f5b3a15f264a97899321c05909e653": {
          "model_module": "@jupyter-widgets/controls",
          "model_name": "ProgressStyleModel",
          "state": {
            "_view_name": "StyleView",
            "_model_name": "ProgressStyleModel",
            "description_width": "initial",
            "_view_module": "@jupyter-widgets/base",
            "_model_module_version": "1.5.0",
            "_view_count": null,
            "_view_module_version": "1.2.0",
            "bar_color": null,
            "_model_module": "@jupyter-widgets/controls"
          }
        },
        "923788196cd9411b9e8f14f8b5704d93": {
          "model_module": "@jupyter-widgets/base",
          "model_name": "LayoutModel",
          "state": {
            "_view_name": "LayoutView",
            "grid_template_rows": null,
            "right": null,
            "justify_content": null,
            "_view_module": "@jupyter-widgets/base",
            "overflow": null,
            "_model_module_version": "1.2.0",
            "_view_count": null,
            "flex_flow": null,
            "width": null,
            "min_width": null,
            "border": null,
            "align_items": null,
            "bottom": null,
            "_model_module": "@jupyter-widgets/base",
            "top": null,
            "grid_column": null,
            "overflow_y": null,
            "overflow_x": null,
            "grid_auto_flow": null,
            "grid_area": null,
            "grid_template_columns": null,
            "flex": null,
            "_model_name": "LayoutModel",
            "justify_items": null,
            "grid_row": null,
            "max_height": null,
            "align_content": null,
            "visibility": null,
            "align_self": null,
            "height": null,
            "min_height": null,
            "padding": null,
            "grid_auto_rows": null,
            "grid_gap": null,
            "max_width": null,
            "order": null,
            "_view_module_version": "1.2.0",
            "grid_template_areas": null,
            "object_position": null,
            "object_fit": null,
            "grid_auto_columns": null,
            "margin": null,
            "display": null,
            "left": null
          }
        },
        "d40c91e807a54f8994678ecca1a1d3fe": {
          "model_module": "@jupyter-widgets/controls",
          "model_name": "DescriptionStyleModel",
          "state": {
            "_view_name": "StyleView",
            "_model_name": "DescriptionStyleModel",
            "description_width": "",
            "_view_module": "@jupyter-widgets/base",
            "_model_module_version": "1.5.0",
            "_view_count": null,
            "_view_module_version": "1.2.0",
            "_model_module": "@jupyter-widgets/controls"
          }
        },
        "bcca8d41c0184de3ba7c60f174720075": {
          "model_module": "@jupyter-widgets/base",
          "model_name": "LayoutModel",
          "state": {
            "_view_name": "LayoutView",
            "grid_template_rows": null,
            "right": null,
            "justify_content": null,
            "_view_module": "@jupyter-widgets/base",
            "overflow": null,
            "_model_module_version": "1.2.0",
            "_view_count": null,
            "flex_flow": null,
            "width": null,
            "min_width": null,
            "border": null,
            "align_items": null,
            "bottom": null,
            "_model_module": "@jupyter-widgets/base",
            "top": null,
            "grid_column": null,
            "overflow_y": null,
            "overflow_x": null,
            "grid_auto_flow": null,
            "grid_area": null,
            "grid_template_columns": null,
            "flex": null,
            "_model_name": "LayoutModel",
            "justify_items": null,
            "grid_row": null,
            "max_height": null,
            "align_content": null,
            "visibility": null,
            "align_self": null,
            "height": null,
            "min_height": null,
            "padding": null,
            "grid_auto_rows": null,
            "grid_gap": null,
            "max_width": null,
            "order": null,
            "_view_module_version": "1.2.0",
            "grid_template_areas": null,
            "object_position": null,
            "object_fit": null,
            "grid_auto_columns": null,
            "margin": null,
            "display": null,
            "left": null
          }
        },
        "279c35b53f24464e8491266ce88b3d1f": {
          "model_module": "@jupyter-widgets/controls",
          "model_name": "HBoxModel",
          "state": {
            "_view_name": "HBoxView",
            "_dom_classes": [],
            "_model_name": "HBoxModel",
            "_view_module": "@jupyter-widgets/controls",
            "_model_module_version": "1.5.0",
            "_view_count": null,
            "_view_module_version": "1.5.0",
            "box_style": "",
            "layout": "IPY_MODEL_d31bc413eec34e8f9e723d443f252792",
            "_model_module": "@jupyter-widgets/controls",
            "children": [
              "IPY_MODEL_62a6b7e85fdc4f228c9aa5e6063bdcbe",
              "IPY_MODEL_ebbedcb92b274cb69971787324df1926"
            ]
          }
        },
        "d31bc413eec34e8f9e723d443f252792": {
          "model_module": "@jupyter-widgets/base",
          "model_name": "LayoutModel",
          "state": {
            "_view_name": "LayoutView",
            "grid_template_rows": null,
            "right": null,
            "justify_content": null,
            "_view_module": "@jupyter-widgets/base",
            "overflow": null,
            "_model_module_version": "1.2.0",
            "_view_count": null,
            "flex_flow": null,
            "width": null,
            "min_width": null,
            "border": null,
            "align_items": null,
            "bottom": null,
            "_model_module": "@jupyter-widgets/base",
            "top": null,
            "grid_column": null,
            "overflow_y": null,
            "overflow_x": null,
            "grid_auto_flow": null,
            "grid_area": null,
            "grid_template_columns": null,
            "flex": null,
            "_model_name": "LayoutModel",
            "justify_items": null,
            "grid_row": null,
            "max_height": null,
            "align_content": null,
            "visibility": null,
            "align_self": null,
            "height": null,
            "min_height": null,
            "padding": null,
            "grid_auto_rows": null,
            "grid_gap": null,
            "max_width": null,
            "order": null,
            "_view_module_version": "1.2.0",
            "grid_template_areas": null,
            "object_position": null,
            "object_fit": null,
            "grid_auto_columns": null,
            "margin": null,
            "display": null,
            "left": null
          }
        },
        "62a6b7e85fdc4f228c9aa5e6063bdcbe": {
          "model_module": "@jupyter-widgets/controls",
          "model_name": "FloatProgressModel",
          "state": {
            "_view_name": "ProgressView",
            "style": "IPY_MODEL_b518ae5970cc4ca78eca8c2db8c83b2f",
            "_dom_classes": [],
            "description": "Downloading: 100%",
            "_model_name": "FloatProgressModel",
            "bar_style": "success",
            "max": 512,
            "_view_module": "@jupyter-widgets/controls",
            "_model_module_version": "1.5.0",
            "value": 512,
            "_view_count": null,
            "_view_module_version": "1.5.0",
            "orientation": "horizontal",
            "min": 0,
            "description_tooltip": null,
            "_model_module": "@jupyter-widgets/controls",
            "layout": "IPY_MODEL_ab467400572a49968503330e5bfa584d"
          }
        },
        "ebbedcb92b274cb69971787324df1926": {
          "model_module": "@jupyter-widgets/controls",
          "model_name": "HTMLModel",
          "state": {
            "_view_name": "HTMLView",
            "style": "IPY_MODEL_27d74da6e7a0466882e82a404bc93e03",
            "_dom_classes": [],
            "description": "",
            "_model_name": "HTMLModel",
            "placeholder": "​",
            "_view_module": "@jupyter-widgets/controls",
            "_model_module_version": "1.5.0",
            "value": " 512/512 [00:00&lt;00:00, 1.26kB/s]",
            "_view_count": null,
            "_view_module_version": "1.5.0",
            "description_tooltip": null,
            "_model_module": "@jupyter-widgets/controls",
            "layout": "IPY_MODEL_3c208f9e207f4ed0bda19494c8a5f581"
          }
        },
        "b518ae5970cc4ca78eca8c2db8c83b2f": {
          "model_module": "@jupyter-widgets/controls",
          "model_name": "ProgressStyleModel",
          "state": {
            "_view_name": "StyleView",
            "_model_name": "ProgressStyleModel",
            "description_width": "initial",
            "_view_module": "@jupyter-widgets/base",
            "_model_module_version": "1.5.0",
            "_view_count": null,
            "_view_module_version": "1.2.0",
            "bar_color": null,
            "_model_module": "@jupyter-widgets/controls"
          }
        },
        "ab467400572a49968503330e5bfa584d": {
          "model_module": "@jupyter-widgets/base",
          "model_name": "LayoutModel",
          "state": {
            "_view_name": "LayoutView",
            "grid_template_rows": null,
            "right": null,
            "justify_content": null,
            "_view_module": "@jupyter-widgets/base",
            "overflow": null,
            "_model_module_version": "1.2.0",
            "_view_count": null,
            "flex_flow": null,
            "width": null,
            "min_width": null,
            "border": null,
            "align_items": null,
            "bottom": null,
            "_model_module": "@jupyter-widgets/base",
            "top": null,
            "grid_column": null,
            "overflow_y": null,
            "overflow_x": null,
            "grid_auto_flow": null,
            "grid_area": null,
            "grid_template_columns": null,
            "flex": null,
            "_model_name": "LayoutModel",
            "justify_items": null,
            "grid_row": null,
            "max_height": null,
            "align_content": null,
            "visibility": null,
            "align_self": null,
            "height": null,
            "min_height": null,
            "padding": null,
            "grid_auto_rows": null,
            "grid_gap": null,
            "max_width": null,
            "order": null,
            "_view_module_version": "1.2.0",
            "grid_template_areas": null,
            "object_position": null,
            "object_fit": null,
            "grid_auto_columns": null,
            "margin": null,
            "display": null,
            "left": null
          }
        },
        "27d74da6e7a0466882e82a404bc93e03": {
          "model_module": "@jupyter-widgets/controls",
          "model_name": "DescriptionStyleModel",
          "state": {
            "_view_name": "StyleView",
            "_model_name": "DescriptionStyleModel",
            "description_width": "",
            "_view_module": "@jupyter-widgets/base",
            "_model_module_version": "1.5.0",
            "_view_count": null,
            "_view_module_version": "1.2.0",
            "_model_module": "@jupyter-widgets/controls"
          }
        },
        "3c208f9e207f4ed0bda19494c8a5f581": {
          "model_module": "@jupyter-widgets/base",
          "model_name": "LayoutModel",
          "state": {
            "_view_name": "LayoutView",
            "grid_template_rows": null,
            "right": null,
            "justify_content": null,
            "_view_module": "@jupyter-widgets/base",
            "overflow": null,
            "_model_module_version": "1.2.0",
            "_view_count": null,
            "flex_flow": null,
            "width": null,
            "min_width": null,
            "border": null,
            "align_items": null,
            "bottom": null,
            "_model_module": "@jupyter-widgets/base",
            "top": null,
            "grid_column": null,
            "overflow_y": null,
            "overflow_x": null,
            "grid_auto_flow": null,
            "grid_area": null,
            "grid_template_columns": null,
            "flex": null,
            "_model_name": "LayoutModel",
            "justify_items": null,
            "grid_row": null,
            "max_height": null,
            "align_content": null,
            "visibility": null,
            "align_self": null,
            "height": null,
            "min_height": null,
            "padding": null,
            "grid_auto_rows": null,
            "grid_gap": null,
            "max_width": null,
            "order": null,
            "_view_module_version": "1.2.0",
            "grid_template_areas": null,
            "object_position": null,
            "object_fit": null,
            "grid_auto_columns": null,
            "margin": null,
            "display": null,
            "left": null
          }
        },
        "d3e77e94b35d43678436b4168a6e1453": {
          "model_module": "@jupyter-widgets/controls",
          "model_name": "HBoxModel",
          "state": {
            "_view_name": "HBoxView",
            "_dom_classes": [],
            "_model_name": "HBoxModel",
            "_view_module": "@jupyter-widgets/controls",
            "_model_module_version": "1.5.0",
            "_view_count": null,
            "_view_module_version": "1.5.0",
            "box_style": "",
            "layout": "IPY_MODEL_ef17d521ea7b45ffb9c11174886b9ce7",
            "_model_module": "@jupyter-widgets/controls",
            "children": [
              "IPY_MODEL_5d77e5af4a60449fb1c3940a1feef265",
              "IPY_MODEL_fe4ae0b6ccbd4294988aff6669755636"
            ]
          }
        },
        "ef17d521ea7b45ffb9c11174886b9ce7": {
          "model_module": "@jupyter-widgets/base",
          "model_name": "LayoutModel",
          "state": {
            "_view_name": "LayoutView",
            "grid_template_rows": null,
            "right": null,
            "justify_content": null,
            "_view_module": "@jupyter-widgets/base",
            "overflow": null,
            "_model_module_version": "1.2.0",
            "_view_count": null,
            "flex_flow": null,
            "width": null,
            "min_width": null,
            "border": null,
            "align_items": null,
            "bottom": null,
            "_model_module": "@jupyter-widgets/base",
            "top": null,
            "grid_column": null,
            "overflow_y": null,
            "overflow_x": null,
            "grid_auto_flow": null,
            "grid_area": null,
            "grid_template_columns": null,
            "flex": null,
            "_model_name": "LayoutModel",
            "justify_items": null,
            "grid_row": null,
            "max_height": null,
            "align_content": null,
            "visibility": null,
            "align_self": null,
            "height": null,
            "min_height": null,
            "padding": null,
            "grid_auto_rows": null,
            "grid_gap": null,
            "max_width": null,
            "order": null,
            "_view_module_version": "1.2.0",
            "grid_template_areas": null,
            "object_position": null,
            "object_fit": null,
            "grid_auto_columns": null,
            "margin": null,
            "display": null,
            "left": null
          }
        },
        "5d77e5af4a60449fb1c3940a1feef265": {
          "model_module": "@jupyter-widgets/controls",
          "model_name": "FloatProgressModel",
          "state": {
            "_view_name": "ProgressView",
            "style": "IPY_MODEL_54a51d84d06847fd85b3daf8fcea0253",
            "_dom_classes": [],
            "description": "Downloading: 100%",
            "_model_name": "FloatProgressModel",
            "bar_style": "success",
            "max": 1115590446,
            "_view_module": "@jupyter-widgets/controls",
            "_model_module_version": "1.5.0",
            "value": 1115590446,
            "_view_count": null,
            "_view_module_version": "1.5.0",
            "orientation": "horizontal",
            "min": 0,
            "description_tooltip": null,
            "_model_module": "@jupyter-widgets/controls",
            "layout": "IPY_MODEL_c40997d424b146838d0ae606da8cfb32"
          }
        },
        "fe4ae0b6ccbd4294988aff6669755636": {
          "model_module": "@jupyter-widgets/controls",
          "model_name": "HTMLModel",
          "state": {
            "_view_name": "HTMLView",
            "style": "IPY_MODEL_ed423a224c0742e0a8bb4313c1f756c0",
            "_dom_classes": [],
            "description": "",
            "_model_name": "HTMLModel",
            "placeholder": "​",
            "_view_module": "@jupyter-widgets/controls",
            "_model_module_version": "1.5.0",
            "value": " 1.12G/1.12G [00:33&lt;00:00, 32.9MB/s]",
            "_view_count": null,
            "_view_module_version": "1.5.0",
            "description_tooltip": null,
            "_model_module": "@jupyter-widgets/controls",
            "layout": "IPY_MODEL_d2ba23d250334324986f2af77d925838"
          }
        },
        "54a51d84d06847fd85b3daf8fcea0253": {
          "model_module": "@jupyter-widgets/controls",
          "model_name": "ProgressStyleModel",
          "state": {
            "_view_name": "StyleView",
            "_model_name": "ProgressStyleModel",
            "description_width": "initial",
            "_view_module": "@jupyter-widgets/base",
            "_model_module_version": "1.5.0",
            "_view_count": null,
            "_view_module_version": "1.2.0",
            "bar_color": null,
            "_model_module": "@jupyter-widgets/controls"
          }
        },
        "c40997d424b146838d0ae606da8cfb32": {
          "model_module": "@jupyter-widgets/base",
          "model_name": "LayoutModel",
          "state": {
            "_view_name": "LayoutView",
            "grid_template_rows": null,
            "right": null,
            "justify_content": null,
            "_view_module": "@jupyter-widgets/base",
            "overflow": null,
            "_model_module_version": "1.2.0",
            "_view_count": null,
            "flex_flow": null,
            "width": null,
            "min_width": null,
            "border": null,
            "align_items": null,
            "bottom": null,
            "_model_module": "@jupyter-widgets/base",
            "top": null,
            "grid_column": null,
            "overflow_y": null,
            "overflow_x": null,
            "grid_auto_flow": null,
            "grid_area": null,
            "grid_template_columns": null,
            "flex": null,
            "_model_name": "LayoutModel",
            "justify_items": null,
            "grid_row": null,
            "max_height": null,
            "align_content": null,
            "visibility": null,
            "align_self": null,
            "height": null,
            "min_height": null,
            "padding": null,
            "grid_auto_rows": null,
            "grid_gap": null,
            "max_width": null,
            "order": null,
            "_view_module_version": "1.2.0",
            "grid_template_areas": null,
            "object_position": null,
            "object_fit": null,
            "grid_auto_columns": null,
            "margin": null,
            "display": null,
            "left": null
          }
        },
        "ed423a224c0742e0a8bb4313c1f756c0": {
          "model_module": "@jupyter-widgets/controls",
          "model_name": "DescriptionStyleModel",
          "state": {
            "_view_name": "StyleView",
            "_model_name": "DescriptionStyleModel",
            "description_width": "",
            "_view_module": "@jupyter-widgets/base",
            "_model_module_version": "1.5.0",
            "_view_count": null,
            "_view_module_version": "1.2.0",
            "_model_module": "@jupyter-widgets/controls"
          }
        },
        "d2ba23d250334324986f2af77d925838": {
          "model_module": "@jupyter-widgets/base",
          "model_name": "LayoutModel",
          "state": {
            "_view_name": "LayoutView",
            "grid_template_rows": null,
            "right": null,
            "justify_content": null,
            "_view_module": "@jupyter-widgets/base",
            "overflow": null,
            "_model_module_version": "1.2.0",
            "_view_count": null,
            "flex_flow": null,
            "width": null,
            "min_width": null,
            "border": null,
            "align_items": null,
            "bottom": null,
            "_model_module": "@jupyter-widgets/base",
            "top": null,
            "grid_column": null,
            "overflow_y": null,
            "overflow_x": null,
            "grid_auto_flow": null,
            "grid_area": null,
            "grid_template_columns": null,
            "flex": null,
            "_model_name": "LayoutModel",
            "justify_items": null,
            "grid_row": null,
            "max_height": null,
            "align_content": null,
            "visibility": null,
            "align_self": null,
            "height": null,
            "min_height": null,
            "padding": null,
            "grid_auto_rows": null,
            "grid_gap": null,
            "max_width": null,
            "order": null,
            "_view_module_version": "1.2.0",
            "grid_template_areas": null,
            "object_position": null,
            "object_fit": null,
            "grid_auto_columns": null,
            "margin": null,
            "display": null,
            "left": null
          }
        }
      }
    }
  },
  "cells": [
    {
      "cell_type": "markdown",
      "metadata": {
        "id": "ZW-Y_z1uxK7z"
      },
      "source": [
        "## Cloning repository and installing libraries"
      ]
    },
    {
      "cell_type": "code",
      "metadata": {
        "colab": {
          "base_uri": "https://localhost:8080/"
        },
        "id": "1iBUZc4ynqGR",
        "outputId": "2aafde96-3d16-4b6f-83f0-4a8b860c03e9"
      },
      "source": [
        "!git clone https://github.com/Ryzhtus/multilingual-bert-ner"
      ],
      "execution_count": null,
      "outputs": [
        {
          "output_type": "stream",
          "text": [
            "Cloning into 'multilingual-bert-ner'...\n",
            "remote: Enumerating objects: 77, done.\u001b[K\n",
            "remote: Counting objects: 100% (77/77), done.\u001b[K\n",
            "remote: Compressing objects: 100% (57/57), done.\u001b[K\n",
            "remote: Total 77 (delta 41), reused 54 (delta 18), pack-reused 0\u001b[K\n",
            "Unpacking objects: 100% (77/77), done.\n"
          ],
          "name": "stdout"
        }
      ]
    },
    {
      "cell_type": "code",
      "metadata": {
        "colab": {
          "base_uri": "https://localhost:8080/"
        },
        "id": "dP-K9bt-oEST",
        "outputId": "933af8e7-ea90-4298-b809-6b040653c4d7"
      },
      "source": [
        "!pip install -q transformers\r\n",
        "!pip install -q sentencepiece\r\n",
        "!pip install -q seqeval"
      ],
      "execution_count": null,
      "outputs": [
        {
          "output_type": "stream",
          "text": [
            "\u001b[K     |████████████████████████████████| 1.8MB 8.5MB/s \n",
            "\u001b[K     |████████████████████████████████| 3.2MB 49.0MB/s \n",
            "\u001b[K     |████████████████████████████████| 890kB 48.7MB/s \n",
            "\u001b[?25h  Building wheel for sacremoses (setup.py) ... \u001b[?25l\u001b[?25hdone\n",
            "\u001b[K     |████████████████████████████████| 1.2MB 8.8MB/s \n",
            "\u001b[K     |████████████████████████████████| 51kB 4.5MB/s \n",
            "\u001b[?25h  Building wheel for seqeval (setup.py) ... \u001b[?25l\u001b[?25hdone\n"
          ],
          "name": "stdout"
        }
      ]
    },
    {
      "cell_type": "markdown",
      "metadata": {
        "id": "0_GAbC9XxQ3b"
      },
      "source": [
        "## Downloading WikiAnn"
      ]
    },
    {
      "cell_type": "code",
      "metadata": {
        "colab": {
          "base_uri": "https://localhost:8080/"
        },
        "id": "4GO4yN30U1lk",
        "outputId": "843e4b13-8197-4e14-a316-c7355d668095"
      },
      "source": [
        "!wget https://www.dropbox.com/s/12h3qqog6q4bjve/panx_dataset.tar"
      ],
      "execution_count": null,
      "outputs": [
        {
          "output_type": "stream",
          "text": [
            "--2021-02-24 17:21:03--  https://www.dropbox.com/s/12h3qqog6q4bjve/panx_dataset.tar\n",
            "Resolving www.dropbox.com (www.dropbox.com)... 162.125.1.18, 2620:100:6016:18::a27d:112\n",
            "Connecting to www.dropbox.com (www.dropbox.com)|162.125.1.18|:443... connected.\n",
            "HTTP request sent, awaiting response... 301 Moved Permanently\n",
            "Location: /s/raw/12h3qqog6q4bjve/panx_dataset.tar [following]\n",
            "--2021-02-24 17:21:03--  https://www.dropbox.com/s/raw/12h3qqog6q4bjve/panx_dataset.tar\n",
            "Reusing existing connection to www.dropbox.com:443.\n",
            "HTTP request sent, awaiting response... 302 Found\n",
            "Location: https://uc3e474210abcc8f50cb11c38ddd.dl.dropboxusercontent.com/cd/0/inline/BJiT7RdDgkqn8oktNVTW3baMU62tUy0xr_Ci5juG-jg_RcZ6e5GfKrUEGV0dLYQcI0EE2tx4JhX-8jjbEFNhWstrM7wkYe0vvqfzG4EiYH4s7TP4NGaLtDcsm6aU8LgQuhQ/file# [following]\n",
            "--2021-02-24 17:21:04--  https://uc3e474210abcc8f50cb11c38ddd.dl.dropboxusercontent.com/cd/0/inline/BJiT7RdDgkqn8oktNVTW3baMU62tUy0xr_Ci5juG-jg_RcZ6e5GfKrUEGV0dLYQcI0EE2tx4JhX-8jjbEFNhWstrM7wkYe0vvqfzG4EiYH4s7TP4NGaLtDcsm6aU8LgQuhQ/file\n",
            "Resolving uc3e474210abcc8f50cb11c38ddd.dl.dropboxusercontent.com (uc3e474210abcc8f50cb11c38ddd.dl.dropboxusercontent.com)... 162.125.1.15, 2620:100:6017:15::a27d:20f\n",
            "Connecting to uc3e474210abcc8f50cb11c38ddd.dl.dropboxusercontent.com (uc3e474210abcc8f50cb11c38ddd.dl.dropboxusercontent.com)|162.125.1.15|:443... connected.\n",
            "HTTP request sent, awaiting response... 302 Found\n",
            "Location: /cd/0/inline2/BJggC1cLkUPCbK_EmzuOAL7MkwW_CHgiL21L7NnkYc-UOiU22M46ZzpKSqyj9e5vgX_jGhegbSsCTjwnqaGJNvutTbWbumccyQtLL2-RScRcA1CvbyOhfM8OykH3BcT46hdRu5PTKDfxi4fMipU-hWCqRqDPZ2yTDrjlvWhfSr571InxBp0xULm_uzbeb_soD7ZCuvpAtEONtjvdkRnllqz43259Z6AKE5n9ILVZ64wbztfKAxYuuZGEnQ6p-Opw4bfEXlMXQidHH1R3iuQCfjkHrFYRvfHWKJOSrjcC-lzAMag3z6mBtr-MY6KpejeP0TF5s58HmzAomqrN4Jb33H0cZc0VUY-aRGVaXNkVcueMMA/file [following]\n",
            "--2021-02-24 17:21:04--  https://uc3e474210abcc8f50cb11c38ddd.dl.dropboxusercontent.com/cd/0/inline2/BJggC1cLkUPCbK_EmzuOAL7MkwW_CHgiL21L7NnkYc-UOiU22M46ZzpKSqyj9e5vgX_jGhegbSsCTjwnqaGJNvutTbWbumccyQtLL2-RScRcA1CvbyOhfM8OykH3BcT46hdRu5PTKDfxi4fMipU-hWCqRqDPZ2yTDrjlvWhfSr571InxBp0xULm_uzbeb_soD7ZCuvpAtEONtjvdkRnllqz43259Z6AKE5n9ILVZ64wbztfKAxYuuZGEnQ6p-Opw4bfEXlMXQidHH1R3iuQCfjkHrFYRvfHWKJOSrjcC-lzAMag3z6mBtr-MY6KpejeP0TF5s58HmzAomqrN4Jb33H0cZc0VUY-aRGVaXNkVcueMMA/file\n",
            "Reusing existing connection to uc3e474210abcc8f50cb11c38ddd.dl.dropboxusercontent.com:443.\n",
            "HTTP request sent, awaiting response... 200 OK\n",
            "Length: 234126336 (223M) [application/x-tar]\n",
            "Saving to: ‘panx_dataset.tar’\n",
            "\n",
            "panx_dataset.tar    100%[===================>] 223.28M   164MB/s    in 1.4s    \n",
            "\n",
            "2021-02-24 17:21:06 (164 MB/s) - ‘panx_dataset.tar’ saved [234126336/234126336]\n",
            "\n"
          ],
          "name": "stdout"
        }
      ]
    },
    {
      "cell_type": "code",
      "metadata": {
        "colab": {
          "base_uri": "https://localhost:8080/"
        },
        "id": "aywzeu2fU2oU",
        "outputId": "fc71eac2-4414-4949-f46e-c6a0aafcf683"
      },
      "source": [
        "!tar -xvf panx_dataset.tar"
      ],
      "execution_count": null,
      "outputs": [
        {
          "output_type": "stream",
          "text": [
            "ace.tar.gz\n",
            "af.tar.gz\n",
            "als.tar.gz\n",
            "am.tar.gz\n",
            "an.tar.gz\n",
            "ang.tar.gz\n",
            "ar.tar.gz\n",
            "arc.tar.gz\n",
            "arz.tar.gz\n",
            "as.tar.gz\n",
            "ast.tar.gz\n",
            "ay.tar.gz\n",
            "az.tar.gz\n",
            "ba.tar.gz\n",
            "bar.tar.gz\n",
            "bat-smg.tar.gz\n",
            "be-x-old.tar.gz\n",
            "be.tar.gz\n",
            "bg.tar.gz\n",
            "bh.tar.gz\n",
            "bn.tar.gz\n",
            "bo.tar.gz\n",
            "br.tar.gz\n",
            "bs.tar.gz\n",
            "ca.tar.gz\n",
            "cbk-zam.tar.gz\n",
            "cdo.tar.gz\n",
            "ce.tar.gz\n",
            "ceb.tar.gz\n",
            "ckb.tar.gz\n",
            "co.tar.gz\n",
            "crh.tar.gz\n",
            "cs.tar.gz\n",
            "csb.tar.gz\n",
            "cv.tar.gz\n",
            "cy.tar.gz\n",
            "da.tar.gz\n",
            "de.tar.gz\n",
            "diq.tar.gz\n",
            "dv.tar.gz\n",
            "el.tar.gz\n",
            "eml.tar.gz\n",
            "en.tar.gz\n",
            "eo.tar.gz\n",
            "es.tar.gz\n",
            "et.tar.gz\n",
            "eu.tar.gz\n",
            "ext.tar.gz\n",
            "fa.tar.gz\n",
            "fi.tar.gz\n",
            "fiu-vro.tar.gz\n",
            "fo.tar.gz\n",
            "fr.tar.gz\n",
            "frr.tar.gz\n",
            "fur.tar.gz\n",
            "fy.tar.gz\n",
            "ga.tar.gz\n",
            "gan.tar.gz\n",
            "gd.tar.gz\n",
            "gl.tar.gz\n",
            "gn.tar.gz\n",
            "gu.tar.gz\n",
            "hak.tar.gz\n",
            "he.tar.gz\n",
            "hi.tar.gz\n",
            "hr.tar.gz\n",
            "hsb.tar.gz\n",
            "hu.tar.gz\n",
            "hy.tar.gz\n",
            "ia.tar.gz\n",
            "id.tar.gz\n",
            "ig.tar.gz\n",
            "ilo.tar.gz\n",
            "io.tar.gz\n",
            "is.tar.gz\n",
            "it.tar.gz\n",
            "ja.tar.gz\n",
            "jbo.tar.gz\n",
            "jv.tar.gz\n",
            "ka.tar.gz\n",
            "kk.tar.gz\n",
            "km.tar.gz\n",
            "kn.tar.gz\n",
            "ko.tar.gz\n",
            "ksh.tar.gz\n",
            "ku.tar.gz\n",
            "ky.tar.gz\n",
            "la.tar.gz\n",
            "lb.tar.gz\n",
            "li.tar.gz\n",
            "lij.tar.gz\n",
            "lmo.tar.gz\n",
            "ln.tar.gz\n",
            "lt.tar.gz\n",
            "lv.tar.gz\n",
            "map-bms.tar.gz\n",
            "mg.tar.gz\n",
            "mhr.tar.gz\n",
            "mi.tar.gz\n",
            "min.tar.gz\n",
            "mk.tar.gz\n",
            "ml.tar.gz\n",
            "mn.tar.gz\n",
            "mr.tar.gz\n",
            "ms.tar.gz\n",
            "mt.tar.gz\n",
            "mwl.tar.gz\n",
            "my.tar.gz\n",
            "mzn.tar.gz\n",
            "nap.tar.gz\n",
            "nds.tar.gz\n",
            "ne.tar.gz\n",
            "nl.tar.gz\n",
            "nn.tar.gz\n",
            "no.tar.gz\n",
            "nov.tar.gz\n",
            "oc.tar.gz\n",
            "or.tar.gz\n",
            "os.tar.gz\n",
            "pa.tar.gz\n",
            "pdc.tar.gz\n",
            "pl.tar.gz\n",
            "pms.tar.gz\n",
            "pnb.tar.gz\n",
            "ps.tar.gz\n",
            "pt.tar.gz\n",
            "qu.tar.gz\n",
            "rm.tar.gz\n",
            "ro.tar.gz\n",
            "ru.tar.gz\n",
            "rw.tar.gz\n",
            "sa.tar.gz\n",
            "sah.tar.gz\n",
            "scn.tar.gz\n",
            "sco.tar.gz\n",
            "sd.tar.gz\n",
            "sh.tar.gz\n",
            "si.tar.gz\n",
            "simple.tar.gz\n",
            "sk.tar.gz\n",
            "sl.tar.gz\n",
            "so.tar.gz\n",
            "sq.tar.gz\n",
            "sr.tar.gz\n",
            "su.tar.gz\n",
            "sv.tar.gz\n",
            "sw.tar.gz\n",
            "szl.tar.gz\n",
            "ta.tar.gz\n",
            "te.tar.gz\n",
            "tg.tar.gz\n",
            "th.tar.gz\n",
            "tk.tar.gz\n",
            "tl.tar.gz\n",
            "tr.tar.gz\n",
            "tt.tar.gz\n",
            "ug.tar.gz\n",
            "uk.tar.gz\n",
            "ur.tar.gz\n",
            "uz.tar.gz\n",
            "vec.tar.gz\n",
            "vep.tar.gz\n",
            "vi.tar.gz\n",
            "vls.tar.gz\n",
            "vo.tar.gz\n",
            "wa.tar.gz\n",
            "war.tar.gz\n",
            "wuu.tar.gz\n",
            "xmf.tar.gz\n",
            "yi.tar.gz\n",
            "yo.tar.gz\n",
            "zea.tar.gz\n",
            "zh-classical.tar.gz\n",
            "zh-min-nan.tar.gz\n",
            "zh-yue.tar.gz\n",
            "zh.tar.gz\n"
          ],
          "name": "stdout"
        }
      ]
    },
    {
      "cell_type": "code",
      "metadata": {
        "colab": {
          "base_uri": "https://localhost:8080/"
        },
        "id": "Pkil0G3eVQYK",
        "outputId": "b787eccb-be9e-4a9b-8c39-35c2736a9dfb"
      },
      "source": [
        "!mkdir lang_en\r\n",
        "!tar -xvf en.tar.gz -C lang_en\r\n",
        "\r\n",
        "!mkdir lang_ru\r\n",
        "!tar -xvf ru.tar.gz -C lang_ru\r\n",
        "\r\n",
        "!mkdir lang_es\r\n",
        "!tar -xvf es.tar.gz -C lang_es\r\n",
        "\r\n",
        "!mkdir lang_fr\r\n",
        "!tar -xvf fr.tar.gz -C lang_fr\r\n",
        "\r\n",
        "!mkdir lang_cs\r\n",
        "!tar -xvf cs.tar.gz -C lang_cs\r\n",
        "\r\n",
        "!mkdir lang_zh\r\n",
        "!tar -xvf zh.tar.gz -C lang_zh"
      ],
      "execution_count": null,
      "outputs": [
        {
          "output_type": "stream",
          "text": [
            "train\n",
            "dev\n",
            "test\n",
            "train\n",
            "dev\n",
            "test\n",
            "extra\n",
            "train\n",
            "dev\n",
            "test\n",
            "extra\n",
            "train\n",
            "dev\n",
            "test\n",
            "extra\n",
            "train\n",
            "dev\n",
            "test\n",
            "extra\n",
            "train\n",
            "dev\n",
            "test\n"
          ],
          "name": "stdout"
        }
      ]
    },
    {
      "cell_type": "markdown",
      "metadata": {
        "id": "lFFIGKwpxUr9"
      },
      "source": [
        "## Downloading WikiMatrix"
      ]
    },
    {
      "cell_type": "code",
      "metadata": {
        "colab": {
          "base_uri": "https://localhost:8080/"
        },
        "id": "y2QQo2StxbB1",
        "outputId": "7ffe3003-858f-421b-d194-fab586eca705"
      },
      "source": [
        "!wget -O en-ru.tsv.gz https://dl.fbaipublicfiles.com/laser/WikiMatrix/v1/WikiMatrix.en-ru.tsv.gz"
      ],
      "execution_count": null,
      "outputs": [
        {
          "output_type": "stream",
          "text": [
            "--2021-02-24 17:21:10--  https://dl.fbaipublicfiles.com/laser/WikiMatrix/v1/WikiMatrix.en-ru.tsv.gz\n",
            "Resolving dl.fbaipublicfiles.com (dl.fbaipublicfiles.com)... 104.22.75.142, 172.67.9.4, 104.22.74.142, ...\n",
            "Connecting to dl.fbaipublicfiles.com (dl.fbaipublicfiles.com)|104.22.75.142|:443... connected.\n",
            "HTTP request sent, awaiting response... 200 OK\n",
            "Length: 658252364 (628M) [application/gzip]\n",
            "Saving to: ‘en-ru.tsv.gz’\n",
            "\n",
            "en-ru.tsv.gz        100%[===================>] 627.76M  68.1MB/s    in 10s     \n",
            "\n",
            "2021-02-24 17:21:20 (60.8 MB/s) - ‘en-ru.tsv.gz’ saved [658252364/658252364]\n",
            "\n"
          ],
          "name": "stdout"
        }
      ]
    },
    {
      "cell_type": "code",
      "metadata": {
        "id": "nxpYQUlIxceI"
      },
      "source": [
        "!gzip -d en-ru.tsv.gz"
      ],
      "execution_count": null,
      "outputs": []
    },
    {
      "cell_type": "markdown",
      "metadata": {
        "id": "NC_0qvsOxk2J"
      },
      "source": [
        "## Moving to working directory"
      ]
    },
    {
      "cell_type": "code",
      "metadata": {
        "colab": {
          "base_uri": "https://localhost:8080/"
        },
        "id": "J0lvu1plsEOM",
        "outputId": "74c43305-6d52-48c7-b385-1dbd494ac592"
      },
      "source": [
        "cd /content/multilingual-bert-ner/"
      ],
      "execution_count": null,
      "outputs": [
        {
          "output_type": "stream",
          "text": [
            "/content/multilingual-bert-ner\n"
          ],
          "name": "stdout"
        }
      ]
    },
    {
      "cell_type": "markdown",
      "metadata": {
        "id": "kwjzAjtpVIFC"
      },
      "source": [
        "## mBERT"
      ]
    },
    {
      "cell_type": "code",
      "metadata": {
        "id": "GgodUKyDsJ6q"
      },
      "source": [
        "from multilingual_ner.mBERT.dataset import WikiAnnDataset, create_dataset_and_dataloader\r\n",
        "from multilingual_ner.mBERT.train import train_model, test_epoch\r\n",
        "from multilingual_ner.mBERT.model import BertNER\r\n",
        "\r\n",
        "from transformers import BertTokenizer\r\n",
        "\r\n",
        "import torch \r\n",
        "import torch.nn as nn\r\n",
        "import torch.optim as optim"
      ],
      "execution_count": null,
      "outputs": []
    },
    {
      "cell_type": "markdown",
      "metadata": {
        "id": "7rQCi8VGNUjj"
      },
      "source": [
        "### French"
      ]
    },
    {
      "cell_type": "code",
      "metadata": {
        "colab": {
          "base_uri": "https://localhost:8080/",
          "height": 67,
          "referenced_widgets": [
            "2df6b7180641477288db0cbaed8ecd5b",
            "bb9cdcae2aa345099405f8c69843a686",
            "44f6225b11ee406fb3d60be02f032635",
            "81d5df2dad2c482791ebf89eaa04b50d",
            "521222c32b054621b3324c0e0ab9a664",
            "f775a9ddbb564cc792055d4f14fafa33",
            "baf1715247a54e1db73d2ee077183e0b",
            "f17c7d303fce4a18b462bc6f421163f6"
          ]
        },
        "id": "9z_fUSgko3f6",
        "outputId": "a4a69fa3-7bc0-49e4-910b-556d98bba609"
      },
      "source": [
        "TOKENIZER = BertTokenizer.from_pretrained('bert-base-multilingual-cased', do_lower_case=False)\r\n",
        "DEVICE = 'cuda' if torch.cuda.is_available else 'cpu'\r\n",
        "EPOCHS = 4\r\n",
        "BATCH_SIZE = 8\r\n",
        "\r\n",
        "fr_train_dataset, fr_train_dataloader = create_dataset_and_dataloader('../lang_fr/train', BATCH_SIZE, TOKENIZER)\r\n",
        "fr_eval_dataset, fr_eval_dataloader = create_dataset_and_dataloader('../lang_fr/dev', BATCH_SIZE, TOKENIZER)\r\n",
        "fr_test_dataset, fr_test_dataloader = create_dataset_and_dataloader('../lang_fr/test', BATCH_SIZE, TOKENIZER)"
      ],
      "execution_count": null,
      "outputs": [
        {
          "output_type": "display_data",
          "data": {
            "application/vnd.jupyter.widget-view+json": {
              "model_id": "2df6b7180641477288db0cbaed8ecd5b",
              "version_minor": 0,
              "version_major": 2
            },
            "text/plain": [
              "HBox(children=(FloatProgress(value=0.0, description='Downloading', max=995526.0, style=ProgressStyle(descripti…"
            ]
          },
          "metadata": {
            "tags": []
          }
        },
        {
          "output_type": "stream",
          "text": [
            "\n"
          ],
          "name": "stdout"
        }
      ]
    },
    {
      "cell_type": "code",
      "metadata": {
        "colab": {
          "base_uri": "https://localhost:8080/"
        },
        "id": "-8rCNuoZrTf4",
        "outputId": "02224427-fcb3-4c68-9bb0-efbe58e0862b"
      },
      "source": [
        "classes = len(fr_train_dataset.idx2tag)\r\n",
        "\r\n",
        "device = 'cuda' if torch.cuda.is_available() else 'cpu'\r\n",
        "\r\n",
        "FrenchBertModel = BertNER(classes, pretrained='bert-base-multilingual-cased').to(device)\r\n",
        "\r\n",
        "optimizer = optim.AdamW(FrenchBertModel.parameters(), lr=2e-5)\r\n",
        "criterion = nn.CrossEntropyLoss(ignore_index=0).to(device)\r\n",
        "\r\n",
        "EPOCHS = 4\r\n",
        "\r\n",
        "train_model(FrenchBertModel, criterion, optimizer, fr_train_dataloader, fr_eval_dataloader, fr_train_dataset.tag2idx, fr_train_dataset.idx2tag, device, None, EPOCHS)\r\n",
        "test_epoch(FrenchBertModel, criterion, fr_test_dataloader, fr_train_dataset.tag2idx, fr_train_dataset.idx2tag, device)"
      ],
      "execution_count": null,
      "outputs": [
        {
          "output_type": "stream",
          "text": [
            "Epoch 1 / 4\n",
            "Train Loss = 0.26062, F1-score = 91.432%, Precision = 87.270%, Recall = 96.011%\n",
            "Valid Loss = 0.18860, F1-score = 93.950%, Precision = 90.413%, Recall = 97.775%\n",
            "Epoch 2 / 4\n",
            "Train Loss = 0.14979, F1-score = 95.598%, Precision = 92.720%, Recall = 98.661%\n",
            "Valid Loss = 0.19095, F1-score = 94.579%, Precision = 90.838%, Recall = 98.640%\n",
            "Epoch 3 / 4\n",
            "Train Loss = 0.10757, F1-score = 96.974%, Precision = 94.890%, Recall = 99.151%\n",
            "Valid Loss = 0.23321, F1-score = 94.705%, Precision = 90.847%, Recall = 98.907%\n",
            "Epoch 4 / 4\n",
            "Train Loss = 0.08283, F1-score = 97.736%, Precision = 96.146%, Recall = 99.378%\n",
            "Valid Loss = 0.26798, F1-score = 94.678%, Precision = 91.158%, Recall = 98.482%\n",
            "Test  Loss = 0.26821, F1-score = 94.564%, Precision = 90.803%, Recall = 98.650%\n"
          ],
          "name": "stdout"
        }
      ]
    },
    {
      "cell_type": "markdown",
      "metadata": {
        "id": "EAHQySyXNRxg"
      },
      "source": [
        "### Spanish"
      ]
    },
    {
      "cell_type": "code",
      "metadata": {
        "id": "btQTiB8FIohZ"
      },
      "source": [
        "TOKENIZER = BertTokenizer.from_pretrained('bert-base-multilingual-cased', do_lower_case=False)\r\n",
        "DEVICE = 'cuda' if torch.cuda.is_available else 'cpu'\r\n",
        "EPOCHS = 4\r\n",
        "BATCH_SIZE = 16\r\n",
        "\r\n",
        "es_train_dataset, es_train_dataloader = create_dataset_and_dataloader('../lang_es/train', BATCH_SIZE, TOKENIZER)\r\n",
        "es_eval_dataset, es_eval_dataloader = create_dataset_and_dataloader('../lang_es/dev', BATCH_SIZE, TOKENIZER)\r\n",
        "es_test_dataset, es_test_dataloader = create_dataset_and_dataloader('../lang_es/test', BATCH_SIZE, TOKENIZER)"
      ],
      "execution_count": null,
      "outputs": []
    },
    {
      "cell_type": "code",
      "metadata": {
        "colab": {
          "base_uri": "https://localhost:8080/"
        },
        "id": "dXyGX9h9Nclt",
        "outputId": "5ac93612-8ddf-43d9-aa17-9d1bfb9be0ea"
      },
      "source": [
        "classes = len(es_train_dataset.idx2tag)\r\n",
        "\r\n",
        "device = 'cuda' if torch.cuda.is_available() else 'cpu'\r\n",
        "\r\n",
        "SpanishBertModel = BertNER(classes, pretrained='bert-base-multilingual-cased').to(device)\r\n",
        "\r\n",
        "optimizer = optim.AdamW(SpanishBertModel.parameters(), lr=2e-5)\r\n",
        "criterion = nn.CrossEntropyLoss(ignore_index=0).to(device)\r\n",
        "\r\n",
        "EPOCHS = 4\r\n",
        "\r\n",
        "train_model(SpanishBertModel, criterion, optimizer, es_train_dataloader, es_eval_dataloader, es_train_dataset.tag2idx, es_train_dataset.idx2tag, device, None, EPOCHS)\r\n",
        "test_epoch(SpanishBertModel, criterion, es_test_dataloader, es_train_dataset.tag2idx, es_train_dataset.idx2tag, device)"
      ],
      "execution_count": null,
      "outputs": [
        {
          "output_type": "stream",
          "text": [
            "Epoch 1 / 4\n",
            "Train Loss = 0.22545, F1-score = 91.614%, Precision = 87.283%, Recall = 96.397%\n",
            "Valid Loss = 0.16281, F1-score = 94.266%, Precision = 89.929%, Recall = 99.042%\n",
            "Epoch 2 / 4\n",
            "Train Loss = 0.12145, F1-score = 95.818%, Precision = 92.831%, Recall = 99.004%\n",
            "Valid Loss = 0.16907, F1-score = 94.750%, Precision = 90.937%, Recall = 98.897%\n",
            "Epoch 3 / 4\n",
            "Train Loss = 0.08742, F1-score = 97.121%, Precision = 94.920%, Recall = 99.426%\n",
            "Valid Loss = 0.17244, F1-score = 94.757%, Precision = 90.791%, Recall = 99.086%\n",
            "Epoch 4 / 4\n",
            "Train Loss = 0.06420, F1-score = 98.005%, Precision = 96.510%, Recall = 99.547%\n",
            "Valid Loss = 0.17717, F1-score = 94.973%, Precision = 91.235%, Recall = 99.030%\n",
            "Test  Loss = 0.17073, F1-score = 95.295%, Precision = 91.830%, Recall = 99.032%\n"
          ],
          "name": "stdout"
        }
      ]
    },
    {
      "cell_type": "markdown",
      "metadata": {
        "id": "5fDEkhpYOMdE"
      },
      "source": [
        "### English"
      ]
    },
    {
      "cell_type": "code",
      "metadata": {
        "id": "KSRJt0pLNpsD"
      },
      "source": [
        "TOKENIZER = BertTokenizer.from_pretrained('bert-base-multilingual-cased', do_lower_case=False)\r\n",
        "DEVICE = 'cuda' if torch.cuda.is_available else 'cpu'\r\n",
        "EPOCHS = 4\r\n",
        "BATCH_SIZE = 16\r\n",
        "\r\n",
        "en_train_dataset, en_train_dataloader = create_dataset_and_dataloader('../lang_en/train', BATCH_SIZE, TOKENIZER)\r\n",
        "en_eval_dataset, en_eval_dataloader = create_dataset_and_dataloader('../lang_en/dev', BATCH_SIZE, TOKENIZER)\r\n",
        "en_test_dataset, en_test_dataloader = create_dataset_and_dataloader('../lang_en/test', BATCH_SIZE, TOKENIZER)"
      ],
      "execution_count": null,
      "outputs": []
    },
    {
      "cell_type": "code",
      "metadata": {
        "id": "CmaQ1tiZOTU7"
      },
      "source": [
        "classes = len(en_train_dataset.idx2tag)\r\n",
        "\r\n",
        "device = 'cuda' if torch.cuda.is_available() else 'cpu'\r\n",
        "\r\n",
        "EnglishBertModel = BertNER(classes, pretrained='bert-base-multilingual-cased').to(device)\r\n",
        "\r\n",
        "optimizer = optim.AdamW(EnglishBertModel.parameters(), lr=2e-6)\r\n",
        "criterion = nn.CrossEntropyLoss(ignore_index=0).to(device)\r\n",
        "\r\n",
        "EPOCHS = 4\r\n",
        "\r\n",
        "train_model(EnglishBertModel, criterion, optimizer, en_train_dataloader, en_eval_dataloader, en_train_dataset.tag2idx, en_train_dataset.idx2tag, device, None, EPOCHS)\r\n",
        "test_epoch(EnglishBertModel, criterion, en_test_dataloader, en_train_dataset.tag2idx, en_train_dataset.idx2tag, device)"
      ],
      "execution_count": null,
      "outputs": []
    },
    {
      "cell_type": "markdown",
      "metadata": {
        "id": "3_3dhgIfOc_J"
      },
      "source": [
        "### Russian"
      ]
    },
    {
      "cell_type": "code",
      "metadata": {
        "id": "BY0SsBuQOe4x",
        "colab": {
          "base_uri": "https://localhost:8080/",
          "height": 66,
          "referenced_widgets": [
            "a13084bcb534474bbdd67240e340cf85",
            "5cdba171d9954b598faaf2ebcc008be3",
            "f598d59becd7424f8eff8a13fefbb0d6",
            "838afcc4912d47ebac521cf2ed33159e",
            "d6ddc7521ff44ec2b6880165f0a15d8a",
            "5f98480bed1f4b09a0ecb7fbceec73ed",
            "188b3742e0b948dcad74ead9de56535d",
            "93803d912648404da4e358c6397dcc87"
          ]
        },
        "outputId": "bc61b62b-59dc-4a74-9fe5-9dda632c6f65"
      },
      "source": [
        "TOKENIZER = BertTokenizer.from_pretrained('bert-base-multilingual-cased', do_lower_case=False)\r\n",
        "DEVICE = 'cuda' if torch.cuda.is_available else 'cpu'\r\n",
        "EPOCHS = 4\r\n",
        "BATCH_SIZE = 16\r\n",
        "\r\n",
        "ru_train_dataset, ru_train_dataloader = create_dataset_and_dataloader('../lang_ru/train', BATCH_SIZE, TOKENIZER)\r\n",
        "ru_eval_dataset, ru_eval_dataloader = create_dataset_and_dataloader('../lang_ru/dev', BATCH_SIZE, TOKENIZER)\r\n",
        "ru_test_dataset, ru_test_dataloader = create_dataset_and_dataloader('../lang_ru/test', BATCH_SIZE, TOKENIZER)"
      ],
      "execution_count": null,
      "outputs": [
        {
          "output_type": "display_data",
          "data": {
            "application/vnd.jupyter.widget-view+json": {
              "model_id": "a13084bcb534474bbdd67240e340cf85",
              "version_minor": 0,
              "version_major": 2
            },
            "text/plain": [
              "HBox(children=(FloatProgress(value=0.0, description='Downloading', max=995526.0, style=ProgressStyle(descripti…"
            ]
          },
          "metadata": {
            "tags": []
          }
        },
        {
          "output_type": "stream",
          "text": [
            "\n"
          ],
          "name": "stdout"
        }
      ]
    },
    {
      "cell_type": "code",
      "metadata": {
        "id": "D9MTEMLFOkZJ",
        "colab": {
          "base_uri": "https://localhost:8080/",
          "height": 336,
          "referenced_widgets": [
            "b0ed6c375f564e86a8b12ab4fe14cf44",
            "8362e830812b4ef0981b4259f2974066",
            "32ff400a83a14539a535b90b16c3a73b",
            "e269c2f82fe5470a9b9b36c7c50c80ac",
            "ccfcd506b0c6482f8e443345cc31fbd6",
            "fba6b2ea11d849048210e10518020f9a",
            "3b6b6c3f56004eebbf7c4dfa98fdf26d",
            "3e168fa794864e03ae73ca2095290b28",
            "84830328c97e4d35a000484395d47e51",
            "f3936e1fdf3e437c823f10beb31166cf",
            "671e78ce99ba4096a79b44c5268ed511",
            "e9f358ed78d0484ab5c1bb97d91eed2a",
            "fda3d3e77df54d1eb3ff7efaa16e111a",
            "aa7440907dbb4e48ab50b60245dde681",
            "9954f1761b574e5ba4f0286f305b7521",
            "5f016cc826fa4275b732fa40b4bf90b5"
          ]
        },
        "outputId": "2a8aacaf-63ce-4985-8785-ddba5feb3735"
      },
      "source": [
        "classes = len(ru_train_dataset.idx2tag)\r\n",
        "\r\n",
        "device = 'cuda' if torch.cuda.is_available() else 'cpu'\r\n",
        "\r\n",
        "RussianBertModel = BertNER(classes, pretrained='bert-base-multilingual-cased').to(device)\r\n",
        "\r\n",
        "optimizer = optim.AdamW(RussianBertModel.parameters(), lr=2e-6)\r\n",
        "criterion = nn.CrossEntropyLoss(ignore_index=0).to(device)\r\n",
        "\r\n",
        "EPOCHS = 4\r\n",
        "\r\n",
        "train_model(RussianBertModel, criterion, optimizer, ru_train_dataloader, ru_eval_dataloader, ru_train_dataset.tag2idx, ru_train_dataset.idx2tag, device, None, EPOCHS)\r\n",
        "test_epoch(RussianBertModel, criterion, ru_test_dataloader, ru_train_dataset.tag2idx, ru_train_dataset.idx2tag, device)"
      ],
      "execution_count": null,
      "outputs": [
        {
          "output_type": "display_data",
          "data": {
            "application/vnd.jupyter.widget-view+json": {
              "model_id": "b0ed6c375f564e86a8b12ab4fe14cf44",
              "version_minor": 0,
              "version_major": 2
            },
            "text/plain": [
              "HBox(children=(FloatProgress(value=0.0, description='Downloading', max=625.0, style=ProgressStyle(description_…"
            ]
          },
          "metadata": {
            "tags": []
          }
        },
        {
          "output_type": "stream",
          "text": [
            "\n"
          ],
          "name": "stdout"
        },
        {
          "output_type": "display_data",
          "data": {
            "application/vnd.jupyter.widget-view+json": {
              "model_id": "84830328c97e4d35a000484395d47e51",
              "version_minor": 0,
              "version_major": 2
            },
            "text/plain": [
              "HBox(children=(FloatProgress(value=0.0, description='Downloading', max=714314041.0, style=ProgressStyle(descri…"
            ]
          },
          "metadata": {
            "tags": []
          }
        },
        {
          "output_type": "stream",
          "text": [
            "\n",
            "Epoch 1 / 4\n",
            "Train Loss = 0.53340, F1-score = 78.067%, Precision = 74.646%, Recall = 81.817%\n",
            "Valid Loss = 0.27819, F1-score = 90.061%, Precision = 84.581%, Recall = 96.300%\n",
            "Epoch 2 / 4\n",
            "Train Loss = 0.25160, F1-score = 91.133%, Precision = 87.036%, Recall = 95.635%\n",
            "Valid Loss = 0.21295, F1-score = 92.703%, Precision = 88.707%, Recall = 97.076%\n",
            "Epoch 3 / 4\n",
            "Train Loss = 0.19885, F1-score = 93.242%, Precision = 89.980%, Recall = 96.749%\n",
            "Valid Loss = 0.19784, F1-score = 93.449%, Precision = 89.731%, Recall = 97.489%\n",
            "Epoch 4 / 4\n",
            "Train Loss = 0.17182, F1-score = 94.239%, Precision = 91.399%, Recall = 97.262%\n",
            "Valid Loss = 0.18750, F1-score = 93.964%, Precision = 90.639%, Recall = 97.541%\n",
            "Test  Loss = 0.19638, F1-score = 93.785%, Precision = 90.266%, Recall = 97.590%\n"
          ],
          "name": "stdout"
        }
      ]
    },
    {
      "cell_type": "markdown",
      "metadata": {
        "id": "q00XKKILbd5V"
      },
      "source": [
        "### Czech"
      ]
    },
    {
      "cell_type": "code",
      "metadata": {
        "id": "hkWEhXoUbfuA"
      },
      "source": [
        "TOKENIZER = BertTokenizer.from_pretrained('bert-base-multilingual-cased', do_lower_case=False)\r\n",
        "DEVICE = 'cuda' if torch.cuda.is_available else 'cpu'\r\n",
        "EPOCHS = 4\r\n",
        "BATCH_SIZE = 16\r\n",
        "\r\n",
        "cs_train_dataset, cs_train_dataloader = create_dataset_and_dataloader('../lang_cs/train', BATCH_SIZE, TOKENIZER)\r\n",
        "cs_eval_dataset, cs_eval_dataloader = create_dataset_and_dataloader('../lang_cs/dev', BATCH_SIZE, TOKENIZER)\r\n",
        "cs_test_dataset, cs_test_dataloader = create_dataset_and_dataloader('../lang_cs/test', BATCH_SIZE, TOKENIZER)"
      ],
      "execution_count": null,
      "outputs": []
    },
    {
      "cell_type": "code",
      "metadata": {
        "colab": {
          "base_uri": "https://localhost:8080/"
        },
        "id": "JwTQihDTd2mQ",
        "outputId": "d0547948-24ec-444f-da2e-9733161a0aef"
      },
      "source": [
        "classes = len(cs_train_dataset.idx2tag)\r\n",
        "\r\n",
        "device = 'cuda' if torch.cuda.is_available() else 'cpu'\r\n",
        "\r\n",
        "CzechBertModel = BertNER(classes, pretrained='bert-base-multilingual-cased').to(device)\r\n",
        "\r\n",
        "optimizer = optim.AdamW(CzechBertModel.parameters(), lr=2e-6)\r\n",
        "criterion = nn.CrossEntropyLoss(ignore_index=0).to(device)\r\n",
        "\r\n",
        "EPOCHS = 4\r\n",
        "\r\n",
        "train_model(CzechBertModel, criterion, optimizer, cs_train_dataloader, cs_eval_dataloader, cs_train_dataset.tag2idx, cs_train_dataset.idx2tag, device, None, EPOCHS)\r\n",
        "test_epoch(CzechBertModel, criterion, cs_test_dataloader, cs_train_dataset.tag2idx, cs_train_dataset.idx2tag, device)"
      ],
      "execution_count": null,
      "outputs": [
        {
          "output_type": "stream",
          "text": [
            "Epoch 1 / 4\n",
            "Train Loss = 0.41276, F1-score = 79.352%, Precision = 77.337%, Recall = 81.476%\n",
            "Valid Loss = 0.19801, F1-score = 91.384%, Precision = 87.763%, Recall = 95.317%\n",
            "Epoch 2 / 4\n",
            "Train Loss = 0.17979, F1-score = 92.098%, Precision = 88.855%, Recall = 95.588%\n",
            "Valid Loss = 0.15807, F1-score = 93.504%, Precision = 90.954%, Recall = 96.201%\n",
            "Epoch 3 / 4\n",
            "Train Loss = 0.14104, F1-score = 93.979%, Precision = 91.433%, Recall = 96.670%\n",
            "Valid Loss = 0.14243, F1-score = 94.359%, Precision = 91.800%, Recall = 97.064%\n",
            "Epoch 4 / 4\n",
            "Train Loss = 0.11815, F1-score = 95.089%, Precision = 92.889%, Recall = 97.395%\n",
            "Valid Loss = 0.13455, F1-score = 94.835%, Precision = 92.494%, Recall = 97.298%\n",
            "Test  Loss = 0.13715, F1-score = 94.718%, Precision = 92.115%, Recall = 97.472%\n"
          ],
          "name": "stdout"
        }
      ]
    },
    {
      "cell_type": "markdown",
      "metadata": {
        "id": "H6__zlxTOxEb"
      },
      "source": [
        "### Simplified Chinese"
      ]
    },
    {
      "cell_type": "code",
      "metadata": {
        "id": "Z-nXVrmROz65"
      },
      "source": [
        "TOKENIZER = BertTokenizer.from_pretrained('bert-base-multilingual-cased', do_lower_case=False)\r\n",
        "DEVICE = 'cuda' if torch.cuda.is_available else 'cpu'\r\n",
        "EPOCHS = 4\r\n",
        "BATCH_SIZE = 8\r\n",
        "\r\n",
        "zh_train_dataset, _ = create_dataset_and_dataloader('../lang_zh/train', BATCH_SIZE, TOKENIZER)\r\n",
        "zh_eval_dataset, _ = create_dataset_and_dataloader('../lang_zh/dev', BATCH_SIZE, TOKENIZER)\r\n",
        "zh_test_dataset, _ = create_dataset_and_dataloader('../lang_zh/test', BATCH_SIZE, TOKENIZER)"
      ],
      "execution_count": null,
      "outputs": []
    },
    {
      "cell_type": "code",
      "metadata": {
        "id": "SjsMR32PTS4h",
        "colab": {
          "base_uri": "https://localhost:8080/"
        },
        "outputId": "26d15725-bf01-4fdf-8e39-cb78cef263b5"
      },
      "source": [
        "max_idx = 0\r\n",
        "max_length = 512\r\n",
        "\r\n",
        "for idx, (sentence, tags) in enumerate(zip(zh_eval_dataset.sentences, zh_eval_dataset.sentences_tags)):\r\n",
        "    if len(sentence) > max_length:\r\n",
        "        print('Words:', zh_train_dataset.sentences[idx])\r\n",
        "        print('Tags :', zh_train_dataset.sentences_tags[idx])\r\n",
        "        print('Len  :', len(sentence))\r\n",
        "        print('ID   :', idx)\r\n",
        "        print('-' * 10)"
      ],
      "execution_count": null,
      "outputs": [
        {
          "output_type": "stream",
          "text": [
            "Words: ['#', 'd', 'o', '#', 'i', 't', '#', 'a', 'g', 'a', 'i', 'n']\n",
            "Tags : ['O', 'B-ORG', 'I-ORG', 'O', 'I-ORG', 'I-ORG', 'O', 'I-ORG', 'I-ORG', 'I-ORG', 'I-ORG', 'I-ORG']\n",
            "Len  : 528\n",
            "ID   : 2578\n",
            "----------\n",
            "Words: ['#', '5', 'p', 'b', '.']\n",
            "Tags : ['O', 'B-ORG', 'I-ORG', 'I-ORG', 'I-ORG']\n",
            "Len  : 732\n",
            "ID   : 4594\n",
            "----------\n"
          ],
          "name": "stdout"
        }
      ]
    },
    {
      "cell_type": "code",
      "metadata": {
        "id": "FJa8DtVcYWWZ"
      },
      "source": [
        "# ids to drop because of the size of sentence's tokens, that doesn't fit into BERT's 512 bound \r\n",
        "\r\n",
        "ids_to_drop_train = [6538]\r\n",
        "ids_to_drop_eval  = [2578, 4593, 4594]\r\n",
        "ids_to_drop_test  = [8655]"
      ],
      "execution_count": null,
      "outputs": []
    },
    {
      "cell_type": "code",
      "metadata": {
        "id": "ifmi-GcIZJLp"
      },
      "source": [
        "for idx in ids_to_drop_train:\r\n",
        "    zh_train_dataset.sentences.pop(idx)\r\n",
        "    zh_train_dataset.sentences_tags.pop(idx)\r\n",
        "\r\n",
        "for idx in ids_to_drop_eval:\r\n",
        "    zh_eval_dataset.sentences.pop(idx)\r\n",
        "    zh_eval_dataset.sentences_tags.pop(idx)\r\n",
        "\r\n",
        "for idx in ids_to_drop_test:\r\n",
        "    zh_test_dataset.sentences.pop(idx)\r\n",
        "    zh_test_dataset.sentences_tags.pop(idx)"
      ],
      "execution_count": null,
      "outputs": []
    },
    {
      "cell_type": "code",
      "metadata": {
        "id": "7PUU5cvLZ_ij"
      },
      "source": [
        "from torch.utils.data import DataLoader\r\n",
        "\r\n",
        "zh_train_dataloader = DataLoader(zh_train_dataset, BATCH_SIZE, num_workers=4, collate_fn=zh_train_dataset.paddings)\r\n",
        "zh_eval_dataloader = DataLoader(zh_eval_dataset, BATCH_SIZE, num_workers=4, collate_fn=zh_eval_dataset.paddings)\r\n",
        "zh_test_dataloader = DataLoader(zh_test_dataset, BATCH_SIZE, num_workers=4, collate_fn=zh_test_dataset.paddings)"
      ],
      "execution_count": null,
      "outputs": []
    },
    {
      "cell_type": "code",
      "metadata": {
        "id": "J9MS7tMtO6Qz",
        "colab": {
          "base_uri": "https://localhost:8080/"
        },
        "outputId": "edab3ae4-761c-4ec2-9211-2c3d9d6fba31"
      },
      "source": [
        "classes = len(zh_train_dataset.idx2tag)\r\n",
        "\r\n",
        "device = 'cuda' if torch.cuda.is_available() else 'cpu'\r\n",
        "\r\n",
        "ChineseBertModel = BertNER(classes, pretrained='bert-base-multilingual-cased').to(device)\r\n",
        "\r\n",
        "optimizer = optim.AdamW(ChineseBertModel.parameters(), lr=2e-5)\r\n",
        "criterion = nn.CrossEntropyLoss(ignore_index=0).to(device)\r\n",
        "\r\n",
        "EPOCHS = 4\r\n",
        "\r\n",
        "train_model(ChineseBertModel, criterion, optimizer, zh_train_dataloader, zh_eval_dataloader, zh_train_dataset.tag2idx, zh_train_dataset.idx2tag, device, None, EPOCHS)\r\n",
        "test_epoch(ChineseBertModel, criterion, zh_test_dataloader, zh_train_dataset.tag2idx, zh_train_dataset.idx2tag, device)"
      ],
      "execution_count": null,
      "outputs": [
        {
          "output_type": "stream",
          "text": [
            "Epoch 1 / 4\n",
            "Train Loss = 0.27367, F1-score = 81.652%, Precision = 81.497%, Recall = 81.809%\n",
            "Valid Loss = 0.21166, F1-score = 85.729%, Precision = 86.116%, Recall = 85.346%\n",
            "Epoch 2 / 4\n",
            "Train Loss = 0.17554, F1-score = 88.519%, Precision = 87.148%, Recall = 89.933%\n",
            "Valid Loss = 0.20779, F1-score = 87.060%, Precision = 88.203%, Recall = 85.946%\n",
            "Epoch 3 / 4\n",
            "Train Loss = 0.12696, F1-score = 91.862%, Precision = 90.487%, Recall = 93.279%\n",
            "Valid Loss = 0.23323, F1-score = 87.653%, Precision = 86.613%, Recall = 88.717%\n",
            "Epoch 4 / 4\n",
            "Train Loss = 0.09657, F1-score = 93.862%, Precision = 92.592%, Recall = 95.167%\n",
            "Valid Loss = 0.25074, F1-score = 87.215%, Precision = 87.375%, Recall = 87.056%\n",
            "Test  Loss = 0.24903, F1-score = 87.425%, Precision = 87.454%, Recall = 87.395%\n"
          ],
          "name": "stdout"
        }
      ]
    },
    {
      "cell_type": "markdown",
      "metadata": {
        "id": "QA6zrR5KVMWO"
      },
      "source": [
        "## XLM"
      ]
    },
    {
      "cell_type": "code",
      "metadata": {
        "id": "YZtfrjnNXmiK"
      },
      "source": [
        "from multilingual_ner.XLM.dataset import WikiAnnDataset, create_dataset_and_dataloader\r\n",
        "from multilingual_ner.XLM.train import train_model, test_epoch\r\n",
        "from multilingual_ner.XLM.model import XLMRoBERTaNER\r\n",
        "\r\n",
        "from transformers import XLMRobertaTokenizer\r\n",
        "\r\n",
        "import torch \r\n",
        "import torch.nn as nn\r\n",
        "import torch.optim as optim"
      ],
      "execution_count": null,
      "outputs": []
    },
    {
      "cell_type": "markdown",
      "metadata": {
        "id": "rShjQbeSVO1n"
      },
      "source": [
        "### French"
      ]
    },
    {
      "cell_type": "code",
      "metadata": {
        "id": "FreJqsCtVSJj"
      },
      "source": [
        "TOKENIZER = XLMRobertaTokenizer.from_pretrained('xlm-roberta-base', do_lower_case=False)\r\n",
        "DEVICE = 'cuda' if torch.cuda.is_available else 'cpu'\r\n",
        "EPOCHS = 4\r\n",
        "BATCH_SIZE = 8\r\n",
        "\r\n",
        "fr_train_dataset, fr_train_dataloader = create_dataset_and_dataloader('../lang_fr/train', BATCH_SIZE, TOKENIZER)\r\n",
        "fr_eval_dataset, fr_eval_dataloader = create_dataset_and_dataloader('../lang_fr/dev', BATCH_SIZE, TOKENIZER)\r\n",
        "fr_test_dataset, fr_test_dataloader = create_dataset_and_dataloader('../lang_fr/test', BATCH_SIZE, TOKENIZER)"
      ],
      "execution_count": null,
      "outputs": []
    },
    {
      "cell_type": "code",
      "metadata": {
        "colab": {
          "base_uri": "https://localhost:8080/",
          "height": 413
        },
        "id": "-qUBZTdFYARk",
        "outputId": "f83a7597-aef9-424e-f296-43ed57e3ea40"
      },
      "source": [
        "classes = len(fr_train_dataset.idx2tag)\r\n",
        "\r\n",
        "device = 'cuda' if torch.cuda.is_available() else 'cpu'\r\n",
        "\r\n",
        "FrenchXLModel = XLMRoBERTaNER(classes).to(device)\r\n",
        "\r\n",
        "optimizer = optim.AdamW(FrenchXLModel.parameters(), lr=2e-5)\r\n",
        "criterion = nn.CrossEntropyLoss(ignore_index=0).to(device)\r\n",
        "\r\n",
        "EPOCHS = 4\r\n",
        "\r\n",
        "train_model(FrenchXLModel, criterion, optimizer, fr_train_dataloader, fr_eval_dataloader, fr_train_dataset.tag2idx, fr_train_dataset.idx2tag, device, None, EPOCHS)\r\n",
        "test_epoch(FrenchXLModel, criterion, fr_test_dataloader, fr_train_dataset.tag2idx, fr_train_dataset.idx2tag, device)"
      ],
      "execution_count": null,
      "outputs": [
        {
          "output_type": "stream",
          "text": [
            "Epoch 1 / 4\n"
          ],
          "name": "stdout"
        },
        {
          "output_type": "error",
          "ename": "RuntimeError",
          "evalue": "ignored",
          "traceback": [
            "\u001b[0;31m---------------------------------------------------------------------------\u001b[0m",
            "\u001b[0;31mRuntimeError\u001b[0m                              Traceback (most recent call last)",
            "\u001b[0;32m<ipython-input-11-b8d8fa5efa35>\u001b[0m in \u001b[0;36m<module>\u001b[0;34m()\u001b[0m\n\u001b[1;32m     10\u001b[0m \u001b[0mEPOCHS\u001b[0m \u001b[0;34m=\u001b[0m \u001b[0;36m4\u001b[0m\u001b[0;34m\u001b[0m\u001b[0;34m\u001b[0m\u001b[0m\n\u001b[1;32m     11\u001b[0m \u001b[0;34m\u001b[0m\u001b[0m\n\u001b[0;32m---> 12\u001b[0;31m \u001b[0mtrain_model\u001b[0m\u001b[0;34m(\u001b[0m\u001b[0mFrenchXLModel\u001b[0m\u001b[0;34m,\u001b[0m \u001b[0mcriterion\u001b[0m\u001b[0;34m,\u001b[0m \u001b[0moptimizer\u001b[0m\u001b[0;34m,\u001b[0m \u001b[0mfr_train_dataloader\u001b[0m\u001b[0;34m,\u001b[0m \u001b[0mfr_eval_dataloader\u001b[0m\u001b[0;34m,\u001b[0m \u001b[0mfr_train_dataset\u001b[0m\u001b[0;34m.\u001b[0m\u001b[0mtag2idx\u001b[0m\u001b[0;34m,\u001b[0m \u001b[0mfr_train_dataset\u001b[0m\u001b[0;34m.\u001b[0m\u001b[0midx2tag\u001b[0m\u001b[0;34m,\u001b[0m \u001b[0mdevice\u001b[0m\u001b[0;34m,\u001b[0m \u001b[0;32mNone\u001b[0m\u001b[0;34m,\u001b[0m \u001b[0mEPOCHS\u001b[0m\u001b[0;34m)\u001b[0m\u001b[0;34m\u001b[0m\u001b[0;34m\u001b[0m\u001b[0m\n\u001b[0m\u001b[1;32m     13\u001b[0m \u001b[0mtest_epoch\u001b[0m\u001b[0;34m(\u001b[0m\u001b[0mFrenchXLModel\u001b[0m\u001b[0;34m,\u001b[0m \u001b[0mcriterion\u001b[0m\u001b[0;34m,\u001b[0m \u001b[0mfr_test_dataloader\u001b[0m\u001b[0;34m,\u001b[0m \u001b[0mfr_train_dataset\u001b[0m\u001b[0;34m.\u001b[0m\u001b[0mtag2idx\u001b[0m\u001b[0;34m,\u001b[0m \u001b[0mfr_train_dataset\u001b[0m\u001b[0;34m.\u001b[0m\u001b[0midx2tag\u001b[0m\u001b[0;34m,\u001b[0m \u001b[0mdevice\u001b[0m\u001b[0;34m)\u001b[0m\u001b[0;34m\u001b[0m\u001b[0;34m\u001b[0m\u001b[0m\n",
            "\u001b[0;32m/content/multilingual-bert-ner/multilingual_ner/XLM/train.py\u001b[0m in \u001b[0;36mtrain_model\u001b[0;34m(model, criterion, optimizer, train_data, eval_data, tag2idx, idx2tag, device, scheduler, epochs)\u001b[0m\n\u001b[1;32m    176\u001b[0m     \u001b[0;32mfor\u001b[0m \u001b[0mepoch\u001b[0m \u001b[0;32min\u001b[0m \u001b[0mrange\u001b[0m\u001b[0;34m(\u001b[0m\u001b[0mepochs\u001b[0m\u001b[0;34m)\u001b[0m\u001b[0;34m:\u001b[0m\u001b[0;34m\u001b[0m\u001b[0;34m\u001b[0m\u001b[0m\n\u001b[1;32m    177\u001b[0m         \u001b[0mprint\u001b[0m\u001b[0;34m(\u001b[0m\u001b[0;34m'Epoch {} / {}'\u001b[0m\u001b[0;34m.\u001b[0m\u001b[0mformat\u001b[0m\u001b[0;34m(\u001b[0m\u001b[0mepoch\u001b[0m \u001b[0;34m+\u001b[0m \u001b[0;36m1\u001b[0m\u001b[0;34m,\u001b[0m \u001b[0mepochs\u001b[0m\u001b[0;34m)\u001b[0m\u001b[0;34m)\u001b[0m\u001b[0;34m\u001b[0m\u001b[0;34m\u001b[0m\u001b[0m\n\u001b[0;32m--> 178\u001b[0;31m         \u001b[0mtrain_epoch\u001b[0m\u001b[0;34m(\u001b[0m\u001b[0mmodel\u001b[0m\u001b[0;34m,\u001b[0m \u001b[0mcriterion\u001b[0m\u001b[0;34m,\u001b[0m \u001b[0moptimizer\u001b[0m\u001b[0;34m,\u001b[0m \u001b[0mtrain_data\u001b[0m\u001b[0;34m,\u001b[0m \u001b[0mtag2idx\u001b[0m\u001b[0;34m,\u001b[0m \u001b[0midx2tag\u001b[0m\u001b[0;34m,\u001b[0m \u001b[0mdevice\u001b[0m\u001b[0;34m,\u001b[0m \u001b[0mscheduler\u001b[0m\u001b[0;34m)\u001b[0m\u001b[0;34m\u001b[0m\u001b[0;34m\u001b[0m\u001b[0m\n\u001b[0m\u001b[1;32m    179\u001b[0m         \u001b[0mvalid_epoch\u001b[0m\u001b[0;34m(\u001b[0m\u001b[0mmodel\u001b[0m\u001b[0;34m,\u001b[0m \u001b[0mcriterion\u001b[0m\u001b[0;34m,\u001b[0m \u001b[0meval_data\u001b[0m\u001b[0;34m,\u001b[0m \u001b[0mtag2idx\u001b[0m\u001b[0;34m,\u001b[0m \u001b[0midx2tag\u001b[0m\u001b[0;34m,\u001b[0m \u001b[0mdevice\u001b[0m\u001b[0;34m)\u001b[0m\u001b[0;34m\u001b[0m\u001b[0;34m\u001b[0m\u001b[0m\n",
            "\u001b[0;32m/content/multilingual-bert-ner/multilingual_ner/XLM/train.py\u001b[0m in \u001b[0;36mtrain_epoch\u001b[0;34m(model, criterion, optimizer, data, tag2idx, idx2tag, device, scheduler)\u001b[0m\n\u001b[1;32m     54\u001b[0m         \u001b[0mbatch_element_length\u001b[0m \u001b[0;34m=\u001b[0m \u001b[0mlen\u001b[0m\u001b[0;34m(\u001b[0m\u001b[0mtags\u001b[0m\u001b[0;34m[\u001b[0m\u001b[0;36m0\u001b[0m\u001b[0;34m]\u001b[0m\u001b[0;34m)\u001b[0m\u001b[0;34m\u001b[0m\u001b[0;34m\u001b[0m\u001b[0m\n\u001b[1;32m     55\u001b[0m \u001b[0;34m\u001b[0m\u001b[0m\n\u001b[0;32m---> 56\u001b[0;31m         \u001b[0mpredictions\u001b[0m \u001b[0;34m=\u001b[0m \u001b[0mmodel\u001b[0m\u001b[0;34m(\u001b[0m\u001b[0mtokens\u001b[0m\u001b[0;34m)\u001b[0m\u001b[0;34m\u001b[0m\u001b[0;34m\u001b[0m\u001b[0m\n\u001b[0m\u001b[1;32m     57\u001b[0m         \u001b[0mpredictions\u001b[0m \u001b[0;34m=\u001b[0m \u001b[0mpredictions\u001b[0m\u001b[0;34m.\u001b[0m\u001b[0mview\u001b[0m\u001b[0;34m(\u001b[0m\u001b[0;34m-\u001b[0m\u001b[0;36m1\u001b[0m\u001b[0;34m,\u001b[0m \u001b[0mpredictions\u001b[0m\u001b[0;34m.\u001b[0m\u001b[0mshape\u001b[0m\u001b[0;34m[\u001b[0m\u001b[0;34m-\u001b[0m\u001b[0;36m1\u001b[0m\u001b[0;34m]\u001b[0m\u001b[0;34m)\u001b[0m\u001b[0;34m\u001b[0m\u001b[0;34m\u001b[0m\u001b[0m\n\u001b[1;32m     58\u001b[0m \u001b[0;34m\u001b[0m\u001b[0m\n",
            "\u001b[0;32m/usr/local/lib/python3.6/dist-packages/torch/nn/modules/module.py\u001b[0m in \u001b[0;36m_call_impl\u001b[0;34m(self, *input, **kwargs)\u001b[0m\n\u001b[1;32m    725\u001b[0m             \u001b[0mresult\u001b[0m \u001b[0;34m=\u001b[0m \u001b[0mself\u001b[0m\u001b[0;34m.\u001b[0m\u001b[0m_slow_forward\u001b[0m\u001b[0;34m(\u001b[0m\u001b[0;34m*\u001b[0m\u001b[0minput\u001b[0m\u001b[0;34m,\u001b[0m \u001b[0;34m**\u001b[0m\u001b[0mkwargs\u001b[0m\u001b[0;34m)\u001b[0m\u001b[0;34m\u001b[0m\u001b[0;34m\u001b[0m\u001b[0m\n\u001b[1;32m    726\u001b[0m         \u001b[0;32melse\u001b[0m\u001b[0;34m:\u001b[0m\u001b[0;34m\u001b[0m\u001b[0;34m\u001b[0m\u001b[0m\n\u001b[0;32m--> 727\u001b[0;31m             \u001b[0mresult\u001b[0m \u001b[0;34m=\u001b[0m \u001b[0mself\u001b[0m\u001b[0;34m.\u001b[0m\u001b[0mforward\u001b[0m\u001b[0;34m(\u001b[0m\u001b[0;34m*\u001b[0m\u001b[0minput\u001b[0m\u001b[0;34m,\u001b[0m \u001b[0;34m**\u001b[0m\u001b[0mkwargs\u001b[0m\u001b[0;34m)\u001b[0m\u001b[0;34m\u001b[0m\u001b[0;34m\u001b[0m\u001b[0m\n\u001b[0m\u001b[1;32m    728\u001b[0m         for hook in itertools.chain(\n\u001b[1;32m    729\u001b[0m                 \u001b[0m_global_forward_hooks\u001b[0m\u001b[0;34m.\u001b[0m\u001b[0mvalues\u001b[0m\u001b[0;34m(\u001b[0m\u001b[0;34m)\u001b[0m\u001b[0;34m,\u001b[0m\u001b[0;34m\u001b[0m\u001b[0;34m\u001b[0m\u001b[0m\n",
            "\u001b[0;32m/content/multilingual-bert-ner/multilingual_ner/XLM/model.py\u001b[0m in \u001b[0;36mforward\u001b[0;34m(self, tokens)\u001b[0m\n\u001b[1;32m     12\u001b[0m \u001b[0;34m\u001b[0m\u001b[0m\n\u001b[1;32m     13\u001b[0m     \u001b[0;32mdef\u001b[0m \u001b[0mforward\u001b[0m\u001b[0;34m(\u001b[0m\u001b[0mself\u001b[0m\u001b[0;34m,\u001b[0m \u001b[0mtokens\u001b[0m\u001b[0;34m)\u001b[0m\u001b[0;34m:\u001b[0m\u001b[0;34m\u001b[0m\u001b[0;34m\u001b[0m\u001b[0m\n\u001b[0;32m---> 14\u001b[0;31m         \u001b[0membeddings\u001b[0m \u001b[0;34m=\u001b[0m \u001b[0mself\u001b[0m\u001b[0;34m.\u001b[0m\u001b[0mRoBERTa\u001b[0m\u001b[0;34m(\u001b[0m\u001b[0mtokens\u001b[0m\u001b[0;34m)\u001b[0m\u001b[0;34m[\u001b[0m\u001b[0;36m0\u001b[0m\u001b[0;34m]\u001b[0m\u001b[0;34m\u001b[0m\u001b[0;34m\u001b[0m\u001b[0m\n\u001b[0m\u001b[1;32m     15\u001b[0m         \u001b[0mpredictions\u001b[0m \u001b[0;34m=\u001b[0m \u001b[0mself\u001b[0m\u001b[0;34m.\u001b[0m\u001b[0mlinear\u001b[0m\u001b[0;34m(\u001b[0m\u001b[0membeddings\u001b[0m\u001b[0;34m)\u001b[0m\u001b[0;34m\u001b[0m\u001b[0;34m\u001b[0m\u001b[0m\n\u001b[1;32m     16\u001b[0m \u001b[0;34m\u001b[0m\u001b[0m\n",
            "\u001b[0;32m/usr/local/lib/python3.6/dist-packages/torch/nn/modules/module.py\u001b[0m in \u001b[0;36m_call_impl\u001b[0;34m(self, *input, **kwargs)\u001b[0m\n\u001b[1;32m    725\u001b[0m             \u001b[0mresult\u001b[0m \u001b[0;34m=\u001b[0m \u001b[0mself\u001b[0m\u001b[0;34m.\u001b[0m\u001b[0m_slow_forward\u001b[0m\u001b[0;34m(\u001b[0m\u001b[0;34m*\u001b[0m\u001b[0minput\u001b[0m\u001b[0;34m,\u001b[0m \u001b[0;34m**\u001b[0m\u001b[0mkwargs\u001b[0m\u001b[0;34m)\u001b[0m\u001b[0;34m\u001b[0m\u001b[0;34m\u001b[0m\u001b[0m\n\u001b[1;32m    726\u001b[0m         \u001b[0;32melse\u001b[0m\u001b[0;34m:\u001b[0m\u001b[0;34m\u001b[0m\u001b[0;34m\u001b[0m\u001b[0m\n\u001b[0;32m--> 727\u001b[0;31m             \u001b[0mresult\u001b[0m \u001b[0;34m=\u001b[0m \u001b[0mself\u001b[0m\u001b[0;34m.\u001b[0m\u001b[0mforward\u001b[0m\u001b[0;34m(\u001b[0m\u001b[0;34m*\u001b[0m\u001b[0minput\u001b[0m\u001b[0;34m,\u001b[0m \u001b[0;34m**\u001b[0m\u001b[0mkwargs\u001b[0m\u001b[0;34m)\u001b[0m\u001b[0;34m\u001b[0m\u001b[0;34m\u001b[0m\u001b[0m\n\u001b[0m\u001b[1;32m    728\u001b[0m         for hook in itertools.chain(\n\u001b[1;32m    729\u001b[0m                 \u001b[0m_global_forward_hooks\u001b[0m\u001b[0;34m.\u001b[0m\u001b[0mvalues\u001b[0m\u001b[0;34m(\u001b[0m\u001b[0;34m)\u001b[0m\u001b[0;34m,\u001b[0m\u001b[0;34m\u001b[0m\u001b[0;34m\u001b[0m\u001b[0m\n",
            "\u001b[0;32m/usr/local/lib/python3.6/dist-packages/transformers/models/roberta/modeling_roberta.py\u001b[0m in \u001b[0;36mforward\u001b[0;34m(self, input_ids, attention_mask, token_type_ids, position_ids, head_mask, inputs_embeds, encoder_hidden_states, encoder_attention_mask, past_key_values, use_cache, output_attentions, output_hidden_states, return_dict)\u001b[0m\n\u001b[1;32m    815\u001b[0m             \u001b[0moutput_attentions\u001b[0m\u001b[0;34m=\u001b[0m\u001b[0moutput_attentions\u001b[0m\u001b[0;34m,\u001b[0m\u001b[0;34m\u001b[0m\u001b[0;34m\u001b[0m\u001b[0m\n\u001b[1;32m    816\u001b[0m             \u001b[0moutput_hidden_states\u001b[0m\u001b[0;34m=\u001b[0m\u001b[0moutput_hidden_states\u001b[0m\u001b[0;34m,\u001b[0m\u001b[0;34m\u001b[0m\u001b[0;34m\u001b[0m\u001b[0m\n\u001b[0;32m--> 817\u001b[0;31m             \u001b[0mreturn_dict\u001b[0m\u001b[0;34m=\u001b[0m\u001b[0mreturn_dict\u001b[0m\u001b[0;34m,\u001b[0m\u001b[0;34m\u001b[0m\u001b[0;34m\u001b[0m\u001b[0m\n\u001b[0m\u001b[1;32m    818\u001b[0m         )\n\u001b[1;32m    819\u001b[0m         \u001b[0msequence_output\u001b[0m \u001b[0;34m=\u001b[0m \u001b[0mencoder_outputs\u001b[0m\u001b[0;34m[\u001b[0m\u001b[0;36m0\u001b[0m\u001b[0;34m]\u001b[0m\u001b[0;34m\u001b[0m\u001b[0;34m\u001b[0m\u001b[0m\n",
            "\u001b[0;32m/usr/local/lib/python3.6/dist-packages/torch/nn/modules/module.py\u001b[0m in \u001b[0;36m_call_impl\u001b[0;34m(self, *input, **kwargs)\u001b[0m\n\u001b[1;32m    725\u001b[0m             \u001b[0mresult\u001b[0m \u001b[0;34m=\u001b[0m \u001b[0mself\u001b[0m\u001b[0;34m.\u001b[0m\u001b[0m_slow_forward\u001b[0m\u001b[0;34m(\u001b[0m\u001b[0;34m*\u001b[0m\u001b[0minput\u001b[0m\u001b[0;34m,\u001b[0m \u001b[0;34m**\u001b[0m\u001b[0mkwargs\u001b[0m\u001b[0;34m)\u001b[0m\u001b[0;34m\u001b[0m\u001b[0;34m\u001b[0m\u001b[0m\n\u001b[1;32m    726\u001b[0m         \u001b[0;32melse\u001b[0m\u001b[0;34m:\u001b[0m\u001b[0;34m\u001b[0m\u001b[0;34m\u001b[0m\u001b[0m\n\u001b[0;32m--> 727\u001b[0;31m             \u001b[0mresult\u001b[0m \u001b[0;34m=\u001b[0m \u001b[0mself\u001b[0m\u001b[0;34m.\u001b[0m\u001b[0mforward\u001b[0m\u001b[0;34m(\u001b[0m\u001b[0;34m*\u001b[0m\u001b[0minput\u001b[0m\u001b[0;34m,\u001b[0m \u001b[0;34m**\u001b[0m\u001b[0mkwargs\u001b[0m\u001b[0;34m)\u001b[0m\u001b[0;34m\u001b[0m\u001b[0;34m\u001b[0m\u001b[0m\n\u001b[0m\u001b[1;32m    728\u001b[0m         for hook in itertools.chain(\n\u001b[1;32m    729\u001b[0m                 \u001b[0m_global_forward_hooks\u001b[0m\u001b[0;34m.\u001b[0m\u001b[0mvalues\u001b[0m\u001b[0;34m(\u001b[0m\u001b[0;34m)\u001b[0m\u001b[0;34m,\u001b[0m\u001b[0;34m\u001b[0m\u001b[0;34m\u001b[0m\u001b[0m\n",
            "\u001b[0;32m/usr/local/lib/python3.6/dist-packages/transformers/models/roberta/modeling_roberta.py\u001b[0m in \u001b[0;36mforward\u001b[0;34m(self, hidden_states, attention_mask, head_mask, encoder_hidden_states, encoder_attention_mask, past_key_values, use_cache, output_attentions, output_hidden_states, return_dict)\u001b[0m\n\u001b[1;32m    512\u001b[0m                     \u001b[0mencoder_attention_mask\u001b[0m\u001b[0;34m,\u001b[0m\u001b[0;34m\u001b[0m\u001b[0;34m\u001b[0m\u001b[0m\n\u001b[1;32m    513\u001b[0m                     \u001b[0mpast_key_value\u001b[0m\u001b[0;34m,\u001b[0m\u001b[0;34m\u001b[0m\u001b[0;34m\u001b[0m\u001b[0m\n\u001b[0;32m--> 514\u001b[0;31m                     \u001b[0moutput_attentions\u001b[0m\u001b[0;34m,\u001b[0m\u001b[0;34m\u001b[0m\u001b[0;34m\u001b[0m\u001b[0m\n\u001b[0m\u001b[1;32m    515\u001b[0m                 )\n\u001b[1;32m    516\u001b[0m \u001b[0;34m\u001b[0m\u001b[0m\n",
            "\u001b[0;32m/usr/local/lib/python3.6/dist-packages/torch/nn/modules/module.py\u001b[0m in \u001b[0;36m_call_impl\u001b[0;34m(self, *input, **kwargs)\u001b[0m\n\u001b[1;32m    725\u001b[0m             \u001b[0mresult\u001b[0m \u001b[0;34m=\u001b[0m \u001b[0mself\u001b[0m\u001b[0;34m.\u001b[0m\u001b[0m_slow_forward\u001b[0m\u001b[0;34m(\u001b[0m\u001b[0;34m*\u001b[0m\u001b[0minput\u001b[0m\u001b[0;34m,\u001b[0m \u001b[0;34m**\u001b[0m\u001b[0mkwargs\u001b[0m\u001b[0;34m)\u001b[0m\u001b[0;34m\u001b[0m\u001b[0;34m\u001b[0m\u001b[0m\n\u001b[1;32m    726\u001b[0m         \u001b[0;32melse\u001b[0m\u001b[0;34m:\u001b[0m\u001b[0;34m\u001b[0m\u001b[0;34m\u001b[0m\u001b[0m\n\u001b[0;32m--> 727\u001b[0;31m             \u001b[0mresult\u001b[0m \u001b[0;34m=\u001b[0m \u001b[0mself\u001b[0m\u001b[0;34m.\u001b[0m\u001b[0mforward\u001b[0m\u001b[0;34m(\u001b[0m\u001b[0;34m*\u001b[0m\u001b[0minput\u001b[0m\u001b[0;34m,\u001b[0m \u001b[0;34m**\u001b[0m\u001b[0mkwargs\u001b[0m\u001b[0;34m)\u001b[0m\u001b[0;34m\u001b[0m\u001b[0;34m\u001b[0m\u001b[0m\n\u001b[0m\u001b[1;32m    728\u001b[0m         for hook in itertools.chain(\n\u001b[1;32m    729\u001b[0m                 \u001b[0m_global_forward_hooks\u001b[0m\u001b[0;34m.\u001b[0m\u001b[0mvalues\u001b[0m\u001b[0;34m(\u001b[0m\u001b[0;34m)\u001b[0m\u001b[0;34m,\u001b[0m\u001b[0;34m\u001b[0m\u001b[0;34m\u001b[0m\u001b[0m\n",
            "\u001b[0;32m/usr/local/lib/python3.6/dist-packages/transformers/models/roberta/modeling_roberta.py\u001b[0m in \u001b[0;36mforward\u001b[0;34m(self, hidden_states, attention_mask, head_mask, encoder_hidden_states, encoder_attention_mask, past_key_value, output_attentions)\u001b[0m\n\u001b[1;32m    397\u001b[0m             \u001b[0mhead_mask\u001b[0m\u001b[0;34m,\u001b[0m\u001b[0;34m\u001b[0m\u001b[0;34m\u001b[0m\u001b[0m\n\u001b[1;32m    398\u001b[0m             \u001b[0moutput_attentions\u001b[0m\u001b[0;34m=\u001b[0m\u001b[0moutput_attentions\u001b[0m\u001b[0;34m,\u001b[0m\u001b[0;34m\u001b[0m\u001b[0;34m\u001b[0m\u001b[0m\n\u001b[0;32m--> 399\u001b[0;31m             \u001b[0mpast_key_value\u001b[0m\u001b[0;34m=\u001b[0m\u001b[0mself_attn_past_key_value\u001b[0m\u001b[0;34m,\u001b[0m\u001b[0;34m\u001b[0m\u001b[0;34m\u001b[0m\u001b[0m\n\u001b[0m\u001b[1;32m    400\u001b[0m         )\n\u001b[1;32m    401\u001b[0m         \u001b[0mattention_output\u001b[0m \u001b[0;34m=\u001b[0m \u001b[0mself_attention_outputs\u001b[0m\u001b[0;34m[\u001b[0m\u001b[0;36m0\u001b[0m\u001b[0;34m]\u001b[0m\u001b[0;34m\u001b[0m\u001b[0;34m\u001b[0m\u001b[0m\n",
            "\u001b[0;32m/usr/local/lib/python3.6/dist-packages/torch/nn/modules/module.py\u001b[0m in \u001b[0;36m_call_impl\u001b[0;34m(self, *input, **kwargs)\u001b[0m\n\u001b[1;32m    725\u001b[0m             \u001b[0mresult\u001b[0m \u001b[0;34m=\u001b[0m \u001b[0mself\u001b[0m\u001b[0;34m.\u001b[0m\u001b[0m_slow_forward\u001b[0m\u001b[0;34m(\u001b[0m\u001b[0;34m*\u001b[0m\u001b[0minput\u001b[0m\u001b[0;34m,\u001b[0m \u001b[0;34m**\u001b[0m\u001b[0mkwargs\u001b[0m\u001b[0;34m)\u001b[0m\u001b[0;34m\u001b[0m\u001b[0;34m\u001b[0m\u001b[0m\n\u001b[1;32m    726\u001b[0m         \u001b[0;32melse\u001b[0m\u001b[0;34m:\u001b[0m\u001b[0;34m\u001b[0m\u001b[0;34m\u001b[0m\u001b[0m\n\u001b[0;32m--> 727\u001b[0;31m             \u001b[0mresult\u001b[0m \u001b[0;34m=\u001b[0m \u001b[0mself\u001b[0m\u001b[0;34m.\u001b[0m\u001b[0mforward\u001b[0m\u001b[0;34m(\u001b[0m\u001b[0;34m*\u001b[0m\u001b[0minput\u001b[0m\u001b[0;34m,\u001b[0m \u001b[0;34m**\u001b[0m\u001b[0mkwargs\u001b[0m\u001b[0;34m)\u001b[0m\u001b[0;34m\u001b[0m\u001b[0;34m\u001b[0m\u001b[0m\n\u001b[0m\u001b[1;32m    728\u001b[0m         for hook in itertools.chain(\n\u001b[1;32m    729\u001b[0m                 \u001b[0m_global_forward_hooks\u001b[0m\u001b[0;34m.\u001b[0m\u001b[0mvalues\u001b[0m\u001b[0;34m(\u001b[0m\u001b[0;34m)\u001b[0m\u001b[0;34m,\u001b[0m\u001b[0;34m\u001b[0m\u001b[0;34m\u001b[0m\u001b[0m\n",
            "\u001b[0;32m/usr/local/lib/python3.6/dist-packages/transformers/models/roberta/modeling_roberta.py\u001b[0m in \u001b[0;36mforward\u001b[0;34m(self, hidden_states, attention_mask, head_mask, encoder_hidden_states, encoder_attention_mask, past_key_value, output_attentions)\u001b[0m\n\u001b[1;32m    327\u001b[0m             \u001b[0mencoder_attention_mask\u001b[0m\u001b[0;34m,\u001b[0m\u001b[0;34m\u001b[0m\u001b[0;34m\u001b[0m\u001b[0m\n\u001b[1;32m    328\u001b[0m             \u001b[0mpast_key_value\u001b[0m\u001b[0;34m,\u001b[0m\u001b[0;34m\u001b[0m\u001b[0;34m\u001b[0m\u001b[0m\n\u001b[0;32m--> 329\u001b[0;31m             \u001b[0moutput_attentions\u001b[0m\u001b[0;34m,\u001b[0m\u001b[0;34m\u001b[0m\u001b[0;34m\u001b[0m\u001b[0m\n\u001b[0m\u001b[1;32m    330\u001b[0m         )\n\u001b[1;32m    331\u001b[0m         \u001b[0mattention_output\u001b[0m \u001b[0;34m=\u001b[0m \u001b[0mself\u001b[0m\u001b[0;34m.\u001b[0m\u001b[0moutput\u001b[0m\u001b[0;34m(\u001b[0m\u001b[0mself_outputs\u001b[0m\u001b[0;34m[\u001b[0m\u001b[0;36m0\u001b[0m\u001b[0;34m]\u001b[0m\u001b[0;34m,\u001b[0m \u001b[0mhidden_states\u001b[0m\u001b[0;34m)\u001b[0m\u001b[0;34m\u001b[0m\u001b[0;34m\u001b[0m\u001b[0m\n",
            "\u001b[0;32m/usr/local/lib/python3.6/dist-packages/torch/nn/modules/module.py\u001b[0m in \u001b[0;36m_call_impl\u001b[0;34m(self, *input, **kwargs)\u001b[0m\n\u001b[1;32m    725\u001b[0m             \u001b[0mresult\u001b[0m \u001b[0;34m=\u001b[0m \u001b[0mself\u001b[0m\u001b[0;34m.\u001b[0m\u001b[0m_slow_forward\u001b[0m\u001b[0;34m(\u001b[0m\u001b[0;34m*\u001b[0m\u001b[0minput\u001b[0m\u001b[0;34m,\u001b[0m \u001b[0;34m**\u001b[0m\u001b[0mkwargs\u001b[0m\u001b[0;34m)\u001b[0m\u001b[0;34m\u001b[0m\u001b[0;34m\u001b[0m\u001b[0m\n\u001b[1;32m    726\u001b[0m         \u001b[0;32melse\u001b[0m\u001b[0;34m:\u001b[0m\u001b[0;34m\u001b[0m\u001b[0;34m\u001b[0m\u001b[0m\n\u001b[0;32m--> 727\u001b[0;31m             \u001b[0mresult\u001b[0m \u001b[0;34m=\u001b[0m \u001b[0mself\u001b[0m\u001b[0;34m.\u001b[0m\u001b[0mforward\u001b[0m\u001b[0;34m(\u001b[0m\u001b[0;34m*\u001b[0m\u001b[0minput\u001b[0m\u001b[0;34m,\u001b[0m \u001b[0;34m**\u001b[0m\u001b[0mkwargs\u001b[0m\u001b[0;34m)\u001b[0m\u001b[0;34m\u001b[0m\u001b[0;34m\u001b[0m\u001b[0m\n\u001b[0m\u001b[1;32m    728\u001b[0m         for hook in itertools.chain(\n\u001b[1;32m    729\u001b[0m                 \u001b[0m_global_forward_hooks\u001b[0m\u001b[0;34m.\u001b[0m\u001b[0mvalues\u001b[0m\u001b[0;34m(\u001b[0m\u001b[0;34m)\u001b[0m\u001b[0;34m,\u001b[0m\u001b[0;34m\u001b[0m\u001b[0;34m\u001b[0m\u001b[0m\n",
            "\u001b[0;32m/usr/local/lib/python3.6/dist-packages/transformers/models/roberta/modeling_roberta.py\u001b[0m in \u001b[0;36mforward\u001b[0;34m(self, hidden_states, attention_mask, head_mask, encoder_hidden_states, encoder_attention_mask, past_key_value, output_attentions)\u001b[0m\n\u001b[1;32m    222\u001b[0m \u001b[0;34m\u001b[0m\u001b[0m\n\u001b[1;32m    223\u001b[0m         \u001b[0;31m# Take the dot product between \"query\" and \"key\" to get the raw attention scores.\u001b[0m\u001b[0;34m\u001b[0m\u001b[0;34m\u001b[0m\u001b[0;34m\u001b[0m\u001b[0m\n\u001b[0;32m--> 224\u001b[0;31m         \u001b[0mattention_scores\u001b[0m \u001b[0;34m=\u001b[0m \u001b[0mtorch\u001b[0m\u001b[0;34m.\u001b[0m\u001b[0mmatmul\u001b[0m\u001b[0;34m(\u001b[0m\u001b[0mquery_layer\u001b[0m\u001b[0;34m,\u001b[0m \u001b[0mkey_layer\u001b[0m\u001b[0;34m.\u001b[0m\u001b[0mtranspose\u001b[0m\u001b[0;34m(\u001b[0m\u001b[0;34m-\u001b[0m\u001b[0;36m1\u001b[0m\u001b[0;34m,\u001b[0m \u001b[0;34m-\u001b[0m\u001b[0;36m2\u001b[0m\u001b[0;34m)\u001b[0m\u001b[0;34m)\u001b[0m\u001b[0;34m\u001b[0m\u001b[0;34m\u001b[0m\u001b[0m\n\u001b[0m\u001b[1;32m    225\u001b[0m \u001b[0;34m\u001b[0m\u001b[0m\n\u001b[1;32m    226\u001b[0m         \u001b[0;32mif\u001b[0m \u001b[0mself\u001b[0m\u001b[0;34m.\u001b[0m\u001b[0mposition_embedding_type\u001b[0m \u001b[0;34m==\u001b[0m \u001b[0;34m\"relative_key\"\u001b[0m \u001b[0;32mor\u001b[0m \u001b[0mself\u001b[0m\u001b[0;34m.\u001b[0m\u001b[0mposition_embedding_type\u001b[0m \u001b[0;34m==\u001b[0m \u001b[0;34m\"relative_key_query\"\u001b[0m\u001b[0;34m:\u001b[0m\u001b[0;34m\u001b[0m\u001b[0;34m\u001b[0m\u001b[0m\n",
            "\u001b[0;31mRuntimeError\u001b[0m: CUDA error: device-side assert triggered"
          ]
        }
      ]
    },
    {
      "cell_type": "markdown",
      "metadata": {
        "id": "z1lI4r0vqsex"
      },
      "source": [
        "### Spanish"
      ]
    },
    {
      "cell_type": "code",
      "metadata": {
        "colab": {
          "base_uri": "https://localhost:8080/",
          "height": 67,
          "referenced_widgets": [
            "8247657b8ed640608c67da1a42425fca",
            "56427e8b80bf4b1399947f3113188dc7",
            "954fba14ea9c41c58bacbf816891b314",
            "7bd8b4cd0bda4cd5b645645b118ea2f6",
            "67f5b3a15f264a97899321c05909e653",
            "923788196cd9411b9e8f14f8b5704d93",
            "d40c91e807a54f8994678ecca1a1d3fe",
            "bcca8d41c0184de3ba7c60f174720075"
          ]
        },
        "id": "a2SQih2jYh3K",
        "outputId": "3325a8dd-befb-455a-b875-7fc59d3d6772"
      },
      "source": [
        "TOKENIZER = XLMRobertaTokenizer.from_pretrained('xlm-roberta-base', do_lower_case=False)\r\n",
        "DEVICE = 'cuda' if torch.cuda.is_available else 'cpu'\r\n",
        "EPOCHS = 4\r\n",
        "BATCH_SIZE = 16\r\n",
        "\r\n",
        "es_train_dataset, es_train_dataloader = create_dataset_and_dataloader('../lang_es/train', BATCH_SIZE, TOKENIZER)\r\n",
        "es_eval_dataset, es_eval_dataloader = create_dataset_and_dataloader('../lang_es/dev', BATCH_SIZE, TOKENIZER)\r\n",
        "es_test_dataset, es_test_dataloader = create_dataset_and_dataloader('../lang_es/test', BATCH_SIZE, TOKENIZER)"
      ],
      "execution_count": null,
      "outputs": [
        {
          "output_type": "display_data",
          "data": {
            "application/vnd.jupyter.widget-view+json": {
              "model_id": "8247657b8ed640608c67da1a42425fca",
              "version_minor": 0,
              "version_major": 2
            },
            "text/plain": [
              "HBox(children=(FloatProgress(value=0.0, description='Downloading', max=5069051.0, style=ProgressStyle(descript…"
            ]
          },
          "metadata": {
            "tags": []
          }
        },
        {
          "output_type": "stream",
          "text": [
            "\n"
          ],
          "name": "stdout"
        }
      ]
    },
    {
      "cell_type": "code",
      "metadata": {
        "colab": {
          "base_uri": "https://localhost:8080/",
          "height": 354,
          "referenced_widgets": [
            "279c35b53f24464e8491266ce88b3d1f",
            "d31bc413eec34e8f9e723d443f252792",
            "62a6b7e85fdc4f228c9aa5e6063bdcbe",
            "ebbedcb92b274cb69971787324df1926",
            "b518ae5970cc4ca78eca8c2db8c83b2f",
            "ab467400572a49968503330e5bfa584d",
            "27d74da6e7a0466882e82a404bc93e03",
            "3c208f9e207f4ed0bda19494c8a5f581",
            "d3e77e94b35d43678436b4168a6e1453",
            "ef17d521ea7b45ffb9c11174886b9ce7",
            "5d77e5af4a60449fb1c3940a1feef265",
            "fe4ae0b6ccbd4294988aff6669755636",
            "54a51d84d06847fd85b3daf8fcea0253",
            "c40997d424b146838d0ae606da8cfb32",
            "ed423a224c0742e0a8bb4313c1f756c0",
            "d2ba23d250334324986f2af77d925838"
          ]
        },
        "id": "FdkiqrafqwyK",
        "outputId": "41d3f697-917e-424f-edf8-9c98ad3d6f0d"
      },
      "source": [
        "classes = len(es_train_dataset.idx2tag)\r\n",
        "\r\n",
        "device = 'cuda' if torch.cuda.is_available() else 'cpu'\r\n",
        "\r\n",
        "SpanishXLModel = XLMRoBERTaNER(classes).to(device)\r\n",
        "\r\n",
        "optimizer = optim.AdamW(SpanishXLModel.parameters(), lr=2e-5)\r\n",
        "criterion = nn.CrossEntropyLoss(ignore_index=0).to(device)\r\n",
        "\r\n",
        "EPOCHS = 4\r\n",
        "\r\n",
        "train_model(SpanishXLModel, criterion, optimizer, es_train_dataloader, es_eval_dataloader, es_train_dataset.tag2idx, es_train_dataset.idx2tag, device, None, EPOCHS)\r\n",
        "test_epoch(SpanishXLModel, criterion, es_test_dataloader, es_train_dataset.tag2idx, es_train_dataset.idx2tag, device)"
      ],
      "execution_count": null,
      "outputs": [
        {
          "output_type": "display_data",
          "data": {
            "application/vnd.jupyter.widget-view+json": {
              "model_id": "279c35b53f24464e8491266ce88b3d1f",
              "version_minor": 0,
              "version_major": 2
            },
            "text/plain": [
              "HBox(children=(FloatProgress(value=0.0, description='Downloading', max=512.0, style=ProgressStyle(description_…"
            ]
          },
          "metadata": {
            "tags": []
          }
        },
        {
          "output_type": "stream",
          "text": [
            "\n"
          ],
          "name": "stdout"
        },
        {
          "output_type": "display_data",
          "data": {
            "application/vnd.jupyter.widget-view+json": {
              "model_id": "d3e77e94b35d43678436b4168a6e1453",
              "version_minor": 0,
              "version_major": 2
            },
            "text/plain": [
              "HBox(children=(FloatProgress(value=0.0, description='Downloading', max=1115590446.0, style=ProgressStyle(descr…"
            ]
          },
          "metadata": {
            "tags": []
          }
        },
        {
          "output_type": "stream",
          "text": [
            "\n",
            "Epoch 1 / 4\n",
            "Train Loss = 0.51428, F1-score = 80.461%, Precision = 79.335%, Recall = 81.618%\n",
            "Valid Loss = 0.25660, F1-score = 91.606%, Precision = 87.072%, Recall = 96.638%\n",
            "Epoch 2 / 4\n",
            "Train Loss = 0.25503, F1-score = 90.896%, Precision = 88.175%, Recall = 93.791%\n",
            "Valid Loss = 0.19271, F1-score = 93.750%, Precision = 89.414%, Recall = 98.529%\n",
            "Epoch 3 / 4\n",
            "Train Loss = 0.18582, F1-score = 93.708%, Precision = 90.830%, Recall = 96.773%\n",
            "Valid Loss = 0.25194, F1-score = 93.164%, Precision = 89.623%, Recall = 96.997%\n",
            "Epoch 4 / 4\n",
            "Train Loss = 0.14077, F1-score = 95.545%, Precision = 92.895%, Recall = 98.350%\n",
            "Valid Loss = 0.21263, F1-score = 93.972%, Precision = 89.603%, Recall = 98.789%\n",
            "Test  Loss = 0.20161, F1-score = 94.530%, Precision = 90.666%, Recall = 98.738%\n"
          ],
          "name": "stdout"
        }
      ]
    },
    {
      "cell_type": "markdown",
      "metadata": {
        "id": "bDgR6lX8xr9U"
      },
      "source": [
        "## Testing on WikiMatrix"
      ]
    },
    {
      "cell_type": "markdown",
      "metadata": {
        "id": "Wty2ODxvxwGa"
      },
      "source": [
        "### Collect russian sentences"
      ]
    },
    {
      "cell_type": "code",
      "metadata": {
        "id": "Zamj42GExveI"
      },
      "source": [
        "ru_sentences = []\r\n",
        "\r\n",
        "with open(\"/content/en-ru.tsv\") as tsv_file:\r\n",
        "    for line in tsv_file:\r\n",
        "        items = line.split(sep='\\t')\r\n",
        "        ru_sentence = items[2].replace('\\n', '')\r\n",
        "        ru_sentence = ru_sentence.replace('\\xa0', '')\r\n",
        "        ru_sentence = ru_sentence.replace('(англ.)', '')\r\n",
        "\r\n",
        "        if (195 <= len(items[2]) <= 200):\r\n",
        "            ru_sentences.append(ru_sentence)"
      ],
      "execution_count": null,
      "outputs": []
    },
    {
      "cell_type": "code",
      "metadata": {
        "id": "F1_Lt2VVyW_z"
      },
      "source": [
        "def markup_sentences(model, idx2tag, sentences):\r\n",
        "    markup = []\r\n",
        "    \r\n",
        "    for sentence in sentences:\r\n",
        "        words = TOKENIZER.tokenize(sentence)\r\n",
        "        tokens = torch.LongTensor(TOKENIZER.convert_tokens_to_ids(words))\r\n",
        "        preds = model(tokens.unsqueeze(0).to(DEVICE))\r\n",
        "        preds = preds.view(-1, preds.shape[-1])\r\n",
        "        preds = preds.argmax(1)\r\n",
        "        preds = preds.cpu().numpy()\r\n",
        "        preds = [idx2tag[tag] for tag in preds]\r\n",
        "        markup.append(preds)\r\n",
        "    \r\n",
        "    return markup"
      ],
      "execution_count": null,
      "outputs": []
    },
    {
      "cell_type": "markdown",
      "metadata": {
        "id": "dpu6Q5hVx1E4"
      },
      "source": [
        "### Markup with russian model"
      ]
    },
    {
      "cell_type": "code",
      "metadata": {
        "id": "lKMnpMVVx3GU"
      },
      "source": [
        "russian_markup_RuBERT = markup_sentences(RussianBertModel, ru_train_dataset.idx2tag, ru_sentences) "
      ],
      "execution_count": null,
      "outputs": []
    },
    {
      "cell_type": "markdown",
      "metadata": {
        "id": "0grJE9ujx3kI"
      },
      "source": [
        "### Testing with Czech Model"
      ]
    },
    {
      "cell_type": "code",
      "metadata": {
        "id": "6rcwMCE1x_ij"
      },
      "source": [
        "russian_markup_CsBERT = markup_sentences(CzechBertModel, cs_train_dataset.idx2tag, ru_sentences) "
      ],
      "execution_count": null,
      "outputs": []
    },
    {
      "cell_type": "code",
      "metadata": {
        "colab": {
          "base_uri": "https://localhost:8080/"
        },
        "id": "O3zWZ3w_fJVK",
        "outputId": "be790307-98e7-4a0d-b159-48b586b6220f"
      },
      "source": [
        "f1_score(russian_markup_RuBERT, russian_markup_CsBERT)"
      ],
      "execution_count": null,
      "outputs": [
        {
          "output_type": "execute_result",
          "data": {
            "text/plain": [
              "0.6781965220149057"
            ]
          },
          "metadata": {
            "tags": []
          },
          "execution_count": 26
        }
      ]
    },
    {
      "cell_type": "code",
      "metadata": {
        "id": "SEVr2S9M95bi"
      },
      "source": [
        "from seqeval.metrics import f1_score"
      ],
      "execution_count": null,
      "outputs": []
    },
    {
      "cell_type": "code",
      "metadata": {
        "colab": {
          "base_uri": "https://localhost:8080/"
        },
        "id": "iGh7xapy-RuL",
        "outputId": "cf0e822f-1c3c-444a-fff5-78f6fc99d520"
      },
      "source": [
        "f1_score(russian_markup_RuBERT, russian_markup_CsBERT)"
      ],
      "execution_count": null,
      "outputs": [
        {
          "output_type": "execute_result",
          "data": {
            "text/plain": [
              "0.6811109600448667"
            ]
          },
          "metadata": {
            "tags": []
          },
          "execution_count": 23
        }
      ]
    },
    {
      "cell_type": "markdown",
      "metadata": {
        "id": "dqGesGvxx7kI"
      },
      "source": [
        "### Testing with Chinese Model"
      ]
    },
    {
      "cell_type": "code",
      "metadata": {
        "id": "y8Nn1r40x7AE"
      },
      "source": [
        "russian_markup_ZhBERT = markup_sentences(ChineseBertModel, zh_train_dataset.idx2tag, ru_sentences) "
      ],
      "execution_count": null,
      "outputs": []
    },
    {
      "cell_type": "code",
      "metadata": {
        "id": "qtW8GTvE__Df",
        "colab": {
          "base_uri": "https://localhost:8080/"
        },
        "outputId": "a2067d4f-ed4e-4283-93ef-2361b264397a"
      },
      "source": [
        "from seqeval.metrics import f1_score\r\n",
        "f1_score(russian_markup_RuBERT, russian_markup_ZhBERT)"
      ],
      "execution_count": null,
      "outputs": [
        {
          "output_type": "execute_result",
          "data": {
            "text/plain": [
              "0.04950144046420843"
            ]
          },
          "metadata": {
            "tags": []
          },
          "execution_count": 22
        }
      ]
    },
    {
      "cell_type": "code",
      "metadata": {
        "id": "vQj8w6oUbcU9"
      },
      "source": [
        ""
      ],
      "execution_count": null,
      "outputs": []
    }
  ]
}