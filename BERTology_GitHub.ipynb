{
  "nbformat": 4,
  "nbformat_minor": 0,
  "metadata": {
    "colab": {
      "name": "BERTology GitHub.ipynb",
      "provenance": [],
      "collapsed_sections": [],
      "toc_visible": true
    },
    "kernelspec": {
      "name": "python3",
      "display_name": "Python 3"
    },
    "accelerator": "GPU",
    "widgets": {
      "application/vnd.jupyter.widget-state+json": {
        "02ec2bb2120d4c6b8ca60a916d6ddd4f": {
          "model_module": "@jupyter-widgets/controls",
          "model_name": "HBoxModel",
          "state": {
            "_view_name": "HBoxView",
            "_dom_classes": [],
            "_model_name": "HBoxModel",
            "_view_module": "@jupyter-widgets/controls",
            "_model_module_version": "1.5.0",
            "_view_count": null,
            "_view_module_version": "1.5.0",
            "box_style": "",
            "layout": "IPY_MODEL_1ad405d99b9d4aedb08858d6da16a0bf",
            "_model_module": "@jupyter-widgets/controls",
            "children": [
              "IPY_MODEL_d7c6e2203476408ca62496be8766cfc0",
              "IPY_MODEL_81de13d789f74f1fab70c31caa695c70"
            ]
          }
        },
        "1ad405d99b9d4aedb08858d6da16a0bf": {
          "model_module": "@jupyter-widgets/base",
          "model_name": "LayoutModel",
          "state": {
            "_view_name": "LayoutView",
            "grid_template_rows": null,
            "right": null,
            "justify_content": null,
            "_view_module": "@jupyter-widgets/base",
            "overflow": null,
            "_model_module_version": "1.2.0",
            "_view_count": null,
            "flex_flow": null,
            "width": null,
            "min_width": null,
            "border": null,
            "align_items": null,
            "bottom": null,
            "_model_module": "@jupyter-widgets/base",
            "top": null,
            "grid_column": null,
            "overflow_y": null,
            "overflow_x": null,
            "grid_auto_flow": null,
            "grid_area": null,
            "grid_template_columns": null,
            "flex": null,
            "_model_name": "LayoutModel",
            "justify_items": null,
            "grid_row": null,
            "max_height": null,
            "align_content": null,
            "visibility": null,
            "align_self": null,
            "height": null,
            "min_height": null,
            "padding": null,
            "grid_auto_rows": null,
            "grid_gap": null,
            "max_width": null,
            "order": null,
            "_view_module_version": "1.2.0",
            "grid_template_areas": null,
            "object_position": null,
            "object_fit": null,
            "grid_auto_columns": null,
            "margin": null,
            "display": null,
            "left": null
          }
        },
        "d7c6e2203476408ca62496be8766cfc0": {
          "model_module": "@jupyter-widgets/controls",
          "model_name": "FloatProgressModel",
          "state": {
            "_view_name": "ProgressView",
            "style": "IPY_MODEL_1252858ffca8499e93c8f7a95b68c177",
            "_dom_classes": [],
            "description": "Downloading: 100%",
            "_model_name": "FloatProgressModel",
            "bar_style": "success",
            "max": 995526,
            "_view_module": "@jupyter-widgets/controls",
            "_model_module_version": "1.5.0",
            "value": 995526,
            "_view_count": null,
            "_view_module_version": "1.5.0",
            "orientation": "horizontal",
            "min": 0,
            "description_tooltip": null,
            "_model_module": "@jupyter-widgets/controls",
            "layout": "IPY_MODEL_8ae7d0533d5a4d0b95afbebbe9dbe5cf"
          }
        },
        "81de13d789f74f1fab70c31caa695c70": {
          "model_module": "@jupyter-widgets/controls",
          "model_name": "HTMLModel",
          "state": {
            "_view_name": "HTMLView",
            "style": "IPY_MODEL_80f730c20ad94d08afdd70b78e49928a",
            "_dom_classes": [],
            "description": "",
            "_model_name": "HTMLModel",
            "placeholder": "​",
            "_view_module": "@jupyter-widgets/controls",
            "_model_module_version": "1.5.0",
            "value": " 996k/996k [00:00&lt;00:00, 1.68MB/s]",
            "_view_count": null,
            "_view_module_version": "1.5.0",
            "description_tooltip": null,
            "_model_module": "@jupyter-widgets/controls",
            "layout": "IPY_MODEL_634847949041423eb565a29fa864d1bd"
          }
        },
        "1252858ffca8499e93c8f7a95b68c177": {
          "model_module": "@jupyter-widgets/controls",
          "model_name": "ProgressStyleModel",
          "state": {
            "_view_name": "StyleView",
            "_model_name": "ProgressStyleModel",
            "description_width": "initial",
            "_view_module": "@jupyter-widgets/base",
            "_model_module_version": "1.5.0",
            "_view_count": null,
            "_view_module_version": "1.2.0",
            "bar_color": null,
            "_model_module": "@jupyter-widgets/controls"
          }
        },
        "8ae7d0533d5a4d0b95afbebbe9dbe5cf": {
          "model_module": "@jupyter-widgets/base",
          "model_name": "LayoutModel",
          "state": {
            "_view_name": "LayoutView",
            "grid_template_rows": null,
            "right": null,
            "justify_content": null,
            "_view_module": "@jupyter-widgets/base",
            "overflow": null,
            "_model_module_version": "1.2.0",
            "_view_count": null,
            "flex_flow": null,
            "width": null,
            "min_width": null,
            "border": null,
            "align_items": null,
            "bottom": null,
            "_model_module": "@jupyter-widgets/base",
            "top": null,
            "grid_column": null,
            "overflow_y": null,
            "overflow_x": null,
            "grid_auto_flow": null,
            "grid_area": null,
            "grid_template_columns": null,
            "flex": null,
            "_model_name": "LayoutModel",
            "justify_items": null,
            "grid_row": null,
            "max_height": null,
            "align_content": null,
            "visibility": null,
            "align_self": null,
            "height": null,
            "min_height": null,
            "padding": null,
            "grid_auto_rows": null,
            "grid_gap": null,
            "max_width": null,
            "order": null,
            "_view_module_version": "1.2.0",
            "grid_template_areas": null,
            "object_position": null,
            "object_fit": null,
            "grid_auto_columns": null,
            "margin": null,
            "display": null,
            "left": null
          }
        },
        "80f730c20ad94d08afdd70b78e49928a": {
          "model_module": "@jupyter-widgets/controls",
          "model_name": "DescriptionStyleModel",
          "state": {
            "_view_name": "StyleView",
            "_model_name": "DescriptionStyleModel",
            "description_width": "",
            "_view_module": "@jupyter-widgets/base",
            "_model_module_version": "1.5.0",
            "_view_count": null,
            "_view_module_version": "1.2.0",
            "_model_module": "@jupyter-widgets/controls"
          }
        },
        "634847949041423eb565a29fa864d1bd": {
          "model_module": "@jupyter-widgets/base",
          "model_name": "LayoutModel",
          "state": {
            "_view_name": "LayoutView",
            "grid_template_rows": null,
            "right": null,
            "justify_content": null,
            "_view_module": "@jupyter-widgets/base",
            "overflow": null,
            "_model_module_version": "1.2.0",
            "_view_count": null,
            "flex_flow": null,
            "width": null,
            "min_width": null,
            "border": null,
            "align_items": null,
            "bottom": null,
            "_model_module": "@jupyter-widgets/base",
            "top": null,
            "grid_column": null,
            "overflow_y": null,
            "overflow_x": null,
            "grid_auto_flow": null,
            "grid_area": null,
            "grid_template_columns": null,
            "flex": null,
            "_model_name": "LayoutModel",
            "justify_items": null,
            "grid_row": null,
            "max_height": null,
            "align_content": null,
            "visibility": null,
            "align_self": null,
            "height": null,
            "min_height": null,
            "padding": null,
            "grid_auto_rows": null,
            "grid_gap": null,
            "max_width": null,
            "order": null,
            "_view_module_version": "1.2.0",
            "grid_template_areas": null,
            "object_position": null,
            "object_fit": null,
            "grid_auto_columns": null,
            "margin": null,
            "display": null,
            "left": null
          }
        },
        "eee88493472c4124bc47076399acb589": {
          "model_module": "@jupyter-widgets/controls",
          "model_name": "HBoxModel",
          "state": {
            "_view_name": "HBoxView",
            "_dom_classes": [],
            "_model_name": "HBoxModel",
            "_view_module": "@jupyter-widgets/controls",
            "_model_module_version": "1.5.0",
            "_view_count": null,
            "_view_module_version": "1.5.0",
            "box_style": "",
            "layout": "IPY_MODEL_6ed356b447124bdbae173c061e3f10f2",
            "_model_module": "@jupyter-widgets/controls",
            "children": [
              "IPY_MODEL_b86515755e504c0dba00b88167e02db6",
              "IPY_MODEL_3c7be42dc3bf40eca8fbc7bf27221ec0"
            ]
          }
        },
        "6ed356b447124bdbae173c061e3f10f2": {
          "model_module": "@jupyter-widgets/base",
          "model_name": "LayoutModel",
          "state": {
            "_view_name": "LayoutView",
            "grid_template_rows": null,
            "right": null,
            "justify_content": null,
            "_view_module": "@jupyter-widgets/base",
            "overflow": null,
            "_model_module_version": "1.2.0",
            "_view_count": null,
            "flex_flow": null,
            "width": null,
            "min_width": null,
            "border": null,
            "align_items": null,
            "bottom": null,
            "_model_module": "@jupyter-widgets/base",
            "top": null,
            "grid_column": null,
            "overflow_y": null,
            "overflow_x": null,
            "grid_auto_flow": null,
            "grid_area": null,
            "grid_template_columns": null,
            "flex": null,
            "_model_name": "LayoutModel",
            "justify_items": null,
            "grid_row": null,
            "max_height": null,
            "align_content": null,
            "visibility": null,
            "align_self": null,
            "height": null,
            "min_height": null,
            "padding": null,
            "grid_auto_rows": null,
            "grid_gap": null,
            "max_width": null,
            "order": null,
            "_view_module_version": "1.2.0",
            "grid_template_areas": null,
            "object_position": null,
            "object_fit": null,
            "grid_auto_columns": null,
            "margin": null,
            "display": null,
            "left": null
          }
        },
        "b86515755e504c0dba00b88167e02db6": {
          "model_module": "@jupyter-widgets/controls",
          "model_name": "FloatProgressModel",
          "state": {
            "_view_name": "ProgressView",
            "style": "IPY_MODEL_9747e8b5bd96485496198a00ea4c909f",
            "_dom_classes": [],
            "description": "Downloading: 100%",
            "_model_name": "FloatProgressModel",
            "bar_style": "success",
            "max": 625,
            "_view_module": "@jupyter-widgets/controls",
            "_model_module_version": "1.5.0",
            "value": 625,
            "_view_count": null,
            "_view_module_version": "1.5.0",
            "orientation": "horizontal",
            "min": 0,
            "description_tooltip": null,
            "_model_module": "@jupyter-widgets/controls",
            "layout": "IPY_MODEL_5627f0dcc1464466a02d6e72feb56c2a"
          }
        },
        "3c7be42dc3bf40eca8fbc7bf27221ec0": {
          "model_module": "@jupyter-widgets/controls",
          "model_name": "HTMLModel",
          "state": {
            "_view_name": "HTMLView",
            "style": "IPY_MODEL_476c994df7c1424dbc2170add20128a3",
            "_dom_classes": [],
            "description": "",
            "_model_name": "HTMLModel",
            "placeholder": "​",
            "_view_module": "@jupyter-widgets/controls",
            "_model_module_version": "1.5.0",
            "value": " 625/625 [00:01&lt;00:00, 360B/s]",
            "_view_count": null,
            "_view_module_version": "1.5.0",
            "description_tooltip": null,
            "_model_module": "@jupyter-widgets/controls",
            "layout": "IPY_MODEL_46c3bbba3cca4db993a0d18f7d496138"
          }
        },
        "9747e8b5bd96485496198a00ea4c909f": {
          "model_module": "@jupyter-widgets/controls",
          "model_name": "ProgressStyleModel",
          "state": {
            "_view_name": "StyleView",
            "_model_name": "ProgressStyleModel",
            "description_width": "initial",
            "_view_module": "@jupyter-widgets/base",
            "_model_module_version": "1.5.0",
            "_view_count": null,
            "_view_module_version": "1.2.0",
            "bar_color": null,
            "_model_module": "@jupyter-widgets/controls"
          }
        },
        "5627f0dcc1464466a02d6e72feb56c2a": {
          "model_module": "@jupyter-widgets/base",
          "model_name": "LayoutModel",
          "state": {
            "_view_name": "LayoutView",
            "grid_template_rows": null,
            "right": null,
            "justify_content": null,
            "_view_module": "@jupyter-widgets/base",
            "overflow": null,
            "_model_module_version": "1.2.0",
            "_view_count": null,
            "flex_flow": null,
            "width": null,
            "min_width": null,
            "border": null,
            "align_items": null,
            "bottom": null,
            "_model_module": "@jupyter-widgets/base",
            "top": null,
            "grid_column": null,
            "overflow_y": null,
            "overflow_x": null,
            "grid_auto_flow": null,
            "grid_area": null,
            "grid_template_columns": null,
            "flex": null,
            "_model_name": "LayoutModel",
            "justify_items": null,
            "grid_row": null,
            "max_height": null,
            "align_content": null,
            "visibility": null,
            "align_self": null,
            "height": null,
            "min_height": null,
            "padding": null,
            "grid_auto_rows": null,
            "grid_gap": null,
            "max_width": null,
            "order": null,
            "_view_module_version": "1.2.0",
            "grid_template_areas": null,
            "object_position": null,
            "object_fit": null,
            "grid_auto_columns": null,
            "margin": null,
            "display": null,
            "left": null
          }
        },
        "476c994df7c1424dbc2170add20128a3": {
          "model_module": "@jupyter-widgets/controls",
          "model_name": "DescriptionStyleModel",
          "state": {
            "_view_name": "StyleView",
            "_model_name": "DescriptionStyleModel",
            "description_width": "",
            "_view_module": "@jupyter-widgets/base",
            "_model_module_version": "1.5.0",
            "_view_count": null,
            "_view_module_version": "1.2.0",
            "_model_module": "@jupyter-widgets/controls"
          }
        },
        "46c3bbba3cca4db993a0d18f7d496138": {
          "model_module": "@jupyter-widgets/base",
          "model_name": "LayoutModel",
          "state": {
            "_view_name": "LayoutView",
            "grid_template_rows": null,
            "right": null,
            "justify_content": null,
            "_view_module": "@jupyter-widgets/base",
            "overflow": null,
            "_model_module_version": "1.2.0",
            "_view_count": null,
            "flex_flow": null,
            "width": null,
            "min_width": null,
            "border": null,
            "align_items": null,
            "bottom": null,
            "_model_module": "@jupyter-widgets/base",
            "top": null,
            "grid_column": null,
            "overflow_y": null,
            "overflow_x": null,
            "grid_auto_flow": null,
            "grid_area": null,
            "grid_template_columns": null,
            "flex": null,
            "_model_name": "LayoutModel",
            "justify_items": null,
            "grid_row": null,
            "max_height": null,
            "align_content": null,
            "visibility": null,
            "align_self": null,
            "height": null,
            "min_height": null,
            "padding": null,
            "grid_auto_rows": null,
            "grid_gap": null,
            "max_width": null,
            "order": null,
            "_view_module_version": "1.2.0",
            "grid_template_areas": null,
            "object_position": null,
            "object_fit": null,
            "grid_auto_columns": null,
            "margin": null,
            "display": null,
            "left": null
          }
        },
        "0984dd4b9f1b4bd6a7fc81bc936305bb": {
          "model_module": "@jupyter-widgets/controls",
          "model_name": "HBoxModel",
          "state": {
            "_view_name": "HBoxView",
            "_dom_classes": [],
            "_model_name": "HBoxModel",
            "_view_module": "@jupyter-widgets/controls",
            "_model_module_version": "1.5.0",
            "_view_count": null,
            "_view_module_version": "1.5.0",
            "box_style": "",
            "layout": "IPY_MODEL_3bd28144464b42c7b4e380d6a65ef617",
            "_model_module": "@jupyter-widgets/controls",
            "children": [
              "IPY_MODEL_382fdf4188b2466eb322399eceedf7f8",
              "IPY_MODEL_7ef7f8b315904026ae8d1895a792880e"
            ]
          }
        },
        "3bd28144464b42c7b4e380d6a65ef617": {
          "model_module": "@jupyter-widgets/base",
          "model_name": "LayoutModel",
          "state": {
            "_view_name": "LayoutView",
            "grid_template_rows": null,
            "right": null,
            "justify_content": null,
            "_view_module": "@jupyter-widgets/base",
            "overflow": null,
            "_model_module_version": "1.2.0",
            "_view_count": null,
            "flex_flow": null,
            "width": null,
            "min_width": null,
            "border": null,
            "align_items": null,
            "bottom": null,
            "_model_module": "@jupyter-widgets/base",
            "top": null,
            "grid_column": null,
            "overflow_y": null,
            "overflow_x": null,
            "grid_auto_flow": null,
            "grid_area": null,
            "grid_template_columns": null,
            "flex": null,
            "_model_name": "LayoutModel",
            "justify_items": null,
            "grid_row": null,
            "max_height": null,
            "align_content": null,
            "visibility": null,
            "align_self": null,
            "height": null,
            "min_height": null,
            "padding": null,
            "grid_auto_rows": null,
            "grid_gap": null,
            "max_width": null,
            "order": null,
            "_view_module_version": "1.2.0",
            "grid_template_areas": null,
            "object_position": null,
            "object_fit": null,
            "grid_auto_columns": null,
            "margin": null,
            "display": null,
            "left": null
          }
        },
        "382fdf4188b2466eb322399eceedf7f8": {
          "model_module": "@jupyter-widgets/controls",
          "model_name": "FloatProgressModel",
          "state": {
            "_view_name": "ProgressView",
            "style": "IPY_MODEL_84693c5c5ed64208b0ab439602108d0d",
            "_dom_classes": [],
            "description": "Downloading: 100%",
            "_model_name": "FloatProgressModel",
            "bar_style": "success",
            "max": 714314041,
            "_view_module": "@jupyter-widgets/controls",
            "_model_module_version": "1.5.0",
            "value": 714314041,
            "_view_count": null,
            "_view_module_version": "1.5.0",
            "orientation": "horizontal",
            "min": 0,
            "description_tooltip": null,
            "_model_module": "@jupyter-widgets/controls",
            "layout": "IPY_MODEL_d597310d7a33441d83d066f6a61fe044"
          }
        },
        "7ef7f8b315904026ae8d1895a792880e": {
          "model_module": "@jupyter-widgets/controls",
          "model_name": "HTMLModel",
          "state": {
            "_view_name": "HTMLView",
            "style": "IPY_MODEL_a6883954ca754706b959ffa48157c3fd",
            "_dom_classes": [],
            "description": "",
            "_model_name": "HTMLModel",
            "placeholder": "​",
            "_view_module": "@jupyter-widgets/controls",
            "_model_module_version": "1.5.0",
            "value": " 714M/714M [00:47&lt;00:00, 15.1MB/s]",
            "_view_count": null,
            "_view_module_version": "1.5.0",
            "description_tooltip": null,
            "_model_module": "@jupyter-widgets/controls",
            "layout": "IPY_MODEL_45cb81b7fece4bd4aeb51e1262d8810e"
          }
        },
        "84693c5c5ed64208b0ab439602108d0d": {
          "model_module": "@jupyter-widgets/controls",
          "model_name": "ProgressStyleModel",
          "state": {
            "_view_name": "StyleView",
            "_model_name": "ProgressStyleModel",
            "description_width": "initial",
            "_view_module": "@jupyter-widgets/base",
            "_model_module_version": "1.5.0",
            "_view_count": null,
            "_view_module_version": "1.2.0",
            "bar_color": null,
            "_model_module": "@jupyter-widgets/controls"
          }
        },
        "d597310d7a33441d83d066f6a61fe044": {
          "model_module": "@jupyter-widgets/base",
          "model_name": "LayoutModel",
          "state": {
            "_view_name": "LayoutView",
            "grid_template_rows": null,
            "right": null,
            "justify_content": null,
            "_view_module": "@jupyter-widgets/base",
            "overflow": null,
            "_model_module_version": "1.2.0",
            "_view_count": null,
            "flex_flow": null,
            "width": null,
            "min_width": null,
            "border": null,
            "align_items": null,
            "bottom": null,
            "_model_module": "@jupyter-widgets/base",
            "top": null,
            "grid_column": null,
            "overflow_y": null,
            "overflow_x": null,
            "grid_auto_flow": null,
            "grid_area": null,
            "grid_template_columns": null,
            "flex": null,
            "_model_name": "LayoutModel",
            "justify_items": null,
            "grid_row": null,
            "max_height": null,
            "align_content": null,
            "visibility": null,
            "align_self": null,
            "height": null,
            "min_height": null,
            "padding": null,
            "grid_auto_rows": null,
            "grid_gap": null,
            "max_width": null,
            "order": null,
            "_view_module_version": "1.2.0",
            "grid_template_areas": null,
            "object_position": null,
            "object_fit": null,
            "grid_auto_columns": null,
            "margin": null,
            "display": null,
            "left": null
          }
        },
        "a6883954ca754706b959ffa48157c3fd": {
          "model_module": "@jupyter-widgets/controls",
          "model_name": "DescriptionStyleModel",
          "state": {
            "_view_name": "StyleView",
            "_model_name": "DescriptionStyleModel",
            "description_width": "",
            "_view_module": "@jupyter-widgets/base",
            "_model_module_version": "1.5.0",
            "_view_count": null,
            "_view_module_version": "1.2.0",
            "_model_module": "@jupyter-widgets/controls"
          }
        },
        "45cb81b7fece4bd4aeb51e1262d8810e": {
          "model_module": "@jupyter-widgets/base",
          "model_name": "LayoutModel",
          "state": {
            "_view_name": "LayoutView",
            "grid_template_rows": null,
            "right": null,
            "justify_content": null,
            "_view_module": "@jupyter-widgets/base",
            "overflow": null,
            "_model_module_version": "1.2.0",
            "_view_count": null,
            "flex_flow": null,
            "width": null,
            "min_width": null,
            "border": null,
            "align_items": null,
            "bottom": null,
            "_model_module": "@jupyter-widgets/base",
            "top": null,
            "grid_column": null,
            "overflow_y": null,
            "overflow_x": null,
            "grid_auto_flow": null,
            "grid_area": null,
            "grid_template_columns": null,
            "flex": null,
            "_model_name": "LayoutModel",
            "justify_items": null,
            "grid_row": null,
            "max_height": null,
            "align_content": null,
            "visibility": null,
            "align_self": null,
            "height": null,
            "min_height": null,
            "padding": null,
            "grid_auto_rows": null,
            "grid_gap": null,
            "max_width": null,
            "order": null,
            "_view_module_version": "1.2.0",
            "grid_template_areas": null,
            "object_position": null,
            "object_fit": null,
            "grid_auto_columns": null,
            "margin": null,
            "display": null,
            "left": null
          }
        },
        "eca3aa8fe135437a92b874acdedbf96e": {
          "model_module": "@jupyter-widgets/controls",
          "model_name": "HBoxModel",
          "state": {
            "_view_name": "HBoxView",
            "_dom_classes": [],
            "_model_name": "HBoxModel",
            "_view_module": "@jupyter-widgets/controls",
            "_model_module_version": "1.5.0",
            "_view_count": null,
            "_view_module_version": "1.5.0",
            "box_style": "",
            "layout": "IPY_MODEL_fd93d83c2570425db7b38968be9c91f1",
            "_model_module": "@jupyter-widgets/controls",
            "children": [
              "IPY_MODEL_1a58d8d4ab304c60b06215bbe29fbe2f",
              "IPY_MODEL_3fcb8fb9809b4523aab933c34add49e1"
            ]
          }
        },
        "fd93d83c2570425db7b38968be9c91f1": {
          "model_module": "@jupyter-widgets/base",
          "model_name": "LayoutModel",
          "state": {
            "_view_name": "LayoutView",
            "grid_template_rows": null,
            "right": null,
            "justify_content": null,
            "_view_module": "@jupyter-widgets/base",
            "overflow": null,
            "_model_module_version": "1.2.0",
            "_view_count": null,
            "flex_flow": null,
            "width": null,
            "min_width": null,
            "border": null,
            "align_items": null,
            "bottom": null,
            "_model_module": "@jupyter-widgets/base",
            "top": null,
            "grid_column": null,
            "overflow_y": null,
            "overflow_x": null,
            "grid_auto_flow": null,
            "grid_area": null,
            "grid_template_columns": null,
            "flex": null,
            "_model_name": "LayoutModel",
            "justify_items": null,
            "grid_row": null,
            "max_height": null,
            "align_content": null,
            "visibility": null,
            "align_self": null,
            "height": null,
            "min_height": null,
            "padding": null,
            "grid_auto_rows": null,
            "grid_gap": null,
            "max_width": null,
            "order": null,
            "_view_module_version": "1.2.0",
            "grid_template_areas": null,
            "object_position": null,
            "object_fit": null,
            "grid_auto_columns": null,
            "margin": null,
            "display": null,
            "left": null
          }
        },
        "1a58d8d4ab304c60b06215bbe29fbe2f": {
          "model_module": "@jupyter-widgets/controls",
          "model_name": "FloatProgressModel",
          "state": {
            "_view_name": "ProgressView",
            "style": "IPY_MODEL_49d2570ccc22478d9461900328e5da59",
            "_dom_classes": [],
            "description": "Downloading: 100%",
            "_model_name": "FloatProgressModel",
            "bar_style": "success",
            "max": 5069051,
            "_view_module": "@jupyter-widgets/controls",
            "_model_module_version": "1.5.0",
            "value": 5069051,
            "_view_count": null,
            "_view_module_version": "1.5.0",
            "orientation": "horizontal",
            "min": 0,
            "description_tooltip": null,
            "_model_module": "@jupyter-widgets/controls",
            "layout": "IPY_MODEL_08b448acd3344b7ba719b438dfa2a48f"
          }
        },
        "3fcb8fb9809b4523aab933c34add49e1": {
          "model_module": "@jupyter-widgets/controls",
          "model_name": "HTMLModel",
          "state": {
            "_view_name": "HTMLView",
            "style": "IPY_MODEL_281130aeb3054eaaa3413aa63ea71020",
            "_dom_classes": [],
            "description": "",
            "_model_name": "HTMLModel",
            "placeholder": "​",
            "_view_module": "@jupyter-widgets/controls",
            "_model_module_version": "1.5.0",
            "value": " 5.07M/5.07M [00:01&lt;00:00, 4.70MB/s]",
            "_view_count": null,
            "_view_module_version": "1.5.0",
            "description_tooltip": null,
            "_model_module": "@jupyter-widgets/controls",
            "layout": "IPY_MODEL_80d4d02393624043b97a45df87f29d36"
          }
        },
        "49d2570ccc22478d9461900328e5da59": {
          "model_module": "@jupyter-widgets/controls",
          "model_name": "ProgressStyleModel",
          "state": {
            "_view_name": "StyleView",
            "_model_name": "ProgressStyleModel",
            "description_width": "initial",
            "_view_module": "@jupyter-widgets/base",
            "_model_module_version": "1.5.0",
            "_view_count": null,
            "_view_module_version": "1.2.0",
            "bar_color": null,
            "_model_module": "@jupyter-widgets/controls"
          }
        },
        "08b448acd3344b7ba719b438dfa2a48f": {
          "model_module": "@jupyter-widgets/base",
          "model_name": "LayoutModel",
          "state": {
            "_view_name": "LayoutView",
            "grid_template_rows": null,
            "right": null,
            "justify_content": null,
            "_view_module": "@jupyter-widgets/base",
            "overflow": null,
            "_model_module_version": "1.2.0",
            "_view_count": null,
            "flex_flow": null,
            "width": null,
            "min_width": null,
            "border": null,
            "align_items": null,
            "bottom": null,
            "_model_module": "@jupyter-widgets/base",
            "top": null,
            "grid_column": null,
            "overflow_y": null,
            "overflow_x": null,
            "grid_auto_flow": null,
            "grid_area": null,
            "grid_template_columns": null,
            "flex": null,
            "_model_name": "LayoutModel",
            "justify_items": null,
            "grid_row": null,
            "max_height": null,
            "align_content": null,
            "visibility": null,
            "align_self": null,
            "height": null,
            "min_height": null,
            "padding": null,
            "grid_auto_rows": null,
            "grid_gap": null,
            "max_width": null,
            "order": null,
            "_view_module_version": "1.2.0",
            "grid_template_areas": null,
            "object_position": null,
            "object_fit": null,
            "grid_auto_columns": null,
            "margin": null,
            "display": null,
            "left": null
          }
        },
        "281130aeb3054eaaa3413aa63ea71020": {
          "model_module": "@jupyter-widgets/controls",
          "model_name": "DescriptionStyleModel",
          "state": {
            "_view_name": "StyleView",
            "_model_name": "DescriptionStyleModel",
            "description_width": "",
            "_view_module": "@jupyter-widgets/base",
            "_model_module_version": "1.5.0",
            "_view_count": null,
            "_view_module_version": "1.2.0",
            "_model_module": "@jupyter-widgets/controls"
          }
        },
        "80d4d02393624043b97a45df87f29d36": {
          "model_module": "@jupyter-widgets/base",
          "model_name": "LayoutModel",
          "state": {
            "_view_name": "LayoutView",
            "grid_template_rows": null,
            "right": null,
            "justify_content": null,
            "_view_module": "@jupyter-widgets/base",
            "overflow": null,
            "_model_module_version": "1.2.0",
            "_view_count": null,
            "flex_flow": null,
            "width": null,
            "min_width": null,
            "border": null,
            "align_items": null,
            "bottom": null,
            "_model_module": "@jupyter-widgets/base",
            "top": null,
            "grid_column": null,
            "overflow_y": null,
            "overflow_x": null,
            "grid_auto_flow": null,
            "grid_area": null,
            "grid_template_columns": null,
            "flex": null,
            "_model_name": "LayoutModel",
            "justify_items": null,
            "grid_row": null,
            "max_height": null,
            "align_content": null,
            "visibility": null,
            "align_self": null,
            "height": null,
            "min_height": null,
            "padding": null,
            "grid_auto_rows": null,
            "grid_gap": null,
            "max_width": null,
            "order": null,
            "_view_module_version": "1.2.0",
            "grid_template_areas": null,
            "object_position": null,
            "object_fit": null,
            "grid_auto_columns": null,
            "margin": null,
            "display": null,
            "left": null
          }
        },
        "96fa90c452264d3493e90dce6a558a4b": {
          "model_module": "@jupyter-widgets/controls",
          "model_name": "HBoxModel",
          "state": {
            "_view_name": "HBoxView",
            "_dom_classes": [],
            "_model_name": "HBoxModel",
            "_view_module": "@jupyter-widgets/controls",
            "_model_module_version": "1.5.0",
            "_view_count": null,
            "_view_module_version": "1.5.0",
            "box_style": "",
            "layout": "IPY_MODEL_25388aca931341a98f3abc10aafa920b",
            "_model_module": "@jupyter-widgets/controls",
            "children": [
              "IPY_MODEL_d9e4c2a71c79412fb11f9eeebea1f21e",
              "IPY_MODEL_57797e6a28304a6cbe06e2d37e75dec9"
            ]
          }
        },
        "25388aca931341a98f3abc10aafa920b": {
          "model_module": "@jupyter-widgets/base",
          "model_name": "LayoutModel",
          "state": {
            "_view_name": "LayoutView",
            "grid_template_rows": null,
            "right": null,
            "justify_content": null,
            "_view_module": "@jupyter-widgets/base",
            "overflow": null,
            "_model_module_version": "1.2.0",
            "_view_count": null,
            "flex_flow": null,
            "width": null,
            "min_width": null,
            "border": null,
            "align_items": null,
            "bottom": null,
            "_model_module": "@jupyter-widgets/base",
            "top": null,
            "grid_column": null,
            "overflow_y": null,
            "overflow_x": null,
            "grid_auto_flow": null,
            "grid_area": null,
            "grid_template_columns": null,
            "flex": null,
            "_model_name": "LayoutModel",
            "justify_items": null,
            "grid_row": null,
            "max_height": null,
            "align_content": null,
            "visibility": null,
            "align_self": null,
            "height": null,
            "min_height": null,
            "padding": null,
            "grid_auto_rows": null,
            "grid_gap": null,
            "max_width": null,
            "order": null,
            "_view_module_version": "1.2.0",
            "grid_template_areas": null,
            "object_position": null,
            "object_fit": null,
            "grid_auto_columns": null,
            "margin": null,
            "display": null,
            "left": null
          }
        },
        "d9e4c2a71c79412fb11f9eeebea1f21e": {
          "model_module": "@jupyter-widgets/controls",
          "model_name": "FloatProgressModel",
          "state": {
            "_view_name": "ProgressView",
            "style": "IPY_MODEL_ff79c6e1532f4ad6aab6904107da503b",
            "_dom_classes": [],
            "description": "Downloading: 100%",
            "_model_name": "FloatProgressModel",
            "bar_style": "success",
            "max": 512,
            "_view_module": "@jupyter-widgets/controls",
            "_model_module_version": "1.5.0",
            "value": 512,
            "_view_count": null,
            "_view_module_version": "1.5.0",
            "orientation": "horizontal",
            "min": 0,
            "description_tooltip": null,
            "_model_module": "@jupyter-widgets/controls",
            "layout": "IPY_MODEL_000464faf8f940a9a90665f11ff6bbd7"
          }
        },
        "57797e6a28304a6cbe06e2d37e75dec9": {
          "model_module": "@jupyter-widgets/controls",
          "model_name": "HTMLModel",
          "state": {
            "_view_name": "HTMLView",
            "style": "IPY_MODEL_4587747cd953494c90337b9a03365ddd",
            "_dom_classes": [],
            "description": "",
            "_model_name": "HTMLModel",
            "placeholder": "​",
            "_view_module": "@jupyter-widgets/controls",
            "_model_module_version": "1.5.0",
            "value": " 512/512 [00:00&lt;00:00, 1.02kB/s]",
            "_view_count": null,
            "_view_module_version": "1.5.0",
            "description_tooltip": null,
            "_model_module": "@jupyter-widgets/controls",
            "layout": "IPY_MODEL_2f088ff5e99e48a9aaa14b429bb92d77"
          }
        },
        "ff79c6e1532f4ad6aab6904107da503b": {
          "model_module": "@jupyter-widgets/controls",
          "model_name": "ProgressStyleModel",
          "state": {
            "_view_name": "StyleView",
            "_model_name": "ProgressStyleModel",
            "description_width": "initial",
            "_view_module": "@jupyter-widgets/base",
            "_model_module_version": "1.5.0",
            "_view_count": null,
            "_view_module_version": "1.2.0",
            "bar_color": null,
            "_model_module": "@jupyter-widgets/controls"
          }
        },
        "000464faf8f940a9a90665f11ff6bbd7": {
          "model_module": "@jupyter-widgets/base",
          "model_name": "LayoutModel",
          "state": {
            "_view_name": "LayoutView",
            "grid_template_rows": null,
            "right": null,
            "justify_content": null,
            "_view_module": "@jupyter-widgets/base",
            "overflow": null,
            "_model_module_version": "1.2.0",
            "_view_count": null,
            "flex_flow": null,
            "width": null,
            "min_width": null,
            "border": null,
            "align_items": null,
            "bottom": null,
            "_model_module": "@jupyter-widgets/base",
            "top": null,
            "grid_column": null,
            "overflow_y": null,
            "overflow_x": null,
            "grid_auto_flow": null,
            "grid_area": null,
            "grid_template_columns": null,
            "flex": null,
            "_model_name": "LayoutModel",
            "justify_items": null,
            "grid_row": null,
            "max_height": null,
            "align_content": null,
            "visibility": null,
            "align_self": null,
            "height": null,
            "min_height": null,
            "padding": null,
            "grid_auto_rows": null,
            "grid_gap": null,
            "max_width": null,
            "order": null,
            "_view_module_version": "1.2.0",
            "grid_template_areas": null,
            "object_position": null,
            "object_fit": null,
            "grid_auto_columns": null,
            "margin": null,
            "display": null,
            "left": null
          }
        },
        "4587747cd953494c90337b9a03365ddd": {
          "model_module": "@jupyter-widgets/controls",
          "model_name": "DescriptionStyleModel",
          "state": {
            "_view_name": "StyleView",
            "_model_name": "DescriptionStyleModel",
            "description_width": "",
            "_view_module": "@jupyter-widgets/base",
            "_model_module_version": "1.5.0",
            "_view_count": null,
            "_view_module_version": "1.2.0",
            "_model_module": "@jupyter-widgets/controls"
          }
        },
        "2f088ff5e99e48a9aaa14b429bb92d77": {
          "model_module": "@jupyter-widgets/base",
          "model_name": "LayoutModel",
          "state": {
            "_view_name": "LayoutView",
            "grid_template_rows": null,
            "right": null,
            "justify_content": null,
            "_view_module": "@jupyter-widgets/base",
            "overflow": null,
            "_model_module_version": "1.2.0",
            "_view_count": null,
            "flex_flow": null,
            "width": null,
            "min_width": null,
            "border": null,
            "align_items": null,
            "bottom": null,
            "_model_module": "@jupyter-widgets/base",
            "top": null,
            "grid_column": null,
            "overflow_y": null,
            "overflow_x": null,
            "grid_auto_flow": null,
            "grid_area": null,
            "grid_template_columns": null,
            "flex": null,
            "_model_name": "LayoutModel",
            "justify_items": null,
            "grid_row": null,
            "max_height": null,
            "align_content": null,
            "visibility": null,
            "align_self": null,
            "height": null,
            "min_height": null,
            "padding": null,
            "grid_auto_rows": null,
            "grid_gap": null,
            "max_width": null,
            "order": null,
            "_view_module_version": "1.2.0",
            "grid_template_areas": null,
            "object_position": null,
            "object_fit": null,
            "grid_auto_columns": null,
            "margin": null,
            "display": null,
            "left": null
          }
        },
        "cf090d2a482b4980bd2e40b4ce8ed91c": {
          "model_module": "@jupyter-widgets/controls",
          "model_name": "HBoxModel",
          "state": {
            "_view_name": "HBoxView",
            "_dom_classes": [],
            "_model_name": "HBoxModel",
            "_view_module": "@jupyter-widgets/controls",
            "_model_module_version": "1.5.0",
            "_view_count": null,
            "_view_module_version": "1.5.0",
            "box_style": "",
            "layout": "IPY_MODEL_cf1c81ec8a3d4f5b9cb93f05b94488c7",
            "_model_module": "@jupyter-widgets/controls",
            "children": [
              "IPY_MODEL_11f1e2b944984fb98ab02c1ba0cefe85",
              "IPY_MODEL_5b41264305264202bb96d37760481e9c"
            ]
          }
        },
        "cf1c81ec8a3d4f5b9cb93f05b94488c7": {
          "model_module": "@jupyter-widgets/base",
          "model_name": "LayoutModel",
          "state": {
            "_view_name": "LayoutView",
            "grid_template_rows": null,
            "right": null,
            "justify_content": null,
            "_view_module": "@jupyter-widgets/base",
            "overflow": null,
            "_model_module_version": "1.2.0",
            "_view_count": null,
            "flex_flow": null,
            "width": null,
            "min_width": null,
            "border": null,
            "align_items": null,
            "bottom": null,
            "_model_module": "@jupyter-widgets/base",
            "top": null,
            "grid_column": null,
            "overflow_y": null,
            "overflow_x": null,
            "grid_auto_flow": null,
            "grid_area": null,
            "grid_template_columns": null,
            "flex": null,
            "_model_name": "LayoutModel",
            "justify_items": null,
            "grid_row": null,
            "max_height": null,
            "align_content": null,
            "visibility": null,
            "align_self": null,
            "height": null,
            "min_height": null,
            "padding": null,
            "grid_auto_rows": null,
            "grid_gap": null,
            "max_width": null,
            "order": null,
            "_view_module_version": "1.2.0",
            "grid_template_areas": null,
            "object_position": null,
            "object_fit": null,
            "grid_auto_columns": null,
            "margin": null,
            "display": null,
            "left": null
          }
        },
        "11f1e2b944984fb98ab02c1ba0cefe85": {
          "model_module": "@jupyter-widgets/controls",
          "model_name": "FloatProgressModel",
          "state": {
            "_view_name": "ProgressView",
            "style": "IPY_MODEL_ae5e0c3219754772ba8780f775172283",
            "_dom_classes": [],
            "description": "Downloading: 100%",
            "_model_name": "FloatProgressModel",
            "bar_style": "success",
            "max": 1115590446,
            "_view_module": "@jupyter-widgets/controls",
            "_model_module_version": "1.5.0",
            "value": 1115590446,
            "_view_count": null,
            "_view_module_version": "1.5.0",
            "orientation": "horizontal",
            "min": 0,
            "description_tooltip": null,
            "_model_module": "@jupyter-widgets/controls",
            "layout": "IPY_MODEL_7ec07472310c4e07962a5fd3ec3fc5cc"
          }
        },
        "5b41264305264202bb96d37760481e9c": {
          "model_module": "@jupyter-widgets/controls",
          "model_name": "HTMLModel",
          "state": {
            "_view_name": "HTMLView",
            "style": "IPY_MODEL_bb5df4bc1d594950b6bbef25599ba263",
            "_dom_classes": [],
            "description": "",
            "_model_name": "HTMLModel",
            "placeholder": "​",
            "_view_module": "@jupyter-widgets/controls",
            "_model_module_version": "1.5.0",
            "value": " 1.12G/1.12G [01:59&lt;00:00, 9.33MB/s]",
            "_view_count": null,
            "_view_module_version": "1.5.0",
            "description_tooltip": null,
            "_model_module": "@jupyter-widgets/controls",
            "layout": "IPY_MODEL_a58cb32110ed499fbe7c2ea6cdd3f4ff"
          }
        },
        "ae5e0c3219754772ba8780f775172283": {
          "model_module": "@jupyter-widgets/controls",
          "model_name": "ProgressStyleModel",
          "state": {
            "_view_name": "StyleView",
            "_model_name": "ProgressStyleModel",
            "description_width": "initial",
            "_view_module": "@jupyter-widgets/base",
            "_model_module_version": "1.5.0",
            "_view_count": null,
            "_view_module_version": "1.2.0",
            "bar_color": null,
            "_model_module": "@jupyter-widgets/controls"
          }
        },
        "7ec07472310c4e07962a5fd3ec3fc5cc": {
          "model_module": "@jupyter-widgets/base",
          "model_name": "LayoutModel",
          "state": {
            "_view_name": "LayoutView",
            "grid_template_rows": null,
            "right": null,
            "justify_content": null,
            "_view_module": "@jupyter-widgets/base",
            "overflow": null,
            "_model_module_version": "1.2.0",
            "_view_count": null,
            "flex_flow": null,
            "width": null,
            "min_width": null,
            "border": null,
            "align_items": null,
            "bottom": null,
            "_model_module": "@jupyter-widgets/base",
            "top": null,
            "grid_column": null,
            "overflow_y": null,
            "overflow_x": null,
            "grid_auto_flow": null,
            "grid_area": null,
            "grid_template_columns": null,
            "flex": null,
            "_model_name": "LayoutModel",
            "justify_items": null,
            "grid_row": null,
            "max_height": null,
            "align_content": null,
            "visibility": null,
            "align_self": null,
            "height": null,
            "min_height": null,
            "padding": null,
            "grid_auto_rows": null,
            "grid_gap": null,
            "max_width": null,
            "order": null,
            "_view_module_version": "1.2.0",
            "grid_template_areas": null,
            "object_position": null,
            "object_fit": null,
            "grid_auto_columns": null,
            "margin": null,
            "display": null,
            "left": null
          }
        },
        "bb5df4bc1d594950b6bbef25599ba263": {
          "model_module": "@jupyter-widgets/controls",
          "model_name": "DescriptionStyleModel",
          "state": {
            "_view_name": "StyleView",
            "_model_name": "DescriptionStyleModel",
            "description_width": "",
            "_view_module": "@jupyter-widgets/base",
            "_model_module_version": "1.5.0",
            "_view_count": null,
            "_view_module_version": "1.2.0",
            "_model_module": "@jupyter-widgets/controls"
          }
        },
        "a58cb32110ed499fbe7c2ea6cdd3f4ff": {
          "model_module": "@jupyter-widgets/base",
          "model_name": "LayoutModel",
          "state": {
            "_view_name": "LayoutView",
            "grid_template_rows": null,
            "right": null,
            "justify_content": null,
            "_view_module": "@jupyter-widgets/base",
            "overflow": null,
            "_model_module_version": "1.2.0",
            "_view_count": null,
            "flex_flow": null,
            "width": null,
            "min_width": null,
            "border": null,
            "align_items": null,
            "bottom": null,
            "_model_module": "@jupyter-widgets/base",
            "top": null,
            "grid_column": null,
            "overflow_y": null,
            "overflow_x": null,
            "grid_auto_flow": null,
            "grid_area": null,
            "grid_template_columns": null,
            "flex": null,
            "_model_name": "LayoutModel",
            "justify_items": null,
            "grid_row": null,
            "max_height": null,
            "align_content": null,
            "visibility": null,
            "align_self": null,
            "height": null,
            "min_height": null,
            "padding": null,
            "grid_auto_rows": null,
            "grid_gap": null,
            "max_width": null,
            "order": null,
            "_view_module_version": "1.2.0",
            "grid_template_areas": null,
            "object_position": null,
            "object_fit": null,
            "grid_auto_columns": null,
            "margin": null,
            "display": null,
            "left": null
          }
        }
      }
    }
  },
  "cells": [
    {
      "cell_type": "markdown",
      "metadata": {
        "id": "ZW-Y_z1uxK7z"
      },
      "source": [
        "## Cloning repository and installing libraries"
      ]
    },
    {
      "cell_type": "code",
      "metadata": {
        "colab": {
          "base_uri": "https://localhost:8080/"
        },
        "id": "1iBUZc4ynqGR",
        "outputId": "86087e60-f619-4cfe-9f99-edadab363172"
      },
      "source": [
        "!git clone https://github.com/Ryzhtus/multilingual-bert-ner"
      ],
      "execution_count": null,
      "outputs": [
        {
          "output_type": "stream",
          "text": [
            "Cloning into 'multilingual-bert-ner'...\n",
            "remote: Enumerating objects: 102, done.\u001b[K\n",
            "remote: Counting objects: 100% (102/102), done.\u001b[K\n",
            "remote: Compressing objects: 100% (73/73), done.\u001b[K\n",
            "remote: Total 102 (delta 53), reused 76 (delta 27), pack-reused 0\u001b[K\n",
            "Receiving objects: 100% (102/102), 28.77 KiB | 5.75 MiB/s, done.\n",
            "Resolving deltas: 100% (53/53), done.\n"
          ],
          "name": "stdout"
        }
      ]
    },
    {
      "cell_type": "code",
      "metadata": {
        "colab": {
          "base_uri": "https://localhost:8080/"
        },
        "id": "dP-K9bt-oEST",
        "outputId": "4db8a333-55d1-47a1-8f2d-e715685be4d8"
      },
      "source": [
        "!pip install -q transformers\r\n",
        "!pip install -q sentencepiece\r\n",
        "!pip install -q seqeval"
      ],
      "execution_count": null,
      "outputs": [
        {
          "output_type": "stream",
          "text": [
            "\u001b[K     |████████████████████████████████| 1.9MB 9.4MB/s \n",
            "\u001b[K     |████████████████████████████████| 3.2MB 51.8MB/s \n",
            "\u001b[K     |████████████████████████████████| 890kB 55.9MB/s \n",
            "\u001b[?25h  Building wheel for sacremoses (setup.py) ... \u001b[?25l\u001b[?25hdone\n",
            "\u001b[K     |████████████████████████████████| 1.2MB 9.2MB/s \n",
            "\u001b[K     |████████████████████████████████| 51kB 4.5MB/s \n",
            "\u001b[?25h  Building wheel for seqeval (setup.py) ... \u001b[?25l\u001b[?25hdone\n"
          ],
          "name": "stdout"
        }
      ]
    },
    {
      "cell_type": "markdown",
      "metadata": {
        "id": "0_GAbC9XxQ3b"
      },
      "source": [
        "## Downloading WikiAnn"
      ]
    },
    {
      "cell_type": "code",
      "metadata": {
        "colab": {
          "base_uri": "https://localhost:8080/"
        },
        "id": "4GO4yN30U1lk",
        "outputId": "fefc56b5-c635-42e6-dbd8-9f940a508c7d"
      },
      "source": [
        "!wget https://www.dropbox.com/s/12h3qqog6q4bjve/panx_dataset.tar"
      ],
      "execution_count": null,
      "outputs": [
        {
          "output_type": "stream",
          "text": [
            "--2021-03-12 14:49:55--  https://www.dropbox.com/s/12h3qqog6q4bjve/panx_dataset.tar\n",
            "Resolving www.dropbox.com (www.dropbox.com)... 162.125.1.18, 2620:100:601a:18::a27d:712\n",
            "Connecting to www.dropbox.com (www.dropbox.com)|162.125.1.18|:443... connected.\n",
            "HTTP request sent, awaiting response... 301 Moved Permanently\n",
            "Location: /s/raw/12h3qqog6q4bjve/panx_dataset.tar [following]\n",
            "--2021-03-12 14:49:55--  https://www.dropbox.com/s/raw/12h3qqog6q4bjve/panx_dataset.tar\n",
            "Reusing existing connection to www.dropbox.com:443.\n",
            "HTTP request sent, awaiting response... 302 Found\n",
            "Location: https://ucb0c65ba76c1c79c4291b5b2b43.dl.dropboxusercontent.com/cd/0/inline/BKhI-u6jc24JHSwuWgPykZmp9JzA3muHw1L_l4j9aGcazA560qKz6EkTEVkRW5KRRugki8laPMsLl8SyPQyAAv6tR6eRLK2UxNh1rVXIWPhHCYr8lQDXsr61m1xP-0M4koulCvmVdsOOQFN8NmZdGM-P/file# [following]\n",
            "--2021-03-12 14:49:55--  https://ucb0c65ba76c1c79c4291b5b2b43.dl.dropboxusercontent.com/cd/0/inline/BKhI-u6jc24JHSwuWgPykZmp9JzA3muHw1L_l4j9aGcazA560qKz6EkTEVkRW5KRRugki8laPMsLl8SyPQyAAv6tR6eRLK2UxNh1rVXIWPhHCYr8lQDXsr61m1xP-0M4koulCvmVdsOOQFN8NmZdGM-P/file\n",
            "Resolving ucb0c65ba76c1c79c4291b5b2b43.dl.dropboxusercontent.com (ucb0c65ba76c1c79c4291b5b2b43.dl.dropboxusercontent.com)... 162.125.1.15, 2620:100:601a:15::a27d:70f\n",
            "Connecting to ucb0c65ba76c1c79c4291b5b2b43.dl.dropboxusercontent.com (ucb0c65ba76c1c79c4291b5b2b43.dl.dropboxusercontent.com)|162.125.1.15|:443... connected.\n",
            "HTTP request sent, awaiting response... 302 Found\n",
            "Location: /cd/0/inline2/BKjyxX-gVBzkGW2XLN4hMOLEXE2kAx5GEAXhPKTEiQJuF16QbLFb_iAJiI93s8Ci8ojlXRdF-jvFk0MY5NcE9lmQ3I9DUXVwkNRhBULIae743noYXdgcVkLCnRm3wSxolB5jVo825l-WDG3T_4uWQ0QAwiy6pLzGu467H-iyurdIKuHCIf46ov0d-coEMcG6gxqASjzZXfkoQgK-gDLu4_4KwluCFlo2AQG7umwrVGZfh0TNe4YU_jidVmAk5HZfjRLYZac8xJ2q9P6LaQkvQ6yHUif_HXBO3sHRcNXW22r7evYsDnFWSdrKp1piNMr7W99C7VtPAOmPT-5aMITySfQYYMaAoymVu0_rfuZphlvkZLc1BKa8PhsOAKYthXzRm3Y/file [following]\n",
            "--2021-03-12 14:49:56--  https://ucb0c65ba76c1c79c4291b5b2b43.dl.dropboxusercontent.com/cd/0/inline2/BKjyxX-gVBzkGW2XLN4hMOLEXE2kAx5GEAXhPKTEiQJuF16QbLFb_iAJiI93s8Ci8ojlXRdF-jvFk0MY5NcE9lmQ3I9DUXVwkNRhBULIae743noYXdgcVkLCnRm3wSxolB5jVo825l-WDG3T_4uWQ0QAwiy6pLzGu467H-iyurdIKuHCIf46ov0d-coEMcG6gxqASjzZXfkoQgK-gDLu4_4KwluCFlo2AQG7umwrVGZfh0TNe4YU_jidVmAk5HZfjRLYZac8xJ2q9P6LaQkvQ6yHUif_HXBO3sHRcNXW22r7evYsDnFWSdrKp1piNMr7W99C7VtPAOmPT-5aMITySfQYYMaAoymVu0_rfuZphlvkZLc1BKa8PhsOAKYthXzRm3Y/file\n",
            "Reusing existing connection to ucb0c65ba76c1c79c4291b5b2b43.dl.dropboxusercontent.com:443.\n",
            "HTTP request sent, awaiting response... 200 OK\n",
            "Length: 234126336 (223M) [application/x-tar]\n",
            "Saving to: ‘panx_dataset.tar’\n",
            "\n",
            "panx_dataset.tar    100%[===================>] 223.28M   154MB/s    in 1.4s    \n",
            "\n",
            "2021-03-12 14:49:58 (154 MB/s) - ‘panx_dataset.tar’ saved [234126336/234126336]\n",
            "\n"
          ],
          "name": "stdout"
        }
      ]
    },
    {
      "cell_type": "code",
      "metadata": {
        "colab": {
          "base_uri": "https://localhost:8080/"
        },
        "id": "aywzeu2fU2oU",
        "outputId": "f9b113c3-607b-4e1f-d005-ff93b86594cb"
      },
      "source": [
        "!tar -xvf panx_dataset.tar"
      ],
      "execution_count": null,
      "outputs": [
        {
          "output_type": "stream",
          "text": [
            "ace.tar.gz\n",
            "af.tar.gz\n",
            "als.tar.gz\n",
            "am.tar.gz\n",
            "an.tar.gz\n",
            "ang.tar.gz\n",
            "ar.tar.gz\n",
            "arc.tar.gz\n",
            "arz.tar.gz\n",
            "as.tar.gz\n",
            "ast.tar.gz\n",
            "ay.tar.gz\n",
            "az.tar.gz\n",
            "ba.tar.gz\n",
            "bar.tar.gz\n",
            "bat-smg.tar.gz\n",
            "be-x-old.tar.gz\n",
            "be.tar.gz\n",
            "bg.tar.gz\n",
            "bh.tar.gz\n",
            "bn.tar.gz\n",
            "bo.tar.gz\n",
            "br.tar.gz\n",
            "bs.tar.gz\n",
            "ca.tar.gz\n",
            "cbk-zam.tar.gz\n",
            "cdo.tar.gz\n",
            "ce.tar.gz\n",
            "ceb.tar.gz\n",
            "ckb.tar.gz\n",
            "co.tar.gz\n",
            "crh.tar.gz\n",
            "cs.tar.gz\n",
            "csb.tar.gz\n",
            "cv.tar.gz\n",
            "cy.tar.gz\n",
            "da.tar.gz\n",
            "de.tar.gz\n",
            "diq.tar.gz\n",
            "dv.tar.gz\n",
            "el.tar.gz\n",
            "eml.tar.gz\n",
            "en.tar.gz\n",
            "eo.tar.gz\n",
            "es.tar.gz\n",
            "et.tar.gz\n",
            "eu.tar.gz\n",
            "ext.tar.gz\n",
            "fa.tar.gz\n",
            "fi.tar.gz\n",
            "fiu-vro.tar.gz\n",
            "fo.tar.gz\n",
            "fr.tar.gz\n",
            "frr.tar.gz\n",
            "fur.tar.gz\n",
            "fy.tar.gz\n",
            "ga.tar.gz\n",
            "gan.tar.gz\n",
            "gd.tar.gz\n",
            "gl.tar.gz\n",
            "gn.tar.gz\n",
            "gu.tar.gz\n",
            "hak.tar.gz\n",
            "he.tar.gz\n",
            "hi.tar.gz\n",
            "hr.tar.gz\n",
            "hsb.tar.gz\n",
            "hu.tar.gz\n",
            "hy.tar.gz\n",
            "ia.tar.gz\n",
            "id.tar.gz\n",
            "ig.tar.gz\n",
            "ilo.tar.gz\n",
            "io.tar.gz\n",
            "is.tar.gz\n",
            "it.tar.gz\n",
            "ja.tar.gz\n",
            "jbo.tar.gz\n",
            "jv.tar.gz\n",
            "ka.tar.gz\n",
            "kk.tar.gz\n",
            "km.tar.gz\n",
            "kn.tar.gz\n",
            "ko.tar.gz\n",
            "ksh.tar.gz\n",
            "ku.tar.gz\n",
            "ky.tar.gz\n",
            "la.tar.gz\n",
            "lb.tar.gz\n",
            "li.tar.gz\n",
            "lij.tar.gz\n",
            "lmo.tar.gz\n",
            "ln.tar.gz\n",
            "lt.tar.gz\n",
            "lv.tar.gz\n",
            "map-bms.tar.gz\n",
            "mg.tar.gz\n",
            "mhr.tar.gz\n",
            "mi.tar.gz\n",
            "min.tar.gz\n",
            "mk.tar.gz\n",
            "ml.tar.gz\n",
            "mn.tar.gz\n",
            "mr.tar.gz\n",
            "ms.tar.gz\n",
            "mt.tar.gz\n",
            "mwl.tar.gz\n",
            "my.tar.gz\n",
            "mzn.tar.gz\n",
            "nap.tar.gz\n",
            "nds.tar.gz\n",
            "ne.tar.gz\n",
            "nl.tar.gz\n",
            "nn.tar.gz\n",
            "no.tar.gz\n",
            "nov.tar.gz\n",
            "oc.tar.gz\n",
            "or.tar.gz\n",
            "os.tar.gz\n",
            "pa.tar.gz\n",
            "pdc.tar.gz\n",
            "pl.tar.gz\n",
            "pms.tar.gz\n",
            "pnb.tar.gz\n",
            "ps.tar.gz\n",
            "pt.tar.gz\n",
            "qu.tar.gz\n",
            "rm.tar.gz\n",
            "ro.tar.gz\n",
            "ru.tar.gz\n",
            "rw.tar.gz\n",
            "sa.tar.gz\n",
            "sah.tar.gz\n",
            "scn.tar.gz\n",
            "sco.tar.gz\n",
            "sd.tar.gz\n",
            "sh.tar.gz\n",
            "si.tar.gz\n",
            "simple.tar.gz\n",
            "sk.tar.gz\n",
            "sl.tar.gz\n",
            "so.tar.gz\n",
            "sq.tar.gz\n",
            "sr.tar.gz\n",
            "su.tar.gz\n",
            "sv.tar.gz\n",
            "sw.tar.gz\n",
            "szl.tar.gz\n",
            "ta.tar.gz\n",
            "te.tar.gz\n",
            "tg.tar.gz\n",
            "th.tar.gz\n",
            "tk.tar.gz\n",
            "tl.tar.gz\n",
            "tr.tar.gz\n",
            "tt.tar.gz\n",
            "ug.tar.gz\n",
            "uk.tar.gz\n",
            "ur.tar.gz\n",
            "uz.tar.gz\n",
            "vec.tar.gz\n",
            "vep.tar.gz\n",
            "vi.tar.gz\n",
            "vls.tar.gz\n",
            "vo.tar.gz\n",
            "wa.tar.gz\n",
            "war.tar.gz\n",
            "wuu.tar.gz\n",
            "xmf.tar.gz\n",
            "yi.tar.gz\n",
            "yo.tar.gz\n",
            "zea.tar.gz\n",
            "zh-classical.tar.gz\n",
            "zh-min-nan.tar.gz\n",
            "zh-yue.tar.gz\n",
            "zh.tar.gz\n"
          ],
          "name": "stdout"
        }
      ]
    },
    {
      "cell_type": "code",
      "metadata": {
        "colab": {
          "base_uri": "https://localhost:8080/"
        },
        "id": "Pkil0G3eVQYK",
        "outputId": "584ae633-2632-4fb0-bb57-d2c3b29190b8"
      },
      "source": [
        "!mkdir lang_en\r\n",
        "!tar -xvf en.tar.gz -C lang_en\r\n",
        "\r\n",
        "!mkdir lang_ru\r\n",
        "!tar -xvf ru.tar.gz -C lang_ru\r\n",
        "\r\n",
        "!mkdir lang_es\r\n",
        "!tar -xvf es.tar.gz -C lang_es\r\n",
        "\r\n",
        "!mkdir lang_fr\r\n",
        "!tar -xvf fr.tar.gz -C lang_fr\r\n",
        "\r\n",
        "!mkdir lang_cs\r\n",
        "!tar -xvf cs.tar.gz -C lang_cs\r\n",
        "\r\n",
        "!mkdir lang_zh\r\n",
        "!tar -xvf zh.tar.gz -C lang_zh"
      ],
      "execution_count": null,
      "outputs": [
        {
          "output_type": "stream",
          "text": [
            "train\n",
            "dev\n",
            "test\n",
            "train\n",
            "dev\n",
            "test\n",
            "extra\n",
            "train\n",
            "dev\n",
            "test\n",
            "extra\n",
            "train\n",
            "dev\n",
            "test\n",
            "extra\n",
            "train\n",
            "dev\n",
            "test\n",
            "extra\n",
            "train\n",
            "dev\n",
            "test\n"
          ],
          "name": "stdout"
        }
      ]
    },
    {
      "cell_type": "markdown",
      "metadata": {
        "id": "lFFIGKwpxUr9"
      },
      "source": [
        "## Downloading WikiMatrix"
      ]
    },
    {
      "cell_type": "markdown",
      "metadata": {
        "id": "M9cM7kNrgojg"
      },
      "source": [
        "### English - Russian"
      ]
    },
    {
      "cell_type": "code",
      "metadata": {
        "id": "y2QQo2StxbB1",
        "colab": {
          "base_uri": "https://localhost:8080/"
        },
        "outputId": "04d45f0d-1579-49da-fdb4-752490564ff0"
      },
      "source": [
        "!wget -O en-ru.tsv.gz https://dl.fbaipublicfiles.com/laser/WikiMatrix/v1/WikiMatrix.en-ru.tsv.gz"
      ],
      "execution_count": null,
      "outputs": [
        {
          "output_type": "stream",
          "text": [
            "--2021-03-12 16:15:40--  https://dl.fbaipublicfiles.com/laser/WikiMatrix/v1/WikiMatrix.en-ru.tsv.gz\n",
            "Resolving dl.fbaipublicfiles.com (dl.fbaipublicfiles.com)... 104.22.75.142, 172.67.9.4, 104.22.74.142, ...\n",
            "Connecting to dl.fbaipublicfiles.com (dl.fbaipublicfiles.com)|104.22.75.142|:443... connected.\n",
            "HTTP request sent, awaiting response... 200 OK\n",
            "Length: 658252364 (628M) [application/gzip]\n",
            "Saving to: ‘en-ru.tsv.gz’\n",
            "\n",
            "en-ru.tsv.gz        100%[===================>] 627.76M  46.0MB/s    in 12s     \n",
            "\n",
            "2021-03-12 16:15:53 (52.1 MB/s) - ‘en-ru.tsv.gz’ saved [658252364/658252364]\n",
            "\n"
          ],
          "name": "stdout"
        }
      ]
    },
    {
      "cell_type": "code",
      "metadata": {
        "id": "nxpYQUlIxceI"
      },
      "source": [
        "!gzip -d en-ru.tsv.gz"
      ],
      "execution_count": null,
      "outputs": []
    },
    {
      "cell_type": "markdown",
      "metadata": {
        "id": "ggTAk5oQwhh9"
      },
      "source": [
        "### English - Spanish"
      ]
    },
    {
      "cell_type": "markdown",
      "metadata": {
        "id": "WMMmncAJlJyi"
      },
      "source": [
        "### French - Russian"
      ]
    },
    {
      "cell_type": "code",
      "metadata": {
        "colab": {
          "base_uri": "https://localhost:8080/"
        },
        "id": "mNsZZRzmlGMR",
        "outputId": "08a68af5-494f-40d0-ca62-84c5f61bebfe"
      },
      "source": [
        "!wget -O fr-ru.tsv.gz https://dl.fbaipublicfiles.com/laser/WikiMatrix/v1/WikiMatrix.fr-ru.tsv.gz"
      ],
      "execution_count": null,
      "outputs": [
        {
          "output_type": "stream",
          "text": [
            "--2021-03-05 13:29:55--  https://dl.fbaipublicfiles.com/laser/WikiMatrix/v1/WikiMatrix.fr-ru.tsv.gz\n",
            "Resolving dl.fbaipublicfiles.com (dl.fbaipublicfiles.com)... 104.22.74.142, 172.67.9.4, 104.22.75.142, ...\n",
            "Connecting to dl.fbaipublicfiles.com (dl.fbaipublicfiles.com)|104.22.74.142|:443... connected.\n",
            "HTTP request sent, awaiting response... 200 OK\n",
            "Length: 296613097 (283M) [application/gzip]\n",
            "Saving to: ‘fr-ru.tsv.gz’\n",
            "\n",
            "fr-ru.tsv.gz        100%[===================>] 282.87M  26.3MB/s    in 11s     \n",
            "\n",
            "2021-03-05 13:30:07 (25.0 MB/s) - ‘fr-ru.tsv.gz’ saved [296613097/296613097]\n",
            "\n"
          ],
          "name": "stdout"
        }
      ]
    },
    {
      "cell_type": "markdown",
      "metadata": {
        "id": "WuesLevnGfEW"
      },
      "source": [
        "### English - French"
      ]
    },
    {
      "cell_type": "code",
      "metadata": {
        "colab": {
          "base_uri": "https://localhost:8080/"
        },
        "id": "bIHEdQJPGhkq",
        "outputId": "441bf3ce-f814-4cc4-9a33-990dfeca55a6"
      },
      "source": [
        "!wget -O en-fr.tsv.gz https://dl.fbaipublicfiles.com/laser/WikiMatrix/v1/WikiMatrix.en-fr.tsv.gz"
      ],
      "execution_count": null,
      "outputs": [
        {
          "output_type": "stream",
          "text": [
            "--2021-03-05 11:16:20--  https://dl.fbaipublicfiles.com/laser/WikiMatrix/v1/WikiMatrix.en-fr.tsv.gz\n",
            "Resolving dl.fbaipublicfiles.com (dl.fbaipublicfiles.com)... 104.22.74.142, 172.67.9.4, 104.22.75.142, ...\n",
            "Connecting to dl.fbaipublicfiles.com (dl.fbaipublicfiles.com)|104.22.74.142|:443... connected.\n",
            "HTTP request sent, awaiting response... 200 OK\n",
            "Length: 755054487 (720M) [application/gzip]\n",
            "Saving to: ‘en-fr.tsv.gz’\n",
            "\n",
            "en-fr.tsv.gz        100%[===================>] 720.08M  24.6MB/s    in 30s     \n",
            "\n",
            "2021-03-05 11:16:50 (24.0 MB/s) - ‘en-fr.tsv.gz’ saved [755054487/755054487]\n",
            "\n"
          ],
          "name": "stdout"
        }
      ]
    },
    {
      "cell_type": "markdown",
      "metadata": {
        "id": "KgQydqPXch_W"
      },
      "source": [
        "### English - Czech"
      ]
    },
    {
      "cell_type": "code",
      "metadata": {
        "colab": {
          "base_uri": "https://localhost:8080/"
        },
        "id": "JFnqCrNicf6T",
        "outputId": "dd8b5d6f-8813-413e-afe0-cc4f754fc25d"
      },
      "source": [
        "!wget -O cs-en.tsv.gz https://dl.fbaipublicfiles.com/laser/WikiMatrix/v1/WikiMatrix.cs-en.tsv.gz"
      ],
      "execution_count": null,
      "outputs": [
        {
          "output_type": "stream",
          "text": [
            "--2021-03-12 16:15:53--  https://dl.fbaipublicfiles.com/laser/WikiMatrix/v1/WikiMatrix.cs-en.tsv.gz\n",
            "Resolving dl.fbaipublicfiles.com (dl.fbaipublicfiles.com)... 104.22.74.142, 104.22.75.142, 172.67.9.4, ...\n",
            "Connecting to dl.fbaipublicfiles.com (dl.fbaipublicfiles.com)|104.22.74.142|:443... connected.\n",
            "HTTP request sent, awaiting response... 200 OK\n",
            "Length: 220135918 (210M) [application/gzip]\n",
            "Saving to: ‘cs-en.tsv.gz’\n",
            "\n",
            "cs-en.tsv.gz        100%[===================>] 209.94M  62.9MB/s    in 3.3s    \n",
            "\n",
            "2021-03-12 16:15:57 (62.9 MB/s) - ‘cs-en.tsv.gz’ saved [220135918/220135918]\n",
            "\n"
          ],
          "name": "stdout"
        }
      ]
    },
    {
      "cell_type": "markdown",
      "metadata": {
        "id": "ON4a2abZgszF"
      },
      "source": [
        "### Russian - Simplified Chinese"
      ]
    },
    {
      "cell_type": "code",
      "metadata": {
        "colab": {
          "base_uri": "https://localhost:8080/"
        },
        "id": "Y-umRMUS-VLI",
        "outputId": "85b9fdf5-ccf7-400e-c6fb-a8ccd45e7c7a"
      },
      "source": [
        "!wget -O ru-zh.tsv.gz https://dl.fbaipublicfiles.com/laser/WikiMatrix/v1/WikiMatrix.ru-zh.tsv.gz"
      ],
      "execution_count": null,
      "outputs": [
        {
          "output_type": "stream",
          "text": [
            "--2021-03-04 11:59:26--  https://dl.fbaipublicfiles.com/laser/WikiMatrix/v1/WikiMatrix.ru-zh.tsv.gz\n",
            "Resolving dl.fbaipublicfiles.com (dl.fbaipublicfiles.com)... 104.22.75.142, 104.22.74.142, 172.67.9.4, ...\n",
            "Connecting to dl.fbaipublicfiles.com (dl.fbaipublicfiles.com)|104.22.75.142|:443... connected.\n",
            "HTTP request sent, awaiting response... 200 OK\n",
            "Length: 160116032 (153M) [application/gzip]\n",
            "Saving to: ‘ru-zh.tsv.gz’\n",
            "\n",
            "ru-zh.tsv.gz        100%[===================>] 152.70M  27.1MB/s    in 6.1s    \n",
            "\n",
            "2021-03-04 11:59:32 (24.9 MB/s) - ‘ru-zh.tsv.gz’ saved [160116032/160116032]\n",
            "\n"
          ],
          "name": "stdout"
        }
      ]
    },
    {
      "cell_type": "code",
      "metadata": {
        "id": "ImRJTUa3-qnP"
      },
      "source": [
        "!gzip -d ru-zh.tsv.gz"
      ],
      "execution_count": null,
      "outputs": []
    },
    {
      "cell_type": "markdown",
      "metadata": {
        "id": "DKyFnOsRgwkz"
      },
      "source": [
        "### English - Simplified Chinese"
      ]
    },
    {
      "cell_type": "code",
      "metadata": {
        "colab": {
          "base_uri": "https://localhost:8080/"
        },
        "id": "gyPZLlWCgjpv",
        "outputId": "ed538cba-c700-47cc-a9ec-0304d432376d"
      },
      "source": [
        "!wget -O en-zh.tsv.gz https://dl.fbaipublicfiles.com/laser/WikiMatrix/v1/WikiMatrix.en-zh.tsv.gz"
      ],
      "execution_count": null,
      "outputs": [
        {
          "output_type": "stream",
          "text": [
            "--2021-03-04 18:50:51--  https://dl.fbaipublicfiles.com/laser/WikiMatrix/v1/WikiMatrix.en-zh.tsv.gz\n",
            "Resolving dl.fbaipublicfiles.com (dl.fbaipublicfiles.com)... 104.22.75.142, 104.22.74.142, 172.67.9.4, ...\n",
            "Connecting to dl.fbaipublicfiles.com (dl.fbaipublicfiles.com)|104.22.75.142|:443... connected.\n",
            "HTTP request sent, awaiting response... 200 OK\n",
            "Length: 340467177 (325M) [application/gzip]\n",
            "Saving to: ‘en-zh.tsv.gz’\n",
            "\n",
            "en-zh.tsv.gz        100%[===================>] 324.69M  26.4MB/s    in 13s     \n",
            "\n",
            "2021-03-04 18:51:05 (25.2 MB/s) - ‘en-zh.tsv.gz’ saved [340467177/340467177]\n",
            "\n"
          ],
          "name": "stdout"
        }
      ]
    },
    {
      "cell_type": "code",
      "metadata": {
        "id": "HGagDIRWgmcR"
      },
      "source": [
        "!gzip -d en-zh.tsv.gz"
      ],
      "execution_count": null,
      "outputs": []
    },
    {
      "cell_type": "markdown",
      "metadata": {
        "id": "NC_0qvsOxk2J"
      },
      "source": [
        "## Moving to working directory"
      ]
    },
    {
      "cell_type": "code",
      "metadata": {
        "colab": {
          "base_uri": "https://localhost:8080/"
        },
        "id": "J0lvu1plsEOM",
        "outputId": "7c31254f-ae26-498f-f38b-0042ec3be98b"
      },
      "source": [
        "cd /content/multilingual-bert-ner/"
      ],
      "execution_count": null,
      "outputs": [
        {
          "output_type": "stream",
          "text": [
            "/content/multilingual-bert-ner\n"
          ],
          "name": "stdout"
        }
      ]
    },
    {
      "cell_type": "markdown",
      "metadata": {
        "id": "kwjzAjtpVIFC"
      },
      "source": [
        "## mBERT"
      ]
    },
    {
      "cell_type": "code",
      "metadata": {
        "id": "GgodUKyDsJ6q"
      },
      "source": [
        "from multilingual_ner.mBERT.dataset import WikiAnnDataset, create_dataset_and_dataloader\r\n",
        "from multilingual_ner.mBERT.train import train_model, test_epoch\r\n",
        "#from multilingual_ner.mBERT.model import BertNER\r\n",
        "\r\n",
        "from transformers import BertTokenizer\r\n",
        "\r\n",
        "import torch \r\n",
        "import torch.nn as nn\r\n",
        "import torch.optim as optim"
      ],
      "execution_count": null,
      "outputs": []
    },
    {
      "cell_type": "markdown",
      "metadata": {
        "id": "7rQCi8VGNUjj"
      },
      "source": [
        "### French"
      ]
    },
    {
      "cell_type": "code",
      "metadata": {
        "id": "9z_fUSgko3f6",
        "colab": {
          "base_uri": "https://localhost:8080/",
          "height": 120,
          "referenced_widgets": [
            "02ec2bb2120d4c6b8ca60a916d6ddd4f",
            "1ad405d99b9d4aedb08858d6da16a0bf",
            "d7c6e2203476408ca62496be8766cfc0",
            "81de13d789f74f1fab70c31caa695c70",
            "1252858ffca8499e93c8f7a95b68c177",
            "8ae7d0533d5a4d0b95afbebbe9dbe5cf",
            "80f730c20ad94d08afdd70b78e49928a",
            "634847949041423eb565a29fa864d1bd"
          ]
        },
        "outputId": "8f32260a-5387-4cce-8a72-52abc81cecac"
      },
      "source": [
        "TOKENIZER = BertTokenizer.from_pretrained('bert-base-multilingual-cased', do_lower_case=False)\r\n",
        "DEVICE = 'cuda' if torch.cuda.is_available else 'cpu'\r\n",
        "EPOCHS = 4\r\n",
        "BATCH_SIZE = 16\r\n",
        "\r\n",
        "fr_train_dataset, fr_train_dataloader = create_dataset_and_dataloader('../lang_fr/train', BATCH_SIZE, TOKENIZER)\r\n",
        "fr_eval_dataset, fr_eval_dataloader = create_dataset_and_dataloader('../lang_fr/dev', BATCH_SIZE, TOKENIZER)\r\n",
        "fr_test_dataset, fr_test_dataloader = create_dataset_and_dataloader('../lang_fr/test', BATCH_SIZE, TOKENIZER)"
      ],
      "execution_count": null,
      "outputs": [
        {
          "output_type": "display_data",
          "data": {
            "application/vnd.jupyter.widget-view+json": {
              "model_id": "02ec2bb2120d4c6b8ca60a916d6ddd4f",
              "version_minor": 0,
              "version_major": 2
            },
            "text/plain": [
              "HBox(children=(FloatProgress(value=0.0, description='Downloading', max=995526.0, style=ProgressStyle(descripti…"
            ]
          },
          "metadata": {
            "tags": []
          }
        },
        {
          "output_type": "stream",
          "text": [
            "\n"
          ],
          "name": "stdout"
        },
        {
          "output_type": "stream",
          "text": [
            "/usr/local/lib/python3.7/dist-packages/torch/utils/data/dataloader.py:477: UserWarning: This DataLoader will create 4 worker processes in total. Our suggested max number of worker in current system is 2, which is smaller than what this DataLoader is going to create. Please be aware that excessive worker creation might get DataLoader running slow or even freeze, lower the worker number to avoid potential slowness/freeze if necessary.\n",
            "  cpuset_checked))\n"
          ],
          "name": "stderr"
        }
      ]
    },
    {
      "cell_type": "code",
      "metadata": {
        "colab": {
          "base_uri": "https://localhost:8080/"
        },
        "id": "zb1ChqpQMOng",
        "outputId": "11186466-b235-4b6d-ccf2-7c3c61da520f"
      },
      "source": [
        "print('Train:', fr_train_dataset.entities_statistics())\r\n",
        "print('Eval :', fr_eval_dataset.entities_statistics())\r\n",
        "print('Test :', fr_test_dataset.entities_statistics())"
      ],
      "execution_count": null,
      "outputs": [
        {
          "output_type": "stream",
          "text": [
            "Train: Counter({'O': 65292, 'LOC': 9718, 'PER': 8965, 'ORG': 7764})\n",
            "Eval : Counter({'O': 32167, 'LOC': 4840, 'PER': 4406, 'ORG': 3910})\n",
            "Test : Counter({'O': 32612, 'LOC': 4985, 'PER': 4499, 'ORG': 3885})\n"
          ],
          "name": "stdout"
        }
      ]
    },
    {
      "cell_type": "code",
      "metadata": {
        "colab": {
          "base_uri": "https://localhost:8080/"
        },
        "id": "-8rCNuoZrTf4",
        "outputId": "158c3563-81ee-42e9-b173-ea2cc0900d53"
      },
      "source": [
        "classes = len(fr_train_dataset.idx2tag)\r\n",
        "\r\n",
        "device = 'cuda' if torch.cuda.is_available() else 'cpu'\r\n",
        "\r\n",
        "FrenchBertModel = BertNER(classes, pretrained='bert-base-multilingual-cased').to(device)\r\n",
        "\r\n",
        "optimizer = optim.AdamW(FrenchBertModel.parameters(), lr=2e-5)\r\n",
        "criterion = nn.CrossEntropyLoss(ignore_index=0).to(device)\r\n",
        "\r\n",
        "EPOCHS = 4\r\n",
        "\r\n",
        "train_model(FrenchBertModel, criterion, optimizer, fr_train_dataloader, fr_eval_dataloader, fr_train_dataset.tag2idx, fr_train_dataset.idx2tag, device, None, EPOCHS)\r\n",
        "test_epoch(FrenchBertModel, criterion, fr_test_dataloader, fr_train_dataset.tag2idx, fr_train_dataset.idx2tag, device)"
      ],
      "execution_count": null,
      "outputs": [
        {
          "output_type": "stream",
          "text": [
            "Epoch 1 / 4\n",
            "Train Loss = 0.26150, F1-score = 91.437%, Precision = 87.275%, Recall = 96.015%\n",
            "Valid Loss = 0.20310, F1-score = 93.994%, Precision = 90.351%, Recall = 97.944%\n",
            "Epoch 2 / 4\n",
            "Train Loss = 0.15010, F1-score = 95.551%, Precision = 92.716%, Recall = 98.565%\n",
            "Valid Loss = 0.20812, F1-score = 94.397%, Precision = 90.889%, Recall = 98.188%\n",
            "Epoch 3 / 4\n",
            "Train Loss = 0.10936, F1-score = 96.997%, Precision = 94.992%, Recall = 99.088%\n",
            "Valid Loss = 0.22745, F1-score = 94.694%, Precision = 90.775%, Recall = 98.966%\n",
            "Epoch 4 / 4\n",
            "Train Loss = 0.08547, F1-score = 97.681%, Precision = 96.051%, Recall = 99.368%\n",
            "Valid Loss = 0.25483, F1-score = 94.459%, Precision = 90.267%, Recall = 99.059%\n",
            "Test  Loss = 0.25595, F1-score = 94.339%, Precision = 89.941%, Recall = 99.189%\n"
          ],
          "name": "stdout"
        }
      ]
    },
    {
      "cell_type": "markdown",
      "metadata": {
        "id": "EAHQySyXNRxg"
      },
      "source": [
        "### Spanish"
      ]
    },
    {
      "cell_type": "code",
      "metadata": {
        "id": "btQTiB8FIohZ",
        "colab": {
          "base_uri": "https://localhost:8080/"
        },
        "outputId": "d4509d77-0f70-4d69-b317-13863b1858ff"
      },
      "source": [
        "TOKENIZER = BertTokenizer.from_pretrained('bert-base-multilingual-cased', do_lower_case=False)\r\n",
        "DEVICE = 'cuda' if torch.cuda.is_available else 'cpu'\r\n",
        "EPOCHS = 4\r\n",
        "BATCH_SIZE = 16\r\n",
        "\r\n",
        "es_train_dataset, es_train_dataloader = create_dataset_and_dataloader('../lang_es/train', BATCH_SIZE, TOKENIZER)\r\n",
        "es_eval_dataset, es_eval_dataloader = create_dataset_and_dataloader('../lang_es/dev', BATCH_SIZE, TOKENIZER)\r\n",
        "es_test_dataset, es_test_dataloader = create_dataset_and_dataloader('../lang_es/test', BATCH_SIZE, TOKENIZER)"
      ],
      "execution_count": null,
      "outputs": [
        {
          "output_type": "stream",
          "text": [
            "/usr/local/lib/python3.7/dist-packages/torch/utils/data/dataloader.py:477: UserWarning: This DataLoader will create 4 worker processes in total. Our suggested max number of worker in current system is 2, which is smaller than what this DataLoader is going to create. Please be aware that excessive worker creation might get DataLoader running slow or even freeze, lower the worker number to avoid potential slowness/freeze if necessary.\n",
            "  cpuset_checked))\n"
          ],
          "name": "stderr"
        }
      ]
    },
    {
      "cell_type": "code",
      "metadata": {
        "colab": {
          "base_uri": "https://localhost:8080/"
        },
        "id": "SYPKil_fPg2J",
        "outputId": "5b710ef9-eede-4e5c-c429-a77b15801d28"
      },
      "source": [
        "print('Train:', es_train_dataset.entities_statistics())\r\n",
        "print('Eval :', es_eval_dataset.entities_statistics())\r\n",
        "print('Test :', es_test_dataset.entities_statistics())"
      ],
      "execution_count": null,
      "outputs": [
        {
          "output_type": "stream",
          "text": [
            "Train: Counter({'O': 54216, 'LOC': 9144, 'PER': 8295, 'ORG': 7311})\n",
            "Eval : Counter({'O': 26960, 'LOC': 4567, 'PER': 3966, 'ORG': 3737})\n",
            "Test : Counter({'O': 27491, 'LOC': 4725, 'PER': 3959, 'ORG': 3576})\n"
          ],
          "name": "stdout"
        }
      ]
    },
    {
      "cell_type": "code",
      "metadata": {
        "colab": {
          "base_uri": "https://localhost:8080/"
        },
        "id": "dXyGX9h9Nclt",
        "outputId": "5fb19f25-5f11-4c02-9eca-accc54b90882"
      },
      "source": [
        "classes = len(es_train_dataset.idx2tag)\r\n",
        "\r\n",
        "device = 'cuda' if torch.cuda.is_available() else 'cpu'\r\n",
        "\r\n",
        "SpanishBertModel = BertNER(classes, pretrained='bert-base-multilingual-cased').to(device)\r\n",
        "\r\n",
        "optimizer = optim.AdamW(SpanishBertModel.parameters(), lr=2e-5)\r\n",
        "criterion = nn.CrossEntropyLoss(ignore_index=0).to(device)\r\n",
        "\r\n",
        "EPOCHS = 4\r\n",
        "\r\n",
        "train_model(SpanishBertModel, criterion, optimizer, es_train_dataloader, es_eval_dataloader, es_train_dataset.tag2idx, es_train_dataset.idx2tag, device, None, EPOCHS)\r\n",
        "test_epoch(SpanishBertModel, criterion, es_test_dataloader, es_train_dataset.tag2idx, es_train_dataset.idx2tag, device)"
      ],
      "execution_count": null,
      "outputs": [
        {
          "output_type": "stream",
          "text": [
            "Epoch 1 / 4\n",
            "Train Loss = 0.22723, F1-score = 91.455%, Precision = 87.254%, Recall = 96.082%\n",
            "Valid Loss = 0.16088, F1-score = 94.422%, Precision = 90.452%, Recall = 98.757%\n",
            "Epoch 2 / 4\n",
            "Train Loss = 0.12084, F1-score = 95.783%, Precision = 92.731%, Recall = 99.043%\n",
            "Valid Loss = 0.15460, F1-score = 94.717%, Precision = 90.806%, Recall = 98.980%\n",
            "Epoch 3 / 4\n",
            "Train Loss = 0.08684, F1-score = 97.107%, Precision = 94.954%, Recall = 99.360%\n",
            "Valid Loss = 0.17690, F1-score = 94.485%, Precision = 90.401%, Recall = 98.956%\n",
            "Epoch 4 / 4\n",
            "Train Loss = 0.06375, F1-score = 97.964%, Precision = 96.425%, Recall = 99.553%\n",
            "Valid Loss = 0.19667, F1-score = 94.819%, Precision = 91.134%, Recall = 98.815%\n",
            "Test  Loss = 0.19268, F1-score = 95.137%, Precision = 91.772%, Recall = 98.759%\n"
          ],
          "name": "stdout"
        }
      ]
    },
    {
      "cell_type": "markdown",
      "metadata": {
        "id": "5fDEkhpYOMdE"
      },
      "source": [
        "### English"
      ]
    },
    {
      "cell_type": "code",
      "metadata": {
        "id": "KSRJt0pLNpsD"
      },
      "source": [
        "TOKENIZER = BertTokenizer.from_pretrained('bert-base-multilingual-cased', do_lower_case=False)\r\n",
        "DEVICE = 'cuda' if torch.cuda.is_available else 'cpu'\r\n",
        "EPOCHS = 4\r\n",
        "BATCH_SIZE = 16\r\n",
        "\r\n",
        "en_train_dataset, en_train_dataloader = create_dataset_and_dataloader('../lang_en/train', BATCH_SIZE, TOKENIZER)\r\n",
        "en_eval_dataset, en_eval_dataloader = create_dataset_and_dataloader('../lang_en/dev', BATCH_SIZE, TOKENIZER)\r\n",
        "en_test_dataset, en_test_dataloader = create_dataset_and_dataloader('../lang_en/test', BATCH_SIZE, TOKENIZER)"
      ],
      "execution_count": null,
      "outputs": []
    },
    {
      "cell_type": "code",
      "metadata": {
        "colab": {
          "base_uri": "https://localhost:8080/"
        },
        "id": "P64R4gW6gGcR",
        "outputId": "700e7252-2b35-4369-bb00-5f239f0a5ed3"
      },
      "source": [
        "words = []\r\n",
        "for word in max(en_train_dataset.sentences, key=lambda x: len(x)):\r\n",
        "    words += TOKENIZER.tokenize(word) \r\n",
        "\r\n",
        "print(len(words))"
      ],
      "execution_count": null,
      "outputs": [
        {
          "output_type": "stream",
          "text": [
            "949\n"
          ],
          "name": "stdout"
        }
      ]
    },
    {
      "cell_type": "code",
      "metadata": {
        "id": "vdgOExyKhIA5",
        "colab": {
          "base_uri": "https://localhost:8080/"
        },
        "outputId": "b809bbdd-3c11-4aa3-ab5e-c36233f6a473"
      },
      "source": [
        "max_idx = 0\r\n",
        "max_length = 512\r\n",
        "\r\n",
        "for idx, (sentence, tags) in enumerate(zip(en_train_dataset.sentences, en_train_dataset.sentences_tags)):\r\n",
        "    words = []\r\n",
        "    for word in sentence:\r\n",
        "        words += TOKENIZER.tokenize(word) \r\n",
        "    if len(words) > max_length:\r\n",
        "        print('Words:', en_train_dataset.sentences[idx])\r\n",
        "        print('Tags :', en_train_dataset.sentences_tags[idx])\r\n",
        "        print('Len  :', len(sentence))\r\n",
        "        print('ID   :', idx)\r\n",
        "        print('-' * 10)"
      ],
      "execution_count": null,
      "outputs": [
        {
          "output_type": "stream",
          "text": [
            "Words: ['Qabar-e', 'Mohammad', 'Hasan', '|', 'Qaderabad', '|', 'Qaderabad', '|', 'Qaemabad', '|', 'Qafar', '|', \"'\", \"''\", 'Qahderijan', \"''\", \"'\", '|', 'Qaheh', '|', 'Qahjavarestan', '|', 'Qahrizjan', '|', 'Qahsareh', '|', 'Qaleh', 'Abdollah', '|', 'Qaleh', 'Aqa', '|', 'Qaleh', 'Bahman', '|', 'Qaleh', 'Dar', '|', 'Qaleh', 'Ekhlas', '|', 'Qaleh', 'Emam', '|', 'Qaleh', 'Gusheh', '|', 'Qaleh', 'Khvajeh', '|', 'Qaleh', 'Lay', 'Bid', '|', 'Qaleh', 'Pain', '|', 'Qaleh', 'Sangi', '|', 'Qaleh', 'Sarab', '|', 'Qaleh', 'Sareban', '|', 'Qaleh', 'Sefid', '|', 'Qaleh', 'Sorkh', '|', 'Qaleh', 'Zanbur-e', 'Olya', '|', 'Qaleh-ye', 'Abbas', 'Bek', '|', 'Qaleh-ye', 'Amir', '|', 'Qaleh-ye', 'Amiriyeh', '|', 'Qaleh-ye', 'Arab', '|', 'Qaleh-ye', 'Baba', 'Mohammad', '|', 'Qaleh-ye', 'Baghal', '|', 'Qaleh-ye', 'Bala-ye', 'Sian', '|', 'Qaleh-ye', 'Bertianchi', '|', 'Qaleh-ye', 'Chum', '|', 'Qaleh-ye', 'Hajj', 'Mirza', 'Aghasi', '|', 'Qaleh-ye', 'Malek', '|', 'Qaleh-ye', 'Morgh', '|', 'Qaleh-ye', 'Musa', 'Khan', '|', 'Qaleh-ye', 'Nazer', '|', 'Qaleh-ye', 'Qadam', '|', 'Qaleh-ye', 'Shur', '|', 'Qaleh-ye', 'Sorkh', '|', 'Qaleh-ye', 'Torkan', '|', 'Qaleh-ye', 'Torki', '|', 'Qaleh-ye', 'Zeynabiyeh', '|', 'Qaleqan', '|', \"'\", \"''\", 'Qamsar', \"''\", \"'\", '|', 'Qanat-e', 'Kifteh', '|', 'Qand-e', 'Naqsh-e', 'Jahan', 'Factory', '|', 'Qand-e', 'Nur-e', 'Sepahan', '|', 'Qarah', 'Boltaq', '|', 'Qarah', 'Qach', '|', 'Qareh', 'Tappeh', '|', 'Qarneh', '|', 'Qasemabad', '|', 'Qasemabad', '|', 'Qasemabad', '|', 'Qasemabad', '|', 'Qasr-e', 'Cham', '|', 'Qavamabad', '|', 'Qayed', 'Ali', '|', 'Qayumabad', '|', 'Qaza', 'An', '|', 'Qeh', '|', 'Qehi', '|', 'Qeshlaq', '|', 'Qohrud', '|', 'Qolteq', 'Shah', '|', 'Qombovan', '|', 'Qomishlu', '|', 'Qomshan', '|', 'Qorbani', '|', 'Qorghan', '|', 'Qoroq', 'Aqa', '|', 'Qorqor', '|', 'Qudejan', '|', 'Qudjanak', '|', 'Quhak', '|', 'Qurtan']\n",
            "Tags : ['B-LOC', 'I-LOC', 'I-LOC', 'O', 'B-LOC', 'O', 'B-LOC', 'O', 'B-LOC', 'O', 'B-LOC', 'O', 'O', 'O', 'B-LOC', 'O', 'O', 'O', 'B-LOC', 'O', 'B-LOC', 'O', 'B-LOC', 'O', 'B-LOC', 'O', 'B-LOC', 'I-LOC', 'O', 'B-LOC', 'I-LOC', 'O', 'B-LOC', 'I-LOC', 'O', 'B-LOC', 'I-LOC', 'O', 'B-LOC', 'I-LOC', 'O', 'B-LOC', 'I-LOC', 'O', 'B-LOC', 'I-LOC', 'O', 'B-LOC', 'I-LOC', 'O', 'B-LOC', 'I-LOC', 'I-LOC', 'O', 'B-LOC', 'I-LOC', 'O', 'B-LOC', 'I-LOC', 'O', 'B-LOC', 'I-LOC', 'O', 'B-LOC', 'I-LOC', 'O', 'B-LOC', 'I-LOC', 'O', 'B-LOC', 'I-LOC', 'O', 'B-LOC', 'I-LOC', 'I-LOC', 'O', 'B-LOC', 'I-LOC', 'I-LOC', 'O', 'B-LOC', 'I-LOC', 'O', 'B-LOC', 'I-LOC', 'O', 'B-LOC', 'I-LOC', 'O', 'B-LOC', 'I-LOC', 'I-LOC', 'O', 'B-LOC', 'I-LOC', 'O', 'B-LOC', 'I-LOC', 'I-LOC', 'O', 'B-LOC', 'I-LOC', 'O', 'B-LOC', 'I-LOC', 'O', 'B-LOC', 'I-LOC', 'I-LOC', 'I-LOC', 'O', 'B-LOC', 'I-LOC', 'O', 'B-LOC', 'I-LOC', 'O', 'B-LOC', 'I-LOC', 'I-LOC', 'O', 'B-LOC', 'I-LOC', 'O', 'B-LOC', 'I-LOC', 'O', 'B-LOC', 'I-LOC', 'O', 'B-LOC', 'I-LOC', 'O', 'B-LOC', 'I-LOC', 'O', 'B-LOC', 'I-LOC', 'O', 'B-LOC', 'I-LOC', 'O', 'B-LOC', 'O', 'O', 'O', 'B-LOC', 'O', 'O', 'O', 'B-LOC', 'I-LOC', 'O', 'B-LOC', 'I-LOC', 'I-LOC', 'I-LOC', 'O', 'B-LOC', 'I-LOC', 'I-LOC', 'O', 'B-LOC', 'I-LOC', 'O', 'B-LOC', 'I-LOC', 'O', 'B-LOC', 'I-LOC', 'O', 'B-LOC', 'O', 'B-LOC', 'O', 'B-LOC', 'O', 'B-LOC', 'O', 'B-LOC', 'O', 'B-LOC', 'I-LOC', 'O', 'B-LOC', 'O', 'B-LOC', 'I-LOC', 'O', 'B-LOC', 'O', 'B-LOC', 'I-LOC', 'O', 'B-LOC', 'O', 'B-LOC', 'O', 'B-LOC', 'O', 'B-LOC', 'O', 'B-LOC', 'I-LOC', 'O', 'B-LOC', 'O', 'B-LOC', 'O', 'B-LOC', 'O', 'B-LOC', 'O', 'B-LOC', 'O', 'B-LOC', 'I-LOC', 'O', 'B-LOC', 'O', 'B-LOC', 'O', 'B-LOC', 'O', 'B-LOC', 'O', 'B-LOC']\n",
            "Len  : 227\n",
            "ID   : 1721\n",
            "----------\n",
            "Words: [\"'\", \"''\", 'Gahwareh', \"''\", \"'\", '|', 'Gakiyeh', '|', 'Gakiyeh', '|', 'Galam', 'Kabud-e', 'Olya', '|', 'Galam', 'Kabud-e', 'Sofla', '|', 'Galianeh-ye', 'Ali', 'Baqer', '|', 'Gallovij', '|', 'Galu', 'Darreh', '|', 'Galuzi', '|', 'Galuzi-ye', 'Davud', '|', 'Gamizaj-e', 'Olya', '|', 'Gand', 'Ab', '|', 'Gandabad', '|', 'Gandab-e', 'Olya', '|', 'Gandab-e', 'Sofla', '|', 'Gandab-e', 'Vosta', '|', 'Gandomban-e', 'Olya', '|', 'Gandomban-e', 'Sofla', '|', 'Ganjavan', '|', 'Ganjureh', '|', 'Garah', 'Ban', '|', 'Garavand', '|', 'Gardangah-e', 'Quchemi', '|', 'Gardeh', 'Now', '|', 'Gardel', 'Gari', 'Ali', 'Aqa', '|', 'Gargelan', '|', 'Garm', 'Darreh', '|', 'Garmab', '|', 'Garmab-e', 'Mohammad', 'Rezavandi', '|', 'Garmianak', '|', 'Garmiyan-e', 'Posht-e', 'Rah', '|', 'Garrab-e', 'Olya', '|', 'Garraveh-ye', 'Esmail', '|', 'Garraveh-ye', 'Nomareh', 'Do', '|', 'Garus-e', 'Olya', '|', 'Garus-e', 'Sofla', '|', 'Gav', 'Bandeh', '|', 'Gav', 'Panam', '|', 'Gav', 'Sur', '|', 'Gaval', '|', 'Gavanban', '|', 'Gavchali', '|', 'Gavdaneh', 'Godar', '|', 'Gavdaneh', 'Khvor', '|', 'Gaveh-ye', 'Seyyed', 'Mohammad', 'Hoseyni', '|', 'Gavgol-e', 'Olya', '|', 'Gavgol-e', 'Qaleh', '|', 'Gavmakhal-e', 'Eyvani', '|', 'Gavmareh', '|', 'Gavmish', 'Cheran-e', 'Arab', '|', 'Gavrani', '|', 'Gavshan-e', 'Olya', '|', 'Gavshan-e', 'Sofla', '|', 'Gazaf-e', 'Olya', '|', 'Gazaf-e', 'Sofla', '|', 'Gazan', '|', 'Gazin', '|', 'Gaznahleh', '|', 'Gazneh', '|', 'Gel', 'Sefid', '|', 'Gelal', '|', 'Gelali', '|', 'Gelali-ye', 'Jadid', '|', 'Gel-e', 'Sorkheh', '|', 'Geli', '|', 'Genani', '|', 'Geravand', '|', 'Geravian-e', 'Sofla', '|', 'Gerdak', '|', 'Gerdakan', 'Dar-e', 'Olya', '|', 'Gerdakan', 'Dar-e', 'Sofla', '|', 'Gerdakaneh', '|', 'Gerdakaneh-ye', 'Olya', '|', 'Gerdakaneh-ye', 'Sofla', '|', 'Gerdekan', 'Kureh', '|', 'Gerisheh-ye', 'Sofla', '|', 'Geyeh', 'Dar', '|', 'Ghazan', 'Dul', 'Ali', 'Morad', '|', 'Gheybollah', '|', 'Ghiasabad', '|', 'Gholamali', 'Beyg', '|', 'Gichi', 'Darreh', '|', 'Gij', '|', 'Gilanbar-e', 'Sofla', '|', \"'\", \"''\", 'Gilan-e', 'Gharb', \"''\", \"'\", '|', 'Gilaneh', '|', 'Gildan', '|', 'Godar', 'Pir-e', 'Olya', '|', 'Godar', 'Pir-e', 'Sofla', '|', 'Gol', 'Anjir', '|', 'Gol', 'Darreh', '|', 'Gol', 'Darreh-ye', 'Olya', '|', 'Gol', 'Darreh-ye', 'Sofla', '|', 'Gol', 'Kheyrak-e', 'Olya', '|', 'Gol', 'Kheyrak-e', 'Sofla', '|', 'Gol', 'Tappeh', '|', 'Gol', 'Zardeh', '|', 'Golah', 'Jar', '|', 'Golali', '|', 'Golam', 'Kabud-e', 'Olya', '|', 'Golam', 'Kabud-e', 'Sofla', '|', 'Golam', 'Kabud-e', 'Vosta', '|', 'Golbaghi', '|', 'Gol-e', 'Khatr', '|', 'Golil', '|', 'Golin', 'Allah', 'Morad', '|', 'Goljiran', '|', 'Golmatabad', '|', 'Golom', 'Kabud', '|', 'Gomeshtar-e', 'Olya', '|', 'Gorazabad', '|', 'Gorazan-e', 'Olya', '|', 'Gorazan-e', 'Sofla', '|', 'Gordi', '|', 'Goreh', 'Choqa', '|', 'Gorg', 'Abi', 'Mirza', 'Ali', '|', 'Gorgan', '|', 'Gorgavan', '|', 'Gorgavand', '|', 'Gorgeh', 'Bisheh-ye', 'Olya', '|', 'Gorgeh', 'Bisheh-ye', 'Sofla', '|', 'Gorgeh', 'Choqa', '|', 'Gorgi', 'Dar', '|', 'Gorgin', 'Darreh', '|', 'Gorgi-ye', 'Manderek', '|', 'Gorji', 'Bayan', '|', 'Goruran-e', 'Chahar', 'Dang', '|', 'Goruran-e', 'Do', 'Dang', '|', 'Goruran-e', 'Olya', '|', 'Goruran-e', 'Sofla', '|', 'Goveni', '|', 'Govijeh', '|', 'Gowdin', '|', 'Gowhar', 'Chaqa', '|', 'Gowharabad', '|', 'Gowhareh', '|', 'Gugerd', '|', 'Gur', 'Sefid', '|', 'Gura', 'Jub-e', 'Baba', 'Karam', '|', 'Gura', 'Jub-e', 'Morad', 'Beyg', '|', 'Gura', 'Jub-e', 'Qeshlaq', '|', 'Gura', 'Jub-e', 'Zeyyed', 'Ali', '|', 'Gur-e', 'Gavarz', '|', 'Guri', 'Gur', '|', 'Guri', 'Zardallahi', '|', 'Gurjavi', 'Rashid', '|', 'Gush', 'Boran', '|', 'Guyaleh']\n",
            "Tags : ['O', 'O', 'B-LOC', 'O', 'O', 'O', 'B-LOC', 'O', 'B-LOC', 'O', 'B-LOC', 'I-LOC', 'I-LOC', 'O', 'B-LOC', 'I-LOC', 'I-LOC', 'O', 'B-LOC', 'I-LOC', 'I-LOC', 'O', 'B-LOC', 'O', 'B-LOC', 'I-LOC', 'O', 'B-LOC', 'O', 'B-LOC', 'I-LOC', 'O', 'B-LOC', 'I-LOC', 'O', 'B-LOC', 'I-LOC', 'O', 'B-LOC', 'O', 'B-LOC', 'I-LOC', 'O', 'B-LOC', 'I-LOC', 'O', 'B-LOC', 'I-LOC', 'O', 'B-LOC', 'I-LOC', 'O', 'B-LOC', 'I-LOC', 'O', 'B-LOC', 'O', 'B-LOC', 'O', 'B-LOC', 'I-LOC', 'O', 'B-LOC', 'O', 'B-LOC', 'I-LOC', 'O', 'B-LOC', 'I-LOC', 'O', 'B-LOC', 'I-LOC', 'I-LOC', 'I-LOC', 'O', 'B-LOC', 'O', 'B-LOC', 'I-LOC', 'O', 'B-LOC', 'O', 'B-LOC', 'I-LOC', 'I-LOC', 'O', 'B-LOC', 'O', 'B-LOC', 'I-LOC', 'I-LOC', 'O', 'B-LOC', 'I-LOC', 'O', 'B-LOC', 'I-LOC', 'O', 'B-LOC', 'I-LOC', 'I-LOC', 'O', 'B-LOC', 'I-LOC', 'O', 'B-LOC', 'I-LOC', 'O', 'B-LOC', 'I-LOC', 'O', 'B-LOC', 'I-LOC', 'O', 'B-LOC', 'I-LOC', 'O', 'B-LOC', 'O', 'B-LOC', 'O', 'B-LOC', 'O', 'B-LOC', 'I-LOC', 'O', 'B-LOC', 'I-LOC', 'O', 'B-LOC', 'I-LOC', 'I-LOC', 'I-LOC', 'O', 'B-LOC', 'I-LOC', 'O', 'B-LOC', 'I-LOC', 'O', 'B-LOC', 'I-LOC', 'O', 'B-LOC', 'O', 'B-LOC', 'I-LOC', 'I-LOC', 'O', 'B-LOC', 'O', 'B-LOC', 'I-LOC', 'O', 'B-LOC', 'I-LOC', 'O', 'B-LOC', 'I-LOC', 'O', 'B-LOC', 'I-LOC', 'O', 'B-LOC', 'O', 'B-LOC', 'O', 'B-LOC', 'O', 'B-LOC', 'O', 'B-LOC', 'I-LOC', 'O', 'B-LOC', 'O', 'B-LOC', 'O', 'B-LOC', 'I-LOC', 'O', 'B-LOC', 'I-LOC', 'O', 'B-LOC', 'O', 'B-LOC', 'O', 'B-LOC', 'O', 'B-LOC', 'I-LOC', 'O', 'B-LOC', 'O', 'B-LOC', 'I-LOC', 'I-LOC', 'O', 'B-LOC', 'I-LOC', 'I-LOC', 'O', 'B-LOC', 'O', 'B-LOC', 'I-LOC', 'O', 'B-LOC', 'I-LOC', 'O', 'B-LOC', 'I-LOC', 'O', 'B-LOC', 'I-LOC', 'O', 'B-LOC', 'I-LOC', 'O', 'B-LOC', 'I-LOC', 'I-LOC', 'I-LOC', 'O', 'B-LOC', 'O', 'B-LOC', 'O', 'B-LOC', 'I-LOC', 'O', 'B-LOC', 'I-LOC', 'O', 'B-LOC', 'O', 'B-LOC', 'I-LOC', 'O', 'O', 'O', 'B-LOC', 'I-LOC', 'O', 'O', 'O', 'B-LOC', 'O', 'B-LOC', 'O', 'B-LOC', 'I-LOC', 'I-LOC', 'O', 'B-LOC', 'I-LOC', 'I-LOC', 'O', 'B-LOC', 'I-LOC', 'O', 'B-LOC', 'I-LOC', 'O', 'B-LOC', 'I-LOC', 'I-LOC', 'O', 'B-LOC', 'I-LOC', 'I-LOC', 'O', 'B-LOC', 'I-LOC', 'I-LOC', 'O', 'B-LOC', 'I-LOC', 'I-LOC', 'O', 'B-LOC', 'I-LOC', 'O', 'B-LOC', 'I-LOC', 'O', 'B-LOC', 'I-LOC', 'O', 'B-LOC', 'O', 'B-LOC', 'I-LOC', 'I-LOC', 'O', 'B-LOC', 'I-LOC', 'I-LOC', 'O', 'B-LOC', 'I-LOC', 'I-LOC', 'O', 'B-LOC', 'O', 'B-LOC', 'I-LOC', 'O', 'B-LOC', 'O', 'B-LOC', 'I-LOC', 'I-LOC', 'O', 'B-LOC', 'O', 'B-LOC', 'O', 'B-LOC', 'I-LOC', 'O', 'B-LOC', 'I-LOC', 'O', 'B-LOC', 'O', 'B-LOC', 'I-LOC', 'O', 'B-LOC', 'I-LOC', 'O', 'B-LOC', 'O', 'B-LOC', 'I-LOC', 'O', 'B-LOC', 'I-LOC', 'I-LOC', 'I-LOC', 'O', 'B-LOC', 'O', 'B-LOC', 'O', 'B-LOC', 'O', 'B-LOC', 'I-LOC', 'I-LOC', 'O', 'B-LOC', 'I-LOC', 'I-LOC', 'O', 'B-LOC', 'I-LOC', 'O', 'B-LOC', 'I-LOC', 'O', 'B-LOC', 'I-LOC', 'O', 'B-LOC', 'I-LOC', 'O', 'B-LOC', 'I-LOC', 'O', 'B-LOC', 'I-LOC', 'I-LOC', 'O', 'B-LOC', 'I-LOC', 'I-LOC', 'O', 'B-LOC', 'I-LOC', 'O', 'B-LOC', 'I-LOC', 'O', 'B-LOC', 'O', 'B-LOC', 'O', 'B-LOC', 'O', 'B-LOC', 'I-LOC', 'O', 'B-LOC', 'O', 'B-LOC', 'O', 'B-LOC', 'O', 'B-LOC', 'I-LOC', 'O', 'B-LOC', 'I-LOC', 'I-LOC', 'I-LOC', 'O', 'B-LOC', 'I-LOC', 'I-LOC', 'I-LOC', 'O', 'B-LOC', 'I-LOC', 'I-LOC', 'O', 'B-LOC', 'I-LOC', 'I-LOC', 'I-LOC', 'O', 'B-LOC', 'I-LOC', 'O', 'B-LOC', 'I-LOC', 'O', 'B-LOC', 'I-LOC', 'O', 'B-LOC', 'I-LOC', 'O', 'B-LOC', 'I-LOC', 'O', 'B-LOC']\n",
            "Len  : 439\n",
            "ID   : 9967\n",
            "----------\n"
          ],
          "name": "stdout"
        }
      ]
    },
    {
      "cell_type": "code",
      "metadata": {
        "id": "dPLkTyfphEiW"
      },
      "source": [
        "# ids to drop because of the size of sentence's tokens, that doesn't fit into BERT's 512 bound \r\n",
        "\r\n",
        "ids_to_drop_train = [1721, 9967, 9966]"
      ],
      "execution_count": null,
      "outputs": []
    },
    {
      "cell_type": "code",
      "metadata": {
        "id": "sh8rrxk2hBsn"
      },
      "source": [
        "for idx in ids_to_drop_train:\r\n",
        "    en_train_dataset.sentences.pop(idx)\r\n",
        "    en_train_dataset.sentences_tags.pop(idx)"
      ],
      "execution_count": null,
      "outputs": []
    },
    {
      "cell_type": "code",
      "metadata": {
        "colab": {
          "base_uri": "https://localhost:8080/"
        },
        "id": "H55YS2axQAgK",
        "outputId": "481b5a85-5b79-483a-ba2e-d78a8e58d3aa"
      },
      "source": [
        "print('Train:', en_train_dataset.entities_statistics())\r\n",
        "print('Eval :', en_eval_dataset.entities_statistics())\r\n",
        "print('Test :', en_test_dataset.entities_statistics())"
      ],
      "execution_count": null,
      "outputs": [
        {
          "output_type": "stream",
          "text": [
            "Train: Counter({'O': 81120, 'ORG': 9422, 'PER': 9164, 'LOC': 9116})\n",
            "Eval : Counter({'O': 40875, 'LOC': 4834, 'ORG': 4677, 'PER': 4635})\n",
            "Test : Counter({'O': 40834, 'ORG': 4745, 'LOC': 4657, 'PER': 4556})\n"
          ],
          "name": "stdout"
        }
      ]
    },
    {
      "cell_type": "code",
      "metadata": {
        "id": "cAr0NqgyhIMV"
      },
      "source": [
        "from torch.utils.data import DataLoader\r\n",
        "\r\n",
        "en_train_dataloader = DataLoader(en_train_dataset, BATCH_SIZE, collate_fn=en_train_dataset.paddings)\r\n",
        "en_eval_dataloader = DataLoader(en_eval_dataset, BATCH_SIZE, collate_fn=en_eval_dataset.paddings)\r\n",
        "en_test_dataloader = DataLoader(en_test_dataset, BATCH_SIZE, collate_fn=en_test_dataset.paddings)"
      ],
      "execution_count": null,
      "outputs": []
    },
    {
      "cell_type": "code",
      "metadata": {
        "id": "CmaQ1tiZOTU7",
        "colab": {
          "base_uri": "https://localhost:8080/"
        },
        "outputId": "2f571d12-e86f-45bd-c879-12b354b952ff"
      },
      "source": [
        "classes = len(en_train_dataset.idx2tag)\r\n",
        "\r\n",
        "device = 'cuda' if torch.cuda.is_available() else 'cpu'\r\n",
        "\r\n",
        "EnglishBertModel = BertNER(classes, pretrained='bert-base-multilingual-cased').to(device)\r\n",
        "\r\n",
        "optimizer = optim.AdamW(EnglishBertModel.parameters(), lr=2e-6)\r\n",
        "criterion = nn.CrossEntropyLoss(ignore_index=0).to(device)\r\n",
        "\r\n",
        "EPOCHS = 4\r\n",
        "\r\n",
        "train_model(EnglishBertModel, criterion, optimizer, en_train_dataloader, en_eval_dataloader, en_train_dataset.tag2idx, en_train_dataset.idx2tag, device, None, EPOCHS)\r\n",
        "test_epoch(EnglishBertModel, criterion, en_test_dataloader, en_train_dataset.tag2idx, en_train_dataset.idx2tag, device)"
      ],
      "execution_count": null,
      "outputs": [
        {
          "output_type": "stream",
          "text": [
            "Epoch 1 / 4\n",
            "Train Loss = 0.59357, F1-score = 75.236%, Precision = 70.867%, Recall = 80.180%\n",
            "Valid Loss = 0.34072, F1-score = 87.827%, Precision = 81.284%, Recall = 95.515%\n",
            "Epoch 2 / 4\n",
            "Train Loss = 0.31717, F1-score = 88.418%, Precision = 82.487%, Recall = 95.269%\n",
            "Valid Loss = 0.28850, F1-score = 89.955%, Precision = 84.191%, Recall = 96.567%\n",
            "Epoch 3 / 4\n",
            "Train Loss = 0.26757, F1-score = 90.308%, Precision = 85.015%, Recall = 96.304%\n",
            "Valid Loss = 0.26853, F1-score = 90.814%, Precision = 85.191%, Recall = 97.232%\n",
            "Epoch 4 / 4\n",
            "Train Loss = 0.23837, F1-score = 91.479%, Precision = 86.708%, Recall = 96.807%\n",
            "Valid Loss = 0.25891, F1-score = 91.248%, Precision = 85.755%, Recall = 97.494%\n",
            "Test  Loss = 0.25266, F1-score = 91.340%, Precision = 85.825%, Recall = 97.613%\n"
          ],
          "name": "stdout"
        }
      ]
    },
    {
      "cell_type": "markdown",
      "metadata": {
        "id": "3_3dhgIfOc_J"
      },
      "source": [
        "### Russian"
      ]
    },
    {
      "cell_type": "code",
      "metadata": {
        "id": "_LUtDDrbW-MT"
      },
      "source": [
        "from transformers import BertModel\r\n",
        "import torch.nn as nn\r\n",
        "\r\n",
        "class BertNER(nn.Module):\r\n",
        "    def __init__(self, num_classes, pretrained='bert-base-multilingual-cased'):\r\n",
        "        super(BertNER, self).__init__()\r\n",
        "        self.embedding_dim = 768\r\n",
        "        self.num_classes = num_classes\r\n",
        "\r\n",
        "        self.bert = BertModel.from_pretrained(pretrained, output_attentions=True)\r\n",
        "        self.linear = nn.Linear(self.embedding_dim, self.num_classes)\r\n",
        "\r\n",
        "    def forward(self, tokens):\r\n",
        "        embeddings = self.bert(tokens)[0]\r\n",
        "        predictions = self.linear(embeddings)\r\n",
        "\r\n",
        "        return predictions\r\n"
      ],
      "execution_count": null,
      "outputs": []
    },
    {
      "cell_type": "code",
      "metadata": {
        "id": "BY0SsBuQOe4x"
      },
      "source": [
        "TOKENIZER = BertTokenizer.from_pretrained('bert-base-multilingual-cased', do_lower_case=False)\r\n",
        "DEVICE = 'cuda' if torch.cuda.is_available else 'cpu'\r\n",
        "EPOCHS = 4\r\n",
        "BATCH_SIZE = 16\r\n",
        "\r\n",
        "ru_train_dataset, ru_train_dataloader = create_dataset_and_dataloader('../lang_ru/train', BATCH_SIZE, TOKENIZER)\r\n",
        "ru_eval_dataset, ru_eval_dataloader = create_dataset_and_dataloader('../lang_ru/dev', BATCH_SIZE, TOKENIZER)\r\n",
        "ru_test_dataset, ru_test_dataloader = create_dataset_and_dataloader('../lang_ru/test', BATCH_SIZE, TOKENIZER)"
      ],
      "execution_count": null,
      "outputs": []
    },
    {
      "cell_type": "code",
      "metadata": {
        "colab": {
          "base_uri": "https://localhost:8080/"
        },
        "id": "uynvdIq4Qg6N",
        "outputId": "9d0d8d67-61af-4c74-b7fc-2f60c92be9c2"
      },
      "source": [
        "print('Train:', ru_train_dataset.entities_statistics())\r\n",
        "print('Eval :', ru_eval_dataset.entities_statistics())\r\n",
        "print('Test :', ru_test_dataset.entities_statistics())"
      ],
      "execution_count": null,
      "outputs": [
        {
          "output_type": "stream",
          "text": [
            "Train: Counter({'O': 79597, 'LOC': 9498, 'ORG': 7944, 'PER': 7187})\n",
            "Eval : Counter({'O': 39970, 'LOC': 4852, 'ORG': 3892, 'PER': 3590})\n",
            "Test : Counter({'O': 40499, 'LOC': 4560, 'ORG': 4074, 'PER': 3543})\n"
          ],
          "name": "stdout"
        }
      ]
    },
    {
      "cell_type": "code",
      "metadata": {
        "id": "D9MTEMLFOkZJ",
        "colab": {
          "base_uri": "https://localhost:8080/"
        },
        "outputId": "883ad101-9d88-4554-ab37-911c6ebfc42a"
      },
      "source": [
        "classes = len(ru_train_dataset.idx2tag)\r\n",
        "\r\n",
        "device = 'cuda' if torch.cuda.is_available() else 'cpu'\r\n",
        "\r\n",
        "RussianBertModel = BertNER(classes, pretrained='bert-base-multilingual-cased').to(device)\r\n",
        "\r\n",
        "optimizer = optim.AdamW(RussianBertModel.parameters(), lr=2e-6)\r\n",
        "criterion = nn.CrossEntropyLoss(ignore_index=0).to(device)\r\n",
        "\r\n",
        "EPOCHS = 4\r\n",
        "\r\n",
        "train_model(RussianBertModel, criterion, optimizer, ru_train_dataloader, ru_eval_dataloader, ru_train_dataset.tag2idx, ru_train_dataset.idx2tag, device, None, EPOCHS)\r\n",
        "test_epoch(RussianBertModel, criterion, ru_test_dataloader, ru_train_dataset.tag2idx, ru_train_dataset.idx2tag, device)"
      ],
      "execution_count": null,
      "outputs": [
        {
          "output_type": "stream",
          "text": [
            "Epoch 1 / 4\n",
            "Train Loss = 0.54136, F1-score = 77.449%, Precision = 74.677%, Recall = 80.434%\n",
            "Valid Loss = 0.26988, F1-score = 90.184%, Precision = 85.094%, Recall = 95.922%\n",
            "Epoch 2 / 4\n",
            "Train Loss = 0.25000, F1-score = 91.158%, Precision = 87.073%, Recall = 95.645%\n",
            "Valid Loss = 0.21360, F1-score = 92.683%, Precision = 88.411%, Recall = 97.390%\n",
            "Epoch 3 / 4\n",
            "Train Loss = 0.19800, F1-score = 93.276%, Precision = 90.039%, Recall = 96.755%\n",
            "Valid Loss = 0.19340, F1-score = 93.536%, Precision = 89.914%, Recall = 97.461%\n",
            "Epoch 4 / 4\n",
            "Train Loss = 0.16941, F1-score = 94.309%, Precision = 91.390%, Recall = 97.420%\n",
            "Valid Loss = 0.19047, F1-score = 93.882%, Precision = 90.174%, Recall = 97.909%\n",
            "Test  Loss = 0.20028, F1-score = 93.702%, Precision = 89.947%, Recall = 97.784%\n"
          ],
          "name": "stdout"
        }
      ]
    },
    {
      "cell_type": "markdown",
      "metadata": {
        "id": "q00XKKILbd5V"
      },
      "source": [
        "### Czech"
      ]
    },
    {
      "cell_type": "code",
      "metadata": {
        "id": "hkWEhXoUbfuA"
      },
      "source": [
        "TOKENIZER = BertTokenizer.from_pretrained('bert-base-multilingual-cased', do_lower_case=False)\r\n",
        "DEVICE = 'cuda' if torch.cuda.is_available else 'cpu'\r\n",
        "EPOCHS = 4\r\n",
        "BATCH_SIZE = 16\r\n",
        "\r\n",
        "cs_train_dataset, cs_train_dataloader = create_dataset_and_dataloader('../lang_cs/train', BATCH_SIZE, TOKENIZER)\r\n",
        "cs_eval_dataset, cs_eval_dataloader = create_dataset_and_dataloader('../lang_cs/dev', BATCH_SIZE, TOKENIZER)\r\n",
        "cs_test_dataset, cs_test_dataloader = create_dataset_and_dataloader('../lang_cs/test', BATCH_SIZE, TOKENIZER)"
      ],
      "execution_count": null,
      "outputs": []
    },
    {
      "cell_type": "code",
      "metadata": {
        "colab": {
          "base_uri": "https://localhost:8080/"
        },
        "id": "p-AfykhLQ-ZL",
        "outputId": "e475849c-f1ef-43df-83ce-1d4f339a68df"
      },
      "source": [
        "print('Train:', cs_train_dataset.entities_statistics())\r\n",
        "print('Eval :', cs_eval_dataset.entities_statistics())\r\n",
        "print('Test :', cs_test_dataset.entities_statistics())"
      ],
      "execution_count": null,
      "outputs": [
        {
          "output_type": "stream",
          "text": [
            "Train: Counter({'O': 113212, 'LOC': 10492, 'PER': 9203, 'ORG': 8992})\n",
            "Eval : Counter({'O': 56054, 'LOC': 5372, 'ORG': 4473, 'PER': 4423})\n",
            "Test : Counter({'O': 55668, 'LOC': 5422, 'PER': 4536, 'ORG': 4465})\n"
          ],
          "name": "stdout"
        }
      ]
    },
    {
      "cell_type": "code",
      "metadata": {
        "colab": {
          "base_uri": "https://localhost:8080/"
        },
        "id": "JwTQihDTd2mQ",
        "outputId": "00b0fbd8-ff56-46fc-d7ef-fa946e54b728"
      },
      "source": [
        "classes = len(cs_train_dataset.idx2tag)\r\n",
        "\r\n",
        "device = 'cuda' if torch.cuda.is_available() else 'cpu'\r\n",
        "\r\n",
        "CzechBertModel = BertNER(classes, pretrained='bert-base-multilingual-cased').to(device)\r\n",
        "\r\n",
        "optimizer = optim.AdamW(CzechBertModel.parameters(), lr=2e-6)\r\n",
        "criterion = nn.CrossEntropyLoss(ignore_index=0).to(device)\r\n",
        "\r\n",
        "EPOCHS = 4\r\n",
        "\r\n",
        "train_model(CzechBertModel, criterion, optimizer, cs_train_dataloader, cs_eval_dataloader, cs_train_dataset.tag2idx, cs_train_dataset.idx2tag, device, None, EPOCHS)\r\n",
        "test_epoch(CzechBertModel, criterion, cs_test_dataloader, cs_train_dataset.tag2idx, cs_train_dataset.idx2tag, device)"
      ],
      "execution_count": null,
      "outputs": [
        {
          "output_type": "stream",
          "text": [
            "Epoch 1 / 4\n",
            "Train Loss = 0.41473, F1-score = 79.213%, Precision = 77.310%, Recall = 81.212%\n",
            "Valid Loss = 0.19975, F1-score = 91.240%, Precision = 87.265%, Recall = 95.594%\n",
            "Epoch 2 / 4\n",
            "Train Loss = 0.18007, F1-score = 91.955%, Precision = 88.600%, Recall = 95.575%\n",
            "Valid Loss = 0.15610, F1-score = 93.474%, Precision = 90.886%, Recall = 96.214%\n",
            "Epoch 3 / 4\n",
            "Train Loss = 0.14040, F1-score = 93.908%, Precision = 91.246%, Recall = 96.731%\n",
            "Valid Loss = 0.13992, F1-score = 94.451%, Precision = 92.131%, Recall = 96.890%\n",
            "Epoch 4 / 4\n",
            "Train Loss = 0.11642, F1-score = 95.071%, Precision = 92.884%, Recall = 97.363%\n",
            "Valid Loss = 0.12981, F1-score = 94.977%, Precision = 92.862%, Recall = 97.191%\n",
            "Test  Loss = 0.13404, F1-score = 94.804%, Precision = 92.298%, Recall = 97.449%\n"
          ],
          "name": "stdout"
        }
      ]
    },
    {
      "cell_type": "markdown",
      "metadata": {
        "id": "H6__zlxTOxEb"
      },
      "source": [
        "### Simplified Chinese"
      ]
    },
    {
      "cell_type": "code",
      "metadata": {
        "id": "Z-nXVrmROz65",
        "colab": {
          "base_uri": "https://localhost:8080/"
        },
        "outputId": "00d29aac-d21e-455c-953a-a25d0dd4881a"
      },
      "source": [
        "TOKENIZER = BertTokenizer.from_pretrained('bert-base-multilingual-cased', do_lower_case=False)\r\n",
        "DEVICE = 'cuda' if torch.cuda.is_available else 'cpu'\r\n",
        "EPOCHS = 4\r\n",
        "BATCH_SIZE = 8\r\n",
        "\r\n",
        "zh_train_dataset, _ = create_dataset_and_dataloader('../lang_zh/train', BATCH_SIZE, TOKENIZER)\r\n",
        "zh_eval_dataset, _ = create_dataset_and_dataloader('../lang_zh/dev', BATCH_SIZE, TOKENIZER)\r\n",
        "zh_test_dataset, _ = create_dataset_and_dataloader('../lang_zh/test', BATCH_SIZE, TOKENIZER)"
      ],
      "execution_count": null,
      "outputs": [
        {
          "output_type": "stream",
          "text": [
            "/usr/local/lib/python3.7/dist-packages/torch/utils/data/dataloader.py:477: UserWarning: This DataLoader will create 4 worker processes in total. Our suggested max number of worker in current system is 2, which is smaller than what this DataLoader is going to create. Please be aware that excessive worker creation might get DataLoader running slow or even freeze, lower the worker number to avoid potential slowness/freeze if necessary.\n",
            "  cpuset_checked))\n"
          ],
          "name": "stderr"
        }
      ]
    },
    {
      "cell_type": "code",
      "metadata": {
        "id": "SjsMR32PTS4h",
        "colab": {
          "base_uri": "https://localhost:8080/"
        },
        "outputId": "f8fb3f2f-e722-43de-9215-a631be1d7c7e"
      },
      "source": [
        "max_idx = 0\r\n",
        "max_length = 512\r\n",
        "\r\n",
        "for idx, (sentence, tags) in enumerate(zip(zh_eval_dataset.sentences, zh_eval_dataset.sentences_tags)):\r\n",
        "    if len(sentence) > max_length:\r\n",
        "        print('Words:', zh_train_dataset.sentences[idx])\r\n",
        "        print('Tags :', zh_train_dataset.sentences_tags[idx])\r\n",
        "        print('Len  :', len(sentence))\r\n",
        "        print('ID   :', idx)\r\n",
        "        print('-' * 10)"
      ],
      "execution_count": null,
      "outputs": [
        {
          "output_type": "stream",
          "text": [
            "Words: ['#', 'd', 'o', '#', 'i', 't', '#', 'a', 'g', 'a', 'i', 'n']\n",
            "Tags : ['O', 'B-ORG', 'I-ORG', 'O', 'I-ORG', 'I-ORG', 'O', 'I-ORG', 'I-ORG', 'I-ORG', 'I-ORG', 'I-ORG']\n",
            "Len  : 528\n",
            "ID   : 2578\n",
            "----------\n",
            "Words: ['#', '5', 'p', 'b', '.']\n",
            "Tags : ['O', 'B-ORG', 'I-ORG', 'I-ORG', 'I-ORG']\n",
            "Len  : 732\n",
            "ID   : 4594\n",
            "----------\n"
          ],
          "name": "stdout"
        }
      ]
    },
    {
      "cell_type": "code",
      "metadata": {
        "id": "FJa8DtVcYWWZ"
      },
      "source": [
        "# ids to drop because of the size of sentence's tokens, that doesn't fit into BERT's 512 bound \r\n",
        "\r\n",
        "ids_to_drop_train = [6538]\r\n",
        "ids_to_drop_eval  = [2578, 4593, 4594]\r\n",
        "ids_to_drop_test  = [8655]"
      ],
      "execution_count": null,
      "outputs": []
    },
    {
      "cell_type": "code",
      "metadata": {
        "id": "ifmi-GcIZJLp"
      },
      "source": [
        "for idx in ids_to_drop_train:\r\n",
        "    zh_train_dataset.sentences.pop(idx)\r\n",
        "    zh_train_dataset.sentences_tags.pop(idx)\r\n",
        "\r\n",
        "for idx in ids_to_drop_eval:\r\n",
        "    zh_eval_dataset.sentences.pop(idx)\r\n",
        "    zh_eval_dataset.sentences_tags.pop(idx)\r\n",
        "\r\n",
        "for idx in ids_to_drop_test:\r\n",
        "    zh_test_dataset.sentences.pop(idx)\r\n",
        "    zh_test_dataset.sentences_tags.pop(idx)"
      ],
      "execution_count": null,
      "outputs": []
    },
    {
      "cell_type": "code",
      "metadata": {
        "id": "X5w1t-AiRXFq",
        "colab": {
          "base_uri": "https://localhost:8080/"
        },
        "outputId": "21a09f0c-2edf-4e62-ef87-a3eb221fee03"
      },
      "source": [
        "print('Train:', zh_train_dataset.entities_statistics())\r\n",
        "print('Eval :', zh_eval_dataset.entities_statistics())\r\n",
        "print('Test :', zh_test_dataset.entities_statistics())"
      ],
      "execution_count": null,
      "outputs": [
        {
          "output_type": "stream",
          "text": [
            "Train: Counter({'O': 310504, 'LOC': 8572, 'PER': 7878, 'ORG': 7684})\n",
            "Eval : Counter({'O': 157331, 'LOC': 4214, 'ORG': 3948, 'PER': 3843})\n",
            "Test : Counter({'O': 152285, 'LOC': 4371, 'PER': 3899, 'ORG': 3778})\n"
          ],
          "name": "stdout"
        }
      ]
    },
    {
      "cell_type": "code",
      "metadata": {
        "id": "7PUU5cvLZ_ij"
      },
      "source": [
        "from torch.utils.data import DataLoader\r\n",
        "\r\n",
        "zh_train_dataloader = DataLoader(zh_train_dataset, BATCH_SIZE, num_workers=4, collate_fn=zh_train_dataset.paddings)\r\n",
        "zh_eval_dataloader = DataLoader(zh_eval_dataset, BATCH_SIZE, num_workers=4, collate_fn=zh_eval_dataset.paddings)\r\n",
        "zh_test_dataloader = DataLoader(zh_test_dataset, BATCH_SIZE, num_workers=4, collate_fn=zh_test_dataset.paddings)"
      ],
      "execution_count": null,
      "outputs": []
    },
    {
      "cell_type": "code",
      "metadata": {
        "id": "J9MS7tMtO6Qz",
        "colab": {
          "base_uri": "https://localhost:8080/",
          "height": 132,
          "referenced_widgets": [
            "eee88493472c4124bc47076399acb589",
            "6ed356b447124bdbae173c061e3f10f2",
            "b86515755e504c0dba00b88167e02db6",
            "3c7be42dc3bf40eca8fbc7bf27221ec0",
            "9747e8b5bd96485496198a00ea4c909f",
            "5627f0dcc1464466a02d6e72feb56c2a",
            "476c994df7c1424dbc2170add20128a3",
            "46c3bbba3cca4db993a0d18f7d496138",
            "0984dd4b9f1b4bd6a7fc81bc936305bb",
            "3bd28144464b42c7b4e380d6a65ef617",
            "382fdf4188b2466eb322399eceedf7f8",
            "7ef7f8b315904026ae8d1895a792880e",
            "84693c5c5ed64208b0ab439602108d0d",
            "d597310d7a33441d83d066f6a61fe044",
            "a6883954ca754706b959ffa48157c3fd",
            "45cb81b7fece4bd4aeb51e1262d8810e"
          ]
        },
        "outputId": "f77cec95-2379-4008-e4e0-4a8cebf3775a"
      },
      "source": [
        "classes = len(zh_train_dataset.idx2tag)\r\n",
        "\r\n",
        "device = 'cuda' if torch.cuda.is_available() else 'cpu'\r\n",
        "\r\n",
        "ChineseBertModel = BertNER(classes, pretrained='bert-base-multilingual-cased').to(device)\r\n",
        "\r\n",
        "optimizer = optim.AdamW(ChineseBertModel.parameters(), lr=2e-5)\r\n",
        "criterion = nn.CrossEntropyLoss(ignore_index=0).to(device)\r\n",
        "\r\n",
        "EPOCHS = 4\r\n",
        "\r\n",
        "train_model(ChineseBertModel, criterion, optimizer, zh_train_dataloader, zh_eval_dataloader, zh_train_dataset.tag2idx, zh_train_dataset.idx2tag, device, None, EPOCHS)\r\n",
        "test_epoch(ChineseBertModel, criterion, zh_test_dataloader, zh_train_dataset.tag2idx, zh_train_dataset.idx2tag, device)"
      ],
      "execution_count": null,
      "outputs": [
        {
          "output_type": "display_data",
          "data": {
            "application/vnd.jupyter.widget-view+json": {
              "model_id": "eee88493472c4124bc47076399acb589",
              "version_minor": 0,
              "version_major": 2
            },
            "text/plain": [
              "HBox(children=(FloatProgress(value=0.0, description='Downloading', max=625.0, style=ProgressStyle(description_…"
            ]
          },
          "metadata": {
            "tags": []
          }
        },
        {
          "output_type": "stream",
          "text": [
            "\n"
          ],
          "name": "stdout"
        },
        {
          "output_type": "display_data",
          "data": {
            "application/vnd.jupyter.widget-view+json": {
              "model_id": "0984dd4b9f1b4bd6a7fc81bc936305bb",
              "version_minor": 0,
              "version_major": 2
            },
            "text/plain": [
              "HBox(children=(FloatProgress(value=0.0, description='Downloading', max=714314041.0, style=ProgressStyle(descri…"
            ]
          },
          "metadata": {
            "tags": []
          }
        },
        {
          "output_type": "stream",
          "text": [
            "\n",
            "Epoch 1 / 4\n"
          ],
          "name": "stdout"
        }
      ]
    },
    {
      "cell_type": "markdown",
      "metadata": {
        "id": "QA6zrR5KVMWO"
      },
      "source": [
        "## XLM"
      ]
    },
    {
      "cell_type": "code",
      "metadata": {
        "id": "YZtfrjnNXmiK"
      },
      "source": [
        "from multilingual_ner.XLM.dataset import WikiAnnDataset, create_dataset_and_dataloader\r\n",
        "from multilingual_ner.XLM.train import train_model, test_epoch\r\n",
        "\r\n",
        "from transformers import XLMRobertaTokenizer\r\n",
        "\r\n",
        "import torch \r\n",
        "import torch.nn as nn\r\n",
        "import torch.optim as optim"
      ],
      "execution_count": null,
      "outputs": []
    },
    {
      "cell_type": "markdown",
      "metadata": {
        "id": "rShjQbeSVO1n"
      },
      "source": [
        "### French"
      ]
    },
    {
      "cell_type": "code",
      "metadata": {
        "id": "FreJqsCtVSJj"
      },
      "source": [
        "TOKENIZER = XLMRobertaTokenizer.from_pretrained('xlm-roberta-base', do_lower_case=False)\r\n",
        "DEVICE = 'cuda' if torch.cuda.is_available else 'cpu'\r\n",
        "EPOCHS = 4\r\n",
        "BATCH_SIZE = 8\r\n",
        "\r\n",
        "fr_train_dataset, fr_train_dataloader = create_dataset_and_dataloader('../lang_fr/train', BATCH_SIZE, TOKENIZER)\r\n",
        "fr_eval_dataset, fr_eval_dataloader = create_dataset_and_dataloader('../lang_fr/dev', BATCH_SIZE, TOKENIZER)\r\n",
        "fr_test_dataset, fr_test_dataloader = create_dataset_and_dataloader('../lang_fr/test', BATCH_SIZE, TOKENIZER)"
      ],
      "execution_count": null,
      "outputs": []
    },
    {
      "cell_type": "code",
      "metadata": {
        "id": "-qUBZTdFYARk"
      },
      "source": [
        "classes = len(fr_train_dataset.idx2tag)\r\n",
        "\r\n",
        "device = 'cuda' if torch.cuda.is_available() else 'cpu'\r\n",
        "\r\n",
        "FrenchXLModel = XLMRoBERTaNER(classes).to(device)\r\n",
        "\r\n",
        "optimizer = optim.AdamW(FrenchXLModel.parameters(), lr=2e-5)\r\n",
        "criterion = nn.CrossEntropyLoss(ignore_index=0).to(device)\r\n",
        "\r\n",
        "EPOCHS = 4\r\n",
        "\r\n",
        "train_model(FrenchXLModel, criterion, optimizer, fr_train_dataloader, fr_eval_dataloader, fr_train_dataset.tag2idx, fr_train_dataset.idx2tag, device, None, EPOCHS)\r\n",
        "test_epoch(FrenchXLModel, criterion, fr_test_dataloader, fr_train_dataset.tag2idx, fr_train_dataset.idx2tag, device)"
      ],
      "execution_count": null,
      "outputs": []
    },
    {
      "cell_type": "markdown",
      "metadata": {
        "id": "z1lI4r0vqsex"
      },
      "source": [
        "### Spanish"
      ]
    },
    {
      "cell_type": "code",
      "metadata": {
        "id": "a2SQih2jYh3K"
      },
      "source": [
        "TOKENIZER = XLMRobertaTokenizer.from_pretrained('xlm-roberta-base', do_lower_case=False)\r\n",
        "DEVICE = 'cuda' if torch.cuda.is_available else 'cpu'\r\n",
        "EPOCHS = 4\r\n",
        "BATCH_SIZE = 16\r\n",
        "\r\n",
        "es_train_dataset, es_train_dataloader = create_dataset_and_dataloader('../lang_es/train', BATCH_SIZE, TOKENIZER)\r\n",
        "es_eval_dataset, es_eval_dataloader = create_dataset_and_dataloader('../lang_es/dev', BATCH_SIZE, TOKENIZER)\r\n",
        "es_test_dataset, es_test_dataloader = create_dataset_and_dataloader('../lang_es/test', BATCH_SIZE, TOKENIZER)"
      ],
      "execution_count": null,
      "outputs": []
    },
    {
      "cell_type": "code",
      "metadata": {
        "colab": {
          "base_uri": "https://localhost:8080/"
        },
        "id": "FdkiqrafqwyK",
        "outputId": "e61d1a9e-9981-41dc-acb9-d28be86326ba"
      },
      "source": [
        "classes = len(es_train_dataset.idx2tag)\r\n",
        "\r\n",
        "device = 'cuda' if torch.cuda.is_available() else 'cpu'\r\n",
        "\r\n",
        "SpanishXLModel = XLMRoBERTaNER(classes).to(device)\r\n",
        "\r\n",
        "optimizer = optim.AdamW(SpanishXLModel.parameters(), lr=2e-5)\r\n",
        "criterion = nn.CrossEntropyLoss(ignore_index=0).to(device)\r\n",
        "\r\n",
        "EPOCHS = 4\r\n",
        "\r\n",
        "train_model(SpanishXLModel, criterion, optimizer, es_train_dataloader, es_eval_dataloader, es_train_dataset.tag2idx, es_train_dataset.idx2tag, device, None, EPOCHS)\r\n",
        "test_epoch(SpanishXLModel, criterion, es_test_dataloader, es_train_dataset.tag2idx, es_train_dataset.idx2tag, device)"
      ],
      "execution_count": null,
      "outputs": [
        {
          "output_type": "stream",
          "text": [
            "Epoch 1 / 4\n",
            "Train Loss = 0.49501, F1-score = 81.167%, Precision = 77.996%, Recall = 84.607%\n",
            "Valid Loss = 0.33331, F1-score = 87.356%, Precision = 86.631%, Recall = 88.093%\n",
            "Epoch 2 / 4\n",
            "Train Loss = 0.30647, F1-score = 88.662%, Precision = 86.782%, Recall = 90.627%\n",
            "Valid Loss = 0.24806, F1-score = 92.629%, Precision = 87.957%, Recall = 97.824%\n",
            "Epoch 3 / 4\n",
            "Train Loss = 0.23317, F1-score = 91.969%, Precision = 90.161%, Recall = 93.851%\n",
            "Valid Loss = 0.23606, F1-score = 93.579%, Precision = 89.218%, Recall = 98.387%\n",
            "Epoch 4 / 4\n",
            "Train Loss = 0.19975, F1-score = 93.226%, Precision = 91.618%, Recall = 94.891%\n",
            "Valid Loss = 0.24197, F1-score = 92.940%, Precision = 89.318%, Recall = 96.869%\n",
            "Test  Loss = 0.23514, F1-score = 93.267%, Precision = 89.909%, Recall = 96.886%\n"
          ],
          "name": "stdout"
        }
      ]
    },
    {
      "cell_type": "markdown",
      "metadata": {
        "id": "eDgQa6gPIMGu"
      },
      "source": [
        "### English"
      ]
    },
    {
      "cell_type": "code",
      "metadata": {
        "id": "Cg54zWngIGlf"
      },
      "source": [
        "TOKENIZER = XLMRobertaTokenizer.from_pretrained('xlm-roberta-base', do_lower_case=False)\r\n",
        "DEVICE = 'cuda' if torch.cuda.is_available else 'cpu'\r\n",
        "EPOCHS = 4\r\n",
        "BATCH_SIZE = 16\r\n",
        "\r\n",
        "en_train_dataset, en_train_dataloader = create_dataset_and_dataloader('../lang_en/train', BATCH_SIZE, TOKENIZER)\r\n",
        "en_eval_dataset, en_eval_dataloader = create_dataset_and_dataloader('../lang_en/dev', BATCH_SIZE, TOKENIZER)\r\n",
        "en_test_dataset, en_test_dataloader = create_dataset_and_dataloader('../lang_en/test', BATCH_SIZE, TOKENIZER)"
      ],
      "execution_count": null,
      "outputs": []
    },
    {
      "cell_type": "code",
      "metadata": {
        "id": "795H5TiWIGlg"
      },
      "source": [
        "# ids to drop because of the size of sentence's tokens, that doesn't fit into BERT's 512 bound \r\n",
        "\r\n",
        "ids_to_drop_train = [1721, 9967, 9966]"
      ],
      "execution_count": null,
      "outputs": []
    },
    {
      "cell_type": "code",
      "metadata": {
        "id": "kYqLGz2yIGlg"
      },
      "source": [
        "for idx in ids_to_drop_train:\r\n",
        "    en_train_dataset.sentences.pop(idx)\r\n",
        "    en_train_dataset.sentences_tags.pop(idx)"
      ],
      "execution_count": null,
      "outputs": []
    },
    {
      "cell_type": "code",
      "metadata": {
        "id": "AFPM8_kfIGlh"
      },
      "source": [
        "from torch.utils.data import DataLoader\r\n",
        "\r\n",
        "en_train_dataloader = DataLoader(en_train_dataset, BATCH_SIZE, collate_fn=en_train_dataset.paddings)\r\n",
        "en_eval_dataloader = DataLoader(en_eval_dataset, BATCH_SIZE, collate_fn=en_eval_dataset.paddings)\r\n",
        "en_test_dataloader = DataLoader(en_test_dataset, BATCH_SIZE, collate_fn=en_test_dataset.paddings)"
      ],
      "execution_count": null,
      "outputs": []
    },
    {
      "cell_type": "code",
      "metadata": {
        "colab": {
          "base_uri": "https://localhost:8080/"
        },
        "id": "Cfx2LQ7bIGlh",
        "outputId": "1f6130b5-689e-4bd1-b5f9-cd611cc21aab"
      },
      "source": [
        "classes = len(en_train_dataset.idx2tag)\r\n",
        "\r\n",
        "device = 'cuda' if torch.cuda.is_available() else 'cpu'\r\n",
        "\r\n",
        "EnglishXLMModel = XLMRoBERTaNER(classes).to(device)\r\n",
        "\r\n",
        "optimizer = optim.AdamW(EnglishXLMModel.parameters(), lr=2e-5)\r\n",
        "criterion = nn.CrossEntropyLoss(ignore_index=0).to(device)\r\n",
        "\r\n",
        "EPOCHS = 4\r\n",
        "\r\n",
        "train_model(EnglishXLMModel, criterion, optimizer, en_train_dataloader, en_eval_dataloader, en_train_dataset.tag2idx, en_train_dataset.idx2tag, device, None, EPOCHS)\r\n",
        "test_epoch(EnglishXLMModel, criterion, en_test_dataloader, en_train_dataset.tag2idx, en_train_dataset.idx2tag, device)"
      ],
      "execution_count": null,
      "outputs": [
        {
          "output_type": "stream",
          "text": [
            "Epoch 1 / 4\n",
            "Train Loss = 0.56794, F1-score = 77.274%, Precision = 72.847%, Recall = 82.274%\n",
            "Valid Loss = 0.33202, F1-score = 88.469%, Precision = 82.932%, Recall = 94.799%\n",
            "Epoch 2 / 4\n",
            "Train Loss = 0.33026, F1-score = 87.732%, Precision = 83.407%, Recall = 92.531%\n",
            "Valid Loss = 0.28377, F1-score = 90.479%, Precision = 85.427%, Recall = 96.166%\n",
            "Epoch 3 / 4\n",
            "Train Loss = 0.27277, F1-score = 90.087%, Precision = 86.669%, Recall = 93.786%\n",
            "Valid Loss = 0.32581, F1-score = 89.170%, Precision = 83.586%, Recall = 95.554%\n",
            "Epoch 4 / 4\n",
            "Train Loss = 0.22889, F1-score = 91.821%, Precision = 88.571%, Recall = 95.319%\n",
            "Valid Loss = 0.28400, F1-score = 91.186%, Precision = 85.462%, Recall = 97.732%\n",
            "Test  Loss = 0.27824, F1-score = 91.202%, Precision = 85.540%, Recall = 97.667%\n"
          ],
          "name": "stdout"
        }
      ]
    },
    {
      "cell_type": "markdown",
      "metadata": {
        "id": "z9mMMpzFxSQv"
      },
      "source": [
        "### Russian"
      ]
    },
    {
      "cell_type": "code",
      "metadata": {
        "id": "JX6MPKzCxSQw"
      },
      "source": [
        "from transformers import XLMRobertaModel\r\n",
        "import torch.nn as nn\r\n",
        "\r\n",
        "class XLMRoBERTaNER(nn.Module):\r\n",
        "    def __init__(self, num_classes):\r\n",
        "        super(XLMRoBERTaNER, self).__init__()\r\n",
        "        self.embedding_dim = 768\r\n",
        "        self.num_classes = num_classes\r\n",
        "\r\n",
        "        self.RoBERTa = XLMRobertaModel.from_pretrained(\"xlm-roberta-base\", output_attentions=True)\r\n",
        "        self.linear = nn.Linear(self.embedding_dim, self.num_classes)\r\n",
        "\r\n",
        "    def forward(self, tokens):\r\n",
        "        embeddings = self.RoBERTa(tokens)[0]\r\n",
        "        predictions = self.linear(embeddings)\r\n",
        "\r\n",
        "        return predictions"
      ],
      "execution_count": null,
      "outputs": []
    },
    {
      "cell_type": "code",
      "metadata": {
        "colab": {
          "base_uri": "https://localhost:8080/",
          "height": 66,
          "referenced_widgets": [
            "eca3aa8fe135437a92b874acdedbf96e",
            "fd93d83c2570425db7b38968be9c91f1",
            "1a58d8d4ab304c60b06215bbe29fbe2f",
            "3fcb8fb9809b4523aab933c34add49e1",
            "49d2570ccc22478d9461900328e5da59",
            "08b448acd3344b7ba719b438dfa2a48f",
            "281130aeb3054eaaa3413aa63ea71020",
            "80d4d02393624043b97a45df87f29d36"
          ]
        },
        "id": "yOHF-KZIxSQw",
        "outputId": "1969add8-0c59-4dc2-82ad-0d715a95d34e"
      },
      "source": [
        "TOKENIZER = XLMRobertaTokenizer.from_pretrained('xlm-roberta-base', do_lower_case=False)\r\n",
        "DEVICE = 'cuda' if torch.cuda.is_available else 'cpu'\r\n",
        "EPOCHS = 4\r\n",
        "BATCH_SIZE = 16\r\n",
        "\r\n",
        "ru_train_dataset, ru_train_dataloader = create_dataset_and_dataloader('../lang_ru/train', BATCH_SIZE, TOKENIZER)\r\n",
        "ru_eval_dataset, ru_eval_dataloader = create_dataset_and_dataloader('../lang_ru/dev', BATCH_SIZE, TOKENIZER)\r\n",
        "ru_test_dataset, ru_test_dataloader = create_dataset_and_dataloader('../lang_ru/test', BATCH_SIZE, TOKENIZER)"
      ],
      "execution_count": null,
      "outputs": [
        {
          "output_type": "display_data",
          "data": {
            "application/vnd.jupyter.widget-view+json": {
              "model_id": "eca3aa8fe135437a92b874acdedbf96e",
              "version_minor": 0,
              "version_major": 2
            },
            "text/plain": [
              "HBox(children=(FloatProgress(value=0.0, description='Downloading', max=5069051.0, style=ProgressStyle(descript…"
            ]
          },
          "metadata": {
            "tags": []
          }
        },
        {
          "output_type": "stream",
          "text": [
            "\n"
          ],
          "name": "stdout"
        }
      ]
    },
    {
      "cell_type": "code",
      "metadata": {
        "colab": {
          "base_uri": "https://localhost:8080/",
          "height": 336,
          "referenced_widgets": [
            "96fa90c452264d3493e90dce6a558a4b",
            "25388aca931341a98f3abc10aafa920b",
            "d9e4c2a71c79412fb11f9eeebea1f21e",
            "57797e6a28304a6cbe06e2d37e75dec9",
            "ff79c6e1532f4ad6aab6904107da503b",
            "000464faf8f940a9a90665f11ff6bbd7",
            "4587747cd953494c90337b9a03365ddd",
            "2f088ff5e99e48a9aaa14b429bb92d77",
            "cf090d2a482b4980bd2e40b4ce8ed91c",
            "cf1c81ec8a3d4f5b9cb93f05b94488c7",
            "11f1e2b944984fb98ab02c1ba0cefe85",
            "5b41264305264202bb96d37760481e9c",
            "ae5e0c3219754772ba8780f775172283",
            "7ec07472310c4e07962a5fd3ec3fc5cc",
            "bb5df4bc1d594950b6bbef25599ba263",
            "a58cb32110ed499fbe7c2ea6cdd3f4ff"
          ]
        },
        "id": "DZoYeEbTxSQx",
        "outputId": "0ff96044-e83b-4f11-fd8a-604c9633ccfc"
      },
      "source": [
        "classes = len(ru_train_dataset.idx2tag)\r\n",
        "\r\n",
        "device = 'cuda' if torch.cuda.is_available() else 'cpu'\r\n",
        "\r\n",
        "RussianXLMModel = XLMRoBERTaNER(classes).to(device)\r\n",
        "\r\n",
        "optimizer = optim.AdamW(RussianXLMModel.parameters(), lr=2e-5)\r\n",
        "criterion = nn.CrossEntropyLoss(ignore_index=0).to(device)\r\n",
        "\r\n",
        "EPOCHS = 4\r\n",
        "\r\n",
        "train_model(RussianXLMModel, criterion, optimizer, ru_train_dataloader, ru_eval_dataloader, ru_train_dataset.tag2idx, ru_train_dataset.idx2tag, device, None, EPOCHS)\r\n",
        "test_epoch(RussianXLMModel, criterion, ru_test_dataloader, ru_train_dataset.tag2idx, ru_train_dataset.idx2tag, device)"
      ],
      "execution_count": null,
      "outputs": [
        {
          "output_type": "display_data",
          "data": {
            "application/vnd.jupyter.widget-view+json": {
              "model_id": "96fa90c452264d3493e90dce6a558a4b",
              "version_minor": 0,
              "version_major": 2
            },
            "text/plain": [
              "HBox(children=(FloatProgress(value=0.0, description='Downloading', max=512.0, style=ProgressStyle(description_…"
            ]
          },
          "metadata": {
            "tags": []
          }
        },
        {
          "output_type": "stream",
          "text": [
            "\n"
          ],
          "name": "stdout"
        },
        {
          "output_type": "display_data",
          "data": {
            "application/vnd.jupyter.widget-view+json": {
              "model_id": "cf090d2a482b4980bd2e40b4ce8ed91c",
              "version_minor": 0,
              "version_major": 2
            },
            "text/plain": [
              "HBox(children=(FloatProgress(value=0.0, description='Downloading', max=1115590446.0, style=ProgressStyle(descr…"
            ]
          },
          "metadata": {
            "tags": []
          }
        },
        {
          "output_type": "stream",
          "text": [
            "\n",
            "Epoch 1 / 4\n",
            "Train Loss = 0.64133, F1-score = 73.046%, Precision = 79.991%, Recall = 67.211%\n",
            "Valid Loss = 0.24349, F1-score = 91.543%, Precision = 85.879%, Recall = 98.006%\n",
            "Epoch 2 / 4\n",
            "Train Loss = 0.22746, F1-score = 91.882%, Precision = 89.116%, Recall = 94.825%\n",
            "Valid Loss = 0.19313, F1-score = 93.412%, Precision = 89.539%, Recall = 97.636%\n",
            "Epoch 3 / 4\n",
            "Train Loss = 0.16202, F1-score = 94.465%, Precision = 91.974%, Recall = 97.096%\n",
            "Valid Loss = 0.20091, F1-score = 93.634%, Precision = 89.466%, Recall = 98.210%\n",
            "Epoch 4 / 4\n",
            "Train Loss = 0.13181, F1-score = 95.523%, Precision = 93.414%, Recall = 97.729%\n",
            "Valid Loss = 0.20963, F1-score = 94.064%, Precision = 90.223%, Recall = 98.245%\n",
            "Test  Loss = 0.21492, F1-score = 93.896%, Precision = 90.249%, Recall = 97.851%\n"
          ],
          "name": "stdout"
        }
      ]
    },
    {
      "cell_type": "markdown",
      "metadata": {
        "id": "2Zz38rDqxLgQ"
      },
      "source": [
        "### Czech"
      ]
    },
    {
      "cell_type": "code",
      "metadata": {
        "id": "GyOu05FAxLgT"
      },
      "source": [
        "TOKENIZER = XLMRobertaTokenizer.from_pretrained('xlm-roberta-base', do_lower_case=False)\r\n",
        "DEVICE = 'cuda' if torch.cuda.is_available else 'cpu'\r\n",
        "EPOCHS = 4\r\n",
        "BATCH_SIZE = 16\r\n",
        "\r\n",
        "cs_train_dataset, cs_train_dataloader = create_dataset_and_dataloader('../lang_cs/train', BATCH_SIZE, TOKENIZER)\r\n",
        "cs_eval_dataset, cs_eval_dataloader = create_dataset_and_dataloader('../lang_cs/dev', BATCH_SIZE, TOKENIZER)\r\n",
        "cs_test_dataset, cs_test_dataloader = create_dataset_and_dataloader('../lang_cs/test', BATCH_SIZE, TOKENIZER)"
      ],
      "execution_count": null,
      "outputs": []
    },
    {
      "cell_type": "code",
      "metadata": {
        "colab": {
          "base_uri": "https://localhost:8080/"
        },
        "id": "KzLtLvFwxLgU",
        "outputId": "e475849c-f1ef-43df-83ce-1d4f339a68df"
      },
      "source": [
        "print('Train:', cs_train_dataset.entities_statistics())\r\n",
        "print('Eval :', cs_eval_dataset.entities_statistics())\r\n",
        "print('Test :', cs_test_dataset.entities_statistics())"
      ],
      "execution_count": null,
      "outputs": [
        {
          "output_type": "stream",
          "text": [
            "Train: Counter({'O': 113212, 'LOC': 10492, 'PER': 9203, 'ORG': 8992})\n",
            "Eval : Counter({'O': 56054, 'LOC': 5372, 'ORG': 4473, 'PER': 4423})\n",
            "Test : Counter({'O': 55668, 'LOC': 5422, 'PER': 4536, 'ORG': 4465})\n"
          ],
          "name": "stdout"
        }
      ]
    },
    {
      "cell_type": "code",
      "metadata": {
        "colab": {
          "base_uri": "https://localhost:8080/"
        },
        "id": "YP-9yVq8xLgV",
        "outputId": "0a0619ab-5406-46f8-9e76-d47a17c5f032"
      },
      "source": [
        "classes = len(cs_train_dataset.idx2tag)\r\n",
        "\r\n",
        "device = 'cuda' if torch.cuda.is_available() else 'cpu'\r\n",
        "\r\n",
        "CzechXLMModel = XLMRoBERTaNER(classes).to(device)\r\n",
        "\r\n",
        "optimizer = optim.AdamW(CzechXLMModel.parameters(), lr=2e-5)\r\n",
        "criterion = nn.CrossEntropyLoss(ignore_index=0).to(device)\r\n",
        "\r\n",
        "EPOCHS = 4\r\n",
        "\r\n",
        "train_model(CzechXLMModel, criterion, optimizer, cs_train_dataloader, cs_eval_dataloader, cs_train_dataset.tag2idx, cs_train_dataset.idx2tag, device, None, EPOCHS)\r\n",
        "test_epoch(CzechXLMModel, criterion, cs_test_dataloader, cs_train_dataset.tag2idx, cs_train_dataset.idx2tag, device)"
      ],
      "execution_count": null,
      "outputs": [
        {
          "output_type": "stream",
          "text": [
            "Epoch 1 / 4\n",
            "Train Loss = 0.43778, F1-score = 79.439%, Precision = 82.091%, Recall = 76.953%\n",
            "Valid Loss = 0.17522, F1-score = 92.706%, Precision = 89.281%, Recall = 96.404%\n",
            "Epoch 2 / 4\n",
            "Train Loss = 0.17444, F1-score = 92.359%, Precision = 90.473%, Recall = 94.325%\n",
            "Valid Loss = 0.14679, F1-score = 93.961%, Precision = 91.034%, Recall = 97.083%\n",
            "Epoch 3 / 4\n",
            "Train Loss = 0.13318, F1-score = 94.252%, Precision = 93.055%, Recall = 95.480%\n",
            "Valid Loss = 0.15696, F1-score = 94.261%, Precision = 92.074%, Recall = 96.554%\n",
            "Epoch 4 / 4\n",
            "Train Loss = 0.09793, F1-score = 95.897%, Precision = 94.576%, Recall = 97.256%\n",
            "Valid Loss = 0.14386, F1-score = 95.105%, Precision = 93.327%, Recall = 96.951%\n",
            "Test  Loss = 0.15560, F1-score = 94.817%, Precision = 92.682%, Recall = 97.052%\n"
          ],
          "name": "stdout"
        }
      ]
    },
    {
      "cell_type": "markdown",
      "metadata": {
        "id": "bDgR6lX8xr9U"
      },
      "source": [
        "## Testing on WikiMatrix"
      ]
    },
    {
      "cell_type": "markdown",
      "metadata": {
        "id": "Wty2ODxvxwGa"
      },
      "source": [
        "### Collect russian sentences (Old way)"
      ]
    },
    {
      "cell_type": "code",
      "metadata": {
        "colab": {
          "base_uri": "https://localhost:8080/"
        },
        "id": "LCDQObw5G9Cp",
        "outputId": "d7b90fc8-0647-4246-d0a5-19c7edb8dde1"
      },
      "source": [
        "cd .."
      ],
      "execution_count": null,
      "outputs": [
        {
          "output_type": "stream",
          "text": [
            "/content\n"
          ],
          "name": "stdout"
        }
      ]
    },
    {
      "cell_type": "code",
      "metadata": {
        "colab": {
          "base_uri": "https://localhost:8080/"
        },
        "id": "GMrFjQpuFeBj",
        "outputId": "92fb6e0a-b753-41b3-f4b7-40f04dfd0c9e"
      },
      "source": [
        "!python3 /content/multilingual-bert-ner/extract.py \\\r\n",
        "  --tsv ru-zh.tsv.gz \\\r\n",
        "  --bitext WikiMatrix.ru-zh.txt \\\r\n",
        "  --src-lang ru --trg-lang zh \\\r\n",
        "  --threshold 1.05"
      ],
      "execution_count": null,
      "outputs": [
        {
          "output_type": "stream",
          "text": [
            "Tool to extract bitext from the WikiMatrix\n",
            "Processing ru-zh.tsv.gz\n",
            " - wrote 65988 lines\n",
            " - with 1023917 source and 138308 target words\n",
            " - last threshold is 1.0500\n"
          ],
          "name": "stdout"
        }
      ]
    },
    {
      "cell_type": "code",
      "metadata": {
        "colab": {
          "base_uri": "https://localhost:8080/"
        },
        "id": "PnMGLoQ1FevN",
        "outputId": "3a67ef9f-ba41-4c42-ccff-c2685eae9d25"
      },
      "source": [
        "with open(\"/content/WikiMatrix.ru-zh.txt.ru\") as file:\r\n",
        "    for line in file:\r\n",
        "        print(line)\r\n",
        "        break"
      ],
      "execution_count": null,
      "outputs": [
        {
          "output_type": "stream",
          "text": [
            "Им чужды ложь и неблагодарность».\n",
            "\n"
          ],
          "name": "stdout"
        }
      ]
    },
    {
      "cell_type": "code",
      "metadata": {
        "colab": {
          "base_uri": "https://localhost:8080/"
        },
        "id": "ll65LUI9Hfjr",
        "outputId": "2221d815-eb49-46c1-ae63-04f2a347be8c"
      },
      "source": [
        "with open(\"/content/WikiMatrix.ru-zh.txt.zh\") as file:\r\n",
        "    for line in file:\r\n",
        "        print(line)\r\n",
        "        break"
      ],
      "execution_count": null,
      "outputs": [
        {
          "output_type": "stream",
          "text": [
            "他們否認控罪。\n",
            "\n"
          ],
          "name": "stdout"
        }
      ]
    },
    {
      "cell_type": "code",
      "metadata": {
        "id": "5VKYEP1cFexq"
      },
      "source": [
        ""
      ],
      "execution_count": null,
      "outputs": []
    },
    {
      "cell_type": "code",
      "metadata": {
        "id": "Zamj42GExveI"
      },
      "source": [
        "ru_sentences = []\r\n",
        "zh_sentences = []\r\n",
        "\r\n",
        "with open(\"/content/ru-zh.tsv\") as tsv_file:\r\n",
        "    for line in tsv_file:\r\n",
        "        items = line.split(sep='\\t')\r\n",
        "        ru_sentence = items[1].replace('\\n', '')\r\n",
        "        ru_sentence = ru_sentence.replace('\\xa0', '')\r\n",
        "        ru_sentence = ru_sentence.replace('(англ.)', '')\r\n",
        "\r\n",
        "        if (195 <= len(items[1]) <= 200):\r\n",
        "            ru_sentences.append(ru_sentence)\r\n",
        "            zh_sentences.append(items[2])"
      ],
      "execution_count": null,
      "outputs": []
    },
    {
      "cell_type": "code",
      "metadata": {
        "id": "F1_Lt2VVyW_z"
      },
      "source": [
        "def markup_sentences(model, idx2tag, sentences):\r\n",
        "    markup = []\r\n",
        "    \r\n",
        "    for sentence in sentences:\r\n",
        "        words = TOKENIZER.tokenize(sentence)\r\n",
        "        tokens = torch.LongTensor(TOKENIZER.convert_tokens_to_ids(words))\r\n",
        "        preds = model(tokens.unsqueeze(0).to(DEVICE))\r\n",
        "        preds = preds.view(-1, preds.shape[-1])\r\n",
        "        preds = preds.argmax(1)\r\n",
        "        preds = preds.cpu().numpy()\r\n",
        "        preds = [idx2tag[tag] for tag in preds]\r\n",
        "        markup.append(preds)\r\n",
        "    \r\n",
        "    return markup"
      ],
      "execution_count": null,
      "outputs": []
    },
    {
      "cell_type": "code",
      "metadata": {
        "colab": {
          "base_uri": "https://localhost:8080/"
        },
        "id": "ulhNcAO7OuS7",
        "outputId": "b12fe03d-7766-4c88-daaf-e0915e1243d9"
      },
      "source": [
        "print(len(ru_sentences), len(zh_sentences))\r\n",
        "for i in range(10):\r\n",
        "    print(ru_sentences[i])\r\n",
        "    print(zh_sentences[i])\r\n",
        "    print('-' * 50)"
      ],
      "execution_count": null,
      "outputs": [
        {
          "output_type": "stream",
          "text": [
            "8335 8335\n",
            "Употребление слова «малик» (в форме причастия действительного залога) указывает на то, что Аллах превыше любых земных царей и правителей, которые перед Аллахом не обладают никакой реальной властью.\n",
            "根據《古蘭經》： 「你說：他是真主，是獨一的主，真主是萬物所仰賴的；他沒有生產，也沒有被生產；沒有任何物可以做他的匹敵。\n",
            "\n",
            "--------------------------------------------------\n",
            "Он сказал, что \" возникла путаница по поводу того, что правительство намеревалось сделать, и это было просто письмо, в котором говорилось, что может быть намерение установить отношения с Абхазией.\n",
            " 他说：“对政府打算做什么感到困惑，这只是一封信，说明可能有意与阿布哈兹建立关系。\n",
            "\n",
            "--------------------------------------------------\n",
            "В первый вечер, под конец концерта, когда он как раз пел последнюю песню своей программы, Je t’aime à l’italienne, он узнал, что только что родился его четвёртый ребёнок, дочь Виктория (Victoria).\n",
            "第一个晚上，当他正在台上演唱自己的最后一支歌曲Je t’aime à l’italienne（我爱你在意大利）时，惊喜获悉自己的第四个孩子 Victoria 刚刚出生。\n",
            "\n",
            "--------------------------------------------------\n",
            "Благодаря успешной работе на посту мэра Кейптауна, когда ей удалось снизить уровень преступности, безработицы и потребления наркотиков, она была избрана Мэром мира 2008г. из списка в 820 кандидатов.\n",
            " 齐勒担任开普敦市长时，成功解决犯罪、吸毒、失业率等问题，使她当选2008年世界市长——共有820名候选人。\n",
            "\n",
            "--------------------------------------------------\n",
            "В 2003 году, по оценкам, 57 процентов мужчин и 86 процентов женщин были неграмотны, а отсутствие квалифицированной и образованной рабочей силы является одной из основных экономических трудностей.\n",
            "在2003年，估計仍有57%的男性和86%的女性屬於文盲，這使得缺乏受過教育及技術熟練的勞工一直是最主要的經濟障礙。\n",
            "\n",
            "--------------------------------------------------\n",
            "В комиксе Civil War: Casualties of War: Captain America/Iron Man (2007) с этим соглашаются и пишут, что непосредственной причиной смерти была внезапная остановка во время высокой скорости падения.\n",
            "在漫畫 Civil War: Casualties of War: Captain America/Iron Man (2007) 當中也同意從高速掉落中突然停住會致命。\n",
            "\n",
            "--------------------------------------------------\n",
            "Более 74% думало, что больные «не вполне способны» либо «не способны совсем» принимать решения относительно собственного лечения, 70,2% сказали то же об их способности принимать финансовые решения.\n",
            "超過74％的人說患者「不太能」或「不能全部地」作出與治療有關的決定，70.2％的人說金錢管理上的決定亦如是。\n",
            "\n",
            "--------------------------------------------------\n",
            "Геев из более чем 120 стран спрашивали о том, как они относятся к мнению общества о гомосексуализме, как они переживают то, как к ним относятся другие люди, и насколько они довольны своей жизнью.\n",
            "来自120多个国家的男同性恋者被问及他们如何看待社会对同性恋的看法，他们如何体验他人对待他们的方式以及他们对生活的满意程度。\n",
            "\n",
            "--------------------------------------------------\n",
            "Она также работала над тем, чтобы положить конец детскому труду, расширить права женщин на рабочем месте и установить ответственность судовладельцев за транспортные происшествия с участием моряков.\n",
            "它还争取终结儿童劳工、提高妇女工人的权利、确定船難事故中涉事海员的船主责任。\n",
            "\n",
            "--------------------------------------------------\n",
            "Технические советники из Советского Союза и стран Восточной Европы прибыли в Албанию, Советский Союз также послал в Албанию военных советников и построил базу подводных лодок на Сазанском острове.\n",
            "苏联和东欧的技术顾问常驻阿尔巴尼亚，苏联还向阿尔巴尼亚派遣军事顾问，在萨赞岛上建立了潜艇基地。\n",
            "\n",
            "--------------------------------------------------\n"
          ],
          "name": "stdout"
        }
      ]
    },
    {
      "cell_type": "markdown",
      "metadata": {
        "id": "QhEuJwrbVm36"
      },
      "source": [
        "### Russian - English"
      ]
    },
    {
      "cell_type": "code",
      "metadata": {
        "colab": {
          "base_uri": "https://localhost:8080/"
        },
        "id": "bUHQhRl_VsYq",
        "outputId": "4609ff11-f1fa-443b-9a99-764c5ffe74ff"
      },
      "source": [
        "cd /content/"
      ],
      "execution_count": null,
      "outputs": [
        {
          "output_type": "stream",
          "text": [
            "/content\n"
          ],
          "name": "stdout"
        }
      ]
    },
    {
      "cell_type": "code",
      "metadata": {
        "colab": {
          "base_uri": "https://localhost:8080/"
        },
        "id": "_DnvIQ6iVufj",
        "outputId": "885a3476-d3e1-4cdc-c0bc-704480fa58f1"
      },
      "source": [
        "!python3 /content/multilingual-bert-ner/extract.py \\\r\n",
        "  --tsv en-ru.tsv.gz \\\r\n",
        "  --bitext WikiMatrix.en-ru.txt \\\r\n",
        "  --src-lang en --trg-lang ru \\\r\n",
        "  --threshold 1.05"
      ],
      "execution_count": null,
      "outputs": [
        {
          "output_type": "stream",
          "text": [
            "Tool to extract bitext from the WikiMatrix\n",
            "Processing en-ru.tsv.gz\n",
            " - wrote 1159158 lines\n",
            " - with 23693136 source and 20799384 target words\n",
            " - last threshold is 1.0500\n"
          ],
          "name": "stdout"
        }
      ]
    },
    {
      "cell_type": "code",
      "metadata": {
        "id": "dMcqVfF7VmrC"
      },
      "source": [
        "def markup_sentences(model, idx2tag, sentences):\r\n",
        "    markup = []\r\n",
        "    \r\n",
        "    for sentence in sentences:\r\n",
        "        words = TOKENIZER.tokenize(sentence)\r\n",
        "        tokens = torch.LongTensor(TOKENIZER.convert_tokens_to_ids(words))\r\n",
        "        preds = model(tokens.unsqueeze(0).to(DEVICE))\r\n",
        "        preds = preds.view(-1, preds.shape[-1])\r\n",
        "        preds = preds.argmax(1)\r\n",
        "        preds = preds.cpu().numpy()\r\n",
        "        preds = [idx2tag[tag] for tag in preds]\r\n",
        "        markup.append(preds)\r\n",
        "    \r\n",
        "    return markup"
      ],
      "execution_count": null,
      "outputs": []
    },
    {
      "cell_type": "code",
      "metadata": {
        "colab": {
          "base_uri": "https://localhost:8080/"
        },
        "id": "XMU9D22gV26n",
        "outputId": "5ec0fcdc-6c0b-4702-9451-469a3b30dbfc"
      },
      "source": [
        "en_sentences = []\r\n",
        "ru_sentences = []\r\n",
        "\r\n",
        "with open(\"/content/WikiMatrix.en-ru.txt.en\") as file:\r\n",
        "    for line in file:\r\n",
        "        en_sentences.append(line)\r\n",
        "\r\n",
        "with open(\"/content/WikiMatrix.en-ru.txt.ru\") as file:\r\n",
        "    for line in file:\r\n",
        "        ru_sentences.append(line)\r\n",
        "\r\n",
        "print('RU:', len(ru_sentences), 'EN:', len(en_sentences))"
      ],
      "execution_count": null,
      "outputs": [
        {
          "output_type": "stream",
          "text": [
            "RU: 1159158 EN: 1159158\n"
          ],
          "name": "stdout"
        }
      ]
    },
    {
      "cell_type": "code",
      "metadata": {
        "colab": {
          "base_uri": "https://localhost:8080/"
        },
        "id": "AG42oZBPWCNv",
        "outputId": "64b2ffbf-287a-4317-b38c-cc2bad79f0f1"
      },
      "source": [
        "ru_sentences_id = []\r\n",
        "\r\n",
        "ru_sentences_new = []\r\n",
        "en_sentences_new = []\r\n",
        "\r\n",
        "for idx in range(len(ru_sentences)):\r\n",
        "    if len(ru_sentences[idx]) <= 200 and len(ru_sentences[idx]) >= 190:\r\n",
        "        ru_sentences_id.append(idx)\r\n",
        "\r\n",
        "for idx in ru_sentences_id:\r\n",
        "    ru_sentences_new.append(ru_sentences[idx])\r\n",
        "    en_sentences_new.append(en_sentences[idx])\r\n",
        "                            \r\n",
        "print('RU:', len(ru_sentences_new), 'EN:', len(en_sentences_new))"
      ],
      "execution_count": null,
      "outputs": [
        {
          "output_type": "stream",
          "text": [
            "RU: 32802 EN: 32802\n"
          ],
          "name": "stdout"
        }
      ]
    },
    {
      "cell_type": "code",
      "metadata": {
        "colab": {
          "base_uri": "https://localhost:8080/"
        },
        "id": "zjpsqm7BWJr0",
        "outputId": "d6bc8b35-799c-48e7-ab27-74a7f58a9b63"
      },
      "source": [
        "english_markup_EnBERT = markup_sentences(EnglishBertModel, en_train_dataset.idx2tag, en_sentences_new)  \r\n",
        "english_markup_RuBERT = markup_sentences(RussianBertModel, ru_train_dataset.idx2tag, en_sentences_new)\r\n",
        "\r\n",
        "from seqeval.metrics import f1_score\r\n",
        "print('Russian BERT on English Texts:', f1_score(english_markup_EnBERT, english_markup_RuBERT))"
      ],
      "execution_count": null,
      "outputs": [
        {
          "output_type": "stream",
          "text": [
            "Russian BERT on English Texts: 0.48946896566103043\n"
          ],
          "name": "stdout"
        }
      ]
    },
    {
      "cell_type": "code",
      "metadata": {
        "colab": {
          "base_uri": "https://localhost:8080/"
        },
        "id": "thCzaFDzWKBG",
        "outputId": "6636a96c-89cf-4c1c-a884-ba92bd24f969"
      },
      "source": [
        "russian_markup_EnBERT = markup_sentences(EnglishBertModel, en_train_dataset.idx2tag, ru_sentences_new)  \r\n",
        "russian_markup_RuBERT = markup_sentences(RussianBertModel, ru_train_dataset.idx2tag, ru_sentences_new)\r\n",
        "\r\n",
        "from seqeval.metrics import f1_score\r\n",
        "print('English BERT on Russian Texts:', f1_score(russian_markup_RuBERT, russian_markup_EnBERT))"
      ],
      "execution_count": null,
      "outputs": [
        {
          "output_type": "stream",
          "text": [
            "English BERT on Russian Texts: 0.6045788208015519\n"
          ],
          "name": "stdout"
        }
      ]
    },
    {
      "cell_type": "code",
      "metadata": {
        "colab": {
          "base_uri": "https://localhost:8080/"
        },
        "id": "BtwMa4lnMjoO",
        "outputId": "917afd12-3451-45c8-9d5d-1ad712b12d88"
      },
      "source": [
        "english_markup_EnXLM = markup_sentences(EnglishXLMModel, en_train_dataset.idx2tag, en_sentences_new)  \r\n",
        "english_markup_RuXLM = markup_sentences(RussianXLMModel, ru_train_dataset.idx2tag, en_sentences_new)\r\n",
        "\r\n",
        "from seqeval.metrics import f1_score\r\n",
        "print('Russian XLM on English Texts:', f1_score(english_markup_EnXLM, english_markup_RuXLM))"
      ],
      "execution_count": null,
      "outputs": [
        {
          "output_type": "stream",
          "text": [
            "Russian XLM on English Texts: 0.5796063017494121\n"
          ],
          "name": "stdout"
        }
      ]
    },
    {
      "cell_type": "code",
      "metadata": {
        "colab": {
          "base_uri": "https://localhost:8080/"
        },
        "id": "F3zy7x1mMjoP",
        "outputId": "0d2ea224-adb6-455d-d9d4-fce9ad811640"
      },
      "source": [
        "russian_markup_EnXLM = markup_sentences(EnglishXLMModel, en_train_dataset.idx2tag, ru_sentences_new)  \r\n",
        "russian_markup_RuXLM = markup_sentences(RussianXLMModel, ru_train_dataset.idx2tag, ru_sentences_new)\r\n",
        "\r\n",
        "from seqeval.metrics import f1_score\r\n",
        "print('English XLM on Russian Texts:', f1_score(russian_markup_RuXLM, russian_markup_EnXLM))"
      ],
      "execution_count": null,
      "outputs": [
        {
          "output_type": "stream",
          "text": [
            "English XLM on Russian Texts: 0.586135823776363\n"
          ],
          "name": "stdout"
        }
      ]
    },
    {
      "cell_type": "markdown",
      "metadata": {
        "id": "0grJE9ujx3kI"
      },
      "source": [
        "### Russian - Czech"
      ]
    },
    {
      "cell_type": "code",
      "metadata": {
        "colab": {
          "base_uri": "https://localhost:8080/"
        },
        "id": "B7fn6uwZSIoo",
        "outputId": "177347c7-7da0-47b7-f9c7-afd97c14e3e2"
      },
      "source": [
        "cd /content"
      ],
      "execution_count": null,
      "outputs": [
        {
          "output_type": "stream",
          "text": [
            "/content\n"
          ],
          "name": "stdout"
        }
      ]
    },
    {
      "cell_type": "code",
      "metadata": {
        "colab": {
          "base_uri": "https://localhost:8080/"
        },
        "id": "M4b_L450rcG8",
        "outputId": "09935e55-899f-4b57-d912-b3eb2a1b37e2"
      },
      "source": [
        "!wget -O cs-ru.tsv.gz https://dl.fbaipublicfiles.com/laser/WikiMatrix/v1/WikiMatrix.cs-ru.tsv.gz"
      ],
      "execution_count": null,
      "outputs": [
        {
          "output_type": "stream",
          "text": [
            "--2021-03-12 15:38:35--  https://dl.fbaipublicfiles.com/laser/WikiMatrix/v1/WikiMatrix.cs-ru.tsv.gz\n",
            "Resolving dl.fbaipublicfiles.com (dl.fbaipublicfiles.com)... 104.22.75.142, 172.67.9.4, 104.22.74.142, ...\n",
            "Connecting to dl.fbaipublicfiles.com (dl.fbaipublicfiles.com)|104.22.75.142|:443... connected.\n",
            "HTTP request sent, awaiting response... 200 OK\n",
            "Length: 150837806 (144M) [application/gzip]\n",
            "Saving to: ‘cs-ru.tsv.gz’\n",
            "\n",
            "cs-ru.tsv.gz        100%[===================>] 143.85M  45.2MB/s    in 3.2s    \n",
            "\n",
            "2021-03-12 15:38:38 (45.2 MB/s) - ‘cs-ru.tsv.gz’ saved [150837806/150837806]\n",
            "\n"
          ],
          "name": "stdout"
        }
      ]
    },
    {
      "cell_type": "code",
      "metadata": {
        "colab": {
          "base_uri": "https://localhost:8080/"
        },
        "id": "s3jt0ZObvv96",
        "outputId": "cb293434-b7ed-46b3-a687-2c9de24e01c8"
      },
      "source": [
        "!python3 /content/multilingual-bert-ner/extract.py \\\r\n",
        "  --tsv cs-ru.tsv.gz \\\r\n",
        "  --bitext WikiMatrix.cs-ru.txt \\\r\n",
        "  --src-lang cs --trg-lang ru \\\r\n",
        "  --threshold 1.05"
      ],
      "execution_count": null,
      "outputs": [
        {
          "output_type": "stream",
          "text": [
            "Tool to extract bitext from the WikiMatrix\n",
            "Processing cs-ru.tsv.gz\n",
            " - wrote 90840 lines\n",
            " - with 1241398 source and 1227075 target words\n",
            " - last threshold is 1.0500\n"
          ],
          "name": "stdout"
        }
      ]
    },
    {
      "cell_type": "code",
      "metadata": {
        "id": "w0XUJqjIBudo"
      },
      "source": [
        "def markup_sentences(model, idx2tag, sentences):\r\n",
        "    markup = []\r\n",
        "    \r\n",
        "    for sentence in sentences:\r\n",
        "        words = TOKENIZER.tokenize(sentence)\r\n",
        "        tokens = torch.LongTensor(TOKENIZER.convert_tokens_to_ids(words))\r\n",
        "        preds = model(tokens.unsqueeze(0).to(DEVICE))\r\n",
        "        preds = preds.view(-1, preds.shape[-1])\r\n",
        "        preds = preds.argmax(1)\r\n",
        "        preds = preds.cpu().numpy()\r\n",
        "        preds = [idx2tag[tag] for tag in preds]\r\n",
        "        markup.append(preds)\r\n",
        "    \r\n",
        "    return markup"
      ],
      "execution_count": null,
      "outputs": []
    },
    {
      "cell_type": "code",
      "metadata": {
        "id": "2OG--0M5Bwb-",
        "colab": {
          "base_uri": "https://localhost:8080/"
        },
        "outputId": "e7bb798d-8284-4ba7-a814-6ffd476b5d1d"
      },
      "source": [
        "ru_sentences = []\r\n",
        "cs_sentences = []\r\n",
        "\r\n",
        "with open(\"/content/WikiMatrix.cs-ru.txt.ru\") as file:\r\n",
        "    for line in file:\r\n",
        "        ru_sentences.append(line)\r\n",
        "\r\n",
        "with open(\"/content/WikiMatrix.cs-ru.txt.cs\") as file:\r\n",
        "    for line in file:\r\n",
        "        cs_sentences.append(line)\r\n",
        "\r\n",
        "print('RU:', len(ru_sentences), 'CS:', len(cs_sentences))"
      ],
      "execution_count": null,
      "outputs": [
        {
          "output_type": "stream",
          "text": [
            "RU: 90840 CS: 90840\n"
          ],
          "name": "stdout"
        }
      ]
    },
    {
      "cell_type": "code",
      "metadata": {
        "colab": {
          "base_uri": "https://localhost:8080/"
        },
        "id": "kWYDbcITrxqq",
        "outputId": "55eb841f-0478-4f37-f670-56273091c1d9"
      },
      "source": [
        "ru_sentences_id = []\r\n",
        "\r\n",
        "ru_sentences_new = []\r\n",
        "cs_sentences_new = []\r\n",
        "\r\n",
        "for idx in range(len(ru_sentences)):\r\n",
        "    if len(ru_sentences[idx]) <= 200 and len(ru_sentences[idx]) >= 190:\r\n",
        "        ru_sentences_id.append(idx)\r\n",
        "\r\n",
        "for idx in ru_sentences_id:\r\n",
        "    ru_sentences_new.append(ru_sentences[idx])\r\n",
        "    cs_sentences_new.append(cs_sentences[idx])\r\n",
        "                            \r\n",
        "print('RU:', len(ru_sentences_new), 'CS:', len(cs_sentences_new))"
      ],
      "execution_count": null,
      "outputs": [
        {
          "output_type": "stream",
          "text": [
            "RU: 1338 CS: 1338\n"
          ],
          "name": "stdout"
        }
      ]
    },
    {
      "cell_type": "code",
      "metadata": {
        "colab": {
          "base_uri": "https://localhost:8080/"
        },
        "id": "gN5y6fzurxq0",
        "outputId": "af4c0a33-3877-41fd-8116-f1bbfbf9ebdb"
      },
      "source": [
        "russian_markup_CsBERT = markup_sentences(CzechBertModel, cs_train_dataset.idx2tag, ru_sentences_new) \r\n",
        "russian_markup_RuBERT = markup_sentences(RussianBertModel, ru_train_dataset.idx2tag, ru_sentences_new) \r\n",
        "\r\n",
        "from seqeval.metrics import f1_score\r\n",
        "print('Czech BERT on Russian Texts:', f1_score(russian_markup_RuBERT, russian_markup_CsBERT))"
      ],
      "execution_count": null,
      "outputs": [
        {
          "output_type": "stream",
          "text": [
            "Czech BERT on Russian Texts: 0.709370587798172\n"
          ],
          "name": "stdout"
        }
      ]
    },
    {
      "cell_type": "code",
      "metadata": {
        "colab": {
          "base_uri": "https://localhost:8080/"
        },
        "id": "HGMx3HewsI-2",
        "outputId": "3efa444c-1bc7-4f86-e599-351811a66638"
      },
      "source": [
        "czech_markup_CsBERT = markup_sentences(CzechBertModel, cs_train_dataset.idx2tag, cs_sentences_new) \r\n",
        "czech_markup_RuBERT = markup_sentences(RussianBertModel, ru_train_dataset.idx2tag, cs_sentences_new) \r\n",
        "\r\n",
        "from seqeval.metrics import f1_score\r\n",
        "print('Russian BERT on Czech Texts:', f1_score(czech_markup_CsBERT, czech_markup_RuBERT))"
      ],
      "execution_count": null,
      "outputs": [
        {
          "output_type": "stream",
          "text": [
            "Russian BERT on Czech Texts: 0.6551202286867328\n"
          ],
          "name": "stdout"
        }
      ]
    },
    {
      "cell_type": "code",
      "metadata": {
        "colab": {
          "base_uri": "https://localhost:8080/"
        },
        "id": "EPZsDBuzSQ3j",
        "outputId": "2b31f884-732d-499d-b31a-45dc9265de69"
      },
      "source": [
        "idx = 3\r\n",
        "print(ru_sentences_new[idx])\r\n",
        "print(cs_sentences_new[idx])"
      ],
      "execution_count": null,
      "outputs": [
        {
          "output_type": "stream",
          "text": [
            "Чехословакия присоединилась к Конвенции о внедрении методов минимального размера оплаты труда в 1950 году, когда была ратифицирована Генеральным директором Международного бюро труда (12 июня).\n",
            "\n",
            "Československo přistoupilo k Úmluvě o zavedení metod stanovení minimálních mezd v roce 1950, kdy byla (12. června) ratifikace zapsána generálním ředitelem Mezinárodního úřadu práce.\n",
            "\n"
          ],
          "name": "stdout"
        }
      ]
    },
    {
      "cell_type": "code",
      "metadata": {
        "id": "dBlcZ4f0SyhU"
      },
      "source": [
        "def markup_sentence(model, idx2tag, sentence):\r\n",
        "    markup = []\r\n",
        "  \r\n",
        "    words = TOKENIZER.tokenize(sentence)\r\n",
        "    tokens = torch.LongTensor(TOKENIZER.convert_tokens_to_ids(words))\r\n",
        "    preds = model(tokens.unsqueeze(0).to(DEVICE))\r\n",
        "    preds = preds.view(-1, preds.shape[-1])\r\n",
        "    preds = preds.argmax(1)\r\n",
        "    preds = preds.cpu().numpy()\r\n",
        "    preds = [idx2tag[tag] for tag in preds]\r\n",
        "    markup.append(preds)\r\n",
        "\r\n",
        "    print(len(words), words)\r\n",
        "    print(markup)"
      ],
      "execution_count": null,
      "outputs": []
    },
    {
      "cell_type": "code",
      "metadata": {
        "colab": {
          "base_uri": "https://localhost:8080/"
        },
        "id": "DUArzDMlRINq",
        "outputId": "b39ed8c4-8030-4d62-8894-1f004d75cf3b"
      },
      "source": [
        "markup_sentence(RussianBertModel, ru_train_dataset.idx2tag, ru_sentences_new[3])"
      ],
      "execution_count": null,
      "outputs": [
        {
          "output_type": "stream",
          "text": [
            "50 ['Ч', '##ех', '##ос', '##ловакия', 'при', '##со', '##еди', '##нила', '##сь', 'к', 'К', '##он', '##вен', '##ции', 'о', 'вне', '##дре', '##нии', 'методов', 'мини', '##маль', '##ного', 'размер', '##а', 'о', '##п', '##латы', 'труда', 'в', '1950', 'году', ',', 'когда', 'была', 'рат', '##и', '##фи', '##ци', '##рована', 'Генерал', '##ьным', 'директором', 'Международного', 'бюро', 'труда', '(', '12', 'июня', ')', '.']\n",
            "[['O', 'B-LOC', 'B-LOC', 'B-LOC', 'O', 'O', 'O', 'O', 'O', 'O', 'B-ORG', 'B-ORG', 'B-ORG', 'B-ORG', 'I-ORG', 'I-ORG', 'I-ORG', 'I-ORG', 'I-ORG', 'I-ORG', 'I-ORG', 'I-ORG', 'I-ORG', 'I-ORG', 'I-ORG', 'I-ORG', 'I-ORG', 'I-ORG', 'O', 'O', 'O', 'O', 'O', 'O', 'O', 'O', 'O', 'O', 'O', 'O', 'O', 'O', 'B-ORG', 'I-ORG', 'I-ORG', 'O', 'O', 'O', 'O', 'O']]\n"
          ],
          "name": "stdout"
        }
      ]
    },
    {
      "cell_type": "code",
      "metadata": {
        "colab": {
          "base_uri": "https://localhost:8080/"
        },
        "id": "gvKOperSTHm8",
        "outputId": "072a0195-60e8-4a86-aeef-978210312255"
      },
      "source": [
        "markup_sentence(CzechBertModel, cs_train_dataset.idx2tag, cs_sentences_new[3])"
      ],
      "execution_count": null,
      "outputs": [
        {
          "output_type": "stream",
          "text": [
            "['Česko', '##sl', '##oven', '##sko', 'při', '##sto', '##upil', '##o', 'k', 'Ú', '##ml', '##uv', '##ě', 'o', 'za', '##veden', '##í', 'metod', 'stan', '##oven', '##í', 'mini', '##má', '##lní', '##ch', 'me', '##zd', 'v', 'roce', '1950', ',', 'kdy', 'byla', '(', '12', '.', 'června', ')', 'rat', '##if', '##ikace', 'za', '##ps', '##ána', 'gener', '##álním', 'ř', '##edit', '##elem', 'Mezi', '##nár', '##odní', '##ho', 'ú', '##řadu', 'práce', '.']\n",
            "[['O', 'B-LOC', 'B-LOC', 'B-LOC', 'O', 'O', 'O', 'O', 'O', 'O', 'O', 'O', 'O', 'O', 'O', 'O', 'O', 'O', 'O', 'O', 'O', 'O', 'O', 'O', 'O', 'O', 'O', 'O', 'O', 'O', 'O', 'O', 'O', 'O', 'O', 'O', 'O', 'O', 'O', 'O', 'O', 'O', 'O', 'O', 'O', 'O', 'O', 'O', 'O', 'B-ORG', 'B-ORG', 'B-ORG', 'B-ORG', 'I-ORG', 'I-ORG', 'I-ORG', 'O']]\n"
          ],
          "name": "stdout"
        }
      ]
    },
    {
      "cell_type": "code",
      "metadata": {
        "id": "Ejf9eUn_8hDP"
      },
      "source": [
        "import seaborn as sns\r\n",
        "import matplotlib.pyplot as plt\r\n",
        "\r\n",
        "class VizAttention:\r\n",
        "    def __init__(self, text, model, tokenizer):\r\n",
        "        #self.tok = ['[CLS]'] + tokenizer.tokenize(text) + ['[SEP]']\r\n",
        "        self.tok = tokenizer.tokenize(text)\r\n",
        "        ids = torch.tensor(tokenizer.convert_tokens_to_ids(self.tok)).unsqueeze(0).to('cuda')\r\n",
        "        with torch.no_grad():\r\n",
        "            output = model.bert(ids)\r\n",
        "        self.attentions = torch.cat(output[2]).to('cpu')\r\n",
        "        # attentions: [layer, batch_size, num_heads, sequence_length, sequence_length]\r\n",
        "    \r\n",
        "    def plot_heatmap(self, position):\r\n",
        "        attention = self.attentions.permute(2,1,0,3)\r\n",
        "        # attention: [sequence_length, num_heads, layer, sequence_length]\r\n",
        "\r\n",
        "        attention_position = attention[position]\r\n",
        "\r\n",
        "        layers = len(attention[0][0])\r\n",
        "        heads = len(attention[0])\r\n",
        "        seqlen = len(attention)\r\n",
        "        cols = 2\r\n",
        "        rows = int(heads/cols)\r\n",
        "        fig, axes = plt.subplots(rows,cols, figsize = (17,35))\r\n",
        "        axes = axes.flat\r\n",
        "        plt.subplots_adjust(wspace=0.15, hspace=0.3)\r\n",
        "\r\n",
        "        for i, att in enumerate(attention_position):\r\n",
        "            sns.heatmap(att, vmin=0, vmax=1, ax=axes[i], xticklabels = self.tok, cmap=plt.cm.BuPu)\r\n",
        "            axes[i].set_title(f'head - {i} ' )\r\n",
        "            axes[i].set_ylabel('layers')\r\n",
        "    \r\n",
        "    def plot_heatmap_avg(self, dim):\r\n",
        "        attention = self.attentions.permute(2,1,0,3)\r\n",
        "        # attention: [sequence_length, num_heads, layer, sequence_length]\r\n",
        "        for position in range(len(self.tok)):\r\n",
        "            attention[position] = attention[position].mean(dim=dim)\r\n",
        "        #attention_avg = attention_position.mean(dim=dim)\r\n",
        "        #attention_avg = attention.mean(dim=dim)\r\n",
        "        #print(attention_avg.min())\r\n",
        "        plt.figure(figsize=(20, 10))\r\n",
        "        #sns.heatmap(attention_avg,vmin = 0, vmax = 1, xticklabels= self.tok, cmap=plt.cm.BuPu)\r\n",
        "        sns.heatmap(attention, vmin = attention.min(), vmax = attention.max(), xticklabels=self.tok, cmap=plt.cm.BuPu)\r\n",
        "\r\n",
        "    def plot_heatmap_avg_for_position(self, position, dim):\r\n",
        "        attention = self.attentions.permute(2,1,0,3)\r\n",
        "        # attention: [sequence_length, num_heads, layer, sequence_length]\r\n",
        "        attention_position = attention[position]\r\n",
        "        attention_avg = attention_position.mean(dim=dim)\r\n",
        "        #attention_avg = attention.mean(dim=dim)\r\n",
        "        #print(attention_avg.min())\r\n",
        "        plt.figure(figsize=(20, 10))\r\n",
        "        #sns.heatmap(attention_avg,vmin = 0, vmax = 1, xticklabels= self.tok, cmap=plt.cm.BuPu)\r\n",
        "        sns.heatmap(attention_avg,vmin = attention_avg.min(), vmax = attention_avg.max(), xticklabels=self.tok, cmap=plt.cm.BuPu).invert_yaxis()"
      ],
      "execution_count": null,
      "outputs": []
    },
    {
      "cell_type": "code",
      "metadata": {
        "colab": {
          "base_uri": "https://localhost:8080/",
          "height": 674
        },
        "id": "ZA0Y2Y-CTSYZ",
        "outputId": "e39d9f49-af40-4982-f42a-e4f3f1805316"
      },
      "source": [
        "bert_viz_en = VizAttention(ru_sentences_new[3], EnglishBertModel, TOKENIZER)\r\n",
        "bert_viz_en.plot_heatmap_avg_for_position(2, 0)"
      ],
      "execution_count": null,
      "outputs": [
        {
          "output_type": "display_data",
          "data": {
            "image/png": "[encoded data removed]",
            "text/plain": [
              "<Figure size 1440x720 with 2 Axes>"
            ]
          },
          "metadata": {
            "tags": [],
            "needs_background": "light"
          }
        }
      ]
    },
    {
      "cell_type": "code",
      "metadata": {
        "colab": {
          "base_uri": "https://localhost:8080/"
        },
        "id": "3KsD3v3NF71c",
        "outputId": "81a87dc9-89c5-43fb-af2a-3cbeefb24ed0"
      },
      "source": [
        "russian_markup_CsXLM = markup_sentences(CzechXLMModel, cs_train_dataset.idx2tag, ru_sentences_new) \r\n",
        "russian_markup_RuXLM = markup_sentences(RussianXLMModel, ru_train_dataset.idx2tag, ru_sentences_new) \r\n",
        "\r\n",
        "from seqeval.metrics import f1_score\r\n",
        "print('Czech XLM on Russian Texts:', f1_score(russian_markup_RuXLM, russian_markup_CsXLM))"
      ],
      "execution_count": null,
      "outputs": [
        {
          "output_type": "stream",
          "text": [
            "Czech XLM on Russian Texts: 0.6736420590324872\n"
          ],
          "name": "stdout"
        }
      ]
    },
    {
      "cell_type": "code",
      "metadata": {
        "colab": {
          "base_uri": "https://localhost:8080/"
        },
        "id": "XDnA6RG7GGBl",
        "outputId": "30a9f327-d01a-46e6-e97c-228501bf9cbf"
      },
      "source": [
        "czech_markup_CsXLM = markup_sentences(CzechXLMModel, cs_train_dataset.idx2tag, cs_sentences_new) \r\n",
        "czech_markup_RuXLM = markup_sentences(RussianXLMModel, ru_train_dataset.idx2tag, cs_sentences_new) \r\n",
        "\r\n",
        "from seqeval.metrics import f1_score\r\n",
        "print('Russian XLM on Czech Texts:', f1_score(czech_markup_CsXLM, czech_markup_RuXLM))"
      ],
      "execution_count": null,
      "outputs": [
        {
          "output_type": "stream",
          "text": [
            "Russian XLM on Czech Texts: 0.6624009307060278\n"
          ],
          "name": "stdout"
        }
      ]
    },
    {
      "cell_type": "code",
      "metadata": {
        "id": "KKN4Ig-PGjdL"
      },
      "source": [
        "import seaborn as sns\r\n",
        "import matplotlib.pyplot as plt\r\n",
        "\r\n",
        "class VizAttention:\r\n",
        "    def __init__(self, text, model, tokenizer):\r\n",
        "        #self.tok = ['[CLS]'] + tokenizer.tokenize(text) + ['[SEP]']\r\n",
        "        self.tok = tokenizer.tokenize(text)\r\n",
        "        ids = torch.tensor(tokenizer.convert_tokens_to_ids(self.tok)).unsqueeze(0).to('cuda')\r\n",
        "        with torch.no_grad():\r\n",
        "            output = model.RoBERTa(ids)\r\n",
        "        self.attentions = torch.cat(output[2]).to('cpu')\r\n",
        "        # attentions: [layer, batch_size, num_heads, sequence_length, sequence_length]\r\n",
        "    \r\n",
        "    def plot_heatmap(self, position):\r\n",
        "        attention = self.attentions.permute(2,1,0,3)\r\n",
        "        # attention: [sequence_length, num_heads, layer, sequence_length]\r\n",
        "\r\n",
        "        attention_position = attention[position]\r\n",
        "\r\n",
        "        layers = len(attention[0][0])\r\n",
        "        heads = len(attention[0])\r\n",
        "        seqlen = len(attention)\r\n",
        "        cols = 2\r\n",
        "        rows = int(heads/cols)\r\n",
        "        fig, axes = plt.subplots(rows,cols, figsize = (17,35))\r\n",
        "        axes = axes.flat\r\n",
        "        plt.subplots_adjust(wspace=0.15, hspace=0.3)\r\n",
        "\r\n",
        "        for i, att in enumerate(attention_position):\r\n",
        "            sns.heatmap(att, vmin=0, vmax=1, ax=axes[i], xticklabels = self.tok, cmap=plt.cm.BuPu)\r\n",
        "            axes[i].set_title(f'head - {i} ' )\r\n",
        "            axes[i].set_ylabel('layers')\r\n",
        "    \r\n",
        "    def plot_heatmap_avg(self, dim):\r\n",
        "        attention = self.attentions.permute(2,1,0,3)\r\n",
        "        # attention: [sequence_length, num_heads, layer, sequence_length]\r\n",
        "        for position in range(len(self.tok)):\r\n",
        "            attention[position] = attention[position].mean(dim=dim)\r\n",
        "        #attention_avg = attention_position.mean(dim=dim)\r\n",
        "        #attention_avg = attention.mean(dim=dim)\r\n",
        "        #print(attention_avg.min())\r\n",
        "        plt.figure(figsize=(20, 10))\r\n",
        "        #sns.heatmap(attention_avg,vmin = 0, vmax = 1, xticklabels= self.tok, cmap=plt.cm.BuPu)\r\n",
        "        sns.heatmap(attention, vmin = attention.min(), vmax = attention.max(), xticklabels=self.tok, cmap=plt.cm.BuPu)\r\n",
        "\r\n",
        "    def plot_heatmap_avg_for_position(self, position, dim):\r\n",
        "        attention = self.attentions.permute(2,1,0,3)\r\n",
        "        # attention: [sequence_length, num_heads, layer, sequence_length]\r\n",
        "        attention_position = attention[position]\r\n",
        "        attention_avg = attention_position.mean(dim=dim)\r\n",
        "        #attention_avg = attention.mean(dim=dim)\r\n",
        "        #print(attention_avg.min())\r\n",
        "        plt.figure(figsize=(20, 10))\r\n",
        "        sns.heatmap(attention_avg,vmin = 0, vmax = 1, xticklabels= self.tok, cmap=plt.cm.BuPu).invert_yaxis()\r\n",
        "        #sns.heatmap(attention_avg,vmin = attention_avg.min(), vmax = attention_avg.max(), xticklabels=self.tok, cmap=plt.cm.BuPu).invert_yaxis()"
      ],
      "execution_count": null,
      "outputs": []
    },
    {
      "cell_type": "code",
      "metadata": {
        "colab": {
          "base_uri": "https://localhost:8080/",
          "height": 670
        },
        "id": "aTIHoeWTGZiN",
        "outputId": "4020e70b-0387-4f70-b1fb-bea09acc8333"
      },
      "source": [
        "bert_viz_en = VizAttention(ru_sentences_new[3], RussianXLMModel, TOKENIZER)\r\n",
        "bert_viz_en.plot_heatmap_avg_for_position(2, 0)"
      ],
      "execution_count": null,
      "outputs": [
        {
          "output_type": "display_data",
          "data": {
            "image/png": "[encoded data removed]",
            "text/plain": [
              "<Figure size 1440x720 with 2 Axes>"
            ]
          },
          "metadata": {
            "tags": [],
            "needs_background": "light"
          }
        }
      ]
    },
    {
      "cell_type": "code",
      "metadata": {
        "colab": {
          "base_uri": "https://localhost:8080/",
          "height": 670
        },
        "id": "NukchWPeGpho",
        "outputId": "2a6ad60f-217b-46e9-b0df-a7a25283cb61"
      },
      "source": [
        "bert_viz_en = VizAttention(ru_sentences_new[3], CzechXLMModel, TOKENIZER)\r\n",
        "bert_viz_en.plot_heatmap_avg_for_position(2, 0)"
      ],
      "execution_count": null,
      "outputs": [
        {
          "output_type": "display_data",
          "data": {
            "image/png": "[encoded data removed]",
            "text/plain": [
              "<Figure size 1440x720 with 2 Axes>"
            ]
          },
          "metadata": {
            "tags": [],
            "needs_background": "light"
          }
        }
      ]
    },
    {
      "cell_type": "code",
      "metadata": {
        "colab": {
          "base_uri": "https://localhost:8080/",
          "height": 674
        },
        "id": "ivaKApT0NJmc",
        "outputId": "b32bf34c-e662-4fe5-ee14-51cd3f053308"
      },
      "source": [
        "bert_viz_en = VizAttention(ru_sentences_new[3], EnglishXLMModel, TOKENIZER)\r\n",
        "bert_viz_en.plot_heatmap_avg_for_position(2, 0)"
      ],
      "execution_count": null,
      "outputs": [
        {
          "output_type": "display_data",
          "data": {
            "image/png": "[encoded data removed]",
            "text/plain": [
              "<Figure size 1440x720 with 2 Axes>"
            ]
          },
          "metadata": {
            "tags": [],
            "needs_background": "light"
          }
        }
      ]
    },
    {
      "cell_type": "markdown",
      "metadata": {
        "id": "dqGesGvxx7kI"
      },
      "source": [
        "### Russian - Chinese"
      ]
    },
    {
      "cell_type": "code",
      "metadata": {
        "id": "4g_6pKMzWyFA"
      },
      "source": [
        "def markup_sentences(model, idx2tag, sentences):\r\n",
        "    markup = []\r\n",
        "    \r\n",
        "    for sentence in sentences:\r\n",
        "        words = TOKENIZER.tokenize(sentence)\r\n",
        "        tokens = torch.LongTensor(TOKENIZER.convert_tokens_to_ids(words))\r\n",
        "        preds = model(tokens.unsqueeze(0).to(DEVICE))\r\n",
        "        preds = preds.view(-1, preds.shape[-1])\r\n",
        "        preds = preds.argmax(1)\r\n",
        "        preds = preds.cpu().numpy()\r\n",
        "        preds = [idx2tag[tag] for tag in preds]\r\n",
        "        markup.append(preds)\r\n",
        "    \r\n",
        "    return markup"
      ],
      "execution_count": null,
      "outputs": []
    },
    {
      "cell_type": "code",
      "metadata": {
        "colab": {
          "base_uri": "https://localhost:8080/"
        },
        "id": "heDMPhXMHpwo",
        "outputId": "724bd23f-9a21-464b-d1b2-f381fe0709ca"
      },
      "source": [
        "ru_sentences = []\r\n",
        "zh_sentences = []\r\n",
        "\r\n",
        "with open(\"/content/WikiMatrix.ru-zh.txt.ru\") as file:\r\n",
        "    for line in file:\r\n",
        "        ru_sentences.append(line)\r\n",
        "\r\n",
        "with open(\"/content/WikiMatrix.ru-zh.txt.zh\") as file:\r\n",
        "    for line in file:\r\n",
        "        zh_sentences.append(line)\r\n",
        "\r\n",
        "print('RU:', len(ru_sentences), 'ZH:', len(zh_sentences))"
      ],
      "execution_count": null,
      "outputs": [
        {
          "output_type": "stream",
          "text": [
            "RU: 65988 ZH: 65988\n"
          ],
          "name": "stdout"
        }
      ]
    },
    {
      "cell_type": "code",
      "metadata": {
        "colab": {
          "base_uri": "https://localhost:8080/"
        },
        "id": "Iwutz9UQXNB0",
        "outputId": "90218181-4cd3-4301-a90c-409c831b9941"
      },
      "source": [
        "ru_sentences_id = []\r\n",
        "\r\n",
        "ru_sentences_new = []\r\n",
        "zh_sentences_new = []\r\n",
        "\r\n",
        "for idx in range(len(ru_sentences)):\r\n",
        "    if len(ru_sentences[idx]) <= 200 and len(ru_sentences[idx]) >= 190:\r\n",
        "        ru_sentences_id.append(idx)\r\n",
        "\r\n",
        "for idx in ru_sentences_id:\r\n",
        "    ru_sentences_new.append(ru_sentences[idx])\r\n",
        "    zh_sentences_new.append(zh_sentences[idx])\r\n",
        "                            \r\n",
        "print('RU:', len(ru_sentences_new), 'ZH:', len(zh_sentences_new))"
      ],
      "execution_count": null,
      "outputs": [
        {
          "output_type": "stream",
          "text": [
            "RU: 1176 ZH: 1176\n"
          ],
          "name": "stdout"
        }
      ]
    },
    {
      "cell_type": "code",
      "metadata": {
        "id": "qtW8GTvE__Df",
        "colab": {
          "base_uri": "https://localhost:8080/"
        },
        "outputId": "17843e57-abc2-4b61-8828-21484b893e91"
      },
      "source": [
        "from seqeval.metrics import f1_score\r\n",
        "print('Chinese BERT on Russian Texts:', f1_score(russian_markup_RuBERT, russian_markup_ZhBERT))"
      ],
      "execution_count": null,
      "outputs": [
        {
          "output_type": "stream",
          "text": [
            "Chinese BERT on Russian Texts: 0.06234256926952141\n"
          ],
          "name": "stdout"
        }
      ]
    },
    {
      "cell_type": "code",
      "metadata": {
        "id": "ZTyc_MEiQVKL"
      },
      "source": [
        "chinese_markup_ZhBERT = markup_sentences(ChineseBertModel, zh_train_dataset.idx2tag, zh_sentences_new) \r\n",
        "chinese_markup_RuBERT = markup_sentences(RussianBertModel, ru_train_dataset.idx2tag, zh_sentences_new) \r\n",
        "\r\n",
        "from seqeval.metrics import f1_score\r\n",
        "print('Russian BERT on Chinese Texts:', f1_score(chinese_markup_ZhBERT, chinese_markup_RuBERT))"
      ],
      "execution_count": null,
      "outputs": []
    },
    {
      "cell_type": "markdown",
      "metadata": {
        "id": "-52Dj1VSehRk"
      },
      "source": [
        "### English - Chinese"
      ]
    },
    {
      "cell_type": "code",
      "metadata": {
        "colab": {
          "base_uri": "https://localhost:8080/"
        },
        "id": "tAwwMvafifL0",
        "outputId": "bca33a76-ef42-44f1-ac08-5ae07afd517b"
      },
      "source": [
        "cd .."
      ],
      "execution_count": null,
      "outputs": [
        {
          "output_type": "stream",
          "text": [
            "/content\n"
          ],
          "name": "stdout"
        }
      ]
    },
    {
      "cell_type": "code",
      "metadata": {
        "colab": {
          "base_uri": "https://localhost:8080/"
        },
        "id": "oEU1IUcCigFY",
        "outputId": "d37a7f5d-272f-4bb2-c8e2-3c161cd8ef1a"
      },
      "source": [
        "!python3 /content/multilingual-bert-ner/extract.py \\\r\n",
        "  --tsv en-zh.tsv.gz \\\r\n",
        "  --bitext WikiMatrix.en-zh.txt \\\r\n",
        "  --src-lang en --trg-lang zh \\\r\n",
        "  --threshold 1.05"
      ],
      "execution_count": null,
      "outputs": [
        {
          "output_type": "stream",
          "text": [
            "Tool to extract bitext from the WikiMatrix\n",
            "Processing en-zh.tsv.gz\n",
            " - wrote 491954 lines\n",
            " - with 10524338 source and 893953 target words\n",
            " - last threshold is 1.0500\n"
          ],
          "name": "stdout"
        }
      ]
    },
    {
      "cell_type": "code",
      "metadata": {
        "id": "GlFDTy1yeil2"
      },
      "source": [
        "def markup_sentences(model, idx2tag, sentences):\r\n",
        "    markup = []\r\n",
        "    \r\n",
        "    for sentence in sentences:\r\n",
        "        words = TOKENIZER.tokenize(sentence)\r\n",
        "        tokens = torch.LongTensor(TOKENIZER.convert_tokens_to_ids(words))\r\n",
        "        preds = model(tokens.unsqueeze(0).to(DEVICE))\r\n",
        "        preds = preds.view(-1, preds.shape[-1])\r\n",
        "        preds = preds.argmax(1)\r\n",
        "        preds = preds.cpu().numpy()\r\n",
        "        preds = [idx2tag[tag] for tag in preds]\r\n",
        "        markup.append(preds)\r\n",
        "    \r\n",
        "    return markup"
      ],
      "execution_count": null,
      "outputs": []
    },
    {
      "cell_type": "code",
      "metadata": {
        "colab": {
          "base_uri": "https://localhost:8080/"
        },
        "id": "qTG4ucmticBf",
        "outputId": "fe6e9de9-b740-4157-ee94-a7273130aa0f"
      },
      "source": [
        "en_sentences = []\r\n",
        "zh_sentences = []\r\n",
        "\r\n",
        "with open(\"/content/WikiMatrix.en-zh.txt.en\") as file:\r\n",
        "    for line in file:\r\n",
        "        en_sentences.append(line)\r\n",
        "\r\n",
        "with open(\"/content/WikiMatrix.en-zh.txt.zh\") as file:\r\n",
        "    for line in file:\r\n",
        "        zh_sentences.append(line)\r\n",
        "\r\n",
        "print('EN:', len(en_sentences), 'ZH:', len(zh_sentences))"
      ],
      "execution_count": null,
      "outputs": [
        {
          "output_type": "stream",
          "text": [
            "EN: 491954 ZH: 491954\n"
          ],
          "name": "stdout"
        }
      ]
    },
    {
      "cell_type": "code",
      "metadata": {
        "colab": {
          "base_uri": "https://localhost:8080/"
        },
        "id": "EpBRZrWEiqjN",
        "outputId": "501bdb11-dcd3-4927-bcd6-1cd764fd1f8b"
      },
      "source": [
        "en_sentences_id = []\r\n",
        "\r\n",
        "en_sentences_new = []\r\n",
        "zh_sentences_new = []\r\n",
        "\r\n",
        "for idx in range(len(en_sentences)):\r\n",
        "    if len(en_sentences[idx]) <= 300 and len(en_sentences[idx]) >= 190:\r\n",
        "        en_sentences_id.append(idx)\r\n",
        "\r\n",
        "for idx in en_sentences_id:\r\n",
        "    en_sentences_new.append(en_sentences[idx])\r\n",
        "    zh_sentences_new.append(zh_sentences[idx])\r\n",
        "                            \r\n",
        "print('EN:', len(en_sentences_new), 'ZH:', len(zh_sentences_new))"
      ],
      "execution_count": null,
      "outputs": [
        {
          "output_type": "stream",
          "text": [
            "EN: 71496 ZH: 71496\n"
          ],
          "name": "stdout"
        }
      ]
    },
    {
      "cell_type": "code",
      "metadata": {
        "colab": {
          "base_uri": "https://localhost:8080/"
        },
        "id": "xc-WlxA3i0Jx",
        "outputId": "55d23536-387b-47e4-e4b2-c15d952b69be"
      },
      "source": [
        "english_markup_EnBERT = markup_sentences(EnglishBertModel, en_train_dataset.idx2tag, en_sentences_new)  \r\n",
        "english_markup_ZhBERT = markup_sentences(ChineseBertModel, zh_train_dataset.idx2tag, en_sentences_new)\r\n",
        "\r\n",
        "from seqeval.metrics import f1_score\r\n",
        "print('Chinese BERT on English Texts:', f1_score(english_markup_EnBERT, english_markup_ZhBERT))"
      ],
      "execution_count": null,
      "outputs": [
        {
          "output_type": "stream",
          "text": [
            "Chinese BERT on English Texts: 0.0996919812265535\n"
          ],
          "name": "stdout"
        }
      ]
    },
    {
      "cell_type": "code",
      "metadata": {
        "colab": {
          "base_uri": "https://localhost:8080/"
        },
        "id": "YoF_Bsi5i_dr",
        "outputId": "205043b5-4b1c-43a1-e334-3b9aba00f136"
      },
      "source": [
        "chinese_markup_EnBERT = markup_sentences(EnglishBertModel, en_train_dataset.idx2tag, zh_sentences_new)  \r\n",
        "chinese_markup_ZhBERT = markup_sentences(ChineseBertModel, zh_train_dataset.idx2tag, zh_sentences_new)\r\n",
        "\r\n",
        "from seqeval.metrics import f1_score\r\n",
        "print('English BERT on Chinese Texts:', f1_score(chinese_markup_ZhBERT, chinese_markup_EnBERT))"
      ],
      "execution_count": null,
      "outputs": [
        {
          "output_type": "stream",
          "text": [
            "English BERT on Chinese Texts: 0.03540917204322773\n"
          ],
          "name": "stdout"
        }
      ]
    },
    {
      "cell_type": "markdown",
      "metadata": {
        "id": "IBpQOAOzsyed"
      },
      "source": [
        "### English - Spanish"
      ]
    },
    {
      "cell_type": "code",
      "metadata": {
        "id": "Om1uUeVJyO3U",
        "colab": {
          "base_uri": "https://localhost:8080/"
        },
        "outputId": "53bf5016-3e1a-415b-86e0-fde30415f07e"
      },
      "source": [
        "cd .."
      ],
      "execution_count": null,
      "outputs": [
        {
          "output_type": "stream",
          "text": [
            "/content\n"
          ],
          "name": "stdout"
        }
      ]
    },
    {
      "cell_type": "code",
      "metadata": {
        "colab": {
          "base_uri": "https://localhost:8080/"
        },
        "id": "WVhecvRDwoQw",
        "outputId": "50e3d3d8-9cef-4a9b-82fe-3d068160f37a"
      },
      "source": [
        "!wget -O en-es.tsv.gz https://dl.fbaipublicfiles.com/laser/WikiMatrix/v1/WikiMatrix.en-es.tsv.gz"
      ],
      "execution_count": null,
      "outputs": [
        {
          "output_type": "stream",
          "text": [
            "--2021-03-12 17:35:52--  https://dl.fbaipublicfiles.com/laser/WikiMatrix/v1/WikiMatrix.en-es.tsv.gz\n",
            "Resolving dl.fbaipublicfiles.com (dl.fbaipublicfiles.com)... 104.22.75.142, 172.67.9.4, 104.22.74.142, ...\n",
            "Connecting to dl.fbaipublicfiles.com (dl.fbaipublicfiles.com)|104.22.75.142|:443... connected.\n",
            "HTTP request sent, awaiting response... 200 OK\n",
            "Length: 756650844 (722M) [application/gzip]\n",
            "Saving to: ‘en-es.tsv.gz’\n",
            "\n",
            "en-es.tsv.gz        100%[===================>] 721.60M  65.0MB/s    in 12s     \n",
            "\n",
            "2021-03-12 17:36:05 (60.9 MB/s) - ‘en-es.tsv.gz’ saved [756650844/756650844]\n",
            "\n"
          ],
          "name": "stdout"
        }
      ]
    },
    {
      "cell_type": "code",
      "metadata": {
        "colab": {
          "base_uri": "https://localhost:8080/"
        },
        "id": "ZIkD7H9Js52p",
        "outputId": "7ff60d33-7bb9-4a27-c6e1-7f24b1cdb4d7"
      },
      "source": [
        "!python3 /content/multilingual-bert-ner/extract.py \\\r\n",
        "  --tsv en-es.tsv.gz \\\r\n",
        "  --bitext WikiMatrix.en-es.txt \\\r\n",
        "  --src-lang en --trg-lang es \\\r\n",
        "  --threshold 1.05"
      ],
      "execution_count": null,
      "outputs": [
        {
          "output_type": "stream",
          "text": [
            "Tool to extract bitext from the WikiMatrix\n",
            "Processing en-es.tsv.gz\n",
            " - wrote 2803972 lines\n",
            " - with 58813388 source and 65769229 target words\n",
            " - last threshold is 1.0500\n"
          ],
          "name": "stdout"
        }
      ]
    },
    {
      "cell_type": "code",
      "metadata": {
        "id": "LqPllvPHs9Fh"
      },
      "source": [
        "def markup_sentences(model, idx2tag, sentences):\r\n",
        "    markup = []\r\n",
        "    \r\n",
        "    for sentence in sentences:\r\n",
        "        words = TOKENIZER.tokenize(sentence)\r\n",
        "        tokens = torch.LongTensor(TOKENIZER.convert_tokens_to_ids(words))\r\n",
        "        preds = model(tokens.unsqueeze(0).to(DEVICE))\r\n",
        "        preds = preds.view(-1, preds.shape[-1])\r\n",
        "        preds = preds.argmax(1)\r\n",
        "        preds = preds.cpu().numpy()\r\n",
        "        preds = [idx2tag[tag] for tag in preds]\r\n",
        "        markup.append(preds)\r\n",
        "    \r\n",
        "    return markup"
      ],
      "execution_count": null,
      "outputs": []
    },
    {
      "cell_type": "code",
      "metadata": {
        "colab": {
          "base_uri": "https://localhost:8080/"
        },
        "id": "cH7SHGS4tBac",
        "outputId": "5a150c65-17e2-4c5d-b413-7f15778e6b7a"
      },
      "source": [
        "en_sentences = []\r\n",
        "es_sentences = []\r\n",
        "\r\n",
        "with open(\"/content/WikiMatrix.en-es.txt.en\") as file:\r\n",
        "    for line in file:\r\n",
        "        en_sentences.append(line)\r\n",
        "\r\n",
        "with open(\"/content/WikiMatrix.en-es.txt.es\") as file:\r\n",
        "    for line in file:\r\n",
        "        es_sentences.append(line)\r\n",
        "\r\n",
        "print('EN:', len(en_sentences), 'ES:', len(es_sentences))"
      ],
      "execution_count": null,
      "outputs": [
        {
          "output_type": "stream",
          "text": [
            "EN: 2803972 ES: 2803972\n"
          ],
          "name": "stdout"
        }
      ]
    },
    {
      "cell_type": "code",
      "metadata": {
        "colab": {
          "base_uri": "https://localhost:8080/"
        },
        "id": "ZIKaD3UmtNIr",
        "outputId": "e96e580d-b237-4523-a682-0530290ea947"
      },
      "source": [
        "en_sentences_id = []\r\n",
        "\r\n",
        "en_sentences_new = []\r\n",
        "es_sentences_new = []\r\n",
        "\r\n",
        "for idx in range(len(en_sentences)):\r\n",
        "    if len(en_sentences[idx]) <= 200 and len(en_sentences[idx]) >= 190:\r\n",
        "        en_sentences_id.append(idx)\r\n",
        "\r\n",
        "for idx in en_sentences_id:\r\n",
        "    en_sentences_new.append(en_sentences[idx])\r\n",
        "    es_sentences_new.append(es_sentences[idx])\r\n",
        "                            \r\n",
        "print('EN:', len(en_sentences_new), 'ES:', len(es_sentences_new))"
      ],
      "execution_count": null,
      "outputs": [
        {
          "output_type": "stream",
          "text": [
            "EN: 77883 ES: 77883\n"
          ],
          "name": "stdout"
        }
      ]
    },
    {
      "cell_type": "code",
      "metadata": {
        "colab": {
          "base_uri": "https://localhost:8080/",
          "height": 231
        },
        "id": "1UUkV1MRtWbN",
        "outputId": "46b1159d-1d6a-458e-f759-de5779f4f98f"
      },
      "source": [
        "english_markup_EnBERT = markup_sentences(EnglishBertModel, en_train_dataset.idx2tag, en_sentences_new)  \r\n",
        "english_markup_EsBERT = markup_sentences(SpanishBertModel, es_train_dataset.idx2tag, en_sentences_new)\r\n",
        "\r\n",
        "from seqeval.metrics import f1_score\r\n",
        "print('Spanish BERT on English Texts:', f1_score(english_markup_EnBERT, english_markup_EsBERT))"
      ],
      "execution_count": null,
      "outputs": [
        {
          "output_type": "error",
          "ename": "NameError",
          "evalue": "ignored",
          "traceback": [
            "\u001b[0;31m---------------------------------------------------------------------------\u001b[0m",
            "\u001b[0;31mNameError\u001b[0m                                 Traceback (most recent call last)",
            "\u001b[0;32m<ipython-input-82-bcd7bfc895da>\u001b[0m in \u001b[0;36m<module>\u001b[0;34m()\u001b[0m\n\u001b[0;32m----> 1\u001b[0;31m \u001b[0menglish_markup_EnBERT\u001b[0m \u001b[0;34m=\u001b[0m \u001b[0mmarkup_sentences\u001b[0m\u001b[0;34m(\u001b[0m\u001b[0mEnglishBertModel\u001b[0m\u001b[0;34m,\u001b[0m \u001b[0men_train_dataset\u001b[0m\u001b[0;34m.\u001b[0m\u001b[0midx2tag\u001b[0m\u001b[0;34m,\u001b[0m \u001b[0men_sentences_new\u001b[0m\u001b[0;34m)\u001b[0m\u001b[0;34m\u001b[0m\u001b[0;34m\u001b[0m\u001b[0m\n\u001b[0m\u001b[1;32m      2\u001b[0m \u001b[0menglish_markup_EsBERT\u001b[0m \u001b[0;34m=\u001b[0m \u001b[0mmarkup_sentences\u001b[0m\u001b[0;34m(\u001b[0m\u001b[0mSpanishBertModel\u001b[0m\u001b[0;34m,\u001b[0m \u001b[0mes_train_dataset\u001b[0m\u001b[0;34m.\u001b[0m\u001b[0midx2tag\u001b[0m\u001b[0;34m,\u001b[0m \u001b[0men_sentences_new\u001b[0m\u001b[0;34m)\u001b[0m\u001b[0;34m\u001b[0m\u001b[0;34m\u001b[0m\u001b[0m\n\u001b[1;32m      3\u001b[0m \u001b[0;34m\u001b[0m\u001b[0m\n\u001b[1;32m      4\u001b[0m \u001b[0;32mfrom\u001b[0m \u001b[0mseqeval\u001b[0m\u001b[0;34m.\u001b[0m\u001b[0mmetrics\u001b[0m \u001b[0;32mimport\u001b[0m \u001b[0mf1_score\u001b[0m\u001b[0;34m\u001b[0m\u001b[0;34m\u001b[0m\u001b[0m\n\u001b[1;32m      5\u001b[0m \u001b[0mprint\u001b[0m\u001b[0;34m(\u001b[0m\u001b[0;34m'Spanish BERT on English Texts:'\u001b[0m\u001b[0;34m,\u001b[0m \u001b[0mf1_score\u001b[0m\u001b[0;34m(\u001b[0m\u001b[0menglish_markup_EnBERT\u001b[0m\u001b[0;34m,\u001b[0m \u001b[0menglish_markup_EsBERT\u001b[0m\u001b[0;34m)\u001b[0m\u001b[0;34m)\u001b[0m\u001b[0;34m\u001b[0m\u001b[0;34m\u001b[0m\u001b[0m\n",
            "\u001b[0;31mNameError\u001b[0m: name 'EnglishBertModel' is not defined"
          ]
        }
      ]
    },
    {
      "cell_type": "code",
      "metadata": {
        "colab": {
          "base_uri": "https://localhost:8080/"
        },
        "id": "Lu5CKdlDtkJV",
        "outputId": "7075450d-4673-4e5b-ea96-031f6a0cc137"
      },
      "source": [
        "spanish_markup_EnBERT = markup_sentences(EnglishBertModel, en_train_dataset.idx2tag, es_sentences_new)  \r\n",
        "spanish_markup_EsBERT = markup_sentences(SpanishBertModel, es_train_dataset.idx2tag, es_sentences_new)\r\n",
        "\r\n",
        "from seqeval.metrics import f1_score\r\n",
        "print('English BERT on Spanish Texts:', f1_score(spanish_markup_EsBERT, spanish_markup_EnBERT))"
      ],
      "execution_count": null,
      "outputs": [
        {
          "output_type": "stream",
          "text": [
            "English BERT on Spanish Texts: 0.48135454846966985\n"
          ],
          "name": "stdout"
        }
      ]
    },
    {
      "cell_type": "code",
      "metadata": {
        "colab": {
          "base_uri": "https://localhost:8080/"
        },
        "id": "-Rm26j4rgX-w",
        "outputId": "15fdb847-1d8e-4ace-b87d-fac063fbb7c0"
      },
      "source": [
        "english_markup_EnXLM = markup_sentences(EnglishXLMModel, en_train_dataset.idx2tag, en_sentences_new)  \r\n",
        "english_markup_EsXLM = markup_sentences(SpanishXLModel, es_train_dataset.idx2tag, en_sentences_new)\r\n",
        "\r\n",
        "from seqeval.metrics import f1_score\r\n",
        "print('Spanish XLM on English Texts:', f1_score(english_markup_EnXLM, english_markup_EsXLM))"
      ],
      "execution_count": null,
      "outputs": [
        {
          "output_type": "stream",
          "text": [
            "Spanish XLM on English Texts: 0.5043692275928248\n"
          ],
          "name": "stdout"
        }
      ]
    },
    {
      "cell_type": "code",
      "metadata": {
        "colab": {
          "base_uri": "https://localhost:8080/"
        },
        "id": "jj7LyBZfggGH",
        "outputId": "22d3141c-da76-489b-bdb4-6e6648e64661"
      },
      "source": [
        "spanish_markup_EnXLM = markup_sentences(EnglishXLMModel, en_train_dataset.idx2tag, es_sentences_new)  \r\n",
        "spanish_markup_EsXLM = markup_sentences(SpanishXLModel, es_train_dataset.idx2tag, es_sentences_new)\r\n",
        "\r\n",
        "from seqeval.metrics import f1_score\r\n",
        "print('English XLM on Spanish Texts:', f1_score(spanish_markup_EsXLM, spanish_markup_EnXLM))"
      ],
      "execution_count": null,
      "outputs": [
        {
          "output_type": "stream",
          "text": [
            "English XLM on Spanish Texts: 0.4522264057964319\n"
          ],
          "name": "stdout"
        }
      ]
    },
    {
      "cell_type": "markdown",
      "metadata": {
        "id": "7cj7hjNJ_wNo"
      },
      "source": [
        "### English - French"
      ]
    },
    {
      "cell_type": "code",
      "metadata": {
        "colab": {
          "base_uri": "https://localhost:8080/"
        },
        "id": "IxwQDw0DuTKm",
        "outputId": "b66aab76-cf17-4a5d-b8bc-09c4062aa945"
      },
      "source": [
        "cd .."
      ],
      "execution_count": null,
      "outputs": [
        {
          "output_type": "stream",
          "text": [
            "/content\n"
          ],
          "name": "stdout"
        }
      ]
    },
    {
      "cell_type": "code",
      "metadata": {
        "colab": {
          "base_uri": "https://localhost:8080/"
        },
        "id": "jvLB043f_2pj",
        "outputId": "075b3719-6c6d-430a-f202-0b841dcafd8f"
      },
      "source": [
        "!python3 /content/multilingual-bert-ner/extract.py \\\r\n",
        "  --tsv en-fr.tsv.gz \\\r\n",
        "  --bitext WikiMatrix.en-fr.txt \\\r\n",
        "  --src-lang en --trg-lang fr \\\r\n",
        "  --threshold 1.05"
      ],
      "execution_count": null,
      "outputs": [
        {
          "output_type": "stream",
          "text": [
            "Tool to extract bitext from the WikiMatrix\n",
            "Processing en-fr.tsv.gz\n",
            " - wrote 2171059 lines\n",
            " - with 46279401 source and 50433970 target words\n",
            " - last threshold is 1.0500\n"
          ],
          "name": "stdout"
        }
      ]
    },
    {
      "cell_type": "code",
      "metadata": {
        "id": "gwHcrjt__63P"
      },
      "source": [
        "def markup_sentences(model, idx2tag, sentences):\r\n",
        "    markup = []\r\n",
        "    \r\n",
        "    for sentence in sentences:\r\n",
        "        words = TOKENIZER.tokenize(sentence)\r\n",
        "        tokens = torch.LongTensor(TOKENIZER.convert_tokens_to_ids(words))\r\n",
        "        preds = model(tokens.unsqueeze(0).to(DEVICE))\r\n",
        "        preds = preds.view(-1, preds.shape[-1])\r\n",
        "        preds = preds.argmax(1)\r\n",
        "        preds = preds.cpu().numpy()\r\n",
        "        preds = [idx2tag[tag] for tag in preds]\r\n",
        "        markup.append(preds)\r\n",
        "    \r\n",
        "    return markup"
      ],
      "execution_count": null,
      "outputs": []
    },
    {
      "cell_type": "code",
      "metadata": {
        "colab": {
          "base_uri": "https://localhost:8080/"
        },
        "id": "MhyW9J29_7_Z",
        "outputId": "7346aa6c-c0cb-477f-accc-ae286545fb3a"
      },
      "source": [
        "en_sentences = []\r\n",
        "fr_sentences = []\r\n",
        "\r\n",
        "with open(\"/content/WikiMatrix.en-fr.txt.en\") as file:\r\n",
        "    for line in file:\r\n",
        "        en_sentences.append(line)\r\n",
        "\r\n",
        "with open(\"/content/WikiMatrix.en-fr.txt.fr\") as file:\r\n",
        "    for line in file:\r\n",
        "        fr_sentences.append(line)\r\n",
        "\r\n",
        "print('EN:', len(en_sentences), 'FR:', len(fr_sentences))"
      ],
      "execution_count": null,
      "outputs": [
        {
          "output_type": "stream",
          "text": [
            "EN: 2171059 FR: 2171059\n"
          ],
          "name": "stdout"
        }
      ]
    },
    {
      "cell_type": "code",
      "metadata": {
        "colab": {
          "base_uri": "https://localhost:8080/"
        },
        "id": "4rjGnXHX_9fF",
        "outputId": "d3a64f10-7445-40b2-8530-55ca77f1ca91"
      },
      "source": [
        "en_sentences_id = []\r\n",
        "\r\n",
        "en_sentences_new = []\r\n",
        "fr_sentences_new = []\r\n",
        "\r\n",
        "for idx in range(len(en_sentences)):\r\n",
        "    if len(en_sentences[idx]) <= 200 and len(en_sentences[idx]) >= 190:\r\n",
        "        en_sentences_id.append(idx)\r\n",
        "\r\n",
        "for idx in en_sentences_id:\r\n",
        "    en_sentences_new.append(en_sentences[idx])\r\n",
        "    fr_sentences_new.append(fr_sentences[idx])\r\n",
        "                          \r\n",
        "print('EN:', len(en_sentences_new), 'FR:', len(fr_sentences_new))"
      ],
      "execution_count": null,
      "outputs": [
        {
          "output_type": "stream",
          "text": [
            "EN: 63236 FR: 63236\n"
          ],
          "name": "stdout"
        }
      ]
    },
    {
      "cell_type": "code",
      "metadata": {
        "colab": {
          "base_uri": "https://localhost:8080/"
        },
        "id": "Na2YaZgo_-gr",
        "outputId": "b125b61c-0b59-4ac0-ef28-8ea94fec3a57"
      },
      "source": [
        "english_markup_EnBERT = markup_sentences(EnglishBertModel, en_train_dataset.idx2tag, en_sentences_new)  \r\n",
        "english_markup_FrBERT = markup_sentences(FrenchBertModel, fr_train_dataset.idx2tag, en_sentences_new)\r\n",
        "\r\n",
        "from seqeval.metrics import f1_score\r\n",
        "print('French BERT on English Texts:', f1_score(english_markup_EnBERT, english_markup_FrBERT))"
      ],
      "execution_count": null,
      "outputs": [
        {
          "output_type": "stream",
          "text": [
            "French BERT on English Texts: 0.5176286723269968\n"
          ],
          "name": "stdout"
        }
      ]
    },
    {
      "cell_type": "code",
      "metadata": {
        "colab": {
          "base_uri": "https://localhost:8080/"
        },
        "id": "b48w8ByV__nb",
        "outputId": "929d0c36-4b0a-4708-db14-b241f852851f"
      },
      "source": [
        "french_markup_EnBERT = markup_sentences(EnglishBertModel, en_train_dataset.idx2tag, fr_sentences_new)  \r\n",
        "french_markup_FrBERT = markup_sentences(FrenchBertModel, fr_train_dataset.idx2tag, fr_sentences_new)\r\n",
        "\r\n",
        "from seqeval.metrics import f1_score\r\n",
        "print('English BERT on French Texts:', f1_score(french_markup_FrBERT, french_markup_EnBERT))"
      ],
      "execution_count": null,
      "outputs": [
        {
          "output_type": "stream",
          "text": [
            "English BERT on French Texts: 0.46624736714639037\n"
          ],
          "name": "stdout"
        }
      ]
    },
    {
      "cell_type": "markdown",
      "metadata": {
        "id": "lI4QqC-JA0ML"
      },
      "source": [
        "### English - Czech"
      ]
    },
    {
      "cell_type": "code",
      "metadata": {
        "colab": {
          "base_uri": "https://localhost:8080/"
        },
        "id": "oQt7-QdlA1l6",
        "outputId": "bf95f393-3652-4fd0-939f-f34da299a60a"
      },
      "source": [
        "cd .."
      ],
      "execution_count": null,
      "outputs": [
        {
          "output_type": "stream",
          "text": [
            "/content\n"
          ],
          "name": "stdout"
        }
      ]
    },
    {
      "cell_type": "code",
      "metadata": {
        "colab": {
          "base_uri": "https://localhost:8080/"
        },
        "id": "rdOKgk1IA8Kz",
        "outputId": "2695b091-5936-4ea5-8c40-9ab68d6a5c1e"
      },
      "source": [
        "!python3 /content/multilingual-bert-ner/extract.py \\\r\n",
        "  --tsv cs-en.tsv.gz \\\r\n",
        "  --bitext WikiMatrix.cs-en.txt \\\r\n",
        "  --src-lang cs --trg-lang en \\\r\n",
        "  --threshold 1.05"
      ],
      "execution_count": null,
      "outputs": [
        {
          "output_type": "stream",
          "text": [
            "Tool to extract bitext from the WikiMatrix\n",
            "Processing cs-en.tsv.gz\n",
            " - wrote 336310 lines\n",
            " - with 5700145 source and 6493324 target words\n",
            " - last threshold is 1.0500\n"
          ],
          "name": "stdout"
        }
      ]
    },
    {
      "cell_type": "code",
      "metadata": {
        "id": "uOT1h_suA8K0"
      },
      "source": [
        "def markup_sentences(model, idx2tag, sentences):\r\n",
        "    markup = []\r\n",
        "    \r\n",
        "    for sentence in sentences:\r\n",
        "        words = TOKENIZER.tokenize(sentence)\r\n",
        "        tokens = torch.LongTensor(TOKENIZER.convert_tokens_to_ids(words))\r\n",
        "        preds = model(tokens.unsqueeze(0).to(DEVICE))\r\n",
        "        preds = preds.view(-1, preds.shape[-1])\r\n",
        "        preds = preds.argmax(1)\r\n",
        "        preds = preds.cpu().numpy()\r\n",
        "        preds = [idx2tag[tag] for tag in preds]\r\n",
        "        markup.append(preds)\r\n",
        "    \r\n",
        "    return markup"
      ],
      "execution_count": null,
      "outputs": []
    },
    {
      "cell_type": "code",
      "metadata": {
        "colab": {
          "base_uri": "https://localhost:8080/"
        },
        "id": "3tLUt0LSA8K1",
        "outputId": "5b89bc76-707f-4ff5-e64c-37f9928f9c06"
      },
      "source": [
        "en_sentences = []\r\n",
        "cs_sentences = []\r\n",
        "\r\n",
        "with open(\"/content/WikiMatrix.cs-en.txt.en\") as file:\r\n",
        "    for line in file:\r\n",
        "        en_sentences.append(line)\r\n",
        "\r\n",
        "with open(\"/content/WikiMatrix.cs-en.txt.cs\") as file:\r\n",
        "    for line in file:\r\n",
        "        cs_sentences.append(line)\r\n",
        "\r\n",
        "print('EN:', len(en_sentences), 'CS:', len(cs_sentences))"
      ],
      "execution_count": null,
      "outputs": [
        {
          "output_type": "stream",
          "text": [
            "EN: 336310 CS: 336310\n"
          ],
          "name": "stdout"
        }
      ]
    },
    {
      "cell_type": "code",
      "metadata": {
        "colab": {
          "base_uri": "https://localhost:8080/"
        },
        "id": "GifBNJEzA8K1",
        "outputId": "a20e174e-deae-433b-f95b-2cc49e086090"
      },
      "source": [
        "en_sentences_id = []\r\n",
        "\r\n",
        "en_sentences_new = []\r\n",
        "cs_sentences_new = []\r\n",
        "\r\n",
        "for idx in range(len(en_sentences)):\r\n",
        "    if len(en_sentences[idx]) <= 200 and len(en_sentences[idx]) >= 190:\r\n",
        "        en_sentences_id.append(idx)\r\n",
        "\r\n",
        "for idx in en_sentences_id:\r\n",
        "    en_sentences_new.append(en_sentences[idx])\r\n",
        "    cs_sentences_new.append(cs_sentences[idx])\r\n",
        "                          \r\n",
        "print('EN:', len(en_sentences_new), 'CS:', len(cs_sentences_new))"
      ],
      "execution_count": null,
      "outputs": [
        {
          "output_type": "stream",
          "text": [
            "EN: 8187 CS: 8187\n"
          ],
          "name": "stdout"
        }
      ]
    },
    {
      "cell_type": "code",
      "metadata": {
        "colab": {
          "base_uri": "https://localhost:8080/"
        },
        "id": "Sy0kf4hbA8K2",
        "outputId": "c0405517-65d0-47dc-d5d5-f8b50cdb7fb3"
      },
      "source": [
        "english_markup_EnBERT = markup_sentences(EnglishBertModel, en_train_dataset.idx2tag, en_sentences_new)  \r\n",
        "english_markup_CsBERT = markup_sentences(CzechBertModel, cs_train_dataset.idx2tag, en_sentences_new)\r\n",
        "\r\n",
        "from seqeval.metrics import f1_score\r\n",
        "print('Czech BERT on English Texts:', f1_score(english_markup_EnBERT, english_markup_CsBERT))"
      ],
      "execution_count": null,
      "outputs": [
        {
          "output_type": "stream",
          "text": [
            "Czech BERT on English Texts: 0.5687975443747497\n"
          ],
          "name": "stdout"
        }
      ]
    },
    {
      "cell_type": "code",
      "metadata": {
        "colab": {
          "base_uri": "https://localhost:8080/"
        },
        "id": "0NL7Y0sYA8K2",
        "outputId": "b7c0eb3c-88b8-4f91-92a9-4023710657dc"
      },
      "source": [
        "czech_markup_EnBERT = markup_sentences(EnglishBertModel, en_train_dataset.idx2tag, cs_sentences_new)  \r\n",
        "czech_markup_CsBERT = markup_sentences(CzechBertModel, cs_train_dataset.idx2tag, cs_sentences_new)\r\n",
        "\r\n",
        "from seqeval.metrics import f1_score\r\n",
        "print('English BERT on Czech Texts:', f1_score(czech_markup_CsBERT, czech_markup_EnBERT))"
      ],
      "execution_count": null,
      "outputs": [
        {
          "output_type": "stream",
          "text": [
            "English BERT on Czech Texts: 0.5470910926495809\n"
          ],
          "name": "stdout"
        }
      ]
    },
    {
      "cell_type": "code",
      "metadata": {
        "colab": {
          "base_uri": "https://localhost:8080/"
        },
        "id": "21nYR9AHM37Z",
        "outputId": "fb07af40-23b5-49ed-fe50-4a00eda49a21"
      },
      "source": [
        "english_markup_EnXLM = markup_sentences(EnglishXLMModel, en_train_dataset.idx2tag, en_sentences_new)  \r\n",
        "english_markup_CsXLM = markup_sentences(CzechXLMModel, cs_train_dataset.idx2tag, en_sentences_new)\r\n",
        "\r\n",
        "from seqeval.metrics import f1_score\r\n",
        "print('Czech XLM on English Texts:', f1_score(english_markup_EnXLM, english_markup_CsXLM))"
      ],
      "execution_count": null,
      "outputs": [
        {
          "output_type": "stream",
          "text": [
            "Czech XLM on English Texts: 0.5436225845933217\n"
          ],
          "name": "stdout"
        }
      ]
    },
    {
      "cell_type": "code",
      "metadata": {
        "colab": {
          "base_uri": "https://localhost:8080/"
        },
        "id": "scUvCTu6M37b",
        "outputId": "1da3725e-d0aa-4dbd-dcde-e12879093284"
      },
      "source": [
        "czech_markup_EnXLM = markup_sentences(EnglishXLMModel, en_train_dataset.idx2tag, cs_sentences_new)  \r\n",
        "czech_markup_CsXLM = markup_sentences(CzechXLMModel, cs_train_dataset.idx2tag, cs_sentences_new)\r\n",
        "\r\n",
        "from seqeval.metrics import f1_score\r\n",
        "print('English XLM on Czech Texts:', f1_score(czech_markup_CsXLM, czech_markup_EnXLM))"
      ],
      "execution_count": null,
      "outputs": [
        {
          "output_type": "stream",
          "text": [
            "English XLM on Czech Texts: 0.5366013000729521\n"
          ],
          "name": "stdout"
        }
      ]
    },
    {
      "cell_type": "markdown",
      "metadata": {
        "id": "raA8NR_6kykC"
      },
      "source": [
        "### Russian - French"
      ]
    },
    {
      "cell_type": "code",
      "metadata": {
        "colab": {
          "base_uri": "https://localhost:8080/"
        },
        "id": "uHad15C4lBiR",
        "outputId": "e855eccd-5d11-4d46-d3e0-cd16a647602e"
      },
      "source": [
        "cd .."
      ],
      "execution_count": null,
      "outputs": [
        {
          "output_type": "stream",
          "text": [
            "/content\n"
          ],
          "name": "stdout"
        }
      ]
    },
    {
      "cell_type": "code",
      "metadata": {
        "colab": {
          "base_uri": "https://localhost:8080/"
        },
        "id": "fcnrtZ3blBiY",
        "outputId": "2f319f4f-fae0-458a-fbcc-f381395344c4"
      },
      "source": [
        "!python3 /content/multilingual-bert-ner/extract.py \\\r\n",
        "  --tsv fr-ru.tsv.gz \\\r\n",
        "  --bitext WikiMatrix.fr-ru.txt \\\r\n",
        "  --src-lang fr --trg-lang ru \\\r\n",
        "  --threshold 1.05"
      ],
      "execution_count": null,
      "outputs": [
        {
          "output_type": "stream",
          "text": [
            "Tool to extract bitext from the WikiMatrix\n",
            "Processing fr-ru.tsv.gz\n",
            " - wrote 224635 lines\n",
            " - with 4492753 source and 3605063 target words\n",
            " - last threshold is 1.0500\n"
          ],
          "name": "stdout"
        }
      ]
    },
    {
      "cell_type": "code",
      "metadata": {
        "id": "J2uPJ8IOlBiY"
      },
      "source": [
        "def markup_sentences(model, idx2tag, sentences):\r\n",
        "    markup = []\r\n",
        "    \r\n",
        "    for sentence in sentences:\r\n",
        "        words = TOKENIZER.tokenize(sentence)\r\n",
        "        tokens = torch.LongTensor(TOKENIZER.convert_tokens_to_ids(words))\r\n",
        "        preds = model(tokens.unsqueeze(0).to(DEVICE))\r\n",
        "        preds = preds.view(-1, preds.shape[-1])\r\n",
        "        preds = preds.argmax(1)\r\n",
        "        preds = preds.cpu().numpy()\r\n",
        "        preds = [idx2tag[tag] for tag in preds]\r\n",
        "        markup.append(preds)\r\n",
        "    \r\n",
        "    return markup"
      ],
      "execution_count": null,
      "outputs": []
    },
    {
      "cell_type": "code",
      "metadata": {
        "colab": {
          "base_uri": "https://localhost:8080/"
        },
        "id": "6Hv0tXMqlBiZ",
        "outputId": "bfbe070b-60b2-4587-902d-f4522cd69f54"
      },
      "source": [
        "fr_sentences = []\r\n",
        "ru_sentences = []\r\n",
        "\r\n",
        "with open(\"/content/WikiMatrix.fr-ru.txt.fr\") as file:\r\n",
        "    for line in file:\r\n",
        "        fr_sentences.append(line)\r\n",
        "\r\n",
        "with open(\"/content/WikiMatrix.fr-ru.txt.ru\") as file:\r\n",
        "    for line in file:\r\n",
        "        ru_sentences.append(line)\r\n",
        "\r\n",
        "print('RU:', len(ru_sentences), 'FR:', len(fr_sentences))"
      ],
      "execution_count": null,
      "outputs": [
        {
          "output_type": "stream",
          "text": [
            "RU: 224635 FR: 224635\n"
          ],
          "name": "stdout"
        }
      ]
    },
    {
      "cell_type": "code",
      "metadata": {
        "colab": {
          "base_uri": "https://localhost:8080/"
        },
        "id": "rZDPvNd8lBiZ",
        "outputId": "16f84ffe-df4c-4404-9bdb-0d23e78cb517"
      },
      "source": [
        "ru_sentences_id = []\r\n",
        "\r\n",
        "ru_sentences_new = []\r\n",
        "fr_sentences_new = []\r\n",
        "\r\n",
        "for idx in range(len(ru_sentences)):\r\n",
        "    if len(ru_sentences[idx]) <= 200 and len(ru_sentences[idx]) >= 190:\r\n",
        "        ru_sentences_id.append(idx)\r\n",
        "\r\n",
        "for idx in ru_sentences_id:\r\n",
        "    ru_sentences_new.append(ru_sentences[idx])\r\n",
        "    fr_sentences_new.append(fr_sentences[idx])\r\n",
        "                            \r\n",
        "print('RU:', len(ru_sentences_new), 'FR:', len(fr_sentences_new))"
      ],
      "execution_count": null,
      "outputs": [
        {
          "output_type": "stream",
          "text": [
            "RU: 4805 FR: 4805\n"
          ],
          "name": "stdout"
        }
      ]
    },
    {
      "cell_type": "code",
      "metadata": {
        "colab": {
          "base_uri": "https://localhost:8080/"
        },
        "id": "uywbXrO5lBiZ",
        "outputId": "ecd81338-61d3-46a6-e72c-db5fcea7da05"
      },
      "source": [
        "french_markup_FrBERT = markup_sentences(FrenchBertModel, fr_train_dataset.idx2tag, fr_sentences_new)  \r\n",
        "french_markup_RuBERT = markup_sentences(RussianBertModel, ru_train_dataset.idx2tag, fr_sentences_new)\r\n",
        "\r\n",
        "from seqeval.metrics import f1_score\r\n",
        "print('Russian BERT on French Texts:', f1_score(french_markup_FrBERT, french_markup_RuBERT))"
      ],
      "execution_count": null,
      "outputs": [
        {
          "output_type": "stream",
          "text": [
            "Russian BERT on French Texts: 0.38365807089783993\n"
          ],
          "name": "stdout"
        }
      ]
    },
    {
      "cell_type": "code",
      "metadata": {
        "colab": {
          "base_uri": "https://localhost:8080/"
        },
        "id": "pKr3g4lTlBia",
        "outputId": "5fe46031-865b-4e84-ef23-2853e61a0b6f"
      },
      "source": [
        "russian_markup_FrBERT = markup_sentences(EnglishBertModel, fr_train_dataset.idx2tag, ru_sentences_new)  \r\n",
        "russian_markup_RuBERT = markup_sentences(RussianBertModel, ru_train_dataset.idx2tag, ru_sentences_new)\r\n",
        "\r\n",
        "from seqeval.metrics import f1_score\r\n",
        "print('French BERT on Russian Texts:', f1_score(russian_markup_RuBERT, russian_markup_FrBERT))"
      ],
      "execution_count": null,
      "outputs": [
        {
          "output_type": "stream",
          "text": [
            "French BERT on Russian Texts: 0.6157171418793567\n"
          ],
          "name": "stdout"
        }
      ]
    },
    {
      "cell_type": "code",
      "metadata": {
        "id": "Gs0mLxssnvdV"
      },
      "source": [
        ""
      ],
      "execution_count": null,
      "outputs": []
    },
    {
      "cell_type": "markdown",
      "metadata": {
        "id": "miIKDpn5nx2E"
      },
      "source": [
        "### Russian - Spanish"
      ]
    },
    {
      "cell_type": "code",
      "metadata": {
        "colab": {
          "base_uri": "https://localhost:8080/"
        },
        "id": "P3ER5lNqn03s",
        "outputId": "64b3aac5-8e41-48f8-c60b-92c18a851ae3"
      },
      "source": [
        "!wget -O es-ru.tsv.gz https://dl.fbaipublicfiles.com/laser/WikiMatrix/v1/WikiMatrix.es-ru.tsv.gz"
      ],
      "execution_count": null,
      "outputs": [
        {
          "output_type": "stream",
          "text": [
            "--2021-03-12 18:39:50--  https://dl.fbaipublicfiles.com/laser/WikiMatrix/v1/WikiMatrix.es-ru.tsv.gz\n",
            "Resolving dl.fbaipublicfiles.com (dl.fbaipublicfiles.com)... 172.67.9.4, 104.22.75.142, 104.22.74.142, ...\n",
            "Connecting to dl.fbaipublicfiles.com (dl.fbaipublicfiles.com)|172.67.9.4|:443... connected.\n",
            "HTTP request sent, awaiting response... 200 OK\n",
            "Length: 256955199 (245M) [application/gzip]\n",
            "Saving to: ‘es-ru.tsv.gz’\n",
            "\n",
            "es-ru.tsv.gz        100%[===================>] 245.05M  53.6MB/s    in 4.4s    \n",
            "\n",
            "2021-03-12 18:39:54 (56.0 MB/s) - ‘es-ru.tsv.gz’ saved [256955199/256955199]\n",
            "\n"
          ],
          "name": "stdout"
        }
      ]
    },
    {
      "cell_type": "code",
      "metadata": {
        "colab": {
          "base_uri": "https://localhost:8080/"
        },
        "id": "pKFm0zibn7Rg",
        "outputId": "e855eccd-5d11-4d46-d3e0-cd16a647602e"
      },
      "source": [
        "cd .."
      ],
      "execution_count": null,
      "outputs": [
        {
          "output_type": "stream",
          "text": [
            "/content\n"
          ],
          "name": "stdout"
        }
      ]
    },
    {
      "cell_type": "code",
      "metadata": {
        "colab": {
          "base_uri": "https://localhost:8080/"
        },
        "id": "k8vXj7vsn7Rh",
        "outputId": "24d576bc-d879-4265-bf08-95ca38a34a64"
      },
      "source": [
        "!python3 /content/multilingual-bert-ner/extract.py \\\r\n",
        "  --tsv es-ru.tsv.gz \\\r\n",
        "  --bitext WikiMatrix.es-ru.txt \\\r\n",
        "  --src-lang es --trg-lang ru \\\r\n",
        "  --threshold 1.05"
      ],
      "execution_count": null,
      "outputs": [
        {
          "output_type": "stream",
          "text": [
            "Tool to extract bitext from the WikiMatrix\n",
            "Processing es-ru.tsv.gz\n",
            " - wrote 223751 lines\n",
            " - with 4477013 source and 3574315 target words\n",
            " - last threshold is 1.0500\n"
          ],
          "name": "stdout"
        }
      ]
    },
    {
      "cell_type": "code",
      "metadata": {
        "id": "TuIo95C2n7Rh"
      },
      "source": [
        "def markup_sentences(model, idx2tag, sentences):\r\n",
        "    markup = []\r\n",
        "    \r\n",
        "    for sentence in sentences:\r\n",
        "        words = TOKENIZER.tokenize(sentence)\r\n",
        "        tokens = torch.LongTensor(TOKENIZER.convert_tokens_to_ids(words))\r\n",
        "        preds = model(tokens.unsqueeze(0).to(DEVICE))\r\n",
        "        preds = preds.view(-1, preds.shape[-1])\r\n",
        "        preds = preds.argmax(1)\r\n",
        "        preds = preds.cpu().numpy()\r\n",
        "        preds = [idx2tag[tag] for tag in preds]\r\n",
        "        markup.append(preds)\r\n",
        "    \r\n",
        "    return markup"
      ],
      "execution_count": null,
      "outputs": []
    },
    {
      "cell_type": "code",
      "metadata": {
        "colab": {
          "base_uri": "https://localhost:8080/"
        },
        "id": "GEzKYbVkn7Ri",
        "outputId": "81b04771-2e41-4afd-a11d-6008579be4e5"
      },
      "source": [
        "es_sentences = []\r\n",
        "ru_sentences = []\r\n",
        "\r\n",
        "with open(\"/content/WikiMatrix.es-ru.txt.es\") as file:\r\n",
        "    for line in file:\r\n",
        "        es_sentences.append(line)\r\n",
        "\r\n",
        "with open(\"/content/WikiMatrix.es-ru.txt.ru\") as file:\r\n",
        "    for line in file:\r\n",
        "        ru_sentences.append(line)\r\n",
        "\r\n",
        "print('RU:', len(ru_sentences), 'ES:', len(es_sentences))"
      ],
      "execution_count": null,
      "outputs": [
        {
          "output_type": "stream",
          "text": [
            "RU: 223751 ES: 223751\n"
          ],
          "name": "stdout"
        }
      ]
    },
    {
      "cell_type": "code",
      "metadata": {
        "colab": {
          "base_uri": "https://localhost:8080/"
        },
        "id": "Xq8hFstUn7Ri",
        "outputId": "f393de55-9a45-4ee5-8c5b-b7f375707916"
      },
      "source": [
        "ru_sentences_id = []\r\n",
        "\r\n",
        "ru_sentences_new = []\r\n",
        "es_sentences_new = []\r\n",
        "\r\n",
        "for idx in range(len(ru_sentences)):\r\n",
        "    if len(ru_sentences[idx]) <= 200 and len(ru_sentences[idx]) >= 190:\r\n",
        "        ru_sentences_id.append(idx)\r\n",
        "\r\n",
        "for idx in ru_sentences_id:\r\n",
        "    ru_sentences_new.append(ru_sentences[idx])\r\n",
        "    es_sentences_new.append(es_sentences[idx])\r\n",
        "                            \r\n",
        "print('RU:', len(ru_sentences_new), 'ES:', len(es_sentences_new))"
      ],
      "execution_count": null,
      "outputs": [
        {
          "output_type": "stream",
          "text": [
            "RU: 4743 ES: 4743\n"
          ],
          "name": "stdout"
        }
      ]
    },
    {
      "cell_type": "code",
      "metadata": {
        "colab": {
          "base_uri": "https://localhost:8080/"
        },
        "id": "pt4XmhuZn7Ri",
        "outputId": "3d9c8036-7741-4778-e14a-3972e71db03d"
      },
      "source": [
        "spanish_markup_EsBERT = markup_sentences(SpanishBertModel, es_train_dataset.idx2tag, es_sentences_new)  \r\n",
        "spanish_markup_RuBERT = markup_sentences(RussianBertModel, ru_train_dataset.idx2tag, es_sentences_new)\r\n",
        "\r\n",
        "from seqeval.metrics import f1_score\r\n",
        "print('Russian BERT on Spanish Texts:', f1_score(spanish_markup_EsBERT, spanish_markup_RuBERT))"
      ],
      "execution_count": null,
      "outputs": [
        {
          "output_type": "stream",
          "text": [
            "Russian BERT on Spanish Texts: 0.3896754143646409\n"
          ],
          "name": "stdout"
        }
      ]
    },
    {
      "cell_type": "code",
      "metadata": {
        "colab": {
          "base_uri": "https://localhost:8080/"
        },
        "id": "7BkMzQu0n7Ri",
        "outputId": "49ab652a-c240-4e55-9f5d-e7a0e0836613"
      },
      "source": [
        "russian_markup_EsBERT = markup_sentences(SpanishBertModel, es_train_dataset.idx2tag, ru_sentences_new)  \r\n",
        "russian_markup_RuBERT = markup_sentences(RussianBertModel, ru_train_dataset.idx2tag, ru_sentences_new)\r\n",
        "\r\n",
        "from seqeval.metrics import f1_score\r\n",
        "print('Spanish BERT on Russian Texts:', f1_score(russian_markup_RuBERT, russian_markup_EsBERT))"
      ],
      "execution_count": null,
      "outputs": [
        {
          "output_type": "stream",
          "text": [
            "Spanish BERT on Russian Texts: 0.5524313857219071\n"
          ],
          "name": "stdout"
        }
      ]
    },
    {
      "cell_type": "code",
      "metadata": {
        "colab": {
          "base_uri": "https://localhost:8080/"
        },
        "id": "F6C1dPhrg2ed",
        "outputId": "febd381d-c2fb-4b7b-b687-0565ece93d07"
      },
      "source": [
        "spanish_markup_EsXLM = markup_sentences(SpanishXLModel, es_train_dataset.idx2tag, es_sentences_new)  \r\n",
        "spanish_markup_RuXLM = markup_sentences(RussianXLMModel, ru_train_dataset.idx2tag, es_sentences_new)\r\n",
        "\r\n",
        "from seqeval.metrics import f1_score\r\n",
        "print('Russian BERT on Spanish Texts:', f1_score(spanish_markup_EsXLM, spanish_markup_RuXLM))"
      ],
      "execution_count": null,
      "outputs": [
        {
          "output_type": "stream",
          "text": [
            "Russian BERT on Spanish Texts: 0.44680622189711916\n"
          ],
          "name": "stdout"
        }
      ]
    },
    {
      "cell_type": "code",
      "metadata": {
        "colab": {
          "base_uri": "https://localhost:8080/"
        },
        "id": "FaRPfpTvg2ej",
        "outputId": "43247c86-a0cf-492d-8337-e851fe1453ff"
      },
      "source": [
        "russian_markup_EsXLM = markup_sentences(SpanishXLModel, es_train_dataset.idx2tag, ru_sentences_new)  \r\n",
        "russian_markup_RuXLM = markup_sentences(RussianXLMModel, ru_train_dataset.idx2tag, ru_sentences_new)\r\n",
        "\r\n",
        "from seqeval.metrics import f1_score\r\n",
        "print('Spanish XLM on Russian Texts:', f1_score(russian_markup_RuXLM, russian_markup_EsXLM))"
      ],
      "execution_count": null,
      "outputs": [
        {
          "output_type": "stream",
          "text": [
            "Spanish XLM on Russian Texts: 0.5204047157565305\n"
          ],
          "name": "stdout"
        }
      ]
    },
    {
      "cell_type": "markdown",
      "metadata": {
        "id": "hmCjl1gIozbO"
      },
      "source": [
        "### Spanish - French"
      ]
    },
    {
      "cell_type": "code",
      "metadata": {
        "colab": {
          "base_uri": "https://localhost:8080/"
        },
        "id": "_pA5qIjXo3IJ",
        "outputId": "762002a2-6d70-4795-de84-ead51201a0f9"
      },
      "source": [
        "!wget -O es-fr.tsv.gz https://dl.fbaipublicfiles.com/laser/WikiMatrix/v1/WikiMatrix.es-fr.tsv.gz"
      ],
      "execution_count": null,
      "outputs": [
        {
          "output_type": "stream",
          "text": [
            "--2021-03-05 13:54:25--  https://dl.fbaipublicfiles.com/laser/WikiMatrix/v1/WikiMatrix.es-fr.tsv.gz\n",
            "Resolving dl.fbaipublicfiles.com (dl.fbaipublicfiles.com)... 172.67.9.4, 104.22.74.142, 104.22.75.142, ...\n",
            "Connecting to dl.fbaipublicfiles.com (dl.fbaipublicfiles.com)|172.67.9.4|:443... connected.\n",
            "HTTP request sent, awaiting response... 200 OK\n",
            "Length: 322556293 (308M) [application/gzip]\n",
            "Saving to: ‘es-fr.tsv.gz’\n",
            "\n",
            "es-fr.tsv.gz        100%[===================>] 307.61M  26.6MB/s    in 12s     \n",
            "\n",
            "2021-03-05 13:54:38 (25.2 MB/s) - ‘es-fr.tsv.gz’ saved [322556293/322556293]\n",
            "\n"
          ],
          "name": "stdout"
        }
      ]
    },
    {
      "cell_type": "code",
      "metadata": {
        "colab": {
          "base_uri": "https://localhost:8080/"
        },
        "id": "09XKRCrrpEEy",
        "outputId": "09b4f417-56a9-404b-af3f-d4ce27f7f980"
      },
      "source": [
        "!python3 /content/multilingual-bert-ner/extract.py \\\r\n",
        "  --tsv es-fr.tsv.gz \\\r\n",
        "  --bitext WikiMatrix.es-fr.txt \\\r\n",
        "  --src-lang es --trg-lang fr \\\r\n",
        "  --threshold 1.05"
      ],
      "execution_count": null,
      "outputs": [
        {
          "output_type": "stream",
          "text": [
            "Tool to extract bitext from the WikiMatrix\n",
            "Processing es-fr.tsv.gz\n",
            " - wrote 664873 lines\n",
            " - with 14985770 source and 14724073 target words\n",
            " - last threshold is 1.0500\n"
          ],
          "name": "stdout"
        }
      ]
    },
    {
      "cell_type": "code",
      "metadata": {
        "id": "Cuyuf-W2pEEz"
      },
      "source": [
        "def markup_sentences(model, idx2tag, sentences):\r\n",
        "    markup = []\r\n",
        "    \r\n",
        "    for sentence in sentences:\r\n",
        "        words = TOKENIZER.tokenize(sentence)\r\n",
        "        tokens = torch.LongTensor(TOKENIZER.convert_tokens_to_ids(words))\r\n",
        "        preds = model(tokens.unsqueeze(0).to(DEVICE))\r\n",
        "        preds = preds.view(-1, preds.shape[-1])\r\n",
        "        preds = preds.argmax(1)\r\n",
        "        preds = preds.cpu().numpy()\r\n",
        "        preds = [idx2tag[tag] for tag in preds]\r\n",
        "        markup.append(preds)\r\n",
        "    \r\n",
        "    return markup"
      ],
      "execution_count": null,
      "outputs": []
    },
    {
      "cell_type": "code",
      "metadata": {
        "colab": {
          "base_uri": "https://localhost:8080/"
        },
        "id": "YE8ao5ybpEEz",
        "outputId": "7bfec124-bd83-484e-fb80-733ba887fbd4"
      },
      "source": [
        "es_sentences = []\r\n",
        "fr_sentences = []\r\n",
        "\r\n",
        "with open(\"/content/WikiMatrix.es-fr.txt.es\") as file:\r\n",
        "    for line in file:\r\n",
        "        es_sentences.append(line)\r\n",
        "\r\n",
        "with open(\"/content/WikiMatrix.es-fr.txt.fr\") as file:\r\n",
        "    for line in file:\r\n",
        "        fr_sentences.append(line)\r\n",
        "\r\n",
        "print('FR:', len(fr_sentences), 'ES:', len(es_sentences))"
      ],
      "execution_count": null,
      "outputs": [
        {
          "output_type": "stream",
          "text": [
            "FR: 664873 ES: 664873\n"
          ],
          "name": "stdout"
        }
      ]
    },
    {
      "cell_type": "code",
      "metadata": {
        "colab": {
          "base_uri": "https://localhost:8080/"
        },
        "id": "BjOy_FKvpEEz",
        "outputId": "39f59d21-36d8-4935-de8d-c10e731b8827"
      },
      "source": [
        "fr_sentences_id = []\r\n",
        "\r\n",
        "fr_sentences_new = []\r\n",
        "es_sentences_new = []\r\n",
        "\r\n",
        "for idx in range(len(fr_sentences)):\r\n",
        "    if len(fr_sentences[idx]) <= 200 and len(fr_sentences[idx]) >= 190:\r\n",
        "        fr_sentences_id.append(idx)\r\n",
        "\r\n",
        "for idx in fr_sentences_id:\r\n",
        "    fr_sentences_new.append(fr_sentences[idx])\r\n",
        "    es_sentences_new.append(es_sentences[idx])\r\n",
        "                            \r\n",
        "print('FR:', len(fr_sentences_new), 'ES:', len(es_sentences_new))"
      ],
      "execution_count": null,
      "outputs": [
        {
          "output_type": "stream",
          "text": [
            "FR: 20197 ES: 20197\n"
          ],
          "name": "stdout"
        }
      ]
    },
    {
      "cell_type": "code",
      "metadata": {
        "colab": {
          "base_uri": "https://localhost:8080/"
        },
        "id": "h3IMpgALpEE0",
        "outputId": "c8752ecf-b078-4c6c-cdc8-105180638da3"
      },
      "source": [
        "spanish_markup_EsBERT = markup_sentences(SpanishBertModel, es_train_dataset.idx2tag, es_sentences_new)  \r\n",
        "spanish_markup_FrBERT = markup_sentences(FrenchBertModel, fr_train_dataset.idx2tag, es_sentences_new)\r\n",
        "\r\n",
        "from seqeval.metrics import f1_score\r\n",
        "print('French BERT on Spanish Texts:', f1_score(spanish_markup_EsBERT, spanish_markup_FrBERT))"
      ],
      "execution_count": null,
      "outputs": [
        {
          "output_type": "stream",
          "text": [
            "French BERT on Spanish Texts: 0.4913266352265737\n"
          ],
          "name": "stdout"
        }
      ]
    },
    {
      "cell_type": "code",
      "metadata": {
        "colab": {
          "base_uri": "https://localhost:8080/"
        },
        "id": "lOHtjGcIpEE0",
        "outputId": "f8c8f134-b0f8-4c53-84c8-b7de1f98248f"
      },
      "source": [
        "french_markup_EsBERT = markup_sentences(SpanishBertModel, es_train_dataset.idx2tag, fr_sentences_new)  \r\n",
        "french_markup_FrBERT = markup_sentences(FrenchBertModel, fr_train_dataset.idx2tag, fr_sentences_new)\r\n",
        "\r\n",
        "from seqeval.metrics import f1_score\r\n",
        "print('Spanish BERT on French Texts:', f1_score(french_markup_FrBERT, french_markup_EsBERT))"
      ],
      "execution_count": null,
      "outputs": [
        {
          "output_type": "stream",
          "text": [
            "Spanish BERT on French Texts: 0.49982855183449537\n"
          ],
          "name": "stdout"
        }
      ]
    },
    {
      "cell_type": "markdown",
      "metadata": {
        "id": "PITfn210zUfA"
      },
      "source": [
        "### Spanish - Czech"
      ]
    },
    {
      "cell_type": "code",
      "metadata": {
        "colab": {
          "base_uri": "https://localhost:8080/"
        },
        "id": "Vqe_qqTYzWrC",
        "outputId": "d1abd82d-2ef2-46ac-c1c3-33c6ec8a94ec"
      },
      "source": [
        "!wget -O cs-es.tsv.gz https://dl.fbaipublicfiles.com/laser/WikiMatrix/v1/WikiMatrix.cs-es.tsv.gz"
      ],
      "execution_count": null,
      "outputs": [
        {
          "output_type": "stream",
          "text": [
            "--2021-03-12 18:43:44--  https://dl.fbaipublicfiles.com/laser/WikiMatrix/v1/WikiMatrix.cs-es.tsv.gz\n",
            "Resolving dl.fbaipublicfiles.com (dl.fbaipublicfiles.com)... 172.67.9.4, 104.22.75.142, 104.22.74.142, ...\n",
            "Connecting to dl.fbaipublicfiles.com (dl.fbaipublicfiles.com)|172.67.9.4|:443... connected.\n",
            "HTTP request sent, awaiting response... 200 OK\n",
            "Length: 118089306 (113M) [application/gzip]\n",
            "Saving to: ‘cs-es.tsv.gz’\n",
            "\n",
            "cs-es.tsv.gz        100%[===================>] 112.62M  63.3MB/s    in 1.8s    \n",
            "\n",
            "2021-03-12 18:43:46 (63.3 MB/s) - ‘cs-es.tsv.gz’ saved [118089306/118089306]\n",
            "\n"
          ],
          "name": "stdout"
        }
      ]
    },
    {
      "cell_type": "code",
      "metadata": {
        "colab": {
          "base_uri": "https://localhost:8080/"
        },
        "id": "VaDkzXIMzWrD",
        "outputId": "482ce381-9e33-4fbb-82fb-1bc013c84911"
      },
      "source": [
        "!python3 /content/multilingual-bert-ner/extract.py \\\r\n",
        "  --tsv cs-es.tsv.gz \\\r\n",
        "  --bitext WikiMatrix.cs-es.txt \\\r\n",
        "  --src-lang cs --trg-lang es \\\r\n",
        "  --threshold 1.05"
      ],
      "execution_count": null,
      "outputs": [
        {
          "output_type": "stream",
          "text": [
            "Tool to extract bitext from the WikiMatrix\n",
            "Processing cs-es.tsv.gz\n",
            " - wrote 94859 lines\n",
            " - with 1396680 source and 1737307 target words\n",
            " - last threshold is 1.0500\n"
          ],
          "name": "stdout"
        }
      ]
    },
    {
      "cell_type": "code",
      "metadata": {
        "id": "pj_iCvKPzWrD"
      },
      "source": [
        "def markup_sentences(model, idx2tag, sentences):\r\n",
        "    markup = []\r\n",
        "    \r\n",
        "    for sentence in sentences:\r\n",
        "        words = TOKENIZER.tokenize(sentence)\r\n",
        "        tokens = torch.LongTensor(TOKENIZER.convert_tokens_to_ids(words))\r\n",
        "        preds = model(tokens.unsqueeze(0).to(DEVICE))\r\n",
        "        preds = preds.view(-1, preds.shape[-1])\r\n",
        "        preds = preds.argmax(1)\r\n",
        "        preds = preds.cpu().numpy()\r\n",
        "        preds = [idx2tag[tag] for tag in preds]\r\n",
        "        markup.append(preds)\r\n",
        "    \r\n",
        "    return markup"
      ],
      "execution_count": null,
      "outputs": []
    },
    {
      "cell_type": "code",
      "metadata": {
        "colab": {
          "base_uri": "https://localhost:8080/"
        },
        "id": "3URCHcZ5zWrE",
        "outputId": "8e71763a-0f5c-4d87-cd8f-284615f301b4"
      },
      "source": [
        "es_sentences = []\r\n",
        "cs_sentences = []\r\n",
        "\r\n",
        "with open(\"/content/WikiMatrix.cs-es.txt.cs\") as file:\r\n",
        "    for line in file:\r\n",
        "        cs_sentences.append(line)\r\n",
        "\r\n",
        "with open(\"/content/WikiMatrix.cs-es.txt.es\") as file:\r\n",
        "    for line in file:\r\n",
        "        es_sentences.append(line)\r\n",
        "\r\n",
        "print('CS:', len(cs_sentences), 'ES:', len(es_sentences))"
      ],
      "execution_count": null,
      "outputs": [
        {
          "output_type": "stream",
          "text": [
            "CS: 94859 ES: 94859\n"
          ],
          "name": "stdout"
        }
      ]
    },
    {
      "cell_type": "code",
      "metadata": {
        "colab": {
          "base_uri": "https://localhost:8080/"
        },
        "id": "hJiSeK7_zWrE",
        "outputId": "181603fa-9fa0-4eda-947b-c0d9e1acf41b"
      },
      "source": [
        "cs_sentences_id = []\r\n",
        "\r\n",
        "cs_sentences_new = []\r\n",
        "es_sentences_new = []\r\n",
        "\r\n",
        "for idx in range(len(cs_sentences)):\r\n",
        "    if len(cs_sentences[idx]) <= 300 and len(cs_sentences[idx]) >= 190:\r\n",
        "        cs_sentences_id.append(idx)\r\n",
        "\r\n",
        "for idx in cs_sentences_id:\r\n",
        "    cs_sentences_new.append(cs_sentences[idx])\r\n",
        "    es_sentences_new.append(es_sentences[idx])\r\n",
        "                            \r\n",
        "print('CS:', len(cs_sentences_new), 'ES:', len(es_sentences_new))"
      ],
      "execution_count": null,
      "outputs": [
        {
          "output_type": "stream",
          "text": [
            "CS: 5655 ES: 5655\n"
          ],
          "name": "stdout"
        }
      ]
    },
    {
      "cell_type": "code",
      "metadata": {
        "colab": {
          "base_uri": "https://localhost:8080/"
        },
        "id": "vBkdB3V4zWrE",
        "outputId": "9210276b-7b35-4a4c-baed-c298b0e8c0d2"
      },
      "source": [
        "spanish_markup_EsBERT = markup_sentences(SpanishBertModel, es_train_dataset.idx2tag, es_sentences_new)  \r\n",
        "spanish_markup_CsBERT = markup_sentences(CzechBertModel, cs_train_dataset.idx2tag, es_sentences_new)\r\n",
        "\r\n",
        "from seqeval.metrics import f1_score\r\n",
        "print('Czech BERT on Spanish Texts:', f1_score(spanish_markup_EsBERT, spanish_markup_CsBERT))"
      ],
      "execution_count": null,
      "outputs": [
        {
          "output_type": "stream",
          "text": [
            "Czech BERT on Spanish Texts: 0.47809297489974756\n"
          ],
          "name": "stdout"
        }
      ]
    },
    {
      "cell_type": "code",
      "metadata": {
        "colab": {
          "base_uri": "https://localhost:8080/"
        },
        "id": "au_rVLzyzWrE",
        "outputId": "5ab93a17-05cc-4d3d-905b-fb0687777eb0"
      },
      "source": [
        "czech_markup_EsBERT = markup_sentences(SpanishBertModel, es_train_dataset.idx2tag, cs_sentences_new)  \r\n",
        "czech_markup_CsBERT = markup_sentences(CzechBertModel, cs_train_dataset.idx2tag, cs_sentences_new)\r\n",
        "\r\n",
        "from seqeval.metrics import f1_score\r\n",
        "print('Spanish BERT on Czech Texts:', f1_score(czech_markup_CsBERT, czech_markup_EsBERT))"
      ],
      "execution_count": null,
      "outputs": [
        {
          "output_type": "stream",
          "text": [
            "Spanish BERT on Czech Texts: 0.5666928852341794\n"
          ],
          "name": "stdout"
        }
      ]
    },
    {
      "cell_type": "code",
      "metadata": {
        "colab": {
          "base_uri": "https://localhost:8080/"
        },
        "id": "pjPrHmaGhEz-",
        "outputId": "2bd631c7-13c7-4e73-e82c-fcf15d7596ef"
      },
      "source": [
        "spanish_markup_EsXLM = markup_sentences(SpanishXLModel, es_train_dataset.idx2tag, es_sentences_new)  \r\n",
        "spanish_markup_CsXLM = markup_sentences(CzechXLMModel, cs_train_dataset.idx2tag, es_sentences_new)\r\n",
        "\r\n",
        "from seqeval.metrics import f1_score\r\n",
        "print('Czech XLM on Spanish Texts:', f1_score(spanish_markup_EsXLM, spanish_markup_CsXLM))"
      ],
      "execution_count": null,
      "outputs": [
        {
          "output_type": "stream",
          "text": [
            "Czech XLM on Spanish Texts: 0.4237675481554032\n"
          ],
          "name": "stdout"
        }
      ]
    },
    {
      "cell_type": "code",
      "metadata": {
        "colab": {
          "base_uri": "https://localhost:8080/"
        },
        "id": "FXY_Okz7hE0A",
        "outputId": "783f0ced-7abc-48b1-cd4d-b9bf4bc352b1"
      },
      "source": [
        "czech_markup_EsXLM = markup_sentences(SpanishXLModel, es_train_dataset.idx2tag, cs_sentences_new)  \r\n",
        "czech_markup_CsXLM = markup_sentences(CzechXLMModel, cs_train_dataset.idx2tag, cs_sentences_new)\r\n",
        "\r\n",
        "from seqeval.metrics import f1_score\r\n",
        "print('Spanish XLM on Czech Texts:', f1_score(czech_markup_CsXLM, czech_markup_EsXLM))"
      ],
      "execution_count": null,
      "outputs": [
        {
          "output_type": "stream",
          "text": [
            "Spanish XLM on Czech Texts: 0.4949239886627158\n"
          ],
          "name": "stdout"
        }
      ]
    },
    {
      "cell_type": "markdown",
      "metadata": {
        "id": "yBm1Aab-0HFh"
      },
      "source": [
        "### Czech - French"
      ]
    },
    {
      "cell_type": "code",
      "metadata": {
        "colab": {
          "base_uri": "https://localhost:8080/"
        },
        "id": "p8Sw-2M80Kra",
        "outputId": "64eea259-99e8-4d80-f6ff-2d4ee89d9c26"
      },
      "source": [
        "!wget -O cs-fr.tsv.gz https://dl.fbaipublicfiles.com/laser/WikiMatrix/v1/WikiMatrix.cs-fr.tsv.gz"
      ],
      "execution_count": null,
      "outputs": [
        {
          "output_type": "stream",
          "text": [
            "--2021-03-05 14:39:53--  https://dl.fbaipublicfiles.com/laser/WikiMatrix/v1/WikiMatrix.cs-fr.tsv.gz\n",
            "Resolving dl.fbaipublicfiles.com (dl.fbaipublicfiles.com)... 104.22.75.142, 104.22.74.142, 172.67.9.4, ...\n",
            "Connecting to dl.fbaipublicfiles.com (dl.fbaipublicfiles.com)|104.22.75.142|:443... connected.\n",
            "HTTP request sent, awaiting response... 200 OK\n",
            "Length: 135913600 (130M) [application/gzip]\n",
            "Saving to: ‘cs-fr.tsv.gz’\n",
            "\n",
            "cs-fr.tsv.gz        100%[===================>] 129.62M  25.9MB/s    in 5.5s    \n",
            "\n",
            "2021-03-05 14:39:59 (23.6 MB/s) - ‘cs-fr.tsv.gz’ saved [135913600/135913600]\n",
            "\n"
          ],
          "name": "stdout"
        }
      ]
    },
    {
      "cell_type": "code",
      "metadata": {
        "colab": {
          "base_uri": "https://localhost:8080/"
        },
        "id": "HV8sHTjB0Krb",
        "outputId": "7f56c80e-82a3-4c04-e07a-6bda109f7dfe"
      },
      "source": [
        "!python3 /content/multilingual-bert-ner/extract.py \\\r\n",
        "  --tsv cs-fr.tsv.gz \\\r\n",
        "  --bitext WikiMatrix.cs-fr.txt \\\r\n",
        "  --src-lang cs --trg-lang fr \\\r\n",
        "  --threshold 1.05"
      ],
      "execution_count": null,
      "outputs": [
        {
          "output_type": "stream",
          "text": [
            "Tool to extract bitext from the WikiMatrix\n",
            "Processing cs-fr.tsv.gz\n",
            " - wrote 90055 lines\n",
            " - with 1272681 source and 1570486 target words\n",
            " - last threshold is 1.0500\n"
          ],
          "name": "stdout"
        }
      ]
    },
    {
      "cell_type": "code",
      "metadata": {
        "id": "3zq_xHiT0Krb"
      },
      "source": [
        "def markup_sentences(model, idx2tag, sentences):\r\n",
        "    markup = []\r\n",
        "    \r\n",
        "    for sentence in sentences:\r\n",
        "        words = TOKENIZER.tokenize(sentence)\r\n",
        "        tokens = torch.LongTensor(TOKENIZER.convert_tokens_to_ids(words))\r\n",
        "        preds = model(tokens.unsqueeze(0).to(DEVICE))\r\n",
        "        preds = preds.view(-1, preds.shape[-1])\r\n",
        "        preds = preds.argmax(1)\r\n",
        "        preds = preds.cpu().numpy()\r\n",
        "        preds = [idx2tag[tag] for tag in preds]\r\n",
        "        markup.append(preds)\r\n",
        "    \r\n",
        "    return markup"
      ],
      "execution_count": null,
      "outputs": []
    },
    {
      "cell_type": "code",
      "metadata": {
        "colab": {
          "base_uri": "https://localhost:8080/"
        },
        "id": "2jvNqgGH0Krc",
        "outputId": "6844afce-a566-497e-842b-641a44f3345c"
      },
      "source": [
        "fr_sentences = []\r\n",
        "cs_sentences = []\r\n",
        "\r\n",
        "with open(\"/content/WikiMatrix.cs-fr.txt.cs\") as file:\r\n",
        "    for line in file:\r\n",
        "        cs_sentences.append(line)\r\n",
        "\r\n",
        "with open(\"/content/WikiMatrix.cs-fr.txt.fr\") as file:\r\n",
        "    for line in file:\r\n",
        "        fr_sentences.append(line)\r\n",
        "\r\n",
        "print('CS:', len(cs_sentences), 'FR:', len(fr_sentences))"
      ],
      "execution_count": null,
      "outputs": [
        {
          "output_type": "stream",
          "text": [
            "CS: 90055 FR: 90055\n"
          ],
          "name": "stdout"
        }
      ]
    },
    {
      "cell_type": "code",
      "metadata": {
        "colab": {
          "base_uri": "https://localhost:8080/"
        },
        "id": "UZex-Qtr0Krc",
        "outputId": "a06d6d48-7856-4dbf-ddb2-869fd34a9417"
      },
      "source": [
        "cs_sentences_id = []\r\n",
        "\r\n",
        "cs_sentences_new = []\r\n",
        "fr_sentences_new = []\r\n",
        "\r\n",
        "for idx in range(len(cs_sentences)):\r\n",
        "    if len(cs_sentences[idx]) <= 300 and len(cs_sentences[idx]) >= 190:\r\n",
        "        cs_sentences_id.append(idx)\r\n",
        "\r\n",
        "for idx in cs_sentences_id:\r\n",
        "    cs_sentences_new.append(cs_sentences[idx])\r\n",
        "    fr_sentences_new.append(fr_sentences[idx])\r\n",
        "                            \r\n",
        "print('CS:', len(cs_sentences_new), 'FR:', len(fr_sentences_new))"
      ],
      "execution_count": null,
      "outputs": [
        {
          "output_type": "stream",
          "text": [
            "CS: 4626 FR: 4626\n"
          ],
          "name": "stdout"
        }
      ]
    },
    {
      "cell_type": "code",
      "metadata": {
        "colab": {
          "base_uri": "https://localhost:8080/"
        },
        "id": "irk-ZfmE0Krc",
        "outputId": "abc5c610-b5b6-4c1e-862d-1e931fcdb05d"
      },
      "source": [
        "french_markup_FrBERT = markup_sentences(FrenchBertModel, fr_train_dataset.idx2tag, fr_sentences_new)  \r\n",
        "french_markup_CsBERT = markup_sentences(CzechBertModel, cs_train_dataset.idx2tag, fr_sentences_new)\r\n",
        "\r\n",
        "from seqeval.metrics import f1_score\r\n",
        "print('Czech BERT on French Texts:', f1_score(french_markup_FrBERT, french_markup_CsBERT))"
      ],
      "execution_count": null,
      "outputs": [
        {
          "output_type": "stream",
          "text": [
            "Czech BERT on French Texts: 0.43851824883953766\n"
          ],
          "name": "stdout"
        }
      ]
    },
    {
      "cell_type": "code",
      "metadata": {
        "colab": {
          "base_uri": "https://localhost:8080/"
        },
        "id": "ROui7Yqb0Krc",
        "outputId": "8b60b006-035f-4a8f-9a8c-52ed3736bf27"
      },
      "source": [
        "czech_markup_FrBERT = markup_sentences(FrenchBertModel, fr_train_dataset.idx2tag, cs_sentences_new)  \r\n",
        "czech_markup_CsBERT = markup_sentences(CzechBertModel, cs_train_dataset.idx2tag, cs_sentences_new)\r\n",
        "\r\n",
        "from seqeval.metrics import f1_score\r\n",
        "print('French BERT on Czech Texts:', f1_score(czech_markup_CsBERT, czech_markup_FrBERT))"
      ],
      "execution_count": null,
      "outputs": [
        {
          "output_type": "stream",
          "text": [
            "French BERT on Czech Texts: 0.5514798963168365\n"
          ],
          "name": "stdout"
        }
      ]
    },
    {
      "cell_type": "code",
      "metadata": {
        "id": "ri-SC3b20zG4"
      },
      "source": [
        ""
      ],
      "execution_count": null,
      "outputs": []
    },
    {
      "cell_type": "markdown",
      "metadata": {
        "id": "eqhtAmfg2D5Z"
      },
      "source": [
        "### Chinese - French"
      ]
    },
    {
      "cell_type": "code",
      "metadata": {
        "colab": {
          "base_uri": "https://localhost:8080/"
        },
        "id": "dSOrbQ-U2Gif",
        "outputId": "30c0bf12-e7eb-4694-94a8-ccce6f95bddc"
      },
      "source": [
        "!wget -O fr-zh.tsv.gz https://dl.fbaipublicfiles.com/laser/WikiMatrix/v1/WikiMatrix.fr-zh.tsv.gz"
      ],
      "execution_count": null,
      "outputs": [
        {
          "output_type": "stream",
          "text": [
            "--2021-03-05 14:44:45--  https://dl.fbaipublicfiles.com/laser/WikiMatrix/v1/WikiMatrix.fr-zh.tsv.gz\n",
            "Resolving dl.fbaipublicfiles.com (dl.fbaipublicfiles.com)... 104.22.75.142, 172.67.9.4, 104.22.74.142, ...\n",
            "Connecting to dl.fbaipublicfiles.com (dl.fbaipublicfiles.com)|104.22.75.142|:443... connected.\n",
            "HTTP request sent, awaiting response... 200 OK\n",
            "Length: 155823569 (149M) [application/gzip]\n",
            "Saving to: ‘fr-zh.tsv.gz’\n",
            "\n",
            "fr-zh.tsv.gz        100%[===================>] 148.60M  26.7MB/s    in 6.1s    \n",
            "\n",
            "2021-03-05 14:44:51 (24.3 MB/s) - ‘fr-zh.tsv.gz’ saved [155823569/155823569]\n",
            "\n"
          ],
          "name": "stdout"
        }
      ]
    },
    {
      "cell_type": "code",
      "metadata": {
        "colab": {
          "base_uri": "https://localhost:8080/"
        },
        "id": "tGnWtQK-2HWW",
        "outputId": "8be92607-61c8-4eba-9119-9676ef87e2e5"
      },
      "source": [
        "!python3 /content/multilingual-bert-ner/extract.py \\\r\n",
        "  --tsv fr-zh.tsv.gz \\\r\n",
        "  --bitext WikiMatrix.fr-zh.txt \\\r\n",
        "  --src-lang fr --trg-lang zh \\\r\n",
        "  --threshold 1.05"
      ],
      "execution_count": null,
      "outputs": [
        {
          "output_type": "stream",
          "text": [
            "Tool to extract bitext from the WikiMatrix\n",
            "Processing fr-zh.tsv.gz\n",
            " - wrote 72839 lines\n",
            " - with 1450033 source and 141867 target words\n",
            " - last threshold is 1.0500\n"
          ],
          "name": "stdout"
        }
      ]
    },
    {
      "cell_type": "code",
      "metadata": {
        "id": "dfKciv982HWX"
      },
      "source": [
        "def markup_sentences(model, idx2tag, sentences):\r\n",
        "    markup = []\r\n",
        "    \r\n",
        "    for sentence in sentences:\r\n",
        "        words = TOKENIZER.tokenize(sentence)\r\n",
        "        tokens = torch.LongTensor(TOKENIZER.convert_tokens_to_ids(words))\r\n",
        "        preds = model(tokens.unsqueeze(0).to(DEVICE))\r\n",
        "        preds = preds.view(-1, preds.shape[-1])\r\n",
        "        preds = preds.argmax(1)\r\n",
        "        preds = preds.cpu().numpy()\r\n",
        "        preds = [idx2tag[tag] for tag in preds]\r\n",
        "        markup.append(preds)\r\n",
        "    \r\n",
        "    return markup"
      ],
      "execution_count": null,
      "outputs": []
    },
    {
      "cell_type": "code",
      "metadata": {
        "colab": {
          "base_uri": "https://localhost:8080/"
        },
        "id": "6oDxOL102HWX",
        "outputId": "d5e16211-d9f1-47de-b060-5464ce7e869c"
      },
      "source": [
        "fr_sentences = []\r\n",
        "zh_sentences = []\r\n",
        "\r\n",
        "with open(\"/content/WikiMatrix.fr-zh.txt.fr\") as file:\r\n",
        "    for line in file:\r\n",
        "        fr_sentences.append(line)\r\n",
        "\r\n",
        "with open(\"/content/WikiMatrix.fr-zh.txt.zh\") as file:\r\n",
        "    for line in file:\r\n",
        "        zh_sentences.append(line)\r\n",
        "\r\n",
        "print('FR:', len(fr_sentences), 'ZH:', len(zh_sentences))"
      ],
      "execution_count": null,
      "outputs": [
        {
          "output_type": "stream",
          "text": [
            "FR: 72839 ZH: 72839\n"
          ],
          "name": "stdout"
        }
      ]
    },
    {
      "cell_type": "code",
      "metadata": {
        "colab": {
          "base_uri": "https://localhost:8080/"
        },
        "id": "KruGwhho2HWY",
        "outputId": "5987a178-514e-4283-aa0a-123d766cb3b0"
      },
      "source": [
        "fr_sentences_id = []\r\n",
        "\r\n",
        "fr_sentences_new = []\r\n",
        "zh_sentences_new = []\r\n",
        "\r\n",
        "for idx in range(len(fr_sentences)):\r\n",
        "    if len(fr_sentences[idx]) <= 300 and len(fr_sentences[idx]) >= 190:\r\n",
        "        fr_sentences_id.append(idx)\r\n",
        "\r\n",
        "for idx in fr_sentences_id:\r\n",
        "    fr_sentences_new.append(fr_sentences[idx])\r\n",
        "    zh_sentences_new.append(zh_sentences[idx])\r\n",
        "                            \r\n",
        "print('FR:', len(fr_sentences_new), 'ZH:', len(zh_sentences_new))"
      ],
      "execution_count": null,
      "outputs": [
        {
          "output_type": "stream",
          "text": [
            "FR: 9602 ZH: 9602\n"
          ],
          "name": "stdout"
        }
      ]
    },
    {
      "cell_type": "code",
      "metadata": {
        "colab": {
          "base_uri": "https://localhost:8080/",
          "height": 231
        },
        "id": "cGIbptxm2HWZ",
        "outputId": "4a46295c-0d67-4e69-88e4-c9a8b9ef3309"
      },
      "source": [
        "french_markup_FrBERT = markup_sentences(FrenchBertModel, fr_train_dataset.idx2tag, fr_sentences_new)  \r\n",
        "french_markup_ZhBERT = markup_sentences(ChineseBertModel, zh_train_dataset.idx2tag, fr_sentences_new)\r\n",
        "\r\n",
        "from seqeval.metrics import f1_score\r\n",
        "print('Chinese BERT on French Texts:', f1_score(french_markup_FrBERT, french_markup_ZhBERT))"
      ],
      "execution_count": null,
      "outputs": [
        {
          "output_type": "error",
          "ename": "NameError",
          "evalue": "ignored",
          "traceback": [
            "\u001b[0;31m---------------------------------------------------------------------------\u001b[0m",
            "\u001b[0;31mNameError\u001b[0m                                 Traceback (most recent call last)",
            "\u001b[0;32m<ipython-input-127-aca19aee3f7b>\u001b[0m in \u001b[0;36m<module>\u001b[0;34m()\u001b[0m\n\u001b[1;32m      1\u001b[0m \u001b[0mfrench_markup_FrBERT\u001b[0m \u001b[0;34m=\u001b[0m \u001b[0mmarkup_sentences\u001b[0m\u001b[0;34m(\u001b[0m\u001b[0mFrenchBertModel\u001b[0m\u001b[0;34m,\u001b[0m \u001b[0mfr_train_dataset\u001b[0m\u001b[0;34m.\u001b[0m\u001b[0midx2tag\u001b[0m\u001b[0;34m,\u001b[0m \u001b[0mfr_sentences_new\u001b[0m\u001b[0;34m)\u001b[0m\u001b[0;34m\u001b[0m\u001b[0;34m\u001b[0m\u001b[0m\n\u001b[0;32m----> 2\u001b[0;31m \u001b[0mfrench_markup_ZhBERT\u001b[0m \u001b[0;34m=\u001b[0m \u001b[0mmarkup_sentences\u001b[0m\u001b[0;34m(\u001b[0m\u001b[0mChineseBertModel\u001b[0m\u001b[0;34m,\u001b[0m \u001b[0mzh_train_dataset\u001b[0m\u001b[0;34m.\u001b[0m\u001b[0midx2tag\u001b[0m\u001b[0;34m,\u001b[0m \u001b[0mfr_sentences_new\u001b[0m\u001b[0;34m)\u001b[0m\u001b[0;34m\u001b[0m\u001b[0;34m\u001b[0m\u001b[0m\n\u001b[0m\u001b[1;32m      3\u001b[0m \u001b[0;34m\u001b[0m\u001b[0m\n\u001b[1;32m      4\u001b[0m \u001b[0;32mfrom\u001b[0m \u001b[0mseqeval\u001b[0m\u001b[0;34m.\u001b[0m\u001b[0mmetrics\u001b[0m \u001b[0;32mimport\u001b[0m \u001b[0mf1_score\u001b[0m\u001b[0;34m\u001b[0m\u001b[0;34m\u001b[0m\u001b[0m\n\u001b[1;32m      5\u001b[0m \u001b[0mprint\u001b[0m\u001b[0;34m(\u001b[0m\u001b[0;34m'Chinese BERT on French Texts:'\u001b[0m\u001b[0;34m,\u001b[0m \u001b[0mf1_score\u001b[0m\u001b[0;34m(\u001b[0m\u001b[0mfrench_markup_FrBERT\u001b[0m\u001b[0;34m,\u001b[0m \u001b[0mfrench_markup_ZhBERT\u001b[0m\u001b[0;34m)\u001b[0m\u001b[0;34m)\u001b[0m\u001b[0;34m\u001b[0m\u001b[0;34m\u001b[0m\u001b[0m\n",
            "\u001b[0;31mNameError\u001b[0m: name 'ChineseBertModel' is not defined"
          ]
        }
      ]
    },
    {
      "cell_type": "code",
      "metadata": {
        "colab": {
          "base_uri": "https://localhost:8080/"
        },
        "id": "U8UqY5612HWZ",
        "outputId": "205043b5-4b1c-43a1-e334-3b9aba00f136"
      },
      "source": [
        "chinese_markup_FrBERT = markup_sentences(FrenchBertModel, fr_train_dataset.idx2tag, zh_sentences_new)  \r\n",
        "chinese_markup_ZhBERT = markup_sentences(ChineseBertModel, zh_train_dataset.idx2tag, zh_sentences_new)\r\n",
        "\r\n",
        "from seqeval.metrics import f1_score\r\n",
        "print('French BERT on Chinese Texts:', f1_score(chinese_markup_ZhBERT, chinese_markup_FrBERT))"
      ],
      "execution_count": null,
      "outputs": [
        {
          "output_type": "stream",
          "text": [
            "English BERT on Chinese Texts: 0.03540917204322773\n"
          ],
          "name": "stdout"
        }
      ]
    },
    {
      "cell_type": "markdown",
      "metadata": {
        "id": "ASNufa9B23rC"
      },
      "source": [
        "### Chinese - Spanish"
      ]
    },
    {
      "cell_type": "code",
      "metadata": {
        "colab": {
          "base_uri": "https://localhost:8080/"
        },
        "id": "lGFsTMUm27LW",
        "outputId": "30c0bf12-e7eb-4694-94a8-ccce6f95bddc"
      },
      "source": [
        "!wget -O es-zh.tsv.gz https://dl.fbaipublicfiles.com/laser/WikiMatrix/v1/WikiMatrix.es-zh.tsv.gz"
      ],
      "execution_count": null,
      "outputs": [
        {
          "output_type": "stream",
          "text": [
            "--2021-03-05 14:44:45--  https://dl.fbaipublicfiles.com/laser/WikiMatrix/v1/WikiMatrix.fr-zh.tsv.gz\n",
            "Resolving dl.fbaipublicfiles.com (dl.fbaipublicfiles.com)... 104.22.75.142, 172.67.9.4, 104.22.74.142, ...\n",
            "Connecting to dl.fbaipublicfiles.com (dl.fbaipublicfiles.com)|104.22.75.142|:443... connected.\n",
            "HTTP request sent, awaiting response... 200 OK\n",
            "Length: 155823569 (149M) [application/gzip]\n",
            "Saving to: ‘fr-zh.tsv.gz’\n",
            "\n",
            "fr-zh.tsv.gz        100%[===================>] 148.60M  26.7MB/s    in 6.1s    \n",
            "\n",
            "2021-03-05 14:44:51 (24.3 MB/s) - ‘fr-zh.tsv.gz’ saved [155823569/155823569]\n",
            "\n"
          ],
          "name": "stdout"
        }
      ]
    },
    {
      "cell_type": "code",
      "metadata": {
        "colab": {
          "base_uri": "https://localhost:8080/"
        },
        "id": "tXj7Pax427LX",
        "outputId": "8be92607-61c8-4eba-9119-9676ef87e2e5"
      },
      "source": [
        "!python3 /content/multilingual-bert-ner/extract.py \\\r\n",
        "  --tsv es-zh.tsv.gz \\\r\n",
        "  --bitext WikiMatrix.es-zh.txt \\\r\n",
        "  --src-lang es --trg-lang zh \\\r\n",
        "  --threshold 1.05"
      ],
      "execution_count": null,
      "outputs": [
        {
          "output_type": "stream",
          "text": [
            "Tool to extract bitext from the WikiMatrix\n",
            "Processing fr-zh.tsv.gz\n",
            " - wrote 72839 lines\n",
            " - with 1450033 source and 141867 target words\n",
            " - last threshold is 1.0500\n"
          ],
          "name": "stdout"
        }
      ]
    },
    {
      "cell_type": "code",
      "metadata": {
        "id": "IhLria9S27LX"
      },
      "source": [
        "def markup_sentences(model, idx2tag, sentences):\r\n",
        "    markup = []\r\n",
        "    \r\n",
        "    for sentence in sentences:\r\n",
        "        words = TOKENIZER.tokenize(sentence)\r\n",
        "        tokens = torch.LongTensor(TOKENIZER.convert_tokens_to_ids(words))\r\n",
        "        preds = model(tokens.unsqueeze(0).to(DEVICE))\r\n",
        "        preds = preds.view(-1, preds.shape[-1])\r\n",
        "        preds = preds.argmax(1)\r\n",
        "        preds = preds.cpu().numpy()\r\n",
        "        preds = [idx2tag[tag] for tag in preds]\r\n",
        "        markup.append(preds)\r\n",
        "    \r\n",
        "    return markup"
      ],
      "execution_count": null,
      "outputs": []
    },
    {
      "cell_type": "code",
      "metadata": {
        "colab": {
          "base_uri": "https://localhost:8080/"
        },
        "id": "rofKCCpp27LX",
        "outputId": "d5e16211-d9f1-47de-b060-5464ce7e869c"
      },
      "source": [
        "es_sentences = []\r\n",
        "zh_sentences = []\r\n",
        "\r\n",
        "with open(\"/content/WikiMatrix.es-zh.txt.es\") as file:\r\n",
        "    for line in file:\r\n",
        "        es_sentences.append(line)\r\n",
        "\r\n",
        "with open(\"/content/WikiMatrix.fr-zh.txt.zh\") as file:\r\n",
        "    for line in file:\r\n",
        "        zh_sentences.append(line)\r\n",
        "\r\n",
        "print('ES:', len(es_sentences), 'ZH:', len(zh_sentences))"
      ],
      "execution_count": null,
      "outputs": [
        {
          "output_type": "stream",
          "text": [
            "FR: 72839 ZH: 72839\n"
          ],
          "name": "stdout"
        }
      ]
    },
    {
      "cell_type": "code",
      "metadata": {
        "colab": {
          "base_uri": "https://localhost:8080/"
        },
        "id": "UMiLTi8727LY",
        "outputId": "5987a178-514e-4283-aa0a-123d766cb3b0"
      },
      "source": [
        "es_sentences_id = []\r\n",
        "\r\n",
        "es_sentences_new = []\r\n",
        "zh_sentences_new = []\r\n",
        "\r\n",
        "for idx in range(len(es_sentences)):\r\n",
        "    if len(es_sentences[idx]) <= 300 and len(es_sentences[idx]) >= 190:\r\n",
        "        es_sentences_id.append(idx)\r\n",
        "\r\n",
        "for idx in es_sentences_id:\r\n",
        "    es_sentences_new.append(es_sentences[idx])\r\n",
        "    zh_sentences_new.append(zh_sentences[idx])\r\n",
        "                            \r\n",
        "print('ES:', len(es_sentences_new), 'ZH:', len(zh_sentences_new))"
      ],
      "execution_count": null,
      "outputs": [
        {
          "output_type": "stream",
          "text": [
            "FR: 9602 ZH: 9602\n"
          ],
          "name": "stdout"
        }
      ]
    },
    {
      "cell_type": "code",
      "metadata": {
        "id": "qhnZfXHn27LY"
      },
      "source": [
        "french_markup_FrBERT = markup_sentences(FrenchBertModel, fr_train_dataset.idx2tag, fr_sentences_new)  \r\n",
        "french_markup_ZhBERT = markup_sentences(ChineseBertModel, zh_train_dataset.idx2tag, fr_sentences_new)\r\n",
        "\r\n",
        "from seqeval.metrics import f1_score\r\n",
        "print('Chinese BERT on French Texts:', f1_score(french_markup_FrBERT, french_markup_ZhBERT))"
      ],
      "execution_count": null,
      "outputs": []
    },
    {
      "cell_type": "code",
      "metadata": {
        "colab": {
          "base_uri": "https://localhost:8080/"
        },
        "id": "9UYXyLnY27LZ",
        "outputId": "205043b5-4b1c-43a1-e334-3b9aba00f136"
      },
      "source": [
        "chinese_markup_FrBERT = markup_sentences(FrenchBertModel, fr_train_dataset.idx2tag, zh_sentences_new)  \r\n",
        "chinese_markup_ZhBERT = markup_sentences(ChineseBertModel, zh_train_dataset.idx2tag, zh_sentences_new)\r\n",
        "\r\n",
        "from seqeval.metrics import f1_score\r\n",
        "print('French BERT on Chinese Texts:', f1_score(chinese_markup_ZhBERT, chinese_markup_FrBERT))"
      ],
      "execution_count": null,
      "outputs": [
        {
          "output_type": "stream",
          "text": [
            "English BERT on Chinese Texts: 0.03540917204322773\n"
          ],
          "name": "stdout"
        }
      ]
    }
  ]
}