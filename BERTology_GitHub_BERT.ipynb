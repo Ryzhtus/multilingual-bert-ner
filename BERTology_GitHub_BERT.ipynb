{
 "nbformat": 4,
 "nbformat_minor": 0,
 "metadata": {
  "colab": {
   "name": "BERTology GitHub BERT.ipynb",
   "provenance": [],
   "collapsed_sections": [],
   "toc_visible": true
  },
  "kernelspec": {
   "name": "python3",
   "display_name": "Python 3"
  },
  "accelerator": "GPU",
  "widgets": {
   "application/vnd.jupyter.widget-state+json": {
    "7984090c8192434ca96e0cd8128922db": {
     "model_module": "@jupyter-widgets/controls",
     "model_name": "HBoxModel",
     "state": {
      "_view_name": "HBoxView",
      "_dom_classes": [],
      "_model_name": "HBoxModel",
      "_view_module": "@jupyter-widgets/controls",
      "_model_module_version": "1.5.0",
      "_view_count": null,
      "_view_module_version": "1.5.0",
      "box_style": "",
      "layout": "IPY_MODEL_380e0c7be0bc45629424ec1d8987fca9",
      "_model_module": "@jupyter-widgets/controls",
      "children": [
       "IPY_MODEL_77efaf0887b14c30be858450fed9bfbc",
       "IPY_MODEL_984b141abe5b4d9ab0ce568cccf503ef"
      ]
     }
    },
    "380e0c7be0bc45629424ec1d8987fca9": {
     "model_module": "@jupyter-widgets/base",
     "model_name": "LayoutModel",
     "state": {
      "_view_name": "LayoutView",
      "grid_template_rows": null,
      "right": null,
      "justify_content": null,
      "_view_module": "@jupyter-widgets/base",
      "overflow": null,
      "_model_module_version": "1.2.0",
      "_view_count": null,
      "flex_flow": null,
      "width": null,
      "min_width": null,
      "border": null,
      "align_items": null,
      "bottom": null,
      "_model_module": "@jupyter-widgets/base",
      "top": null,
      "grid_column": null,
      "overflow_y": null,
      "overflow_x": null,
      "grid_auto_flow": null,
      "grid_area": null,
      "grid_template_columns": null,
      "flex": null,
      "_model_name": "LayoutModel",
      "justify_items": null,
      "grid_row": null,
      "max_height": null,
      "align_content": null,
      "visibility": null,
      "align_self": null,
      "height": null,
      "min_height": null,
      "padding": null,
      "grid_auto_rows": null,
      "grid_gap": null,
      "max_width": null,
      "order": null,
      "_view_module_version": "1.2.0",
      "grid_template_areas": null,
      "object_position": null,
      "object_fit": null,
      "grid_auto_columns": null,
      "margin": null,
      "display": null,
      "left": null
     }
    },
    "77efaf0887b14c30be858450fed9bfbc": {
     "model_module": "@jupyter-widgets/controls",
     "model_name": "FloatProgressModel",
     "state": {
      "_view_name": "ProgressView",
      "style": "IPY_MODEL_4c409ae41f1647e1b73aeef47c96b720",
      "_dom_classes": [],
      "description": "Downloading: 100%",
      "_model_name": "FloatProgressModel",
      "bar_style": "success",
      "max": 995526,
      "_view_module": "@jupyter-widgets/controls",
      "_model_module_version": "1.5.0",
      "value": 995526,
      "_view_count": null,
      "_view_module_version": "1.5.0",
      "orientation": "horizontal",
      "min": 0,
      "description_tooltip": null,
      "_model_module": "@jupyter-widgets/controls",
      "layout": "IPY_MODEL_c0cdb8f0299d48a987595814399f0071"
     }
    },
    "984b141abe5b4d9ab0ce568cccf503ef": {
     "model_module": "@jupyter-widgets/controls",
     "model_name": "HTMLModel",
     "state": {
      "_view_name": "HTMLView",
      "style": "IPY_MODEL_6b0308e396f5456db862095f38746257",
      "_dom_classes": [],
      "description": "",
      "_model_name": "HTMLModel",
      "placeholder": "​",
      "_view_module": "@jupyter-widgets/controls",
      "_model_module_version": "1.5.0",
      "value": " 996k/996k [00:00&lt;00:00, 2.21MB/s]",
      "_view_count": null,
      "_view_module_version": "1.5.0",
      "description_tooltip": null,
      "_model_module": "@jupyter-widgets/controls",
      "layout": "IPY_MODEL_8c62e53a7c01411382abce99b5895c55"
     }
    },
    "4c409ae41f1647e1b73aeef47c96b720": {
     "model_module": "@jupyter-widgets/controls",
     "model_name": "ProgressStyleModel",
     "state": {
      "_view_name": "StyleView",
      "_model_name": "ProgressStyleModel",
      "description_width": "initial",
      "_view_module": "@jupyter-widgets/base",
      "_model_module_version": "1.5.0",
      "_view_count": null,
      "_view_module_version": "1.2.0",
      "bar_color": null,
      "_model_module": "@jupyter-widgets/controls"
     }
    },
    "c0cdb8f0299d48a987595814399f0071": {
     "model_module": "@jupyter-widgets/base",
     "model_name": "LayoutModel",
     "state": {
      "_view_name": "LayoutView",
      "grid_template_rows": null,
      "right": null,
      "justify_content": null,
      "_view_module": "@jupyter-widgets/base",
      "overflow": null,
      "_model_module_version": "1.2.0",
      "_view_count": null,
      "flex_flow": null,
      "width": null,
      "min_width": null,
      "border": null,
      "align_items": null,
      "bottom": null,
      "_model_module": "@jupyter-widgets/base",
      "top": null,
      "grid_column": null,
      "overflow_y": null,
      "overflow_x": null,
      "grid_auto_flow": null,
      "grid_area": null,
      "grid_template_columns": null,
      "flex": null,
      "_model_name": "LayoutModel",
      "justify_items": null,
      "grid_row": null,
      "max_height": null,
      "align_content": null,
      "visibility": null,
      "align_self": null,
      "height": null,
      "min_height": null,
      "padding": null,
      "grid_auto_rows": null,
      "grid_gap": null,
      "max_width": null,
      "order": null,
      "_view_module_version": "1.2.0",
      "grid_template_areas": null,
      "object_position": null,
      "object_fit": null,
      "grid_auto_columns": null,
      "margin": null,
      "display": null,
      "left": null
     }
    },
    "6b0308e396f5456db862095f38746257": {
     "model_module": "@jupyter-widgets/controls",
     "model_name": "DescriptionStyleModel",
     "state": {
      "_view_name": "StyleView",
      "_model_name": "DescriptionStyleModel",
      "description_width": "",
      "_view_module": "@jupyter-widgets/base",
      "_model_module_version": "1.5.0",
      "_view_count": null,
      "_view_module_version": "1.2.0",
      "_model_module": "@jupyter-widgets/controls"
     }
    },
    "8c62e53a7c01411382abce99b5895c55": {
     "model_module": "@jupyter-widgets/base",
     "model_name": "LayoutModel",
     "state": {
      "_view_name": "LayoutView",
      "grid_template_rows": null,
      "right": null,
      "justify_content": null,
      "_view_module": "@jupyter-widgets/base",
      "overflow": null,
      "_model_module_version": "1.2.0",
      "_view_count": null,
      "flex_flow": null,
      "width": null,
      "min_width": null,
      "border": null,
      "align_items": null,
      "bottom": null,
      "_model_module": "@jupyter-widgets/base",
      "top": null,
      "grid_column": null,
      "overflow_y": null,
      "overflow_x": null,
      "grid_auto_flow": null,
      "grid_area": null,
      "grid_template_columns": null,
      "flex": null,
      "_model_name": "LayoutModel",
      "justify_items": null,
      "grid_row": null,
      "max_height": null,
      "align_content": null,
      "visibility": null,
      "align_self": null,
      "height": null,
      "min_height": null,
      "padding": null,
      "grid_auto_rows": null,
      "grid_gap": null,
      "max_width": null,
      "order": null,
      "_view_module_version": "1.2.0",
      "grid_template_areas": null,
      "object_position": null,
      "object_fit": null,
      "grid_auto_columns": null,
      "margin": null,
      "display": null,
      "left": null
     }
    },
    "f7773ead68d64457b14d7e92640f7c73": {
     "model_module": "@jupyter-widgets/controls",
     "model_name": "HBoxModel",
     "state": {
      "_view_name": "HBoxView",
      "_dom_classes": [],
      "_model_name": "HBoxModel",
      "_view_module": "@jupyter-widgets/controls",
      "_model_module_version": "1.5.0",
      "_view_count": null,
      "_view_module_version": "1.5.0",
      "box_style": "",
      "layout": "IPY_MODEL_2c64fe2040ae4bf89dfecbc91e0c3a43",
      "_model_module": "@jupyter-widgets/controls",
      "children": [
       "IPY_MODEL_1d9755f35cc64aadb3271b207fe63b90",
       "IPY_MODEL_6a78fce12a184676b158a81519ba9340"
      ]
     }
    },
    "2c64fe2040ae4bf89dfecbc91e0c3a43": {
     "model_module": "@jupyter-widgets/base",
     "model_name": "LayoutModel",
     "state": {
      "_view_name": "LayoutView",
      "grid_template_rows": null,
      "right": null,
      "justify_content": null,
      "_view_module": "@jupyter-widgets/base",
      "overflow": null,
      "_model_module_version": "1.2.0",
      "_view_count": null,
      "flex_flow": null,
      "width": null,
      "min_width": null,
      "border": null,
      "align_items": null,
      "bottom": null,
      "_model_module": "@jupyter-widgets/base",
      "top": null,
      "grid_column": null,
      "overflow_y": null,
      "overflow_x": null,
      "grid_auto_flow": null,
      "grid_area": null,
      "grid_template_columns": null,
      "flex": null,
      "_model_name": "LayoutModel",
      "justify_items": null,
      "grid_row": null,
      "max_height": null,
      "align_content": null,
      "visibility": null,
      "align_self": null,
      "height": null,
      "min_height": null,
      "padding": null,
      "grid_auto_rows": null,
      "grid_gap": null,
      "max_width": null,
      "order": null,
      "_view_module_version": "1.2.0",
      "grid_template_areas": null,
      "object_position": null,
      "object_fit": null,
      "grid_auto_columns": null,
      "margin": null,
      "display": null,
      "left": null
     }
    },
    "1d9755f35cc64aadb3271b207fe63b90": {
     "model_module": "@jupyter-widgets/controls",
     "model_name": "FloatProgressModel",
     "state": {
      "_view_name": "ProgressView",
      "style": "IPY_MODEL_27a8f3ff6e4a4ba2ac9f7ebf74388d20",
      "_dom_classes": [],
      "description": "Downloading: 100%",
      "_model_name": "FloatProgressModel",
      "bar_style": "success",
      "max": 29,
      "_view_module": "@jupyter-widgets/controls",
      "_model_module_version": "1.5.0",
      "value": 29,
      "_view_count": null,
      "_view_module_version": "1.5.0",
      "orientation": "horizontal",
      "min": 0,
      "description_tooltip": null,
      "_model_module": "@jupyter-widgets/controls",
      "layout": "IPY_MODEL_d8ff1860f45f4928a893c0236b54ae86"
     }
    },
    "6a78fce12a184676b158a81519ba9340": {
     "model_module": "@jupyter-widgets/controls",
     "model_name": "HTMLModel",
     "state": {
      "_view_name": "HTMLView",
      "style": "IPY_MODEL_6cab8c9be1504641bfd9762a6d1a0b08",
      "_dom_classes": [],
      "description": "",
      "_model_name": "HTMLModel",
      "placeholder": "​",
      "_view_module": "@jupyter-widgets/controls",
      "_model_module_version": "1.5.0",
      "value": " 29.0/29.0 [00:00&lt;00:00, 188B/s]",
      "_view_count": null,
      "_view_module_version": "1.5.0",
      "description_tooltip": null,
      "_model_module": "@jupyter-widgets/controls",
      "layout": "IPY_MODEL_d368dcff69554f1aa2db229ae06084d6"
     }
    },
    "27a8f3ff6e4a4ba2ac9f7ebf74388d20": {
     "model_module": "@jupyter-widgets/controls",
     "model_name": "ProgressStyleModel",
     "state": {
      "_view_name": "StyleView",
      "_model_name": "ProgressStyleModel",
      "description_width": "initial",
      "_view_module": "@jupyter-widgets/base",
      "_model_module_version": "1.5.0",
      "_view_count": null,
      "_view_module_version": "1.2.0",
      "bar_color": null,
      "_model_module": "@jupyter-widgets/controls"
     }
    },
    "d8ff1860f45f4928a893c0236b54ae86": {
     "model_module": "@jupyter-widgets/base",
     "model_name": "LayoutModel",
     "state": {
      "_view_name": "LayoutView",
      "grid_template_rows": null,
      "right": null,
      "justify_content": null,
      "_view_module": "@jupyter-widgets/base",
      "overflow": null,
      "_model_module_version": "1.2.0",
      "_view_count": null,
      "flex_flow": null,
      "width": null,
      "min_width": null,
      "border": null,
      "align_items": null,
      "bottom": null,
      "_model_module": "@jupyter-widgets/base",
      "top": null,
      "grid_column": null,
      "overflow_y": null,
      "overflow_x": null,
      "grid_auto_flow": null,
      "grid_area": null,
      "grid_template_columns": null,
      "flex": null,
      "_model_name": "LayoutModel",
      "justify_items": null,
      "grid_row": null,
      "max_height": null,
      "align_content": null,
      "visibility": null,
      "align_self": null,
      "height": null,
      "min_height": null,
      "padding": null,
      "grid_auto_rows": null,
      "grid_gap": null,
      "max_width": null,
      "order": null,
      "_view_module_version": "1.2.0",
      "grid_template_areas": null,
      "object_position": null,
      "object_fit": null,
      "grid_auto_columns": null,
      "margin": null,
      "display": null,
      "left": null
     }
    },
    "6cab8c9be1504641bfd9762a6d1a0b08": {
     "model_module": "@jupyter-widgets/controls",
     "model_name": "DescriptionStyleModel",
     "state": {
      "_view_name": "StyleView",
      "_model_name": "DescriptionStyleModel",
      "description_width": "",
      "_view_module": "@jupyter-widgets/base",
      "_model_module_version": "1.5.0",
      "_view_count": null,
      "_view_module_version": "1.2.0",
      "_model_module": "@jupyter-widgets/controls"
     }
    },
    "d368dcff69554f1aa2db229ae06084d6": {
     "model_module": "@jupyter-widgets/base",
     "model_name": "LayoutModel",
     "state": {
      "_view_name": "LayoutView",
      "grid_template_rows": null,
      "right": null,
      "justify_content": null,
      "_view_module": "@jupyter-widgets/base",
      "overflow": null,
      "_model_module_version": "1.2.0",
      "_view_count": null,
      "flex_flow": null,
      "width": null,
      "min_width": null,
      "border": null,
      "align_items": null,
      "bottom": null,
      "_model_module": "@jupyter-widgets/base",
      "top": null,
      "grid_column": null,
      "overflow_y": null,
      "overflow_x": null,
      "grid_auto_flow": null,
      "grid_area": null,
      "grid_template_columns": null,
      "flex": null,
      "_model_name": "LayoutModel",
      "justify_items": null,
      "grid_row": null,
      "max_height": null,
      "align_content": null,
      "visibility": null,
      "align_self": null,
      "height": null,
      "min_height": null,
      "padding": null,
      "grid_auto_rows": null,
      "grid_gap": null,
      "max_width": null,
      "order": null,
      "_view_module_version": "1.2.0",
      "grid_template_areas": null,
      "object_position": null,
      "object_fit": null,
      "grid_auto_columns": null,
      "margin": null,
      "display": null,
      "left": null
     }
    },
    "a9f9ba9fd0ba40d49db8e93a3e2ce4c3": {
     "model_module": "@jupyter-widgets/controls",
     "model_name": "HBoxModel",
     "state": {
      "_view_name": "HBoxView",
      "_dom_classes": [],
      "_model_name": "HBoxModel",
      "_view_module": "@jupyter-widgets/controls",
      "_model_module_version": "1.5.0",
      "_view_count": null,
      "_view_module_version": "1.5.0",
      "box_style": "",
      "layout": "IPY_MODEL_11252bbe44f0434caa38369c394b21f7",
      "_model_module": "@jupyter-widgets/controls",
      "children": [
       "IPY_MODEL_b8166a1991dc41459aaa2c46004cd75f",
       "IPY_MODEL_2bd5df501712405e83f261bca6f171f8"
      ]
     }
    },
    "11252bbe44f0434caa38369c394b21f7": {
     "model_module": "@jupyter-widgets/base",
     "model_name": "LayoutModel",
     "state": {
      "_view_name": "LayoutView",
      "grid_template_rows": null,
      "right": null,
      "justify_content": null,
      "_view_module": "@jupyter-widgets/base",
      "overflow": null,
      "_model_module_version": "1.2.0",
      "_view_count": null,
      "flex_flow": null,
      "width": null,
      "min_width": null,
      "border": null,
      "align_items": null,
      "bottom": null,
      "_model_module": "@jupyter-widgets/base",
      "top": null,
      "grid_column": null,
      "overflow_y": null,
      "overflow_x": null,
      "grid_auto_flow": null,
      "grid_area": null,
      "grid_template_columns": null,
      "flex": null,
      "_model_name": "LayoutModel",
      "justify_items": null,
      "grid_row": null,
      "max_height": null,
      "align_content": null,
      "visibility": null,
      "align_self": null,
      "height": null,
      "min_height": null,
      "padding": null,
      "grid_auto_rows": null,
      "grid_gap": null,
      "max_width": null,
      "order": null,
      "_view_module_version": "1.2.0",
      "grid_template_areas": null,
      "object_position": null,
      "object_fit": null,
      "grid_auto_columns": null,
      "margin": null,
      "display": null,
      "left": null
     }
    },
    "b8166a1991dc41459aaa2c46004cd75f": {
     "model_module": "@jupyter-widgets/controls",
     "model_name": "FloatProgressModel",
     "state": {
      "_view_name": "ProgressView",
      "style": "IPY_MODEL_5b169b35326f4c5b93da424d30b64f72",
      "_dom_classes": [],
      "description": "Downloading: 100%",
      "_model_name": "FloatProgressModel",
      "bar_style": "success",
      "max": 1961828,
      "_view_module": "@jupyter-widgets/controls",
      "_model_module_version": "1.5.0",
      "value": 1961828,
      "_view_count": null,
      "_view_module_version": "1.5.0",
      "orientation": "horizontal",
      "min": 0,
      "description_tooltip": null,
      "_model_module": "@jupyter-widgets/controls",
      "layout": "IPY_MODEL_74f57cfa2060450e9c8c5b55943ce380"
     }
    },
    "2bd5df501712405e83f261bca6f171f8": {
     "model_module": "@jupyter-widgets/controls",
     "model_name": "HTMLModel",
     "state": {
      "_view_name": "HTMLView",
      "style": "IPY_MODEL_c9d9a99b2e9a4b4ea950617841c0a8b5",
      "_dom_classes": [],
      "description": "",
      "_model_name": "HTMLModel",
      "placeholder": "​",
      "_view_module": "@jupyter-widgets/controls",
      "_model_module_version": "1.5.0",
      "value": " 1.96M/1.96M [00:00&lt;00:00, 10.0MB/s]",
      "_view_count": null,
      "_view_module_version": "1.5.0",
      "description_tooltip": null,
      "_model_module": "@jupyter-widgets/controls",
      "layout": "IPY_MODEL_6116dcd20eab49769a737f077abdbc63"
     }
    },
    "5b169b35326f4c5b93da424d30b64f72": {
     "model_module": "@jupyter-widgets/controls",
     "model_name": "ProgressStyleModel",
     "state": {
      "_view_name": "StyleView",
      "_model_name": "ProgressStyleModel",
      "description_width": "initial",
      "_view_module": "@jupyter-widgets/base",
      "_model_module_version": "1.5.0",
      "_view_count": null,
      "_view_module_version": "1.2.0",
      "bar_color": null,
      "_model_module": "@jupyter-widgets/controls"
     }
    },
    "74f57cfa2060450e9c8c5b55943ce380": {
     "model_module": "@jupyter-widgets/base",
     "model_name": "LayoutModel",
     "state": {
      "_view_name": "LayoutView",
      "grid_template_rows": null,
      "right": null,
      "justify_content": null,
      "_view_module": "@jupyter-widgets/base",
      "overflow": null,
      "_model_module_version": "1.2.0",
      "_view_count": null,
      "flex_flow": null,
      "width": null,
      "min_width": null,
      "border": null,
      "align_items": null,
      "bottom": null,
      "_model_module": "@jupyter-widgets/base",
      "top": null,
      "grid_column": null,
      "overflow_y": null,
      "overflow_x": null,
      "grid_auto_flow": null,
      "grid_area": null,
      "grid_template_columns": null,
      "flex": null,
      "_model_name": "LayoutModel",
      "justify_items": null,
      "grid_row": null,
      "max_height": null,
      "align_content": null,
      "visibility": null,
      "align_self": null,
      "height": null,
      "min_height": null,
      "padding": null,
      "grid_auto_rows": null,
      "grid_gap": null,
      "max_width": null,
      "order": null,
      "_view_module_version": "1.2.0",
      "grid_template_areas": null,
      "object_position": null,
      "object_fit": null,
      "grid_auto_columns": null,
      "margin": null,
      "display": null,
      "left": null
     }
    },
    "c9d9a99b2e9a4b4ea950617841c0a8b5": {
     "model_module": "@jupyter-widgets/controls",
     "model_name": "DescriptionStyleModel",
     "state": {
      "_view_name": "StyleView",
      "_model_name": "DescriptionStyleModel",
      "description_width": "",
      "_view_module": "@jupyter-widgets/base",
      "_model_module_version": "1.5.0",
      "_view_count": null,
      "_view_module_version": "1.2.0",
      "_model_module": "@jupyter-widgets/controls"
     }
    },
    "6116dcd20eab49769a737f077abdbc63": {
     "model_module": "@jupyter-widgets/base",
     "model_name": "LayoutModel",
     "state": {
      "_view_name": "LayoutView",
      "grid_template_rows": null,
      "right": null,
      "justify_content": null,
      "_view_module": "@jupyter-widgets/base",
      "overflow": null,
      "_model_module_version": "1.2.0",
      "_view_count": null,
      "flex_flow": null,
      "width": null,
      "min_width": null,
      "border": null,
      "align_items": null,
      "bottom": null,
      "_model_module": "@jupyter-widgets/base",
      "top": null,
      "grid_column": null,
      "overflow_y": null,
      "overflow_x": null,
      "grid_auto_flow": null,
      "grid_area": null,
      "grid_template_columns": null,
      "flex": null,
      "_model_name": "LayoutModel",
      "justify_items": null,
      "grid_row": null,
      "max_height": null,
      "align_content": null,
      "visibility": null,
      "align_self": null,
      "height": null,
      "min_height": null,
      "padding": null,
      "grid_auto_rows": null,
      "grid_gap": null,
      "max_width": null,
      "order": null,
      "_view_module_version": "1.2.0",
      "grid_template_areas": null,
      "object_position": null,
      "object_fit": null,
      "grid_auto_columns": null,
      "margin": null,
      "display": null,
      "left": null
     }
    },
    "2d3fc242614a49b2bafbbf8ef34a5d50": {
     "model_module": "@jupyter-widgets/controls",
     "model_name": "HBoxModel",
     "state": {
      "_view_name": "HBoxView",
      "_dom_classes": [],
      "_model_name": "HBoxModel",
      "_view_module": "@jupyter-widgets/controls",
      "_model_module_version": "1.5.0",
      "_view_count": null,
      "_view_module_version": "1.5.0",
      "box_style": "",
      "layout": "IPY_MODEL_473102b937c646bd8d15fc2f65e89956",
      "_model_module": "@jupyter-widgets/controls",
      "children": [
       "IPY_MODEL_5230ab172c584760b6e854c2e2186b66",
       "IPY_MODEL_c050c722514242878b165fdda9228c5a"
      ]
     }
    },
    "473102b937c646bd8d15fc2f65e89956": {
     "model_module": "@jupyter-widgets/base",
     "model_name": "LayoutModel",
     "state": {
      "_view_name": "LayoutView",
      "grid_template_rows": null,
      "right": null,
      "justify_content": null,
      "_view_module": "@jupyter-widgets/base",
      "overflow": null,
      "_model_module_version": "1.2.0",
      "_view_count": null,
      "flex_flow": null,
      "width": null,
      "min_width": null,
      "border": null,
      "align_items": null,
      "bottom": null,
      "_model_module": "@jupyter-widgets/base",
      "top": null,
      "grid_column": null,
      "overflow_y": null,
      "overflow_x": null,
      "grid_auto_flow": null,
      "grid_area": null,
      "grid_template_columns": null,
      "flex": null,
      "_model_name": "LayoutModel",
      "justify_items": null,
      "grid_row": null,
      "max_height": null,
      "align_content": null,
      "visibility": null,
      "align_self": null,
      "height": null,
      "min_height": null,
      "padding": null,
      "grid_auto_rows": null,
      "grid_gap": null,
      "max_width": null,
      "order": null,
      "_view_module_version": "1.2.0",
      "grid_template_areas": null,
      "object_position": null,
      "object_fit": null,
      "grid_auto_columns": null,
      "margin": null,
      "display": null,
      "left": null
     }
    },
    "5230ab172c584760b6e854c2e2186b66": {
     "model_module": "@jupyter-widgets/controls",
     "model_name": "FloatProgressModel",
     "state": {
      "_view_name": "ProgressView",
      "style": "IPY_MODEL_b1ad088161c44ecfaa410b83b577acf0",
      "_dom_classes": [],
      "description": "Downloading: 100%",
      "_model_name": "FloatProgressModel",
      "bar_style": "success",
      "max": 625,
      "_view_module": "@jupyter-widgets/controls",
      "_model_module_version": "1.5.0",
      "value": 625,
      "_view_count": null,
      "_view_module_version": "1.5.0",
      "orientation": "horizontal",
      "min": 0,
      "description_tooltip": null,
      "_model_module": "@jupyter-widgets/controls",
      "layout": "IPY_MODEL_354df7fa02d2449aab838efb3b117646"
     }
    },
    "c050c722514242878b165fdda9228c5a": {
     "model_module": "@jupyter-widgets/controls",
     "model_name": "HTMLModel",
     "state": {
      "_view_name": "HTMLView",
      "style": "IPY_MODEL_dc3460b094584f27a386eac25ef63902",
      "_dom_classes": [],
      "description": "",
      "_model_name": "HTMLModel",
      "placeholder": "​",
      "_view_module": "@jupyter-widgets/controls",
      "_model_module_version": "1.5.0",
      "value": " 625/625 [00:38&lt;00:00, 16.1B/s]",
      "_view_count": null,
      "_view_module_version": "1.5.0",
      "description_tooltip": null,
      "_model_module": "@jupyter-widgets/controls",
      "layout": "IPY_MODEL_8987a149591b4b4cb2c076397bfee56b"
     }
    },
    "b1ad088161c44ecfaa410b83b577acf0": {
     "model_module": "@jupyter-widgets/controls",
     "model_name": "ProgressStyleModel",
     "state": {
      "_view_name": "StyleView",
      "_model_name": "ProgressStyleModel",
      "description_width": "initial",
      "_view_module": "@jupyter-widgets/base",
      "_model_module_version": "1.5.0",
      "_view_count": null,
      "_view_module_version": "1.2.0",
      "bar_color": null,
      "_model_module": "@jupyter-widgets/controls"
     }
    },
    "354df7fa02d2449aab838efb3b117646": {
     "model_module": "@jupyter-widgets/base",
     "model_name": "LayoutModel",
     "state": {
      "_view_name": "LayoutView",
      "grid_template_rows": null,
      "right": null,
      "justify_content": null,
      "_view_module": "@jupyter-widgets/base",
      "overflow": null,
      "_model_module_version": "1.2.0",
      "_view_count": null,
      "flex_flow": null,
      "width": null,
      "min_width": null,
      "border": null,
      "align_items": null,
      "bottom": null,
      "_model_module": "@jupyter-widgets/base",
      "top": null,
      "grid_column": null,
      "overflow_y": null,
      "overflow_x": null,
      "grid_auto_flow": null,
      "grid_area": null,
      "grid_template_columns": null,
      "flex": null,
      "_model_name": "LayoutModel",
      "justify_items": null,
      "grid_row": null,
      "max_height": null,
      "align_content": null,
      "visibility": null,
      "align_self": null,
      "height": null,
      "min_height": null,
      "padding": null,
      "grid_auto_rows": null,
      "grid_gap": null,
      "max_width": null,
      "order": null,
      "_view_module_version": "1.2.0",
      "grid_template_areas": null,
      "object_position": null,
      "object_fit": null,
      "grid_auto_columns": null,
      "margin": null,
      "display": null,
      "left": null
     }
    },
    "dc3460b094584f27a386eac25ef63902": {
     "model_module": "@jupyter-widgets/controls",
     "model_name": "DescriptionStyleModel",
     "state": {
      "_view_name": "StyleView",
      "_model_name": "DescriptionStyleModel",
      "description_width": "",
      "_view_module": "@jupyter-widgets/base",
      "_model_module_version": "1.5.0",
      "_view_count": null,
      "_view_module_version": "1.2.0",
      "_model_module": "@jupyter-widgets/controls"
     }
    },
    "8987a149591b4b4cb2c076397bfee56b": {
     "model_module": "@jupyter-widgets/base",
     "model_name": "LayoutModel",
     "state": {
      "_view_name": "LayoutView",
      "grid_template_rows": null,
      "right": null,
      "justify_content": null,
      "_view_module": "@jupyter-widgets/base",
      "overflow": null,
      "_model_module_version": "1.2.0",
      "_view_count": null,
      "flex_flow": null,
      "width": null,
      "min_width": null,
      "border": null,
      "align_items": null,
      "bottom": null,
      "_model_module": "@jupyter-widgets/base",
      "top": null,
      "grid_column": null,
      "overflow_y": null,
      "overflow_x": null,
      "grid_auto_flow": null,
      "grid_area": null,
      "grid_template_columns": null,
      "flex": null,
      "_model_name": "LayoutModel",
      "justify_items": null,
      "grid_row": null,
      "max_height": null,
      "align_content": null,
      "visibility": null,
      "align_self": null,
      "height": null,
      "min_height": null,
      "padding": null,
      "grid_auto_rows": null,
      "grid_gap": null,
      "max_width": null,
      "order": null,
      "_view_module_version": "1.2.0",
      "grid_template_areas": null,
      "object_position": null,
      "object_fit": null,
      "grid_auto_columns": null,
      "margin": null,
      "display": null,
      "left": null
     }
    },
    "091bd2c8702b4dd6b921d8935d49f98c": {
     "model_module": "@jupyter-widgets/controls",
     "model_name": "HBoxModel",
     "state": {
      "_view_name": "HBoxView",
      "_dom_classes": [],
      "_model_name": "HBoxModel",
      "_view_module": "@jupyter-widgets/controls",
      "_model_module_version": "1.5.0",
      "_view_count": null,
      "_view_module_version": "1.5.0",
      "box_style": "",
      "layout": "IPY_MODEL_3f43c5c2bbcc4aca904e058649db239f",
      "_model_module": "@jupyter-widgets/controls",
      "children": [
       "IPY_MODEL_c0740d63142a4e8899b054641a1f2b9e",
       "IPY_MODEL_f8d30052896c4bdebce58f5e38612f3e"
      ]
     }
    },
    "3f43c5c2bbcc4aca904e058649db239f": {
     "model_module": "@jupyter-widgets/base",
     "model_name": "LayoutModel",
     "state": {
      "_view_name": "LayoutView",
      "grid_template_rows": null,
      "right": null,
      "justify_content": null,
      "_view_module": "@jupyter-widgets/base",
      "overflow": null,
      "_model_module_version": "1.2.0",
      "_view_count": null,
      "flex_flow": null,
      "width": null,
      "min_width": null,
      "border": null,
      "align_items": null,
      "bottom": null,
      "_model_module": "@jupyter-widgets/base",
      "top": null,
      "grid_column": null,
      "overflow_y": null,
      "overflow_x": null,
      "grid_auto_flow": null,
      "grid_area": null,
      "grid_template_columns": null,
      "flex": null,
      "_model_name": "LayoutModel",
      "justify_items": null,
      "grid_row": null,
      "max_height": null,
      "align_content": null,
      "visibility": null,
      "align_self": null,
      "height": null,
      "min_height": null,
      "padding": null,
      "grid_auto_rows": null,
      "grid_gap": null,
      "max_width": null,
      "order": null,
      "_view_module_version": "1.2.0",
      "grid_template_areas": null,
      "object_position": null,
      "object_fit": null,
      "grid_auto_columns": null,
      "margin": null,
      "display": null,
      "left": null
     }
    },
    "c0740d63142a4e8899b054641a1f2b9e": {
     "model_module": "@jupyter-widgets/controls",
     "model_name": "FloatProgressModel",
     "state": {
      "_view_name": "ProgressView",
      "style": "IPY_MODEL_6f747d7acfef488e88e5c3c5482e40d5",
      "_dom_classes": [],
      "description": "Downloading: 100%",
      "_model_name": "FloatProgressModel",
      "bar_style": "success",
      "max": 714314041,
      "_view_module": "@jupyter-widgets/controls",
      "_model_module_version": "1.5.0",
      "value": 714314041,
      "_view_count": null,
      "_view_module_version": "1.5.0",
      "orientation": "horizontal",
      "min": 0,
      "description_tooltip": null,
      "_model_module": "@jupyter-widgets/controls",
      "layout": "IPY_MODEL_29a3e5287e254db78795bd597f88c52e"
     }
    },
    "f8d30052896c4bdebce58f5e38612f3e": {
     "model_module": "@jupyter-widgets/controls",
     "model_name": "HTMLModel",
     "state": {
      "_view_name": "HTMLView",
      "style": "IPY_MODEL_f66133048fd84e1abb7144aa1ac6df29",
      "_dom_classes": [],
      "description": "",
      "_model_name": "HTMLModel",
      "placeholder": "​",
      "_view_module": "@jupyter-widgets/controls",
      "_model_module_version": "1.5.0",
      "value": " 714M/714M [00:13&lt;00:00, 51.6MB/s]",
      "_view_count": null,
      "_view_module_version": "1.5.0",
      "description_tooltip": null,
      "_model_module": "@jupyter-widgets/controls",
      "layout": "IPY_MODEL_829058de162e4a249f7af3214741f5b8"
     }
    },
    "6f747d7acfef488e88e5c3c5482e40d5": {
     "model_module": "@jupyter-widgets/controls",
     "model_name": "ProgressStyleModel",
     "state": {
      "_view_name": "StyleView",
      "_model_name": "ProgressStyleModel",
      "description_width": "initial",
      "_view_module": "@jupyter-widgets/base",
      "_model_module_version": "1.5.0",
      "_view_count": null,
      "_view_module_version": "1.2.0",
      "bar_color": null,
      "_model_module": "@jupyter-widgets/controls"
     }
    },
    "29a3e5287e254db78795bd597f88c52e": {
     "model_module": "@jupyter-widgets/base",
     "model_name": "LayoutModel",
     "state": {
      "_view_name": "LayoutView",
      "grid_template_rows": null,
      "right": null,
      "justify_content": null,
      "_view_module": "@jupyter-widgets/base",
      "overflow": null,
      "_model_module_version": "1.2.0",
      "_view_count": null,
      "flex_flow": null,
      "width": null,
      "min_width": null,
      "border": null,
      "align_items": null,
      "bottom": null,
      "_model_module": "@jupyter-widgets/base",
      "top": null,
      "grid_column": null,
      "overflow_y": null,
      "overflow_x": null,
      "grid_auto_flow": null,
      "grid_area": null,
      "grid_template_columns": null,
      "flex": null,
      "_model_name": "LayoutModel",
      "justify_items": null,
      "grid_row": null,
      "max_height": null,
      "align_content": null,
      "visibility": null,
      "align_self": null,
      "height": null,
      "min_height": null,
      "padding": null,
      "grid_auto_rows": null,
      "grid_gap": null,
      "max_width": null,
      "order": null,
      "_view_module_version": "1.2.0",
      "grid_template_areas": null,
      "object_position": null,
      "object_fit": null,
      "grid_auto_columns": null,
      "margin": null,
      "display": null,
      "left": null
     }
    },
    "f66133048fd84e1abb7144aa1ac6df29": {
     "model_module": "@jupyter-widgets/controls",
     "model_name": "DescriptionStyleModel",
     "state": {
      "_view_name": "StyleView",
      "_model_name": "DescriptionStyleModel",
      "description_width": "",
      "_view_module": "@jupyter-widgets/base",
      "_model_module_version": "1.5.0",
      "_view_count": null,
      "_view_module_version": "1.2.0",
      "_model_module": "@jupyter-widgets/controls"
     }
    },
    "829058de162e4a249f7af3214741f5b8": {
     "model_module": "@jupyter-widgets/base",
     "model_name": "LayoutModel",
     "state": {
      "_view_name": "LayoutView",
      "grid_template_rows": null,
      "right": null,
      "justify_content": null,
      "_view_module": "@jupyter-widgets/base",
      "overflow": null,
      "_model_module_version": "1.2.0",
      "_view_count": null,
      "flex_flow": null,
      "width": null,
      "min_width": null,
      "border": null,
      "align_items": null,
      "bottom": null,
      "_model_module": "@jupyter-widgets/base",
      "top": null,
      "grid_column": null,
      "overflow_y": null,
      "overflow_x": null,
      "grid_auto_flow": null,
      "grid_area": null,
      "grid_template_columns": null,
      "flex": null,
      "_model_name": "LayoutModel",
      "justify_items": null,
      "grid_row": null,
      "max_height": null,
      "align_content": null,
      "visibility": null,
      "align_self": null,
      "height": null,
      "min_height": null,
      "padding": null,
      "grid_auto_rows": null,
      "grid_gap": null,
      "max_width": null,
      "order": null,
      "_view_module_version": "1.2.0",
      "grid_template_areas": null,
      "object_position": null,
      "object_fit": null,
      "grid_auto_columns": null,
      "margin": null,
      "display": null,
      "left": null
     }
    },
    "e3ce94c3237c4e6eabd186390f14175e": {
     "model_module": "@jupyter-widgets/controls",
     "model_name": "HBoxModel",
     "state": {
      "_view_name": "HBoxView",
      "_dom_classes": [],
      "_model_name": "HBoxModel",
      "_view_module": "@jupyter-widgets/controls",
      "_model_module_version": "1.5.0",
      "_view_count": null,
      "_view_module_version": "1.5.0",
      "box_style": "",
      "layout": "IPY_MODEL_c773d2b41c5b4750882223943c90b4ff",
      "_model_module": "@jupyter-widgets/controls",
      "children": [
       "IPY_MODEL_ca76f5c6a6624c509618fbdfd7ce25d3",
       "IPY_MODEL_5ff499396af14878a8c3740d416d4e3c"
      ]
     }
    },
    "c773d2b41c5b4750882223943c90b4ff": {
     "model_module": "@jupyter-widgets/base",
     "model_name": "LayoutModel",
     "state": {
      "_view_name": "LayoutView",
      "grid_template_rows": null,
      "right": null,
      "justify_content": null,
      "_view_module": "@jupyter-widgets/base",
      "overflow": null,
      "_model_module_version": "1.2.0",
      "_view_count": null,
      "flex_flow": null,
      "width": null,
      "min_width": null,
      "border": null,
      "align_items": null,
      "bottom": null,
      "_model_module": "@jupyter-widgets/base",
      "top": null,
      "grid_column": null,
      "overflow_y": null,
      "overflow_x": null,
      "grid_auto_flow": null,
      "grid_area": null,
      "grid_template_columns": null,
      "flex": null,
      "_model_name": "LayoutModel",
      "justify_items": null,
      "grid_row": null,
      "max_height": null,
      "align_content": null,
      "visibility": null,
      "align_self": null,
      "height": null,
      "min_height": null,
      "padding": null,
      "grid_auto_rows": null,
      "grid_gap": null,
      "max_width": null,
      "order": null,
      "_view_module_version": "1.2.0",
      "grid_template_areas": null,
      "object_position": null,
      "object_fit": null,
      "grid_auto_columns": null,
      "margin": null,
      "display": null,
      "left": null
     }
    },
    "ca76f5c6a6624c509618fbdfd7ce25d3": {
     "model_module": "@jupyter-widgets/controls",
     "model_name": "FloatProgressModel",
     "state": {
      "_view_name": "ProgressView",
      "style": "IPY_MODEL_be87b072bce24938a8fe108e8263a86d",
      "_dom_classes": [],
      "description": "Downloading: 100%",
      "_model_name": "FloatProgressModel",
      "bar_style": "success",
      "max": 995526,
      "_view_module": "@jupyter-widgets/controls",
      "_model_module_version": "1.5.0",
      "value": 995526,
      "_view_count": null,
      "_view_module_version": "1.5.0",
      "orientation": "horizontal",
      "min": 0,
      "description_tooltip": null,
      "_model_module": "@jupyter-widgets/controls",
      "layout": "IPY_MODEL_576993b2008641979a8084aed2dce4b8"
     }
    },
    "5ff499396af14878a8c3740d416d4e3c": {
     "model_module": "@jupyter-widgets/controls",
     "model_name": "HTMLModel",
     "state": {
      "_view_name": "HTMLView",
      "style": "IPY_MODEL_6766e43b20ee4ecfa9890ed1e785caf9",
      "_dom_classes": [],
      "description": "",
      "_model_name": "HTMLModel",
      "placeholder": "​",
      "_view_module": "@jupyter-widgets/controls",
      "_model_module_version": "1.5.0",
      "value": " 996k/996k [00:00&lt;00:00, 1.94MB/s]",
      "_view_count": null,
      "_view_module_version": "1.5.0",
      "description_tooltip": null,
      "_model_module": "@jupyter-widgets/controls",
      "layout": "IPY_MODEL_aa1a80aac8dd4c36bd33ee5bbf4b83ce"
     }
    },
    "be87b072bce24938a8fe108e8263a86d": {
     "model_module": "@jupyter-widgets/controls",
     "model_name": "ProgressStyleModel",
     "state": {
      "_view_name": "StyleView",
      "_model_name": "ProgressStyleModel",
      "description_width": "initial",
      "_view_module": "@jupyter-widgets/base",
      "_model_module_version": "1.5.0",
      "_view_count": null,
      "_view_module_version": "1.2.0",
      "bar_color": null,
      "_model_module": "@jupyter-widgets/controls"
     }
    },
    "576993b2008641979a8084aed2dce4b8": {
     "model_module": "@jupyter-widgets/base",
     "model_name": "LayoutModel",
     "state": {
      "_view_name": "LayoutView",
      "grid_template_rows": null,
      "right": null,
      "justify_content": null,
      "_view_module": "@jupyter-widgets/base",
      "overflow": null,
      "_model_module_version": "1.2.0",
      "_view_count": null,
      "flex_flow": null,
      "width": null,
      "min_width": null,
      "border": null,
      "align_items": null,
      "bottom": null,
      "_model_module": "@jupyter-widgets/base",
      "top": null,
      "grid_column": null,
      "overflow_y": null,
      "overflow_x": null,
      "grid_auto_flow": null,
      "grid_area": null,
      "grid_template_columns": null,
      "flex": null,
      "_model_name": "LayoutModel",
      "justify_items": null,
      "grid_row": null,
      "max_height": null,
      "align_content": null,
      "visibility": null,
      "align_self": null,
      "height": null,
      "min_height": null,
      "padding": null,
      "grid_auto_rows": null,
      "grid_gap": null,
      "max_width": null,
      "order": null,
      "_view_module_version": "1.2.0",
      "grid_template_areas": null,
      "object_position": null,
      "object_fit": null,
      "grid_auto_columns": null,
      "margin": null,
      "display": null,
      "left": null
     }
    },
    "6766e43b20ee4ecfa9890ed1e785caf9": {
     "model_module": "@jupyter-widgets/controls",
     "model_name": "DescriptionStyleModel",
     "state": {
      "_view_name": "StyleView",
      "_model_name": "DescriptionStyleModel",
      "description_width": "",
      "_view_module": "@jupyter-widgets/base",
      "_model_module_version": "1.5.0",
      "_view_count": null,
      "_view_module_version": "1.2.0",
      "_model_module": "@jupyter-widgets/controls"
     }
    },
    "aa1a80aac8dd4c36bd33ee5bbf4b83ce": {
     "model_module": "@jupyter-widgets/base",
     "model_name": "LayoutModel",
     "state": {
      "_view_name": "LayoutView",
      "grid_template_rows": null,
      "right": null,
      "justify_content": null,
      "_view_module": "@jupyter-widgets/base",
      "overflow": null,
      "_model_module_version": "1.2.0",
      "_view_count": null,
      "flex_flow": null,
      "width": null,
      "min_width": null,
      "border": null,
      "align_items": null,
      "bottom": null,
      "_model_module": "@jupyter-widgets/base",
      "top": null,
      "grid_column": null,
      "overflow_y": null,
      "overflow_x": null,
      "grid_auto_flow": null,
      "grid_area": null,
      "grid_template_columns": null,
      "flex": null,
      "_model_name": "LayoutModel",
      "justify_items": null,
      "grid_row": null,
      "max_height": null,
      "align_content": null,
      "visibility": null,
      "align_self": null,
      "height": null,
      "min_height": null,
      "padding": null,
      "grid_auto_rows": null,
      "grid_gap": null,
      "max_width": null,
      "order": null,
      "_view_module_version": "1.2.0",
      "grid_template_areas": null,
      "object_position": null,
      "object_fit": null,
      "grid_auto_columns": null,
      "margin": null,
      "display": null,
      "left": null
     }
    },
    "845dfa654bf146d79938856d45c4f836": {
     "model_module": "@jupyter-widgets/controls",
     "model_name": "HBoxModel",
     "state": {
      "_view_name": "HBoxView",
      "_dom_classes": [],
      "_model_name": "HBoxModel",
      "_view_module": "@jupyter-widgets/controls",
      "_model_module_version": "1.5.0",
      "_view_count": null,
      "_view_module_version": "1.5.0",
      "box_style": "",
      "layout": "IPY_MODEL_8a1fe25260814fecb4515090ce2c3823",
      "_model_module": "@jupyter-widgets/controls",
      "children": [
       "IPY_MODEL_37155dbe89aa4f70a7c0515267da1cdc",
       "IPY_MODEL_173a0487cc0b4a118699adc4f4444d98"
      ]
     }
    },
    "8a1fe25260814fecb4515090ce2c3823": {
     "model_module": "@jupyter-widgets/base",
     "model_name": "LayoutModel",
     "state": {
      "_view_name": "LayoutView",
      "grid_template_rows": null,
      "right": null,
      "justify_content": null,
      "_view_module": "@jupyter-widgets/base",
      "overflow": null,
      "_model_module_version": "1.2.0",
      "_view_count": null,
      "flex_flow": null,
      "width": null,
      "min_width": null,
      "border": null,
      "align_items": null,
      "bottom": null,
      "_model_module": "@jupyter-widgets/base",
      "top": null,
      "grid_column": null,
      "overflow_y": null,
      "overflow_x": null,
      "grid_auto_flow": null,
      "grid_area": null,
      "grid_template_columns": null,
      "flex": null,
      "_model_name": "LayoutModel",
      "justify_items": null,
      "grid_row": null,
      "max_height": null,
      "align_content": null,
      "visibility": null,
      "align_self": null,
      "height": null,
      "min_height": null,
      "padding": null,
      "grid_auto_rows": null,
      "grid_gap": null,
      "max_width": null,
      "order": null,
      "_view_module_version": "1.2.0",
      "grid_template_areas": null,
      "object_position": null,
      "object_fit": null,
      "grid_auto_columns": null,
      "margin": null,
      "display": null,
      "left": null
     }
    },
    "37155dbe89aa4f70a7c0515267da1cdc": {
     "model_module": "@jupyter-widgets/controls",
     "model_name": "FloatProgressModel",
     "state": {
      "_view_name": "ProgressView",
      "style": "IPY_MODEL_3cbf3fbcdbdf435c9cd3f62fe1633e43",
      "_dom_classes": [],
      "description": "Downloading: 100%",
      "_model_name": "FloatProgressModel",
      "bar_style": "success",
      "max": 29,
      "_view_module": "@jupyter-widgets/controls",
      "_model_module_version": "1.5.0",
      "value": 29,
      "_view_count": null,
      "_view_module_version": "1.5.0",
      "orientation": "horizontal",
      "min": 0,
      "description_tooltip": null,
      "_model_module": "@jupyter-widgets/controls",
      "layout": "IPY_MODEL_3daeef2075974f1a83138063a246dadc"
     }
    },
    "173a0487cc0b4a118699adc4f4444d98": {
     "model_module": "@jupyter-widgets/controls",
     "model_name": "HTMLModel",
     "state": {
      "_view_name": "HTMLView",
      "style": "IPY_MODEL_7dcee855af554775807731bcfb01e469",
      "_dom_classes": [],
      "description": "",
      "_model_name": "HTMLModel",
      "placeholder": "​",
      "_view_module": "@jupyter-widgets/controls",
      "_model_module_version": "1.5.0",
      "value": " 29.0/29.0 [00:00&lt;00:00, 99.7B/s]",
      "_view_count": null,
      "_view_module_version": "1.5.0",
      "description_tooltip": null,
      "_model_module": "@jupyter-widgets/controls",
      "layout": "IPY_MODEL_b9d8ac1861a9464aafd7294dcf05f650"
     }
    },
    "3cbf3fbcdbdf435c9cd3f62fe1633e43": {
     "model_module": "@jupyter-widgets/controls",
     "model_name": "ProgressStyleModel",
     "state": {
      "_view_name": "StyleView",
      "_model_name": "ProgressStyleModel",
      "description_width": "initial",
      "_view_module": "@jupyter-widgets/base",
      "_model_module_version": "1.5.0",
      "_view_count": null,
      "_view_module_version": "1.2.0",
      "bar_color": null,
      "_model_module": "@jupyter-widgets/controls"
     }
    },
    "3daeef2075974f1a83138063a246dadc": {
     "model_module": "@jupyter-widgets/base",
     "model_name": "LayoutModel",
     "state": {
      "_view_name": "LayoutView",
      "grid_template_rows": null,
      "right": null,
      "justify_content": null,
      "_view_module": "@jupyter-widgets/base",
      "overflow": null,
      "_model_module_version": "1.2.0",
      "_view_count": null,
      "flex_flow": null,
      "width": null,
      "min_width": null,
      "border": null,
      "align_items": null,
      "bottom": null,
      "_model_module": "@jupyter-widgets/base",
      "top": null,
      "grid_column": null,
      "overflow_y": null,
      "overflow_x": null,
      "grid_auto_flow": null,
      "grid_area": null,
      "grid_template_columns": null,
      "flex": null,
      "_model_name": "LayoutModel",
      "justify_items": null,
      "grid_row": null,
      "max_height": null,
      "align_content": null,
      "visibility": null,
      "align_self": null,
      "height": null,
      "min_height": null,
      "padding": null,
      "grid_auto_rows": null,
      "grid_gap": null,
      "max_width": null,
      "order": null,
      "_view_module_version": "1.2.0",
      "grid_template_areas": null,
      "object_position": null,
      "object_fit": null,
      "grid_auto_columns": null,
      "margin": null,
      "display": null,
      "left": null
     }
    },
    "7dcee855af554775807731bcfb01e469": {
     "model_module": "@jupyter-widgets/controls",
     "model_name": "DescriptionStyleModel",
     "state": {
      "_view_name": "StyleView",
      "_model_name": "DescriptionStyleModel",
      "description_width": "",
      "_view_module": "@jupyter-widgets/base",
      "_model_module_version": "1.5.0",
      "_view_count": null,
      "_view_module_version": "1.2.0",
      "_model_module": "@jupyter-widgets/controls"
     }
    },
    "b9d8ac1861a9464aafd7294dcf05f650": {
     "model_module": "@jupyter-widgets/base",
     "model_name": "LayoutModel",
     "state": {
      "_view_name": "LayoutView",
      "grid_template_rows": null,
      "right": null,
      "justify_content": null,
      "_view_module": "@jupyter-widgets/base",
      "overflow": null,
      "_model_module_version": "1.2.0",
      "_view_count": null,
      "flex_flow": null,
      "width": null,
      "min_width": null,
      "border": null,
      "align_items": null,
      "bottom": null,
      "_model_module": "@jupyter-widgets/base",
      "top": null,
      "grid_column": null,
      "overflow_y": null,
      "overflow_x": null,
      "grid_auto_flow": null,
      "grid_area": null,
      "grid_template_columns": null,
      "flex": null,
      "_model_name": "LayoutModel",
      "justify_items": null,
      "grid_row": null,
      "max_height": null,
      "align_content": null,
      "visibility": null,
      "align_self": null,
      "height": null,
      "min_height": null,
      "padding": null,
      "grid_auto_rows": null,
      "grid_gap": null,
      "max_width": null,
      "order": null,
      "_view_module_version": "1.2.0",
      "grid_template_areas": null,
      "object_position": null,
      "object_fit": null,
      "grid_auto_columns": null,
      "margin": null,
      "display": null,
      "left": null
     }
    },
    "a1b92df448474e10a3097f69e6025f89": {
     "model_module": "@jupyter-widgets/controls",
     "model_name": "HBoxModel",
     "state": {
      "_view_name": "HBoxView",
      "_dom_classes": [],
      "_model_name": "HBoxModel",
      "_view_module": "@jupyter-widgets/controls",
      "_model_module_version": "1.5.0",
      "_view_count": null,
      "_view_module_version": "1.5.0",
      "box_style": "",
      "layout": "IPY_MODEL_bbfa33d22fff4834a95613ec3d90566e",
      "_model_module": "@jupyter-widgets/controls",
      "children": [
       "IPY_MODEL_bce9c17ed996428a99cccff7ff510546",
       "IPY_MODEL_0181bf590ef14878a6d9b44818e7368f"
      ]
     }
    },
    "bbfa33d22fff4834a95613ec3d90566e": {
     "model_module": "@jupyter-widgets/base",
     "model_name": "LayoutModel",
     "state": {
      "_view_name": "LayoutView",
      "grid_template_rows": null,
      "right": null,
      "justify_content": null,
      "_view_module": "@jupyter-widgets/base",
      "overflow": null,
      "_model_module_version": "1.2.0",
      "_view_count": null,
      "flex_flow": null,
      "width": null,
      "min_width": null,
      "border": null,
      "align_items": null,
      "bottom": null,
      "_model_module": "@jupyter-widgets/base",
      "top": null,
      "grid_column": null,
      "overflow_y": null,
      "overflow_x": null,
      "grid_auto_flow": null,
      "grid_area": null,
      "grid_template_columns": null,
      "flex": null,
      "_model_name": "LayoutModel",
      "justify_items": null,
      "grid_row": null,
      "max_height": null,
      "align_content": null,
      "visibility": null,
      "align_self": null,
      "height": null,
      "min_height": null,
      "padding": null,
      "grid_auto_rows": null,
      "grid_gap": null,
      "max_width": null,
      "order": null,
      "_view_module_version": "1.2.0",
      "grid_template_areas": null,
      "object_position": null,
      "object_fit": null,
      "grid_auto_columns": null,
      "margin": null,
      "display": null,
      "left": null
     }
    },
    "bce9c17ed996428a99cccff7ff510546": {
     "model_module": "@jupyter-widgets/controls",
     "model_name": "FloatProgressModel",
     "state": {
      "_view_name": "ProgressView",
      "style": "IPY_MODEL_3845ee11fa0b420683a332fcc3bb4cf1",
      "_dom_classes": [],
      "description": "Downloading: 100%",
      "_model_name": "FloatProgressModel",
      "bar_style": "success",
      "max": 1961828,
      "_view_module": "@jupyter-widgets/controls",
      "_model_module_version": "1.5.0",
      "value": 1961828,
      "_view_count": null,
      "_view_module_version": "1.5.0",
      "orientation": "horizontal",
      "min": 0,
      "description_tooltip": null,
      "_model_module": "@jupyter-widgets/controls",
      "layout": "IPY_MODEL_35511ef8c37945bbbd548326ed1999c1"
     }
    },
    "0181bf590ef14878a6d9b44818e7368f": {
     "model_module": "@jupyter-widgets/controls",
     "model_name": "HTMLModel",
     "state": {
      "_view_name": "HTMLView",
      "style": "IPY_MODEL_8fd642a391334073b7fdb694ac85092f",
      "_dom_classes": [],
      "description": "",
      "_model_name": "HTMLModel",
      "placeholder": "​",
      "_view_module": "@jupyter-widgets/controls",
      "_model_module_version": "1.5.0",
      "value": " 1.96M/1.96M [00:00&lt;00:00, 11.0MB/s]",
      "_view_count": null,
      "_view_module_version": "1.5.0",
      "description_tooltip": null,
      "_model_module": "@jupyter-widgets/controls",
      "layout": "IPY_MODEL_628091116477451fb8197db8133dec48"
     }
    },
    "3845ee11fa0b420683a332fcc3bb4cf1": {
     "model_module": "@jupyter-widgets/controls",
     "model_name": "ProgressStyleModel",
     "state": {
      "_view_name": "StyleView",
      "_model_name": "ProgressStyleModel",
      "description_width": "initial",
      "_view_module": "@jupyter-widgets/base",
      "_model_module_version": "1.5.0",
      "_view_count": null,
      "_view_module_version": "1.2.0",
      "bar_color": null,
      "_model_module": "@jupyter-widgets/controls"
     }
    },
    "35511ef8c37945bbbd548326ed1999c1": {
     "model_module": "@jupyter-widgets/base",
     "model_name": "LayoutModel",
     "state": {
      "_view_name": "LayoutView",
      "grid_template_rows": null,
      "right": null,
      "justify_content": null,
      "_view_module": "@jupyter-widgets/base",
      "overflow": null,
      "_model_module_version": "1.2.0",
      "_view_count": null,
      "flex_flow": null,
      "width": null,
      "min_width": null,
      "border": null,
      "align_items": null,
      "bottom": null,
      "_model_module": "@jupyter-widgets/base",
      "top": null,
      "grid_column": null,
      "overflow_y": null,
      "overflow_x": null,
      "grid_auto_flow": null,
      "grid_area": null,
      "grid_template_columns": null,
      "flex": null,
      "_model_name": "LayoutModel",
      "justify_items": null,
      "grid_row": null,
      "max_height": null,
      "align_content": null,
      "visibility": null,
      "align_self": null,
      "height": null,
      "min_height": null,
      "padding": null,
      "grid_auto_rows": null,
      "grid_gap": null,
      "max_width": null,
      "order": null,
      "_view_module_version": "1.2.0",
      "grid_template_areas": null,
      "object_position": null,
      "object_fit": null,
      "grid_auto_columns": null,
      "margin": null,
      "display": null,
      "left": null
     }
    },
    "8fd642a391334073b7fdb694ac85092f": {
     "model_module": "@jupyter-widgets/controls",
     "model_name": "DescriptionStyleModel",
     "state": {
      "_view_name": "StyleView",
      "_model_name": "DescriptionStyleModel",
      "description_width": "",
      "_view_module": "@jupyter-widgets/base",
      "_model_module_version": "1.5.0",
      "_view_count": null,
      "_view_module_version": "1.2.0",
      "_model_module": "@jupyter-widgets/controls"
     }
    },
    "628091116477451fb8197db8133dec48": {
     "model_module": "@jupyter-widgets/base",
     "model_name": "LayoutModel",
     "state": {
      "_view_name": "LayoutView",
      "grid_template_rows": null,
      "right": null,
      "justify_content": null,
      "_view_module": "@jupyter-widgets/base",
      "overflow": null,
      "_model_module_version": "1.2.0",
      "_view_count": null,
      "flex_flow": null,
      "width": null,
      "min_width": null,
      "border": null,
      "align_items": null,
      "bottom": null,
      "_model_module": "@jupyter-widgets/base",
      "top": null,
      "grid_column": null,
      "overflow_y": null,
      "overflow_x": null,
      "grid_auto_flow": null,
      "grid_area": null,
      "grid_template_columns": null,
      "flex": null,
      "_model_name": "LayoutModel",
      "justify_items": null,
      "grid_row": null,
      "max_height": null,
      "align_content": null,
      "visibility": null,
      "align_self": null,
      "height": null,
      "min_height": null,
      "padding": null,
      "grid_auto_rows": null,
      "grid_gap": null,
      "max_width": null,
      "order": null,
      "_view_module_version": "1.2.0",
      "grid_template_areas": null,
      "object_position": null,
      "object_fit": null,
      "grid_auto_columns": null,
      "margin": null,
      "display": null,
      "left": null
     }
    },
    "3240cc7faf014d3fab27e619777ab48d": {
     "model_module": "@jupyter-widgets/controls",
     "model_name": "HBoxModel",
     "state": {
      "_view_name": "HBoxView",
      "_dom_classes": [],
      "_model_name": "HBoxModel",
      "_view_module": "@jupyter-widgets/controls",
      "_model_module_version": "1.5.0",
      "_view_count": null,
      "_view_module_version": "1.5.0",
      "box_style": "",
      "layout": "IPY_MODEL_0154e75b85d2400997fc2241525dcae6",
      "_model_module": "@jupyter-widgets/controls",
      "children": [
       "IPY_MODEL_df31e1643ad84bb48d253bea7f7ccaea",
       "IPY_MODEL_b5960ac7e32c446f88f45b12c8fa6167"
      ]
     }
    },
    "0154e75b85d2400997fc2241525dcae6": {
     "model_module": "@jupyter-widgets/base",
     "model_name": "LayoutModel",
     "state": {
      "_view_name": "LayoutView",
      "grid_template_rows": null,
      "right": null,
      "justify_content": null,
      "_view_module": "@jupyter-widgets/base",
      "overflow": null,
      "_model_module_version": "1.2.0",
      "_view_count": null,
      "flex_flow": null,
      "width": null,
      "min_width": null,
      "border": null,
      "align_items": null,
      "bottom": null,
      "_model_module": "@jupyter-widgets/base",
      "top": null,
      "grid_column": null,
      "overflow_y": null,
      "overflow_x": null,
      "grid_auto_flow": null,
      "grid_area": null,
      "grid_template_columns": null,
      "flex": null,
      "_model_name": "LayoutModel",
      "justify_items": null,
      "grid_row": null,
      "max_height": null,
      "align_content": null,
      "visibility": null,
      "align_self": null,
      "height": null,
      "min_height": null,
      "padding": null,
      "grid_auto_rows": null,
      "grid_gap": null,
      "max_width": null,
      "order": null,
      "_view_module_version": "1.2.0",
      "grid_template_areas": null,
      "object_position": null,
      "object_fit": null,
      "grid_auto_columns": null,
      "margin": null,
      "display": null,
      "left": null
     }
    },
    "df31e1643ad84bb48d253bea7f7ccaea": {
     "model_module": "@jupyter-widgets/controls",
     "model_name": "FloatProgressModel",
     "state": {
      "_view_name": "ProgressView",
      "style": "IPY_MODEL_7ec8cc7ee5ed4e2e8dc63da8bad73663",
      "_dom_classes": [],
      "description": "Downloading: 100%",
      "_model_name": "FloatProgressModel",
      "bar_style": "success",
      "max": 625,
      "_view_module": "@jupyter-widgets/controls",
      "_model_module_version": "1.5.0",
      "value": 625,
      "_view_count": null,
      "_view_module_version": "1.5.0",
      "orientation": "horizontal",
      "min": 0,
      "description_tooltip": null,
      "_model_module": "@jupyter-widgets/controls",
      "layout": "IPY_MODEL_89fbe331900941df9d452438a70b5005"
     }
    },
    "b5960ac7e32c446f88f45b12c8fa6167": {
     "model_module": "@jupyter-widgets/controls",
     "model_name": "HTMLModel",
     "state": {
      "_view_name": "HTMLView",
      "style": "IPY_MODEL_3d6e3eb52d7f4560af90714ecc7e687d",
      "_dom_classes": [],
      "description": "",
      "_model_name": "HTMLModel",
      "placeholder": "​",
      "_view_module": "@jupyter-widgets/controls",
      "_model_module_version": "1.5.0",
      "value": " 625/625 [00:00&lt;00:00, 8.59kB/s]",
      "_view_count": null,
      "_view_module_version": "1.5.0",
      "description_tooltip": null,
      "_model_module": "@jupyter-widgets/controls",
      "layout": "IPY_MODEL_ae97ee7a68534aec9fa4682ac61a8eba"
     }
    },
    "7ec8cc7ee5ed4e2e8dc63da8bad73663": {
     "model_module": "@jupyter-widgets/controls",
     "model_name": "ProgressStyleModel",
     "state": {
      "_view_name": "StyleView",
      "_model_name": "ProgressStyleModel",
      "description_width": "initial",
      "_view_module": "@jupyter-widgets/base",
      "_model_module_version": "1.5.0",
      "_view_count": null,
      "_view_module_version": "1.2.0",
      "bar_color": null,
      "_model_module": "@jupyter-widgets/controls"
     }
    },
    "89fbe331900941df9d452438a70b5005": {
     "model_module": "@jupyter-widgets/base",
     "model_name": "LayoutModel",
     "state": {
      "_view_name": "LayoutView",
      "grid_template_rows": null,
      "right": null,
      "justify_content": null,
      "_view_module": "@jupyter-widgets/base",
      "overflow": null,
      "_model_module_version": "1.2.0",
      "_view_count": null,
      "flex_flow": null,
      "width": null,
      "min_width": null,
      "border": null,
      "align_items": null,
      "bottom": null,
      "_model_module": "@jupyter-widgets/base",
      "top": null,
      "grid_column": null,
      "overflow_y": null,
      "overflow_x": null,
      "grid_auto_flow": null,
      "grid_area": null,
      "grid_template_columns": null,
      "flex": null,
      "_model_name": "LayoutModel",
      "justify_items": null,
      "grid_row": null,
      "max_height": null,
      "align_content": null,
      "visibility": null,
      "align_self": null,
      "height": null,
      "min_height": null,
      "padding": null,
      "grid_auto_rows": null,
      "grid_gap": null,
      "max_width": null,
      "order": null,
      "_view_module_version": "1.2.0",
      "grid_template_areas": null,
      "object_position": null,
      "object_fit": null,
      "grid_auto_columns": null,
      "margin": null,
      "display": null,
      "left": null
     }
    },
    "3d6e3eb52d7f4560af90714ecc7e687d": {
     "model_module": "@jupyter-widgets/controls",
     "model_name": "DescriptionStyleModel",
     "state": {
      "_view_name": "StyleView",
      "_model_name": "DescriptionStyleModel",
      "description_width": "",
      "_view_module": "@jupyter-widgets/base",
      "_model_module_version": "1.5.0",
      "_view_count": null,
      "_view_module_version": "1.2.0",
      "_model_module": "@jupyter-widgets/controls"
     }
    },
    "ae97ee7a68534aec9fa4682ac61a8eba": {
     "model_module": "@jupyter-widgets/base",
     "model_name": "LayoutModel",
     "state": {
      "_view_name": "LayoutView",
      "grid_template_rows": null,
      "right": null,
      "justify_content": null,
      "_view_module": "@jupyter-widgets/base",
      "overflow": null,
      "_model_module_version": "1.2.0",
      "_view_count": null,
      "flex_flow": null,
      "width": null,
      "min_width": null,
      "border": null,
      "align_items": null,
      "bottom": null,
      "_model_module": "@jupyter-widgets/base",
      "top": null,
      "grid_column": null,
      "overflow_y": null,
      "overflow_x": null,
      "grid_auto_flow": null,
      "grid_area": null,
      "grid_template_columns": null,
      "flex": null,
      "_model_name": "LayoutModel",
      "justify_items": null,
      "grid_row": null,
      "max_height": null,
      "align_content": null,
      "visibility": null,
      "align_self": null,
      "height": null,
      "min_height": null,
      "padding": null,
      "grid_auto_rows": null,
      "grid_gap": null,
      "max_width": null,
      "order": null,
      "_view_module_version": "1.2.0",
      "grid_template_areas": null,
      "object_position": null,
      "object_fit": null,
      "grid_auto_columns": null,
      "margin": null,
      "display": null,
      "left": null
     }
    },
    "54db3fcc9cc946678da7f40f5bf6a2c6": {
     "model_module": "@jupyter-widgets/controls",
     "model_name": "HBoxModel",
     "state": {
      "_view_name": "HBoxView",
      "_dom_classes": [],
      "_model_name": "HBoxModel",
      "_view_module": "@jupyter-widgets/controls",
      "_model_module_version": "1.5.0",
      "_view_count": null,
      "_view_module_version": "1.5.0",
      "box_style": "",
      "layout": "IPY_MODEL_1f5539203c0d4a878328ac3c557e0bc5",
      "_model_module": "@jupyter-widgets/controls",
      "children": [
       "IPY_MODEL_192c0d30385e41f9b57f55fe4b8c8bdf",
       "IPY_MODEL_c968c18ed33948bba9948c579cb8efa4"
      ]
     }
    },
    "1f5539203c0d4a878328ac3c557e0bc5": {
     "model_module": "@jupyter-widgets/base",
     "model_name": "LayoutModel",
     "state": {
      "_view_name": "LayoutView",
      "grid_template_rows": null,
      "right": null,
      "justify_content": null,
      "_view_module": "@jupyter-widgets/base",
      "overflow": null,
      "_model_module_version": "1.2.0",
      "_view_count": null,
      "flex_flow": null,
      "width": null,
      "min_width": null,
      "border": null,
      "align_items": null,
      "bottom": null,
      "_model_module": "@jupyter-widgets/base",
      "top": null,
      "grid_column": null,
      "overflow_y": null,
      "overflow_x": null,
      "grid_auto_flow": null,
      "grid_area": null,
      "grid_template_columns": null,
      "flex": null,
      "_model_name": "LayoutModel",
      "justify_items": null,
      "grid_row": null,
      "max_height": null,
      "align_content": null,
      "visibility": null,
      "align_self": null,
      "height": null,
      "min_height": null,
      "padding": null,
      "grid_auto_rows": null,
      "grid_gap": null,
      "max_width": null,
      "order": null,
      "_view_module_version": "1.2.0",
      "grid_template_areas": null,
      "object_position": null,
      "object_fit": null,
      "grid_auto_columns": null,
      "margin": null,
      "display": null,
      "left": null
     }
    },
    "192c0d30385e41f9b57f55fe4b8c8bdf": {
     "model_module": "@jupyter-widgets/controls",
     "model_name": "FloatProgressModel",
     "state": {
      "_view_name": "ProgressView",
      "style": "IPY_MODEL_a3139cab2e8146b8b4349a7bdf09e714",
      "_dom_classes": [],
      "description": "Downloading: 100%",
      "_model_name": "FloatProgressModel",
      "bar_style": "success",
      "max": 714314041,
      "_view_module": "@jupyter-widgets/controls",
      "_model_module_version": "1.5.0",
      "value": 714314041,
      "_view_count": null,
      "_view_module_version": "1.5.0",
      "orientation": "horizontal",
      "min": 0,
      "description_tooltip": null,
      "_model_module": "@jupyter-widgets/controls",
      "layout": "IPY_MODEL_8309f228bd2a4a0c90f3da544a31e950"
     }
    },
    "c968c18ed33948bba9948c579cb8efa4": {
     "model_module": "@jupyter-widgets/controls",
     "model_name": "HTMLModel",
     "state": {
      "_view_name": "HTMLView",
      "style": "IPY_MODEL_76072b1da1f9480d8d19a4cb7e80c1cb",
      "_dom_classes": [],
      "description": "",
      "_model_name": "HTMLModel",
      "placeholder": "​",
      "_view_module": "@jupyter-widgets/controls",
      "_model_module_version": "1.5.0",
      "value": " 714M/714M [00:17&lt;00:00, 41.1MB/s]",
      "_view_count": null,
      "_view_module_version": "1.5.0",
      "description_tooltip": null,
      "_model_module": "@jupyter-widgets/controls",
      "layout": "IPY_MODEL_1aab0e9ff9564500a94ec866eac3e4e2"
     }
    },
    "a3139cab2e8146b8b4349a7bdf09e714": {
     "model_module": "@jupyter-widgets/controls",
     "model_name": "ProgressStyleModel",
     "state": {
      "_view_name": "StyleView",
      "_model_name": "ProgressStyleModel",
      "description_width": "initial",
      "_view_module": "@jupyter-widgets/base",
      "_model_module_version": "1.5.0",
      "_view_count": null,
      "_view_module_version": "1.2.0",
      "bar_color": null,
      "_model_module": "@jupyter-widgets/controls"
     }
    },
    "8309f228bd2a4a0c90f3da544a31e950": {
     "model_module": "@jupyter-widgets/base",
     "model_name": "LayoutModel",
     "state": {
      "_view_name": "LayoutView",
      "grid_template_rows": null,
      "right": null,
      "justify_content": null,
      "_view_module": "@jupyter-widgets/base",
      "overflow": null,
      "_model_module_version": "1.2.0",
      "_view_count": null,
      "flex_flow": null,
      "width": null,
      "min_width": null,
      "border": null,
      "align_items": null,
      "bottom": null,
      "_model_module": "@jupyter-widgets/base",
      "top": null,
      "grid_column": null,
      "overflow_y": null,
      "overflow_x": null,
      "grid_auto_flow": null,
      "grid_area": null,
      "grid_template_columns": null,
      "flex": null,
      "_model_name": "LayoutModel",
      "justify_items": null,
      "grid_row": null,
      "max_height": null,
      "align_content": null,
      "visibility": null,
      "align_self": null,
      "height": null,
      "min_height": null,
      "padding": null,
      "grid_auto_rows": null,
      "grid_gap": null,
      "max_width": null,
      "order": null,
      "_view_module_version": "1.2.0",
      "grid_template_areas": null,
      "object_position": null,
      "object_fit": null,
      "grid_auto_columns": null,
      "margin": null,
      "display": null,
      "left": null
     }
    },
    "76072b1da1f9480d8d19a4cb7e80c1cb": {
     "model_module": "@jupyter-widgets/controls",
     "model_name": "DescriptionStyleModel",
     "state": {
      "_view_name": "StyleView",
      "_model_name": "DescriptionStyleModel",
      "description_width": "",
      "_view_module": "@jupyter-widgets/base",
      "_model_module_version": "1.5.0",
      "_view_count": null,
      "_view_module_version": "1.2.0",
      "_model_module": "@jupyter-widgets/controls"
     }
    },
    "1aab0e9ff9564500a94ec866eac3e4e2": {
     "model_module": "@jupyter-widgets/base",
     "model_name": "LayoutModel",
     "state": {
      "_view_name": "LayoutView",
      "grid_template_rows": null,
      "right": null,
      "justify_content": null,
      "_view_module": "@jupyter-widgets/base",
      "overflow": null,
      "_model_module_version": "1.2.0",
      "_view_count": null,
      "flex_flow": null,
      "width": null,
      "min_width": null,
      "border": null,
      "align_items": null,
      "bottom": null,
      "_model_module": "@jupyter-widgets/base",
      "top": null,
      "grid_column": null,
      "overflow_y": null,
      "overflow_x": null,
      "grid_auto_flow": null,
      "grid_area": null,
      "grid_template_columns": null,
      "flex": null,
      "_model_name": "LayoutModel",
      "justify_items": null,
      "grid_row": null,
      "max_height": null,
      "align_content": null,
      "visibility": null,
      "align_self": null,
      "height": null,
      "min_height": null,
      "padding": null,
      "grid_auto_rows": null,
      "grid_gap": null,
      "max_width": null,
      "order": null,
      "_view_module_version": "1.2.0",
      "grid_template_areas": null,
      "object_position": null,
      "object_fit": null,
      "grid_auto_columns": null,
      "margin": null,
      "display": null,
      "left": null
     }
    },
    "14ba7f56b54144b1bd58b785c7332f6c": {
     "model_module": "@jupyter-widgets/controls",
     "model_name": "HBoxModel",
     "state": {
      "_view_name": "HBoxView",
      "_dom_classes": [],
      "_model_name": "HBoxModel",
      "_view_module": "@jupyter-widgets/controls",
      "_model_module_version": "1.5.0",
      "_view_count": null,
      "_view_module_version": "1.5.0",
      "box_style": "",
      "layout": "IPY_MODEL_3fc403636a1c4ab5ab55fe5ea0613563",
      "_model_module": "@jupyter-widgets/controls",
      "children": [
       "IPY_MODEL_e307d57157704d889ded7067e99e204a",
       "IPY_MODEL_b3f433d794ef4394900372c0b3d38091"
      ]
     }
    },
    "3fc403636a1c4ab5ab55fe5ea0613563": {
     "model_module": "@jupyter-widgets/base",
     "model_name": "LayoutModel",
     "state": {
      "_view_name": "LayoutView",
      "grid_template_rows": null,
      "right": null,
      "justify_content": null,
      "_view_module": "@jupyter-widgets/base",
      "overflow": null,
      "_model_module_version": "1.2.0",
      "_view_count": null,
      "flex_flow": null,
      "width": null,
      "min_width": null,
      "border": null,
      "align_items": null,
      "bottom": null,
      "_model_module": "@jupyter-widgets/base",
      "top": null,
      "grid_column": null,
      "overflow_y": null,
      "overflow_x": null,
      "grid_auto_flow": null,
      "grid_area": null,
      "grid_template_columns": null,
      "flex": null,
      "_model_name": "LayoutModel",
      "justify_items": null,
      "grid_row": null,
      "max_height": null,
      "align_content": null,
      "visibility": null,
      "align_self": null,
      "height": null,
      "min_height": null,
      "padding": null,
      "grid_auto_rows": null,
      "grid_gap": null,
      "max_width": null,
      "order": null,
      "_view_module_version": "1.2.0",
      "grid_template_areas": null,
      "object_position": null,
      "object_fit": null,
      "grid_auto_columns": null,
      "margin": null,
      "display": null,
      "left": null
     }
    },
    "e307d57157704d889ded7067e99e204a": {
     "model_module": "@jupyter-widgets/controls",
     "model_name": "FloatProgressModel",
     "state": {
      "_view_name": "ProgressView",
      "style": "IPY_MODEL_790c171d0ded4f3c94b09372de5bb281",
      "_dom_classes": [],
      "description": "Downloading: 100%",
      "_model_name": "FloatProgressModel",
      "bar_style": "success",
      "max": 995526,
      "_view_module": "@jupyter-widgets/controls",
      "_model_module_version": "1.5.0",
      "value": 995526,
      "_view_count": null,
      "_view_module_version": "1.5.0",
      "orientation": "horizontal",
      "min": 0,
      "description_tooltip": null,
      "_model_module": "@jupyter-widgets/controls",
      "layout": "IPY_MODEL_f8860874d8d04862bdaf5369a6c7c68b"
     }
    },
    "b3f433d794ef4394900372c0b3d38091": {
     "model_module": "@jupyter-widgets/controls",
     "model_name": "HTMLModel",
     "state": {
      "_view_name": "HTMLView",
      "style": "IPY_MODEL_85d2aa8ed23c442190b027384bc3f02e",
      "_dom_classes": [],
      "description": "",
      "_model_name": "HTMLModel",
      "placeholder": "​",
      "_view_module": "@jupyter-widgets/controls",
      "_model_module_version": "1.5.0",
      "value": " 996k/996k [00:00&lt;00:00, 6.74MB/s]",
      "_view_count": null,
      "_view_module_version": "1.5.0",
      "description_tooltip": null,
      "_model_module": "@jupyter-widgets/controls",
      "layout": "IPY_MODEL_39ded89ea516477782a7b0418779a0aa"
     }
    },
    "790c171d0ded4f3c94b09372de5bb281": {
     "model_module": "@jupyter-widgets/controls",
     "model_name": "ProgressStyleModel",
     "state": {
      "_view_name": "StyleView",
      "_model_name": "ProgressStyleModel",
      "description_width": "initial",
      "_view_module": "@jupyter-widgets/base",
      "_model_module_version": "1.5.0",
      "_view_count": null,
      "_view_module_version": "1.2.0",
      "bar_color": null,
      "_model_module": "@jupyter-widgets/controls"
     }
    },
    "f8860874d8d04862bdaf5369a6c7c68b": {
     "model_module": "@jupyter-widgets/base",
     "model_name": "LayoutModel",
     "state": {
      "_view_name": "LayoutView",
      "grid_template_rows": null,
      "right": null,
      "justify_content": null,
      "_view_module": "@jupyter-widgets/base",
      "overflow": null,
      "_model_module_version": "1.2.0",
      "_view_count": null,
      "flex_flow": null,
      "width": null,
      "min_width": null,
      "border": null,
      "align_items": null,
      "bottom": null,
      "_model_module": "@jupyter-widgets/base",
      "top": null,
      "grid_column": null,
      "overflow_y": null,
      "overflow_x": null,
      "grid_auto_flow": null,
      "grid_area": null,
      "grid_template_columns": null,
      "flex": null,
      "_model_name": "LayoutModel",
      "justify_items": null,
      "grid_row": null,
      "max_height": null,
      "align_content": null,
      "visibility": null,
      "align_self": null,
      "height": null,
      "min_height": null,
      "padding": null,
      "grid_auto_rows": null,
      "grid_gap": null,
      "max_width": null,
      "order": null,
      "_view_module_version": "1.2.0",
      "grid_template_areas": null,
      "object_position": null,
      "object_fit": null,
      "grid_auto_columns": null,
      "margin": null,
      "display": null,
      "left": null
     }
    },
    "85d2aa8ed23c442190b027384bc3f02e": {
     "model_module": "@jupyter-widgets/controls",
     "model_name": "DescriptionStyleModel",
     "state": {
      "_view_name": "StyleView",
      "_model_name": "DescriptionStyleModel",
      "description_width": "",
      "_view_module": "@jupyter-widgets/base",
      "_model_module_version": "1.5.0",
      "_view_count": null,
      "_view_module_version": "1.2.0",
      "_model_module": "@jupyter-widgets/controls"
     }
    },
    "39ded89ea516477782a7b0418779a0aa": {
     "model_module": "@jupyter-widgets/base",
     "model_name": "LayoutModel",
     "state": {
      "_view_name": "LayoutView",
      "grid_template_rows": null,
      "right": null,
      "justify_content": null,
      "_view_module": "@jupyter-widgets/base",
      "overflow": null,
      "_model_module_version": "1.2.0",
      "_view_count": null,
      "flex_flow": null,
      "width": null,
      "min_width": null,
      "border": null,
      "align_items": null,
      "bottom": null,
      "_model_module": "@jupyter-widgets/base",
      "top": null,
      "grid_column": null,
      "overflow_y": null,
      "overflow_x": null,
      "grid_auto_flow": null,
      "grid_area": null,
      "grid_template_columns": null,
      "flex": null,
      "_model_name": "LayoutModel",
      "justify_items": null,
      "grid_row": null,
      "max_height": null,
      "align_content": null,
      "visibility": null,
      "align_self": null,
      "height": null,
      "min_height": null,
      "padding": null,
      "grid_auto_rows": null,
      "grid_gap": null,
      "max_width": null,
      "order": null,
      "_view_module_version": "1.2.0",
      "grid_template_areas": null,
      "object_position": null,
      "object_fit": null,
      "grid_auto_columns": null,
      "margin": null,
      "display": null,
      "left": null
     }
    },
    "b5a777f582a4419183cbf9adb9f3a7c9": {
     "model_module": "@jupyter-widgets/controls",
     "model_name": "HBoxModel",
     "state": {
      "_view_name": "HBoxView",
      "_dom_classes": [],
      "_model_name": "HBoxModel",
      "_view_module": "@jupyter-widgets/controls",
      "_model_module_version": "1.5.0",
      "_view_count": null,
      "_view_module_version": "1.5.0",
      "box_style": "",
      "layout": "IPY_MODEL_0f0f5e47af5248939d2a9df1d8a2ed1c",
      "_model_module": "@jupyter-widgets/controls",
      "children": [
       "IPY_MODEL_956257293b274d4b891893149274d72d",
       "IPY_MODEL_f1a7b9e767ac49989cfe18784e394ea4"
      ]
     }
    },
    "0f0f5e47af5248939d2a9df1d8a2ed1c": {
     "model_module": "@jupyter-widgets/base",
     "model_name": "LayoutModel",
     "state": {
      "_view_name": "LayoutView",
      "grid_template_rows": null,
      "right": null,
      "justify_content": null,
      "_view_module": "@jupyter-widgets/base",
      "overflow": null,
      "_model_module_version": "1.2.0",
      "_view_count": null,
      "flex_flow": null,
      "width": null,
      "min_width": null,
      "border": null,
      "align_items": null,
      "bottom": null,
      "_model_module": "@jupyter-widgets/base",
      "top": null,
      "grid_column": null,
      "overflow_y": null,
      "overflow_x": null,
      "grid_auto_flow": null,
      "grid_area": null,
      "grid_template_columns": null,
      "flex": null,
      "_model_name": "LayoutModel",
      "justify_items": null,
      "grid_row": null,
      "max_height": null,
      "align_content": null,
      "visibility": null,
      "align_self": null,
      "height": null,
      "min_height": null,
      "padding": null,
      "grid_auto_rows": null,
      "grid_gap": null,
      "max_width": null,
      "order": null,
      "_view_module_version": "1.2.0",
      "grid_template_areas": null,
      "object_position": null,
      "object_fit": null,
      "grid_auto_columns": null,
      "margin": null,
      "display": null,
      "left": null
     }
    },
    "956257293b274d4b891893149274d72d": {
     "model_module": "@jupyter-widgets/controls",
     "model_name": "FloatProgressModel",
     "state": {
      "_view_name": "ProgressView",
      "style": "IPY_MODEL_deb1986e300b4ccfb4c49c5c2ba6c470",
      "_dom_classes": [],
      "description": "Downloading: 100%",
      "_model_name": "FloatProgressModel",
      "bar_style": "success",
      "max": 29,
      "_view_module": "@jupyter-widgets/controls",
      "_model_module_version": "1.5.0",
      "value": 29,
      "_view_count": null,
      "_view_module_version": "1.5.0",
      "orientation": "horizontal",
      "min": 0,
      "description_tooltip": null,
      "_model_module": "@jupyter-widgets/controls",
      "layout": "IPY_MODEL_36ad4b646eb040cd90747fb3fa5aa9ae"
     }
    },
    "f1a7b9e767ac49989cfe18784e394ea4": {
     "model_module": "@jupyter-widgets/controls",
     "model_name": "HTMLModel",
     "state": {
      "_view_name": "HTMLView",
      "style": "IPY_MODEL_b46b352bb3af45f1a3b458cb1c238f17",
      "_dom_classes": [],
      "description": "",
      "_model_name": "HTMLModel",
      "placeholder": "​",
      "_view_module": "@jupyter-widgets/controls",
      "_model_module_version": "1.5.0",
      "value": " 29.0/29.0 [00:00&lt;00:00, 98.7B/s]",
      "_view_count": null,
      "_view_module_version": "1.5.0",
      "description_tooltip": null,
      "_model_module": "@jupyter-widgets/controls",
      "layout": "IPY_MODEL_2ee244b87e98415f80f5f40594a03cdf"
     }
    },
    "deb1986e300b4ccfb4c49c5c2ba6c470": {
     "model_module": "@jupyter-widgets/controls",
     "model_name": "ProgressStyleModel",
     "state": {
      "_view_name": "StyleView",
      "_model_name": "ProgressStyleModel",
      "description_width": "initial",
      "_view_module": "@jupyter-widgets/base",
      "_model_module_version": "1.5.0",
      "_view_count": null,
      "_view_module_version": "1.2.0",
      "bar_color": null,
      "_model_module": "@jupyter-widgets/controls"
     }
    },
    "36ad4b646eb040cd90747fb3fa5aa9ae": {
     "model_module": "@jupyter-widgets/base",
     "model_name": "LayoutModel",
     "state": {
      "_view_name": "LayoutView",
      "grid_template_rows": null,
      "right": null,
      "justify_content": null,
      "_view_module": "@jupyter-widgets/base",
      "overflow": null,
      "_model_module_version": "1.2.0",
      "_view_count": null,
      "flex_flow": null,
      "width": null,
      "min_width": null,
      "border": null,
      "align_items": null,
      "bottom": null,
      "_model_module": "@jupyter-widgets/base",
      "top": null,
      "grid_column": null,
      "overflow_y": null,
      "overflow_x": null,
      "grid_auto_flow": null,
      "grid_area": null,
      "grid_template_columns": null,
      "flex": null,
      "_model_name": "LayoutModel",
      "justify_items": null,
      "grid_row": null,
      "max_height": null,
      "align_content": null,
      "visibility": null,
      "align_self": null,
      "height": null,
      "min_height": null,
      "padding": null,
      "grid_auto_rows": null,
      "grid_gap": null,
      "max_width": null,
      "order": null,
      "_view_module_version": "1.2.0",
      "grid_template_areas": null,
      "object_position": null,
      "object_fit": null,
      "grid_auto_columns": null,
      "margin": null,
      "display": null,
      "left": null
     }
    },
    "b46b352bb3af45f1a3b458cb1c238f17": {
     "model_module": "@jupyter-widgets/controls",
     "model_name": "DescriptionStyleModel",
     "state": {
      "_view_name": "StyleView",
      "_model_name": "DescriptionStyleModel",
      "description_width": "",
      "_view_module": "@jupyter-widgets/base",
      "_model_module_version": "1.5.0",
      "_view_count": null,
      "_view_module_version": "1.2.0",
      "_model_module": "@jupyter-widgets/controls"
     }
    },
    "2ee244b87e98415f80f5f40594a03cdf": {
     "model_module": "@jupyter-widgets/base",
     "model_name": "LayoutModel",
     "state": {
      "_view_name": "LayoutView",
      "grid_template_rows": null,
      "right": null,
      "justify_content": null,
      "_view_module": "@jupyter-widgets/base",
      "overflow": null,
      "_model_module_version": "1.2.0",
      "_view_count": null,
      "flex_flow": null,
      "width": null,
      "min_width": null,
      "border": null,
      "align_items": null,
      "bottom": null,
      "_model_module": "@jupyter-widgets/base",
      "top": null,
      "grid_column": null,
      "overflow_y": null,
      "overflow_x": null,
      "grid_auto_flow": null,
      "grid_area": null,
      "grid_template_columns": null,
      "flex": null,
      "_model_name": "LayoutModel",
      "justify_items": null,
      "grid_row": null,
      "max_height": null,
      "align_content": null,
      "visibility": null,
      "align_self": null,
      "height": null,
      "min_height": null,
      "padding": null,
      "grid_auto_rows": null,
      "grid_gap": null,
      "max_width": null,
      "order": null,
      "_view_module_version": "1.2.0",
      "grid_template_areas": null,
      "object_position": null,
      "object_fit": null,
      "grid_auto_columns": null,
      "margin": null,
      "display": null,
      "left": null
     }
    },
    "d6d18b8515d54e37be44fa9502ff6584": {
     "model_module": "@jupyter-widgets/controls",
     "model_name": "HBoxModel",
     "state": {
      "_view_name": "HBoxView",
      "_dom_classes": [],
      "_model_name": "HBoxModel",
      "_view_module": "@jupyter-widgets/controls",
      "_model_module_version": "1.5.0",
      "_view_count": null,
      "_view_module_version": "1.5.0",
      "box_style": "",
      "layout": "IPY_MODEL_ec3787fbbb794699ad3e9538c2b879b9",
      "_model_module": "@jupyter-widgets/controls",
      "children": [
       "IPY_MODEL_74d691cfad864e5497f95bf364a059db",
       "IPY_MODEL_279fae22b04640c998768c8439f01020"
      ]
     }
    },
    "ec3787fbbb794699ad3e9538c2b879b9": {
     "model_module": "@jupyter-widgets/base",
     "model_name": "LayoutModel",
     "state": {
      "_view_name": "LayoutView",
      "grid_template_rows": null,
      "right": null,
      "justify_content": null,
      "_view_module": "@jupyter-widgets/base",
      "overflow": null,
      "_model_module_version": "1.2.0",
      "_view_count": null,
      "flex_flow": null,
      "width": null,
      "min_width": null,
      "border": null,
      "align_items": null,
      "bottom": null,
      "_model_module": "@jupyter-widgets/base",
      "top": null,
      "grid_column": null,
      "overflow_y": null,
      "overflow_x": null,
      "grid_auto_flow": null,
      "grid_area": null,
      "grid_template_columns": null,
      "flex": null,
      "_model_name": "LayoutModel",
      "justify_items": null,
      "grid_row": null,
      "max_height": null,
      "align_content": null,
      "visibility": null,
      "align_self": null,
      "height": null,
      "min_height": null,
      "padding": null,
      "grid_auto_rows": null,
      "grid_gap": null,
      "max_width": null,
      "order": null,
      "_view_module_version": "1.2.0",
      "grid_template_areas": null,
      "object_position": null,
      "object_fit": null,
      "grid_auto_columns": null,
      "margin": null,
      "display": null,
      "left": null
     }
    },
    "74d691cfad864e5497f95bf364a059db": {
     "model_module": "@jupyter-widgets/controls",
     "model_name": "FloatProgressModel",
     "state": {
      "_view_name": "ProgressView",
      "style": "IPY_MODEL_c3ce40b539614c1b8687a2a68a02b559",
      "_dom_classes": [],
      "description": "Downloading: 100%",
      "_model_name": "FloatProgressModel",
      "bar_style": "success",
      "max": 1961828,
      "_view_module": "@jupyter-widgets/controls",
      "_model_module_version": "1.5.0",
      "value": 1961828,
      "_view_count": null,
      "_view_module_version": "1.5.0",
      "orientation": "horizontal",
      "min": 0,
      "description_tooltip": null,
      "_model_module": "@jupyter-widgets/controls",
      "layout": "IPY_MODEL_445454375a4c43af8b63de2bd31fcbef"
     }
    },
    "279fae22b04640c998768c8439f01020": {
     "model_module": "@jupyter-widgets/controls",
     "model_name": "HTMLModel",
     "state": {
      "_view_name": "HTMLView",
      "style": "IPY_MODEL_81b84afac2bd4484b10b3aa03ab36a00",
      "_dom_classes": [],
      "description": "",
      "_model_name": "HTMLModel",
      "placeholder": "​",
      "_view_module": "@jupyter-widgets/controls",
      "_model_module_version": "1.5.0",
      "value": " 1.96M/1.96M [00:00&lt;00:00, 10.7MB/s]",
      "_view_count": null,
      "_view_module_version": "1.5.0",
      "description_tooltip": null,
      "_model_module": "@jupyter-widgets/controls",
      "layout": "IPY_MODEL_dce3fd386f7741c6ade55d4292e24f39"
     }
    },
    "c3ce40b539614c1b8687a2a68a02b559": {
     "model_module": "@jupyter-widgets/controls",
     "model_name": "ProgressStyleModel",
     "state": {
      "_view_name": "StyleView",
      "_model_name": "ProgressStyleModel",
      "description_width": "initial",
      "_view_module": "@jupyter-widgets/base",
      "_model_module_version": "1.5.0",
      "_view_count": null,
      "_view_module_version": "1.2.0",
      "bar_color": null,
      "_model_module": "@jupyter-widgets/controls"
     }
    },
    "445454375a4c43af8b63de2bd31fcbef": {
     "model_module": "@jupyter-widgets/base",
     "model_name": "LayoutModel",
     "state": {
      "_view_name": "LayoutView",
      "grid_template_rows": null,
      "right": null,
      "justify_content": null,
      "_view_module": "@jupyter-widgets/base",
      "overflow": null,
      "_model_module_version": "1.2.0",
      "_view_count": null,
      "flex_flow": null,
      "width": null,
      "min_width": null,
      "border": null,
      "align_items": null,
      "bottom": null,
      "_model_module": "@jupyter-widgets/base",
      "top": null,
      "grid_column": null,
      "overflow_y": null,
      "overflow_x": null,
      "grid_auto_flow": null,
      "grid_area": null,
      "grid_template_columns": null,
      "flex": null,
      "_model_name": "LayoutModel",
      "justify_items": null,
      "grid_row": null,
      "max_height": null,
      "align_content": null,
      "visibility": null,
      "align_self": null,
      "height": null,
      "min_height": null,
      "padding": null,
      "grid_auto_rows": null,
      "grid_gap": null,
      "max_width": null,
      "order": null,
      "_view_module_version": "1.2.0",
      "grid_template_areas": null,
      "object_position": null,
      "object_fit": null,
      "grid_auto_columns": null,
      "margin": null,
      "display": null,
      "left": null
     }
    },
    "81b84afac2bd4484b10b3aa03ab36a00": {
     "model_module": "@jupyter-widgets/controls",
     "model_name": "DescriptionStyleModel",
     "state": {
      "_view_name": "StyleView",
      "_model_name": "DescriptionStyleModel",
      "description_width": "",
      "_view_module": "@jupyter-widgets/base",
      "_model_module_version": "1.5.0",
      "_view_count": null,
      "_view_module_version": "1.2.0",
      "_model_module": "@jupyter-widgets/controls"
     }
    },
    "dce3fd386f7741c6ade55d4292e24f39": {
     "model_module": "@jupyter-widgets/base",
     "model_name": "LayoutModel",
     "state": {
      "_view_name": "LayoutView",
      "grid_template_rows": null,
      "right": null,
      "justify_content": null,
      "_view_module": "@jupyter-widgets/base",
      "overflow": null,
      "_model_module_version": "1.2.0",
      "_view_count": null,
      "flex_flow": null,
      "width": null,
      "min_width": null,
      "border": null,
      "align_items": null,
      "bottom": null,
      "_model_module": "@jupyter-widgets/base",
      "top": null,
      "grid_column": null,
      "overflow_y": null,
      "overflow_x": null,
      "grid_auto_flow": null,
      "grid_area": null,
      "grid_template_columns": null,
      "flex": null,
      "_model_name": "LayoutModel",
      "justify_items": null,
      "grid_row": null,
      "max_height": null,
      "align_content": null,
      "visibility": null,
      "align_self": null,
      "height": null,
      "min_height": null,
      "padding": null,
      "grid_auto_rows": null,
      "grid_gap": null,
      "max_width": null,
      "order": null,
      "_view_module_version": "1.2.0",
      "grid_template_areas": null,
      "object_position": null,
      "object_fit": null,
      "grid_auto_columns": null,
      "margin": null,
      "display": null,
      "left": null
     }
    }
   }
  }
 },
 "cells": [
  {
   "cell_type": "markdown",
   "metadata": {
    "id": "ZW-Y_z1uxK7z"
   },
   "source": [
    "## Cloning repository and installing libraries"
   ]
  },
  {
   "cell_type": "code",
   "metadata": {
    "colab": {
     "base_uri": "https://localhost:8080/"
    },
    "id": "1iBUZc4ynqGR",
    "outputId": "1ff11731-a661-49da-decd-21e31281b3e5"
   },
   "source": [
    "!git clone https://github.com/Ryzhtus/multilingual-bert-ner"
   ],
   "execution_count": null,
   "outputs": [
    {
     "output_type": "stream",
     "text": [
      "Cloning into 'multilingual-bert-ner'...\n",
      "remote: Enumerating objects: 116, done.\u001B[K\n",
      "remote: Counting objects: 100% (116/116), done.\u001B[K\n",
      "remote: Compressing objects: 100% (86/86), done.\u001B[K\n",
      "remote: Total 116 (delta 60), reused 84 (delta 28), pack-reused 0\u001B[K\n",
      "Receiving objects: 100% (116/116), 143.83 KiB | 17.98 MiB/s, done.\n",
      "Resolving deltas: 100% (60/60), done.\n"
     ],
     "name": "stdout"
    }
   ]
  },
  {
   "cell_type": "code",
   "metadata": {
    "colab": {
     "base_uri": "https://localhost:8080/"
    },
    "id": "dP-K9bt-oEST",
    "outputId": "f991731d-54f1-4174-cbae-3bfea15e91c8"
   },
   "source": [
    "!pip install -q transformers\n",
    "!pip install -q sentencepiece\n",
    "!pip install -q seqeval"
   ],
   "execution_count": null,
   "outputs": [
    {
     "output_type": "stream",
     "text": [
      "\u001B[K     |████████████████████████████████| 2.1MB 22.3MB/s \n",
      "\u001B[K     |████████████████████████████████| 901kB 54.0MB/s \n",
      "\u001B[K     |████████████████████████████████| 3.3MB 55.3MB/s \n",
      "\u001B[K     |████████████████████████████████| 1.2MB 20.4MB/s \n",
      "\u001B[K     |████████████████████████████████| 51kB 7.1MB/s \n",
      "\u001B[?25h  Building wheel for seqeval (setup.py) ... \u001B[?25l\u001B[?25hdone\n"
     ],
     "name": "stdout"
    }
   ]
  },
  {
   "cell_type": "markdown",
   "metadata": {
    "id": "0_GAbC9XxQ3b"
   },
   "source": [
    "## Downloading WikiAnn"
   ]
  },
  {
   "cell_type": "code",
   "metadata": {
    "colab": {
     "base_uri": "https://localhost:8080/"
    },
    "id": "4GO4yN30U1lk",
    "outputId": "28ff4297-494a-44d9-8bc1-6d1839b3bc72"
   },
   "source": [
    "!wget https://www.dropbox.com/s/12h3qqog6q4bjve/panx_dataset.tar"
   ],
   "execution_count": null,
   "outputs": [
    {
     "output_type": "stream",
     "text": [
      "--2021-04-21 09:26:43--  https://www.dropbox.com/s/12h3qqog6q4bjve/panx_dataset.tar\n",
      "Resolving www.dropbox.com (www.dropbox.com)... 162.125.6.18, 2620:100:601c:18::a27d:612\n",
      "Connecting to www.dropbox.com (www.dropbox.com)|162.125.6.18|:443... connected.\n",
      "HTTP request sent, awaiting response... 301 Moved Permanently\n",
      "Location: /s/raw/12h3qqog6q4bjve/panx_dataset.tar [following]\n",
      "--2021-04-21 09:26:43--  https://www.dropbox.com/s/raw/12h3qqog6q4bjve/panx_dataset.tar\n",
      "Reusing existing connection to www.dropbox.com:443.\n",
      "HTTP request sent, awaiting response... 302 Found\n",
      "Location: https://uc4aae414b38f1ac60cdc848c202.dl.dropboxusercontent.com/cd/0/inline/BNArFDDsWy5bZ0-GccFULLARmyrZKk6s2mjs-z9fXDkLiPr2Ljfw3MKOv-FklKvlVIHSoPDEX8pXXLLA3yTNxS8URHol-nq1lh8IZBdjqcxjE726msquf2jBNgbftJiQBSfGpKzaV9EwFmC9OCiKROQ4/file# [following]\n",
      "--2021-04-21 09:26:44--  https://uc4aae414b38f1ac60cdc848c202.dl.dropboxusercontent.com/cd/0/inline/BNArFDDsWy5bZ0-GccFULLARmyrZKk6s2mjs-z9fXDkLiPr2Ljfw3MKOv-FklKvlVIHSoPDEX8pXXLLA3yTNxS8URHol-nq1lh8IZBdjqcxjE726msquf2jBNgbftJiQBSfGpKzaV9EwFmC9OCiKROQ4/file\n",
      "Resolving uc4aae414b38f1ac60cdc848c202.dl.dropboxusercontent.com (uc4aae414b38f1ac60cdc848c202.dl.dropboxusercontent.com)... 162.125.6.15, 2620:100:6019:15::a27d:40f\n",
      "Connecting to uc4aae414b38f1ac60cdc848c202.dl.dropboxusercontent.com (uc4aae414b38f1ac60cdc848c202.dl.dropboxusercontent.com)|162.125.6.15|:443... connected.\n",
      "HTTP request sent, awaiting response... 302 Found\n",
      "Location: /cd/0/inline2/BNBbdjWiYW94rzBa2AcJT-W4uyftlZmsAlT_A5ssEv0Y16tYJUV59pDt3BcirALk2CBaExFxWRJ1CfJfLVawXUomIXwLn01jXJbvSAvYbGFN878EHZ-a3LnjikwInGgNxdG2VzO9-uC-_p0CbItQU9lGkdyciO0BKBjNZ9-gA_tXAj3cKO0FF6Zw3OvFS6B_NAQk-fU36wP_L8cGStRoXE4jwJDt1CgWc2VDa0u3sbeG82I4s5DRdmPt2HpY8ziIg7pz-c8veG9BfKFpc5ipoAAvl5y0qNpq-M1KtgWpQdzvOxmhaqRGZHXVTx8qwkhlccsUBCQouQdkYnyUL26AbDW2JpME8Xu25clJrrjNcnLmNd0IPOqKti4tXPnswUNIokA/file [following]\n",
      "--2021-04-21 09:26:44--  https://uc4aae414b38f1ac60cdc848c202.dl.dropboxusercontent.com/cd/0/inline2/BNBbdjWiYW94rzBa2AcJT-W4uyftlZmsAlT_A5ssEv0Y16tYJUV59pDt3BcirALk2CBaExFxWRJ1CfJfLVawXUomIXwLn01jXJbvSAvYbGFN878EHZ-a3LnjikwInGgNxdG2VzO9-uC-_p0CbItQU9lGkdyciO0BKBjNZ9-gA_tXAj3cKO0FF6Zw3OvFS6B_NAQk-fU36wP_L8cGStRoXE4jwJDt1CgWc2VDa0u3sbeG82I4s5DRdmPt2HpY8ziIg7pz-c8veG9BfKFpc5ipoAAvl5y0qNpq-M1KtgWpQdzvOxmhaqRGZHXVTx8qwkhlccsUBCQouQdkYnyUL26AbDW2JpME8Xu25clJrrjNcnLmNd0IPOqKti4tXPnswUNIokA/file\n",
      "Reusing existing connection to uc4aae414b38f1ac60cdc848c202.dl.dropboxusercontent.com:443.\n",
      "HTTP request sent, awaiting response... 200 OK\n",
      "Length: 234126336 (223M) [application/x-tar]\n",
      "Saving to: ‘panx_dataset.tar’\n",
      "\n",
      "panx_dataset.tar    100%[===================>] 223.28M   115MB/s    in 1.9s    \n",
      "\n",
      "2021-04-21 09:26:47 (115 MB/s) - ‘panx_dataset.tar’ saved [234126336/234126336]\n",
      "\n"
     ],
     "name": "stdout"
    }
   ]
  },
  {
   "cell_type": "code",
   "metadata": {
    "colab": {
     "base_uri": "https://localhost:8080/"
    },
    "id": "aywzeu2fU2oU",
    "outputId": "0fdab6cb-57e3-4775-d43a-9402c7c8a64a"
   },
   "source": [
    "!tar -xvf panx_dataset.tar"
   ],
   "execution_count": null,
   "outputs": [
    {
     "output_type": "stream",
     "text": [
      "ace.tar.gz\n",
      "af.tar.gz\n",
      "als.tar.gz\n",
      "am.tar.gz\n",
      "an.tar.gz\n",
      "ang.tar.gz\n",
      "ar.tar.gz\n",
      "arc.tar.gz\n",
      "arz.tar.gz\n",
      "as.tar.gz\n",
      "ast.tar.gz\n",
      "ay.tar.gz\n",
      "az.tar.gz\n",
      "ba.tar.gz\n",
      "bar.tar.gz\n",
      "bat-smg.tar.gz\n",
      "be-x-old.tar.gz\n",
      "be.tar.gz\n",
      "bg.tar.gz\n",
      "bh.tar.gz\n",
      "bn.tar.gz\n",
      "bo.tar.gz\n",
      "br.tar.gz\n",
      "bs.tar.gz\n",
      "ca.tar.gz\n",
      "cbk-zam.tar.gz\n",
      "cdo.tar.gz\n",
      "ce.tar.gz\n",
      "ceb.tar.gz\n",
      "ckb.tar.gz\n",
      "co.tar.gz\n",
      "crh.tar.gz\n",
      "cs.tar.gz\n",
      "csb.tar.gz\n",
      "cv.tar.gz\n",
      "cy.tar.gz\n",
      "da.tar.gz\n",
      "de.tar.gz\n",
      "diq.tar.gz\n",
      "dv.tar.gz\n",
      "el.tar.gz\n",
      "eml.tar.gz\n",
      "en.tar.gz\n",
      "eo.tar.gz\n",
      "es.tar.gz\n",
      "et.tar.gz\n",
      "eu.tar.gz\n",
      "ext.tar.gz\n",
      "fa.tar.gz\n",
      "fi.tar.gz\n",
      "fiu-vro.tar.gz\n",
      "fo.tar.gz\n",
      "fr.tar.gz\n",
      "frr.tar.gz\n",
      "fur.tar.gz\n",
      "fy.tar.gz\n",
      "ga.tar.gz\n",
      "gan.tar.gz\n",
      "gd.tar.gz\n",
      "gl.tar.gz\n",
      "gn.tar.gz\n",
      "gu.tar.gz\n",
      "hak.tar.gz\n",
      "he.tar.gz\n",
      "hi.tar.gz\n",
      "hr.tar.gz\n",
      "hsb.tar.gz\n",
      "hu.tar.gz\n",
      "hy.tar.gz\n",
      "ia.tar.gz\n",
      "id.tar.gz\n",
      "ig.tar.gz\n",
      "ilo.tar.gz\n",
      "io.tar.gz\n",
      "is.tar.gz\n",
      "it.tar.gz\n",
      "ja.tar.gz\n",
      "jbo.tar.gz\n",
      "jv.tar.gz\n",
      "ka.tar.gz\n",
      "kk.tar.gz\n",
      "km.tar.gz\n",
      "kn.tar.gz\n",
      "ko.tar.gz\n",
      "ksh.tar.gz\n",
      "ku.tar.gz\n",
      "ky.tar.gz\n",
      "la.tar.gz\n",
      "lb.tar.gz\n",
      "li.tar.gz\n",
      "lij.tar.gz\n",
      "lmo.tar.gz\n",
      "ln.tar.gz\n",
      "lt.tar.gz\n",
      "lv.tar.gz\n",
      "map-bms.tar.gz\n",
      "mg.tar.gz\n",
      "mhr.tar.gz\n",
      "mi.tar.gz\n",
      "min.tar.gz\n",
      "mk.tar.gz\n",
      "ml.tar.gz\n",
      "mn.tar.gz\n",
      "mr.tar.gz\n",
      "ms.tar.gz\n",
      "mt.tar.gz\n",
      "mwl.tar.gz\n",
      "my.tar.gz\n",
      "mzn.tar.gz\n",
      "nap.tar.gz\n",
      "nds.tar.gz\n",
      "ne.tar.gz\n",
      "nl.tar.gz\n",
      "nn.tar.gz\n",
      "no.tar.gz\n",
      "nov.tar.gz\n",
      "oc.tar.gz\n",
      "or.tar.gz\n",
      "os.tar.gz\n",
      "pa.tar.gz\n",
      "pdc.tar.gz\n",
      "pl.tar.gz\n",
      "pms.tar.gz\n",
      "pnb.tar.gz\n",
      "ps.tar.gz\n",
      "pt.tar.gz\n",
      "qu.tar.gz\n",
      "rm.tar.gz\n",
      "ro.tar.gz\n",
      "ru.tar.gz\n",
      "rw.tar.gz\n",
      "sa.tar.gz\n",
      "sah.tar.gz\n",
      "scn.tar.gz\n",
      "sco.tar.gz\n",
      "sd.tar.gz\n",
      "sh.tar.gz\n",
      "si.tar.gz\n",
      "simple.tar.gz\n",
      "sk.tar.gz\n",
      "sl.tar.gz\n",
      "so.tar.gz\n",
      "sq.tar.gz\n",
      "sr.tar.gz\n",
      "su.tar.gz\n",
      "sv.tar.gz\n",
      "sw.tar.gz\n",
      "szl.tar.gz\n",
      "ta.tar.gz\n",
      "te.tar.gz\n",
      "tg.tar.gz\n",
      "th.tar.gz\n",
      "tk.tar.gz\n",
      "tl.tar.gz\n",
      "tr.tar.gz\n",
      "tt.tar.gz\n",
      "ug.tar.gz\n",
      "uk.tar.gz\n",
      "ur.tar.gz\n",
      "uz.tar.gz\n",
      "vec.tar.gz\n",
      "vep.tar.gz\n",
      "vi.tar.gz\n",
      "vls.tar.gz\n",
      "vo.tar.gz\n",
      "wa.tar.gz\n",
      "war.tar.gz\n",
      "wuu.tar.gz\n",
      "xmf.tar.gz\n",
      "yi.tar.gz\n",
      "yo.tar.gz\n",
      "zea.tar.gz\n",
      "zh-classical.tar.gz\n",
      "zh-min-nan.tar.gz\n",
      "zh-yue.tar.gz\n",
      "zh.tar.gz\n"
     ],
     "name": "stdout"
    }
   ]
  },
  {
   "cell_type": "code",
   "metadata": {
    "colab": {
     "base_uri": "https://localhost:8080/"
    },
    "id": "Pkil0G3eVQYK",
    "outputId": "e4b1dddf-3095-4531-f22f-4e9111a67814"
   },
   "source": [
    "!mkdir lang_en\n",
    "!tar -xvf en.tar.gz -C lang_en\n",
    "\n",
    "!mkdir lang_ru\n",
    "!tar -xvf ru.tar.gz -C lang_ru\n",
    "\n",
    "!mkdir lang_es\n",
    "!tar -xvf es.tar.gz -C lang_es\n",
    "\n",
    "!mkdir lang_fr\n",
    "!tar -xvf fr.tar.gz -C lang_fr\n",
    "\n",
    "!mkdir lang_cs\n",
    "!tar -xvf cs.tar.gz -C lang_cs\n",
    "\n",
    "!mkdir lang_zh\n",
    "!tar -xvf zh.tar.gz -C lang_zh"
   ],
   "execution_count": null,
   "outputs": [
    {
     "output_type": "stream",
     "text": [
      "train\n",
      "dev\n",
      "test\n",
      "train\n",
      "dev\n",
      "test\n",
      "extra\n",
      "train\n",
      "dev\n",
      "test\n",
      "extra\n",
      "train\n",
      "dev\n",
      "test\n",
      "extra\n",
      "train\n",
      "dev\n",
      "test\n",
      "extra\n",
      "train\n",
      "dev\n",
      "test\n"
     ],
     "name": "stdout"
    }
   ]
  },
  {
   "cell_type": "markdown",
   "metadata": {
    "id": "NC_0qvsOxk2J"
   },
   "source": [
    "## Moving to working directory"
   ]
  },
  {
   "cell_type": "code",
   "metadata": {
    "colab": {
     "base_uri": "https://localhost:8080/"
    },
    "id": "J0lvu1plsEOM",
    "outputId": "627244ac-1668-4894-d588-0d429d249ad5"
   },
   "source": [
    "cd /content/multilingual-bert-ner/"
   ],
   "execution_count": null,
   "outputs": [
    {
     "output_type": "stream",
     "text": [
      "/content/multilingual-bert-ner\n"
     ],
     "name": "stdout"
    }
   ]
  },
  {
   "cell_type": "markdown",
   "metadata": {
    "id": "kwjzAjtpVIFC"
   },
   "source": [
    "## mBERT"
   ]
  },
  {
   "cell_type": "code",
   "metadata": {
    "id": "GgodUKyDsJ6q"
   },
   "source": [
    "from multilingual_ner.mBERT.dataset import WikiAnnDataset, create_dataset_and_dataloader, read_data\n",
    "from multilingual_ner.mBERT.train import train_model, test_epoch\n",
    "from multilingual_ner.mBERT.model import BertNER\n",
    "\n",
    "from transformers import BertTokenizer, BertModel\n",
    "\n",
    "import torch \n",
    "import torch.nn as nn\n",
    "import torch.optim as optim\n",
    "\n",
    "import numpy \n",
    "import random\n",
    "from tqdm import tqdm\n",
    "\n",
    "SEED = 42\n",
    "torch.manual_seed(SEED)\n",
    "random.seed(SEED)\n",
    "numpy.random.seed(SEED)"
   ],
   "execution_count": null,
   "outputs": []
  },
  {
   "cell_type": "markdown",
   "metadata": {
    "id": "7rQCi8VGNUjj"
   },
   "source": [
    "### French"
   ]
  },
  {
   "cell_type": "code",
   "metadata": {
    "id": "9z_fUSgko3f6",
    "colab": {
     "base_uri": "https://localhost:8080/",
     "height": 164,
     "referenced_widgets": [
      "7984090c8192434ca96e0cd8128922db",
      "380e0c7be0bc45629424ec1d8987fca9",
      "77efaf0887b14c30be858450fed9bfbc",
      "984b141abe5b4d9ab0ce568cccf503ef",
      "4c409ae41f1647e1b73aeef47c96b720",
      "c0cdb8f0299d48a987595814399f0071",
      "6b0308e396f5456db862095f38746257",
      "8c62e53a7c01411382abce99b5895c55",
      "f7773ead68d64457b14d7e92640f7c73",
      "2c64fe2040ae4bf89dfecbc91e0c3a43",
      "1d9755f35cc64aadb3271b207fe63b90",
      "6a78fce12a184676b158a81519ba9340",
      "27a8f3ff6e4a4ba2ac9f7ebf74388d20",
      "d8ff1860f45f4928a893c0236b54ae86",
      "6cab8c9be1504641bfd9762a6d1a0b08",
      "d368dcff69554f1aa2db229ae06084d6",
      "a9f9ba9fd0ba40d49db8e93a3e2ce4c3",
      "11252bbe44f0434caa38369c394b21f7",
      "b8166a1991dc41459aaa2c46004cd75f",
      "2bd5df501712405e83f261bca6f171f8",
      "5b169b35326f4c5b93da424d30b64f72",
      "74f57cfa2060450e9c8c5b55943ce380",
      "c9d9a99b2e9a4b4ea950617841c0a8b5",
      "6116dcd20eab49769a737f077abdbc63"
     ]
    },
    "outputId": "f1178a3d-a087-490e-ed79-c7500052c02c"
   },
   "source": [
    "TOKENIZER = BertTokenizer.from_pretrained('bert-base-multilingual-cased', do_lower_case=False)\n",
    "DEVICE = 'cuda' if torch.cuda.is_available else 'cpu'\n",
    "EPOCHS = 4\n",
    "BATCH_SIZE = 16\n",
    "\n",
    "fr_train_dataset, fr_train_dataloader = create_dataset_and_dataloader('../lang_fr/train', BATCH_SIZE, TOKENIZER)\n",
    "fr_eval_dataset, fr_eval_dataloader = create_dataset_and_dataloader('../lang_fr/dev', BATCH_SIZE, TOKENIZER)\n",
    "fr_test_dataset, fr_test_dataloader = create_dataset_and_dataloader('../lang_fr/test', BATCH_SIZE, TOKENIZER)"
   ],
   "execution_count": null,
   "outputs": [
    {
     "output_type": "display_data",
     "data": {
      "application/vnd.jupyter.widget-view+json": {
       "model_id": "7984090c8192434ca96e0cd8128922db",
       "version_minor": 0,
       "version_major": 2
      },
      "text/plain": [
       "HBox(children=(FloatProgress(value=0.0, description='Downloading', max=995526.0, style=ProgressStyle(descripti…"
      ]
     },
     "metadata": {
      "tags": []
     }
    },
    {
     "output_type": "stream",
     "text": [
      "\n"
     ],
     "name": "stdout"
    },
    {
     "output_type": "display_data",
     "data": {
      "application/vnd.jupyter.widget-view+json": {
       "model_id": "f7773ead68d64457b14d7e92640f7c73",
       "version_minor": 0,
       "version_major": 2
      },
      "text/plain": [
       "HBox(children=(FloatProgress(value=0.0, description='Downloading', max=29.0, style=ProgressStyle(description_w…"
      ]
     },
     "metadata": {
      "tags": []
     }
    },
    {
     "output_type": "stream",
     "text": [
      "\n"
     ],
     "name": "stdout"
    },
    {
     "output_type": "display_data",
     "data": {
      "application/vnd.jupyter.widget-view+json": {
       "model_id": "a9f9ba9fd0ba40d49db8e93a3e2ce4c3",
       "version_minor": 0,
       "version_major": 2
      },
      "text/plain": [
       "HBox(children=(FloatProgress(value=0.0, description='Downloading', max=1961828.0, style=ProgressStyle(descript…"
      ]
     },
     "metadata": {
      "tags": []
     }
    },
    {
     "output_type": "stream",
     "text": [
      "\n"
     ],
     "name": "stdout"
    }
   ]
  },
  {
   "cell_type": "code",
   "metadata": {
    "colab": {
     "base_uri": "https://localhost:8080/",
     "height": 234,
     "referenced_widgets": [
      "2d3fc242614a49b2bafbbf8ef34a5d50",
      "473102b937c646bd8d15fc2f65e89956",
      "5230ab172c584760b6e854c2e2186b66",
      "c050c722514242878b165fdda9228c5a",
      "b1ad088161c44ecfaa410b83b577acf0",
      "354df7fa02d2449aab838efb3b117646",
      "dc3460b094584f27a386eac25ef63902",
      "8987a149591b4b4cb2c076397bfee56b",
      "091bd2c8702b4dd6b921d8935d49f98c",
      "3f43c5c2bbcc4aca904e058649db239f",
      "c0740d63142a4e8899b054641a1f2b9e",
      "f8d30052896c4bdebce58f5e38612f3e",
      "6f747d7acfef488e88e5c3c5482e40d5",
      "29a3e5287e254db78795bd597f88c52e",
      "f66133048fd84e1abb7144aa1ac6df29",
      "829058de162e4a249f7af3214741f5b8"
     ]
    },
    "id": "-8rCNuoZrTf4",
    "outputId": "3238fd42-69d8-491b-c204-980731a94ac8"
   },
   "source": [
    "classes = len(fr_train_dataset.idx2tag)\n",
    "\n",
    "device = 'cuda' if torch.cuda.is_available() else 'cpu'\n",
    "\n",
    "FrenchBertModel = BertNER(classes, pretrained='bert-base-multilingual-cased').to(device)\n",
    "\n",
    "optimizer = optim.AdamW(FrenchBertModel.parameters(), lr=2e-5)\n",
    "criterion = nn.CrossEntropyLoss(ignore_index=0).to(device)\n",
    "\n",
    "EPOCHS = 4\n",
    "\n",
    "train_model(FrenchBertModel, criterion, optimizer, fr_train_dataloader, fr_eval_dataloader, fr_train_dataset.tag2idx, fr_train_dataset.idx2tag, device, None, EPOCHS)\n",
    "test_epoch(FrenchBertModel, criterion, fr_test_dataloader, fr_train_dataset.tag2idx, fr_train_dataset.idx2tag, device)"
   ],
   "execution_count": null,
   "outputs": [
    {
     "output_type": "display_data",
     "data": {
      "application/vnd.jupyter.widget-view+json": {
       "model_id": "2d3fc242614a49b2bafbbf8ef34a5d50",
       "version_minor": 0,
       "version_major": 2
      },
      "text/plain": [
       "HBox(children=(FloatProgress(value=0.0, description='Downloading', max=625.0, style=ProgressStyle(description_…"
      ]
     },
     "metadata": {
      "tags": []
     }
    },
    {
     "output_type": "stream",
     "text": [
      "\n"
     ],
     "name": "stdout"
    },
    {
     "output_type": "display_data",
     "data": {
      "application/vnd.jupyter.widget-view+json": {
       "model_id": "091bd2c8702b4dd6b921d8935d49f98c",
       "version_minor": 0,
       "version_major": 2
      },
      "text/plain": [
       "HBox(children=(FloatProgress(value=0.0, description='Downloading', max=714314041.0, style=ProgressStyle(descri…"
      ]
     },
     "metadata": {
      "tags": []
     }
    },
    {
     "output_type": "stream",
     "text": [
      "\n",
      "Epoch 1 / 4\n",
      "Train Loss = 0.26600, F1-score = 90.912%, Precision = 86.705%, Recall = 95.549%\n",
      "Valid Loss = 6.55161, F1-score = 12.364%, Precision = 12.152%, Recall = 12.583%\n",
      "Epoch 2 / 4\n",
      "Train Loss = 0.14180, F1-score = 95.548%, Precision = 92.741%, Recall = 98.532%\n",
      "Valid Loss = 6.84714, F1-score = 12.439%, Precision = 11.959%, Recall = 12.959%\n",
      "Epoch 3 / 4\n"
     ],
     "name": "stdout"
    }
   ]
  },
  {
   "cell_type": "markdown",
   "metadata": {
    "id": "EAHQySyXNRxg"
   },
   "source": [
    "### Spanish"
   ]
  },
  {
   "cell_type": "code",
   "metadata": {
    "id": "btQTiB8FIohZ",
    "colab": {
     "base_uri": "https://localhost:8080/",
     "height": 164,
     "referenced_widgets": [
      "e3ce94c3237c4e6eabd186390f14175e",
      "c773d2b41c5b4750882223943c90b4ff",
      "ca76f5c6a6624c509618fbdfd7ce25d3",
      "5ff499396af14878a8c3740d416d4e3c",
      "be87b072bce24938a8fe108e8263a86d",
      "576993b2008641979a8084aed2dce4b8",
      "6766e43b20ee4ecfa9890ed1e785caf9",
      "aa1a80aac8dd4c36bd33ee5bbf4b83ce",
      "845dfa654bf146d79938856d45c4f836",
      "8a1fe25260814fecb4515090ce2c3823",
      "37155dbe89aa4f70a7c0515267da1cdc",
      "173a0487cc0b4a118699adc4f4444d98",
      "3cbf3fbcdbdf435c9cd3f62fe1633e43",
      "3daeef2075974f1a83138063a246dadc",
      "7dcee855af554775807731bcfb01e469",
      "b9d8ac1861a9464aafd7294dcf05f650",
      "a1b92df448474e10a3097f69e6025f89",
      "bbfa33d22fff4834a95613ec3d90566e",
      "bce9c17ed996428a99cccff7ff510546",
      "0181bf590ef14878a6d9b44818e7368f",
      "3845ee11fa0b420683a332fcc3bb4cf1",
      "35511ef8c37945bbbd548326ed1999c1",
      "8fd642a391334073b7fdb694ac85092f",
      "628091116477451fb8197db8133dec48"
     ]
    },
    "outputId": "ec68429f-33a2-4f52-9d50-649784feb131"
   },
   "source": [
    "TOKENIZER = BertTokenizer.from_pretrained('bert-base-multilingual-cased', do_lower_case=False)\n",
    "DEVICE = 'cuda' if torch.cuda.is_available else 'cpu'\n",
    "EPOCHS = 4\n",
    "BATCH_SIZE = 16\n",
    "\n",
    "es_train_dataset, es_train_dataloader = create_dataset_and_dataloader('../lang_es/train', BATCH_SIZE, TOKENIZER)\n",
    "es_eval_dataset, es_eval_dataloader = create_dataset_and_dataloader('../lang_es/dev', BATCH_SIZE, TOKENIZER)\n",
    "es_test_dataset, es_test_dataloader = create_dataset_and_dataloader('../lang_es/test', BATCH_SIZE, TOKENIZER)"
   ],
   "execution_count": null,
   "outputs": [
    {
     "output_type": "display_data",
     "data": {
      "application/vnd.jupyter.widget-view+json": {
       "model_id": "e3ce94c3237c4e6eabd186390f14175e",
       "version_minor": 0,
       "version_major": 2
      },
      "text/plain": [
       "HBox(children=(FloatProgress(value=0.0, description='Downloading', max=995526.0, style=ProgressStyle(descripti…"
      ]
     },
     "metadata": {
      "tags": []
     }
    },
    {
     "output_type": "stream",
     "text": [
      "\n"
     ],
     "name": "stdout"
    },
    {
     "output_type": "display_data",
     "data": {
      "application/vnd.jupyter.widget-view+json": {
       "model_id": "845dfa654bf146d79938856d45c4f836",
       "version_minor": 0,
       "version_major": 2
      },
      "text/plain": [
       "HBox(children=(FloatProgress(value=0.0, description='Downloading', max=29.0, style=ProgressStyle(description_w…"
      ]
     },
     "metadata": {
      "tags": []
     }
    },
    {
     "output_type": "stream",
     "text": [
      "\n"
     ],
     "name": "stdout"
    },
    {
     "output_type": "display_data",
     "data": {
      "application/vnd.jupyter.widget-view+json": {
       "model_id": "a1b92df448474e10a3097f69e6025f89",
       "version_minor": 0,
       "version_major": 2
      },
      "text/plain": [
       "HBox(children=(FloatProgress(value=0.0, description='Downloading', max=1961828.0, style=ProgressStyle(descript…"
      ]
     },
     "metadata": {
      "tags": []
     }
    },
    {
     "output_type": "stream",
     "text": [
      "\n"
     ],
     "name": "stdout"
    }
   ]
  },
  {
   "cell_type": "code",
   "metadata": {
    "colab": {
     "base_uri": "https://localhost:8080/",
     "height": 285,
     "referenced_widgets": [
      "3240cc7faf014d3fab27e619777ab48d",
      "0154e75b85d2400997fc2241525dcae6",
      "df31e1643ad84bb48d253bea7f7ccaea",
      "b5960ac7e32c446f88f45b12c8fa6167",
      "7ec8cc7ee5ed4e2e8dc63da8bad73663",
      "89fbe331900941df9d452438a70b5005",
      "3d6e3eb52d7f4560af90714ecc7e687d",
      "ae97ee7a68534aec9fa4682ac61a8eba",
      "54db3fcc9cc946678da7f40f5bf6a2c6",
      "1f5539203c0d4a878328ac3c557e0bc5",
      "192c0d30385e41f9b57f55fe4b8c8bdf",
      "c968c18ed33948bba9948c579cb8efa4",
      "a3139cab2e8146b8b4349a7bdf09e714",
      "8309f228bd2a4a0c90f3da544a31e950",
      "76072b1da1f9480d8d19a4cb7e80c1cb",
      "1aab0e9ff9564500a94ec866eac3e4e2"
     ]
    },
    "id": "dXyGX9h9Nclt",
    "outputId": "0e32a63e-fbb9-4f86-a7d7-a41928110fe3"
   },
   "source": [
    "classes = len(es_train_dataset.idx2tag)\n",
    "\n",
    "device = 'cuda' if torch.cuda.is_available() else 'cpu'\n",
    "\n",
    "SpanishBertModel = BertNER(classes, pretrained='bert-base-multilingual-cased').to(device)\n",
    "\n",
    "optimizer = optim.AdamW(SpanishBertModel.parameters(), lr=2e-5)\n",
    "criterion = nn.CrossEntropyLoss(ignore_index=0).to(device)\n",
    "\n",
    "EPOCHS = 4\n",
    "\n",
    "train_model(SpanishBertModel, criterion, optimizer, es_train_dataloader, es_eval_dataloader, es_train_dataset.tag2idx, es_train_dataset.idx2tag, device, None, EPOCHS)\n",
    "test_epoch(SpanishBertModel, criterion, es_test_dataloader, es_train_dataset.tag2idx, es_train_dataset.idx2tag, device)"
   ],
   "execution_count": null,
   "outputs": [
    {
     "output_type": "display_data",
     "data": {
      "application/vnd.jupyter.widget-view+json": {
       "model_id": "3240cc7faf014d3fab27e619777ab48d",
       "version_minor": 0,
       "version_major": 2
      },
      "text/plain": [
       "HBox(children=(FloatProgress(value=0.0, description='Downloading', max=625.0, style=ProgressStyle(description_…"
      ]
     },
     "metadata": {
      "tags": []
     }
    },
    {
     "output_type": "stream",
     "text": [
      "\n"
     ],
     "name": "stdout"
    },
    {
     "output_type": "display_data",
     "data": {
      "application/vnd.jupyter.widget-view+json": {
       "model_id": "54db3fcc9cc946678da7f40f5bf6a2c6",
       "version_minor": 0,
       "version_major": 2
      },
      "text/plain": [
       "HBox(children=(FloatProgress(value=0.0, description='Downloading', max=714314041.0, style=ProgressStyle(descri…"
      ]
     },
     "metadata": {
      "tags": []
     }
    },
    {
     "output_type": "stream",
     "text": [
      "\n",
      "Epoch 1 / 4\n",
      "Train Loss = 0.22524, F1-score = 91.600%, Precision = 87.200%, Recall = 96.468%\n",
      "Valid Loss = 1.78996, F1-score = 52.032%, Precision = 35.568%, Recall = 96.868%\n",
      "Epoch 2 / 4\n",
      "Train Loss = 0.12184, F1-score = 95.785%, Precision = 92.733%, Recall = 99.044%\n",
      "Valid Loss = 2.03237, F1-score = 52.257%, Precision = 35.712%, Recall = 97.365%\n",
      "Epoch 3 / 4\n",
      "Train Loss = 0.08422, F1-score = 97.293%, Precision = 95.250%, Recall = 99.427%\n",
      "Valid Loss = 2.08265, F1-score = 52.127%, Precision = 35.566%, Recall = 97.554%\n",
      "Epoch 4 / 4\n"
     ],
     "name": "stdout"
    }
   ]
  },
  {
   "cell_type": "markdown",
   "metadata": {
    "id": "5fDEkhpYOMdE"
   },
   "source": [
    "### English"
   ]
  },
  {
   "cell_type": "code",
   "metadata": {
    "id": "KSRJt0pLNpsD",
    "colab": {
     "base_uri": "https://localhost:8080/",
     "height": 164,
     "referenced_widgets": [
      "14ba7f56b54144b1bd58b785c7332f6c",
      "3fc403636a1c4ab5ab55fe5ea0613563",
      "e307d57157704d889ded7067e99e204a",
      "b3f433d794ef4394900372c0b3d38091",
      "790c171d0ded4f3c94b09372de5bb281",
      "f8860874d8d04862bdaf5369a6c7c68b",
      "85d2aa8ed23c442190b027384bc3f02e",
      "39ded89ea516477782a7b0418779a0aa",
      "b5a777f582a4419183cbf9adb9f3a7c9",
      "0f0f5e47af5248939d2a9df1d8a2ed1c",
      "956257293b274d4b891893149274d72d",
      "f1a7b9e767ac49989cfe18784e394ea4",
      "deb1986e300b4ccfb4c49c5c2ba6c470",
      "36ad4b646eb040cd90747fb3fa5aa9ae",
      "b46b352bb3af45f1a3b458cb1c238f17",
      "2ee244b87e98415f80f5f40594a03cdf",
      "d6d18b8515d54e37be44fa9502ff6584",
      "ec3787fbbb794699ad3e9538c2b879b9",
      "74d691cfad864e5497f95bf364a059db",
      "279fae22b04640c998768c8439f01020",
      "c3ce40b539614c1b8687a2a68a02b559",
      "445454375a4c43af8b63de2bd31fcbef",
      "81b84afac2bd4484b10b3aa03ab36a00",
      "dce3fd386f7741c6ade55d4292e24f39"
     ]
    },
    "outputId": "c2f4d059-8fb4-4cda-dd1e-c7ea4248a1c7"
   },
   "source": [
    "TOKENIZER = BertTokenizer.from_pretrained('bert-base-multilingual-cased', do_lower_case=False)\n",
    "DEVICE = 'cuda' if torch.cuda.is_available else 'cpu'\n",
    "EPOCHS = 4\n",
    "BATCH_SIZE = 16\n",
    "\n",
    "en_train_dataset, en_train_dataloader = create_dataset_and_dataloader('../lang_en/train', BATCH_SIZE, TOKENIZER)\n",
    "en_eval_dataset, en_eval_dataloader = create_dataset_and_dataloader('../lang_en/dev', BATCH_SIZE, TOKENIZER)\n",
    "en_test_dataset, en_test_dataloader = create_dataset_and_dataloader('../lang_en/test', BATCH_SIZE, TOKENIZER)"
   ],
   "execution_count": null,
   "outputs": [
    {
     "output_type": "display_data",
     "data": {
      "application/vnd.jupyter.widget-view+json": {
       "model_id": "14ba7f56b54144b1bd58b785c7332f6c",
       "version_minor": 0,
       "version_major": 2
      },
      "text/plain": [
       "HBox(children=(FloatProgress(value=0.0, description='Downloading', max=995526.0, style=ProgressStyle(descripti…"
      ]
     },
     "metadata": {
      "tags": []
     }
    },
    {
     "output_type": "stream",
     "text": [
      "\n"
     ],
     "name": "stdout"
    },
    {
     "output_type": "display_data",
     "data": {
      "application/vnd.jupyter.widget-view+json": {
       "model_id": "b5a777f582a4419183cbf9adb9f3a7c9",
       "version_minor": 0,
       "version_major": 2
      },
      "text/plain": [
       "HBox(children=(FloatProgress(value=0.0, description='Downloading', max=29.0, style=ProgressStyle(description_w…"
      ]
     },
     "metadata": {
      "tags": []
     }
    },
    {
     "output_type": "stream",
     "text": [
      "\n"
     ],
     "name": "stdout"
    },
    {
     "output_type": "display_data",
     "data": {
      "application/vnd.jupyter.widget-view+json": {
       "model_id": "d6d18b8515d54e37be44fa9502ff6584",
       "version_minor": 0,
       "version_major": 2
      },
      "text/plain": [
       "HBox(children=(FloatProgress(value=0.0, description='Downloading', max=1961828.0, style=ProgressStyle(descript…"
      ]
     },
     "metadata": {
      "tags": []
     }
    },
    {
     "output_type": "stream",
     "text": [
      "\n"
     ],
     "name": "stdout"
    }
   ]
  },
  {
   "cell_type": "code",
   "metadata": {
    "id": "dPLkTyfphEiW"
   },
   "source": [
    "# ids to drop because of the size of sentence's tokens, that doesn't fit into BERT's 512 bound \n",
    "\n",
    "ids_to_drop_train = [1721, 9967, 9966]"
   ],
   "execution_count": null,
   "outputs": []
  },
  {
   "cell_type": "code",
   "metadata": {
    "id": "sh8rrxk2hBsn"
   },
   "source": [
    "for idx in ids_to_drop_train:\n",
    "    en_train_dataset.sentences.pop(idx)\n",
    "    en_train_dataset.sentences_tags.pop(idx)"
   ],
   "execution_count": null,
   "outputs": []
  },
  {
   "cell_type": "code",
   "metadata": {
    "id": "cAr0NqgyhIMV"
   },
   "source": [
    "from torch.utils.data import DataLoader\n",
    "\n",
    "en_train_dataloader = DataLoader(en_train_dataset, BATCH_SIZE, collate_fn=en_train_dataset.paddings)\n",
    "en_eval_dataloader = DataLoader(en_eval_dataset, BATCH_SIZE, collate_fn=en_eval_dataset.paddings)\n",
    "en_test_dataloader = DataLoader(en_test_dataset, BATCH_SIZE, collate_fn=en_test_dataset.paddings)"
   ],
   "execution_count": null,
   "outputs": []
  },
  {
   "cell_type": "code",
   "metadata": {
    "id": "CmaQ1tiZOTU7",
    "colab": {
     "base_uri": "https://localhost:8080/"
    },
    "outputId": "8c4ef5fe-1135-402b-8c77-25952d1b2122"
   },
   "source": [
    "classes = len(en_train_dataset.idx2tag)\n",
    "\n",
    "device = 'cuda' if torch.cuda.is_available() else 'cpu'\n",
    "\n",
    "EnglishBertModel = BertNER(classes, pretrained='bert-base-multilingual-cased').to(device)\n",
    "\n",
    "optimizer = optim.AdamW(EnglishBertModel.parameters(), lr=2e-6)\n",
    "criterion = nn.CrossEntropyLoss(ignore_index=0).to(device)\n",
    "\n",
    "EPOCHS = 4\n",
    "\n",
    "train_model(EnglishBertModel, criterion, optimizer, en_train_dataloader, en_eval_dataloader, en_train_dataset.tag2idx, en_train_dataset.idx2tag, device, None, EPOCHS)\n",
    "test_epoch(EnglishBertModel, criterion, en_test_dataloader, en_train_dataset.tag2idx, en_train_dataset.idx2tag, device)"
   ],
   "execution_count": null,
   "outputs": [
    {
     "output_type": "stream",
     "text": [
      "[1 / 4] Train: Loss = 0.57039, F1-score = 76.55%: 100%|██████████| 1250/1250 [04:06<00:00,  5.07it/s]\n",
      "[1 / 4] Eval : Loss = 0.64806, F1-score = 77.19%: 100%|██████████| 625/625 [00:23<00:00, 26.14it/s]\n",
      "[2 / 4] Train: Loss = 0.31128, F1-score = 88.67%: 100%|██████████| 1250/1250 [04:06<00:00,  5.07it/s]\n",
      "[2 / 4] Eval : Loss = 0.61725, F1-score = 79.13%: 100%|██████████| 625/625 [00:23<00:00, 26.09it/s]\n",
      "[3 / 4] Train: Loss = 0.26380, F1-score = 90.48%: 100%|██████████| 1250/1250 [04:06<00:00,  5.07it/s]\n",
      "[3 / 4] Eval : Loss = 0.61288, F1-score = 79.81%: 100%|██████████| 625/625 [00:23<00:00, 26.09it/s]\n",
      "[4 / 4] Train: Loss = 0.23520, F1-score = 91.55%: 100%|██████████| 1250/1250 [04:06<00:00,  5.07it/s]\n",
      "[4 / 4] Eval : Loss = 0.60848, F1-score = 80.26%: 100%|██████████| 625/625 [00:23<00:00, 26.26it/s]\n",
      "[Final] Test : Loss = 0.60306, F1-score = 80.18%: 100%|██████████| 625/625 [00:23<00:00, 26.31it/s]\n"
     ],
     "name": "stderr"
    }
   ]
  },
  {
   "cell_type": "markdown",
   "metadata": {
    "id": "3_3dhgIfOc_J"
   },
   "source": [
    "### Russian"
   ]
  },
  {
   "cell_type": "code",
   "metadata": {
    "id": "BY0SsBuQOe4x"
   },
   "source": [
    "TOKENIZER = BertTokenizer.from_pretrained('bert-base-multilingual-cased', do_lower_case=False)\n",
    "DEVICE = 'cuda' if torch.cuda.is_available else 'cpu'\n",
    "EPOCHS = 4\n",
    "BATCH_SIZE = 16\n",
    "\n",
    "ru_train_dataset, ru_train_dataloader = create_dataset_and_dataloader('../lang_ru/train', BATCH_SIZE, TOKENIZER)\n",
    "ru_eval_dataset, ru_eval_dataloader = create_dataset_and_dataloader('../lang_ru/dev', BATCH_SIZE, TOKENIZER)\n",
    "ru_test_dataset, ru_test_dataloader = create_dataset_and_dataloader('../lang_ru/test', BATCH_SIZE, TOKENIZER)"
   ],
   "execution_count": null,
   "outputs": []
  },
  {
   "cell_type": "code",
   "metadata": {
    "id": "-FhCa7b6mLZd",
    "colab": {
     "base_uri": "https://localhost:8080/"
    },
    "outputId": "22034bc4-27b9-480c-cc35-7e3b289aeed6"
   },
   "source": [
    "ru_extra_sentences, ru_extra_tags = read_data('../lang_ru/extra')\n",
    "\n",
    "from collections import Counter\n",
    "import numpy as np\n",
    "\n",
    "dataset_tags_length = {'I-PER': [], 'I-LOC': [], 'I-ORG': []}\n",
    "PER_LOC = 0\n",
    "PER_ORG = 0\n",
    "LOC_ORG = 0\n",
    "PER_LOC_ORG = 0\n",
    "PER_ = 0\n",
    "LOC_ = 0\n",
    "ORG_ = 0\n",
    "O_ = 0\n",
    "\n",
    "PER_LOC_IDS = []\n",
    "PER_ORG_IDS = []\n",
    "LOC_ORG_IDS = []\n",
    "PER_LOC_ORG_IDS = []\n",
    "PER_IDS = []\n",
    "ORG_IDS = []\n",
    "LOC_IDS = []\n",
    "O_IDS = []\n",
    "\n",
    "for item in range(len(ru_extra_tags)):\n",
    "    tags_counter = Counter()\n",
    "    for tag in ru_extra_tags[item]:\n",
    "        tags_counter[tag] += 1\n",
    "    \n",
    "    if tags_counter['I-PER'] > 0 and tags_counter['I-LOC'] > 0 and tags_counter['I-ORG'] > 0:\n",
    "        PER_LOC_ORG += 1\n",
    "        PER_LOC_ORG_IDS.append(item)\n",
    "\n",
    "    if tags_counter['I-PER'] > 0 and tags_counter['I-LOC'] > 0 and tags_counter['I-ORG'] == 0:\n",
    "        PER_LOC += 1\n",
    "        PER_LOC_IDS.append(item)\n",
    "\n",
    "    if tags_counter['I-PER'] > 0 and tags_counter['I-LOC'] == 0 and tags_counter['I-ORG'] > 0:\n",
    "        PER_ORG += 1\n",
    "        PER_ORG_IDS.append(item)\n",
    "    \n",
    "    if tags_counter['I-PER'] == 0 and tags_counter['I-LOC'] > 0 and tags_counter['I-ORG'] > 0:\n",
    "        LOC_ORG += 1   \n",
    "        LOC_ORG_IDS.append(item)\n",
    "\n",
    "    if tags_counter['I-PER'] >= 2 and tags_counter['I-LOC'] == 0 and tags_counter['I-ORG'] == 0:\n",
    "        PER_ += 1\n",
    "        PER_IDS.append(item)\n",
    "\n",
    "    if tags_counter['I-PER'] == 0 and tags_counter['I-LOC'] >= 2 and tags_counter['I-ORG'] == 0:\n",
    "        LOC_ += 1\n",
    "        LOC_IDS.append(item)\n",
    "\n",
    "    if tags_counter['I-PER'] == 0 and tags_counter['I-LOC'] == 0 and tags_counter['I-ORG'] >= 2:\n",
    "        ORG_ += 1\n",
    "        ORG_IDS.append(item)\n",
    "    \n",
    "    if tags_counter['I-PER'] == 0 and tags_counter['I-LOC'] == 0 and tags_counter['I-ORG'] == 0:\n",
    "        O_ += 1\n",
    "        O_IDS.append(item)\n",
    "\n",
    "    dataset_tags_length['I-PER'].append(tags_counter['I-PER'])\n",
    "    dataset_tags_length['I-LOC'].append(tags_counter['I-LOC'])\n",
    "    dataset_tags_length['I-ORG'].append(tags_counter['I-ORG'])\n",
    "\n",
    "PER_FILTERED = np.array([value for value in dataset_tags_length['I-PER'] if value != 0])\n",
    "LOC_FILTERED = np.array([value for value in dataset_tags_length['I-LOC'] if value != 0])\n",
    "ORG_FILTERED = np.array([value for value in dataset_tags_length['I-ORG'] if value != 0])\n",
    "\n",
    "PER = np.array(dataset_tags_length['I-PER'])\n",
    "LOC = np.array(dataset_tags_length['I-LOC'])\n",
    "ORG = np.array(dataset_tags_length['I-ORG'])\n",
    "\n",
    "print('I-PER All I-Tags except 0:', PER_FILTERED.sum(), 'I-PER Length Median:', np.median(PER), 'I-PER Filtred Length Median:', np.median(PER_FILTERED))\n",
    "print('I-LOC All I-Tags except 0:', LOC_FILTERED.sum(),'I-LOC Length Median:', np.median(LOC), 'I-LOC Filtred Length Median:', np.median(LOC_FILTERED))\n",
    "print('I-ORG All I-Tags except 0:', ORG_FILTERED.sum(),'I-ORG Length Median:', np.median(ORG), 'I-ORG Filtred Length Median:', np.median(ORG_FILTERED))\n",
    "print('Amount of Sentences PER:',  len(PER_FILTERED))\n",
    "print('Amount of Sentences LOC:',  len(LOC_FILTERED))\n",
    "print('Amount of Sentences ORG:',  len(ORG_FILTERED))\n",
    "print('PER-LOC-ORG:', PER_LOC_ORG)\n",
    "print('PER-LOC:', PER_LOC)\n",
    "print('PER-ORG:', PER_ORG)\n",
    "print('LOC-ORG:', LOC_ORG)\n",
    "print('PER:', PER_)\n",
    "print('LOC:', LOC_)\n",
    "print('ORG:', ORG_)\n",
    "print('O', O_)"
   ],
   "execution_count": null,
   "outputs": [
    {
     "output_type": "stream",
     "text": [
      "I-PER All I-Tags except 0: 559319 I-PER Length Median: 0.0 I-PER Filtred Length Median: 2.0\n",
      "I-LOC All I-Tags except 0: 227810 I-LOC Length Median: 0.0 I-LOC Filtred Length Median: 2.0\n",
      "I-ORG All I-Tags except 0: 562644 I-ORG Length Median: 0.0 I-ORG Filtred Length Median: 2.0\n",
      "Amount of Sentences PER: 243186\n",
      "Amount of Sentences LOC: 103386\n",
      "Amount of Sentences ORG: 199172\n",
      "PER-LOC-ORG: 46\n",
      "PER-LOC: 678\n",
      "PER-ORG: 4087\n",
      "LOC-ORG: 2073\n",
      "PER: 204550\n",
      "LOC: 59705\n",
      "ORG: 141525\n",
      "O 190350\n"
     ],
     "name": "stdout"
    }
   ]
  },
  {
   "cell_type": "code",
   "metadata": {
    "id": "4uqzh7t-X91j"
   },
   "source": [
    "new_ru_train_sentences = []\n",
    "new_ru_train_tags = []\n",
    "\n",
    "for i in range(111):\n",
    "    item = PER_LOC_IDS.pop(i)\n",
    "    new_ru_train_sentences.append(ru_extra_sentences[item])\n",
    "    new_ru_train_tags.append(ru_extra_tags[item])\n",
    "    \n",
    "for i in range(746):\n",
    "    item = PER_ORG_IDS.pop(i)\n",
    "    new_ru_train_sentences.append(ru_extra_sentences[item])\n",
    "    new_ru_train_tags.append(ru_extra_tags[item])\n",
    "\n",
    "for i in range(427):\n",
    "    item = LOC_ORG_IDS.pop(i)\n",
    "    new_ru_train_sentences.append(ru_extra_sentences[item])\n",
    "    new_ru_train_tags.append(ru_extra_tags[item])\n",
    "\n",
    "for i in range(15):\n",
    "    item = PER_LOC_ORG_IDS.pop(i)\n",
    "    new_ru_train_sentences.append(ru_extra_sentences[item])\n",
    "    new_ru_train_tags.append(ru_extra_tags[item])\n",
    "\n",
    "for item in range(0, 4000):\n",
    "    new_ru_train_sentences.append(ru_extra_sentences[PER_IDS[item]])\n",
    "    new_ru_train_tags.append(ru_extra_tags[PER_IDS[item]])\n",
    "    new_ru_train_sentences.append(ru_extra_sentences[LOC_IDS[item]])\n",
    "    new_ru_train_tags.append(ru_extra_tags[LOC_IDS[item]])\n",
    "    new_ru_train_sentences.append(ru_extra_sentences[ORG_IDS[item]])\n",
    "    new_ru_train_tags.append(ru_extra_tags[ORG_IDS[item]])\n",
    "    new_ru_train_sentences.append(ru_extra_sentences[O_IDS[item]])\n",
    "    new_ru_train_tags.append(ru_extra_tags[O_IDS[item]])\n",
    "    PER_IDS.pop(item)\n",
    "    ORG_IDS.pop(item)\n",
    "    LOC_IDS.pop(item)\n",
    "    O_IDS.pop(item)"
   ],
   "execution_count": null,
   "outputs": []
  },
  {
   "cell_type": "code",
   "metadata": {
    "id": "zS7ZnnyTiJH-"
   },
   "source": [
    "new_ru_eval_sentences = []\n",
    "new_ru_eval_tags = []\n",
    "\n",
    "for i in range(46):\n",
    "    item = PER_LOC_IDS.pop(i)\n",
    "    new_ru_eval_sentences.append(ru_extra_sentences[item])\n",
    "    new_ru_eval_tags.append(ru_extra_tags[item])\n",
    "    \n",
    "for i in range(418):\n",
    "    item = PER_ORG_IDS.pop(i)\n",
    "    new_ru_eval_sentences.append(ru_extra_sentences[item])\n",
    "    new_ru_eval_tags.append(ru_extra_tags[item])\n",
    "\n",
    "for i in range(210):\n",
    "    item = LOC_ORG_IDS.pop(i)\n",
    "    new_ru_eval_sentences.append(ru_extra_sentences[item])\n",
    "    new_ru_eval_tags.append(ru_extra_tags[item])\n",
    "\n",
    "for i in range(11):\n",
    "    item = PER_LOC_ORG_IDS.pop(i)\n",
    "    new_ru_eval_sentences.append(ru_extra_sentences[item])\n",
    "    new_ru_eval_tags.append(ru_extra_tags[item])\n",
    "\n",
    "for item in range(0, 4300):\n",
    "    new_ru_eval_sentences.append(ru_extra_sentences[PER_IDS[item]])\n",
    "    new_ru_eval_tags.append(ru_extra_tags[PER_IDS[item]])\n",
    "    new_ru_eval_sentences.append(ru_extra_sentences[LOC_IDS[item]])\n",
    "    new_ru_eval_tags.append(ru_extra_tags[LOC_IDS[item]])\n",
    "    new_ru_eval_sentences.append(ru_extra_sentences[ORG_IDS[item]])\n",
    "    new_ru_eval_tags.append(ru_extra_tags[ORG_IDS[item]])\n",
    "    new_ru_eval_sentences.append(ru_extra_sentences[O_IDS[item]])\n",
    "    new_ru_eval_tags.append(ru_extra_tags[O_IDS[item]])\n",
    "    PER_IDS.pop(item)\n",
    "    ORG_IDS.pop(item)\n",
    "    LOC_IDS.pop(item)\n",
    "    O_IDS.pop(item)"
   ],
   "execution_count": null,
   "outputs": []
  },
  {
   "cell_type": "code",
   "metadata": {
    "id": "HGf5rbK5iMh3"
   },
   "source": [
    "new_ru_test_sentences = []\n",
    "new_ru_test_tags = []\n",
    "\n",
    "for i in range(45):\n",
    "    item = PER_LOC_IDS.pop(i)\n",
    "    new_ru_test_sentences.append(ru_extra_sentences[item])\n",
    "    new_ru_test_tags.append(ru_extra_tags[item])\n",
    "    \n",
    "for i in range(406):\n",
    "    item = PER_ORG_IDS.pop(i)\n",
    "    new_ru_test_sentences.append(ru_extra_sentences[item])\n",
    "    new_ru_test_tags.append(ru_extra_tags[item])\n",
    "\n",
    "for i in range(245):\n",
    "    item = LOC_ORG_IDS.pop(i)\n",
    "    new_ru_test_sentences.append(ru_extra_sentences[item])\n",
    "    new_ru_test_tags.append(ru_extra_tags[item])\n",
    "\n",
    "for i in range(8):\n",
    "    item = PER_LOC_ORG_IDS.pop(i)\n",
    "    new_ru_test_sentences.append(ru_extra_sentences[item])\n",
    "    new_ru_test_tags.append(ru_extra_tags[item])\n",
    "\n",
    "for item in range(0, 4300):\n",
    "    new_ru_test_sentences.append(ru_extra_sentences[PER_IDS[item]])\n",
    "    new_ru_test_tags.append(ru_extra_tags[PER_IDS[item]])\n",
    "    new_ru_test_sentences.append(ru_extra_sentences[LOC_IDS[item]])\n",
    "    new_ru_test_tags.append(ru_extra_tags[LOC_IDS[item]])\n",
    "    new_ru_test_sentences.append(ru_extra_sentences[ORG_IDS[item]])\n",
    "    new_ru_test_tags.append(ru_extra_tags[ORG_IDS[item]])\n",
    "    new_ru_test_sentences.append(ru_extra_sentences[O_IDS[item]])\n",
    "    new_ru_test_tags.append(ru_extra_tags[O_IDS[item]])\n",
    "    PER_IDS.pop(item)\n",
    "    ORG_IDS.pop(item)\n",
    "    LOC_IDS.pop(item)\n",
    "    O_IDS.pop(item)"
   ],
   "execution_count": null,
   "outputs": []
  },
  {
   "cell_type": "code",
   "metadata": {
    "id": "DB4xWVNNYKzi"
   },
   "source": [
    "from torch.utils.data import DataLoader\n",
    "\n",
    "ru_train_extra_dataset = WikiAnnDataset(new_ru_train_sentences, new_ru_train_tags, TOKENIZER)\n",
    "ru_eval_extra_dataset = WikiAnnDataset(new_ru_eval_sentences, new_ru_eval_tags, TOKENIZER)\n",
    "ru_test_extra_dataset = WikiAnnDataset(new_ru_test_sentences, new_ru_test_tags, TOKENIZER)\n",
    "ru_train_extra_dataloader = DataLoader(ru_train_extra_dataset, BATCH_SIZE, collate_fn=ru_train_extra_dataset.paddings)\n",
    "ru_eval_extra_dataloader = DataLoader(ru_eval_extra_dataset, BATCH_SIZE, collate_fn=ru_train_extra_dataset.paddings)\n",
    "ru_test_extra_dataloader = DataLoader(ru_test_extra_dataset, BATCH_SIZE, collate_fn=ru_train_extra_dataset.paddings)"
   ],
   "execution_count": null,
   "outputs": []
  },
  {
   "cell_type": "code",
   "metadata": {
    "id": "D9MTEMLFOkZJ",
    "colab": {
     "base_uri": "https://localhost:8080/"
    },
    "outputId": "e92d4c53-b6d9-4c32-eb02-48e10f3adeeb"
   },
   "source": [
    "classes = len(ru_train_dataset.idx2tag)\n",
    "\n",
    "device = 'cuda' if torch.cuda.is_available() else 'cpu'\n",
    "\n",
    "RussianBertModel = BertNER(classes, pretrained='bert-base-multilingual-cased').to(device)\n",
    "\n",
    "optimizer = optim.AdamW(RussianBertModel.parameters(), lr=2e-5)\n",
    "criterion = nn.CrossEntropyLoss(ignore_index=0).to(device)\n",
    "\n",
    "EPOCHS = 4\n",
    "\n",
    "train_model(RussianBertModel, criterion, optimizer, ru_train_extra_dataloader, ru_eval_extra_dataloader, ru_train_extra_dataset.tag2idx, ru_train_extra_dataset.idx2tag, device, None, EPOCHS)\n",
    "test_epoch(RussianBertModel, criterion, ru_test_extra_dataloader, ru_train_extra_dataset.tag2idx, ru_train_extra_dataset.idx2tag, device)"
   ],
   "execution_count": null,
   "outputs": [
    {
     "output_type": "stream",
     "text": [
      "[1 / 4] Train: Loss = 0.30935, F1-score = 88.92%: 100%|██████████| 1082/1082 [03:49<00:00,  4.71it/s]\n",
      "[1 / 4] Eval : Loss = 0.20530, F1-score = 93.69%: 100%|██████████| 1118/1118 [00:49<00:00, 22.70it/s]\n",
      "[2 / 4] Train: Loss = 0.17022, F1-score = 94.70%: 100%|██████████| 1082/1082 [03:49<00:00,  4.72it/s]\n",
      "[2 / 4] Eval : Loss = 0.19457, F1-score = 94.33%: 100%|██████████| 1118/1118 [00:49<00:00, 22.70it/s]\n",
      "[3 / 4] Train: Loss = 0.11604, F1-score = 96.54%: 100%|██████████| 1082/1082 [03:48<00:00,  4.74it/s]\n",
      "[3 / 4] Eval : Loss = 0.22249, F1-score = 94.08%: 100%|██████████| 1118/1118 [00:49<00:00, 22.71it/s]\n",
      "[4 / 4] Train: Loss = 0.09036, F1-score = 97.34%: 100%|██████████| 1082/1082 [03:47<00:00,  4.75it/s]\n",
      "[4 / 4] Eval : Loss = 0.25795, F1-score = 94.08%: 100%|██████████| 1118/1118 [00:49<00:00, 22.72it/s]\n",
      "[Final] Test : Loss = 0.25038, F1-score = 94.24%: 100%|██████████| 1119/1119 [00:49<00:00, 22.74it/s]\n"
     ],
     "name": "stderr"
    }
   ]
  },
  {
   "cell_type": "markdown",
   "metadata": {
    "id": "q00XKKILbd5V"
   },
   "source": [
    "### Czech"
   ]
  },
  {
   "cell_type": "code",
   "metadata": {
    "id": "hkWEhXoUbfuA"
   },
   "source": [
    "TOKENIZER = BertTokenizer.from_pretrained('bert-base-multilingual-cased', do_lower_case=False)\n",
    "DEVICE = 'cuda' if torch.cuda.is_available else 'cpu'\n",
    "EPOCHS = 4\n",
    "BATCH_SIZE = 16\n",
    "\n",
    "cs_train_dataset, cs_train_dataloader = create_dataset_and_dataloader('../lang_cs/train', BATCH_SIZE, TOKENIZER)\n",
    "cs_eval_dataset, cs_eval_dataloader = create_dataset_and_dataloader('../lang_cs/dev', BATCH_SIZE, TOKENIZER)\n",
    "cs_test_dataset, cs_test_dataloader = create_dataset_and_dataloader('../lang_cs/test', BATCH_SIZE, TOKENIZER)"
   ],
   "execution_count": null,
   "outputs": []
  },
  {
   "cell_type": "code",
   "metadata": {
    "colab": {
     "base_uri": "https://localhost:8080/"
    },
    "id": "JwTQihDTd2mQ",
    "outputId": "a9c36de6-8d62-4eae-bd4e-a196e79b6e92"
   },
   "source": [
    "classes = len(cs_train_dataset.idx2tag)\n",
    "\n",
    "device = 'cuda' if torch.cuda.is_available() else 'cpu'\n",
    "\n",
    "CzechBertModel = BertNER(classes, pretrained='bert-base-multilingual-cased').to(device)\n",
    "\n",
    "optimizer = optim.AdamW(CzechBertModel.parameters(), lr=2e-6)\n",
    "criterion = nn.CrossEntropyLoss(ignore_index=0).to(device)\n",
    "\n",
    "EPOCHS = 4\n",
    "\n",
    "train_model(CzechBertModel, criterion, optimizer, cs_train_dataloader, cs_eval_dataloader, cs_train_dataset.tag2idx, cs_train_dataset.idx2tag, device, None, EPOCHS)\n",
    "test_epoch(CzechBertModel, criterion, cs_test_dataloader, cs_train_dataset.tag2idx, cs_train_dataset.idx2tag, device)"
   ],
   "execution_count": null,
   "outputs": [
    {
     "output_type": "stream",
     "text": [
      "[1 / 4] Train: Loss = 0.42365, F1-score = 78.73%: 100%|██████████| 1250/1250 [04:24<00:00,  4.73it/s]\n",
      "[1 / 4] Eval : Loss = 0.62413, F1-score = 76.63%: 100%|██████████| 625/625 [00:29<00:00, 21.44it/s]\n",
      "[2 / 4] Train: Loss = 0.18269, F1-score = 91.94%: 100%|██████████| 1250/1250 [04:31<00:00,  4.61it/s]\n",
      "[2 / 4] Eval : Loss = 0.63269, F1-score = 78.94%: 100%|██████████| 625/625 [00:29<00:00, 21.16it/s]\n",
      "[3 / 4] Train: Loss = 0.13935, F1-score = 93.96%: 100%|██████████| 1250/1250 [04:31<00:00,  4.60it/s]\n",
      "[3 / 4] Eval : Loss = 0.64739, F1-score = 79.96%: 100%|██████████| 625/625 [00:29<00:00, 21.25it/s]\n",
      "[4 / 4] Train: Loss = 0.11638, F1-score = 95.10%: 100%|██████████| 1250/1250 [04:32<00:00,  4.59it/s]\n",
      "[4 / 4] Eval : Loss = 0.67454, F1-score = 80.30%: 100%|██████████| 625/625 [00:29<00:00, 21.24it/s]\n",
      "[Final] Test : Loss = 0.13556, F1-score = 94.78%: 100%|██████████| 625/625 [00:28<00:00, 21.63it/s]\n"
     ],
     "name": "stderr"
    }
   ]
  },
  {
   "cell_type": "markdown",
   "metadata": {
    "id": "H6__zlxTOxEb"
   },
   "source": [
    "### Simplified Chinese"
   ]
  },
  {
   "cell_type": "code",
   "metadata": {
    "id": "Z-nXVrmROz65",
    "colab": {
     "base_uri": "https://localhost:8080/"
    },
    "outputId": "00d29aac-d21e-455c-953a-a25d0dd4881a"
   },
   "source": [
    "TOKENIZER = BertTokenizer.from_pretrained('bert-base-multilingual-cased', do_lower_case=False)\n",
    "DEVICE = 'cuda' if torch.cuda.is_available else 'cpu'\n",
    "EPOCHS = 4\n",
    "BATCH_SIZE = 8\n",
    "\n",
    "zh_train_dataset, _ = create_dataset_and_dataloader('../lang_zh/train', BATCH_SIZE, TOKENIZER)\n",
    "zh_eval_dataset, _ = create_dataset_and_dataloader('../lang_zh/dev', BATCH_SIZE, TOKENIZER)\n",
    "zh_test_dataset, _ = create_dataset_and_dataloader('../lang_zh/test', BATCH_SIZE, TOKENIZER)"
   ],
   "execution_count": null,
   "outputs": [
    {
     "output_type": "stream",
     "text": [
      "/usr/local/lib/python3.7/dist-packages/torch/utils/data/dataloader.py:477: UserWarning: This DataLoader will create 4 worker processes in total. Our suggested max number of worker in current system is 2, which is smaller than what this DataLoader is going to create. Please be aware that excessive worker creation might get DataLoader running slow or even freeze, lower the worker number to avoid potential slowness/freeze if necessary.\n",
      "  cpuset_checked))\n"
     ],
     "name": "stderr"
    }
   ]
  },
  {
   "cell_type": "code",
   "metadata": {
    "id": "SjsMR32PTS4h",
    "colab": {
     "base_uri": "https://localhost:8080/"
    },
    "outputId": "f8fb3f2f-e722-43de-9215-a631be1d7c7e"
   },
   "source": [
    "max_idx = 0\n",
    "max_length = 512\n",
    "\n",
    "for idx, (sentence, tags) in enumerate(zip(zh_eval_dataset.sentences, zh_eval_dataset.sentences_tags)):\n",
    "    if len(sentence) > max_length:\n",
    "        print('Words:', zh_train_dataset.sentences[idx])\n",
    "        print('Tags :', zh_train_dataset.sentences_tags[idx])\n",
    "        print('Len  :', len(sentence))\n",
    "        print('ID   :', idx)\n",
    "        print('-' * 10)"
   ],
   "execution_count": null,
   "outputs": [
    {
     "output_type": "stream",
     "text": [
      "Words: ['#', 'd', 'o', '#', 'i', 't', '#', 'a', 'g', 'a', 'i', 'n']\n",
      "Tags : ['O', 'B-ORG', 'I-ORG', 'O', 'I-ORG', 'I-ORG', 'O', 'I-ORG', 'I-ORG', 'I-ORG', 'I-ORG', 'I-ORG']\n",
      "Len  : 528\n",
      "ID   : 2578\n",
      "----------\n",
      "Words: ['#', '5', 'p', 'b', '.']\n",
      "Tags : ['O', 'B-ORG', 'I-ORG', 'I-ORG', 'I-ORG']\n",
      "Len  : 732\n",
      "ID   : 4594\n",
      "----------\n"
     ],
     "name": "stdout"
    }
   ]
  },
  {
   "cell_type": "code",
   "metadata": {
    "id": "FJa8DtVcYWWZ"
   },
   "source": [
    "# ids to drop because of the size of sentence's tokens, that doesn't fit into BERT's 512 bound \n",
    "\n",
    "ids_to_drop_train = [6538]\n",
    "ids_to_drop_eval  = [2578, 4593, 4594]\n",
    "ids_to_drop_test  = [8655]"
   ],
   "execution_count": null,
   "outputs": []
  },
  {
   "cell_type": "code",
   "metadata": {
    "id": "ifmi-GcIZJLp"
   },
   "source": [
    "for idx in ids_to_drop_train:\n",
    "    zh_train_dataset.sentences.pop(idx)\n",
    "    zh_train_dataset.sentences_tags.pop(idx)\n",
    "\n",
    "for idx in ids_to_drop_eval:\n",
    "    zh_eval_dataset.sentences.pop(idx)\n",
    "    zh_eval_dataset.sentences_tags.pop(idx)\n",
    "\n",
    "for idx in ids_to_drop_test:\n",
    "    zh_test_dataset.sentences.pop(idx)\n",
    "    zh_test_dataset.sentences_tags.pop(idx)"
   ],
   "execution_count": null,
   "outputs": []
  },
  {
   "cell_type": "code",
   "metadata": {
    "id": "X5w1t-AiRXFq",
    "colab": {
     "base_uri": "https://localhost:8080/"
    },
    "outputId": "21a09f0c-2edf-4e62-ef87-a3eb221fee03"
   },
   "source": [
    "print('Train:', zh_train_dataset.entities_statistics())\n",
    "print('Eval :', zh_eval_dataset.entities_statistics())\n",
    "print('Test :', zh_test_dataset.entities_statistics())"
   ],
   "execution_count": null,
   "outputs": [
    {
     "output_type": "stream",
     "text": [
      "Train: Counter({'O': 310504, 'LOC': 8572, 'PER': 7878, 'ORG': 7684})\n",
      "Eval : Counter({'O': 157331, 'LOC': 4214, 'ORG': 3948, 'PER': 3843})\n",
      "Test : Counter({'O': 152285, 'LOC': 4371, 'PER': 3899, 'ORG': 3778})\n"
     ],
     "name": "stdout"
    }
   ]
  },
  {
   "cell_type": "markdown",
   "metadata": {
    "id": "bDgR6lX8xr9U"
   },
   "source": [
    "## Testing on WikiMatrix"
   ]
  },
  {
   "cell_type": "code",
   "metadata": {
    "id": "FNIAYF4JSpK4"
   },
   "source": [
    "import matplotlib.pyplot as plt\n",
    "import seaborn as sns\n",
    "\n",
    "mode_visualization = ['layer2head', 'layer2word', 'head2word', 'word2word', 'all']\n",
    "\n",
    "class VisAttention:\n",
    "    def __init__(self, tokens, ids, model, drop_special_tokens=True,\n",
    "                 mode_visualization='layer2head', fine_tuned=True, save_result=False):\n",
    "        self.tok = tokens\n",
    "        self.sample = ids\n",
    "        with torch.no_grad():\n",
    "            if fine_tuned:\n",
    "                _, output = model(self.sample)\n",
    "            else:\n",
    "                output = model(self.sample)\n",
    "\n",
    "        self.attention = output['attentions']\n",
    "        self.save_result = save_result\n",
    "        self.mode_visualization = mode_visualization\n",
    "\n",
    "        if drop_special_tokens:\n",
    "            self.attention = [attn[:, :, 1:-1, 1:-1] for attn in self.attention]\n",
    "            self.tok = self.tok[1:-1]\n",
    "        \n",
    "        self.attention = torch.stack([attn.squeeze(0) for attn in self.attention])\n",
    "        self.cmap = plt.cm.BuPu\n",
    "    \n",
    "    def layer2head(self):        \n",
    "        att_map = [torch.max(torch.flatten(att, start_dim=-2), dim=-1).values for att in self.attention]\n",
    "        att_map = torch.stack([att.T for att in att_map], dim=0)\n",
    "\n",
    "        plt.figure(figsize=(10, 7))\n",
    "        sns.heatmap(att_map.detach().to('cpu').numpy(), cmap=self.cmap)\n",
    "    \n",
    "    def layer2word(self, position):\n",
    "        attention_avg = self._other2word(position, 1)\n",
    "        plt.figure(figsize=(10, 7))\n",
    "        ax = sns.heatmap(attention_avg.detach().to('cpu').numpy(), xticklabels= self.tok, cmap=self.cmap)\n",
    "        ax.set(xlabel='words', ylabel='Layer')\n",
    "        plt.show()\n",
    "    \n",
    "    def head2word(self, position):\n",
    "        attention_avg = self._other2word(position, 0)\n",
    "        plt.figure(figsize=(10, 7))\n",
    "        ax = sns.heatmap(attention_avg.detach().to('cpu').numpy(), xticklabels= self.tok, cmap=self.cmap)\n",
    "        ax.set(xlabel='words', ylabel='Head')\n",
    "        plt.show()\n",
    "    \n",
    "    def _other2word(self, position, dim):\n",
    "        attention = self.attention.permute(2,1,0,3)\n",
    "        attention_position = attention[position]\n",
    "        attention_avg = attention_position.mean(dim=dim)\n",
    "        return attention_avg\n",
    "    \n",
    "    def word2word(self):\n",
    "        attns = self.attention.permute(2,3,0,1)\n",
    "\n",
    "        att_map = [torch.max(torch.flatten(att, start_dim=-2), dim=-1).values for att in attns]\n",
    "        att_map = torch.stack([att.T for att in att_map], dim=0)\n",
    "\n",
    "        plt.figure(figsize=(10, 7))\n",
    "        sns.heatmap(att_map.detach().to('cpu').numpy(),\n",
    "                    xticklabels= self.tok, yticklabels= self.tok,\n",
    "                    cmap=self.cmap)\n",
    "    \n",
    "    def word2word_position(self, position_layer=-1, position_head=-1):\n",
    "        attn = self.attention[position_layer, position_head]\n",
    "\n",
    "        plt.figure(figsize=(10, 7))\n",
    "        sns.heatmap(attn.detach().to('cpu').numpy(),\n",
    "                    xticklabels= self.tok, yticklabels= self.tok,\n",
    "                    cmap=self.cmap)"
   ],
   "execution_count": null,
   "outputs": []
  },
  {
   "cell_type": "markdown",
   "metadata": {
    "id": "QhEuJwrbVm36"
   },
   "source": [
    "### Russian - English"
   ]
  },
  {
   "cell_type": "code",
   "metadata": {
    "colab": {
     "base_uri": "https://localhost:8080/"
    },
    "id": "FRwNSeo9tx6G",
    "outputId": "f405f16c-3091-44e5-af0d-c71e41fb6b28"
   },
   "source": [
    "!wget -O en-ru.tsv.gz https://dl.fbaipublicfiles.com/laser/WikiMatrix/v1/WikiMatrix.en-ru.tsv.gz"
   ],
   "execution_count": null,
   "outputs": [
    {
     "output_type": "stream",
     "text": [
      "--2021-04-21 10:24:01--  https://dl.fbaipublicfiles.com/laser/WikiMatrix/v1/WikiMatrix.en-ru.tsv.gz\n",
      "Resolving dl.fbaipublicfiles.com (dl.fbaipublicfiles.com)... 104.22.75.142, 104.22.74.142, 172.67.9.4, ...\n",
      "Connecting to dl.fbaipublicfiles.com (dl.fbaipublicfiles.com)|104.22.75.142|:443... connected.\n",
      "HTTP request sent, awaiting response... 200 OK\n",
      "Length: 658252364 (628M) [application/gzip]\n",
      "Saving to: ‘en-ru.tsv.gz’\n",
      "\n",
      "en-ru.tsv.gz        100%[===================>] 627.76M  23.8MB/s    in 28s     \n",
      "\n",
      "2021-04-21 10:24:30 (22.6 MB/s) - ‘en-ru.tsv.gz’ saved [658252364/658252364]\n",
      "\n"
     ],
     "name": "stdout"
    }
   ]
  },
  {
   "cell_type": "code",
   "metadata": {
    "colab": {
     "base_uri": "https://localhost:8080/"
    },
    "id": "_DnvIQ6iVufj",
    "outputId": "f698bd00-ea47-4e46-fbe3-b2594dfa70b0"
   },
   "source": [
    "!python3 /content/multilingual-bert-ner/extract.py \\\n",
    "  --tsv en-ru.tsv.gz \\\n",
    "  --bitext WikiMatrix.en-ru.txt \\\n",
    "  --src-lang en --trg-lang ru \\\n",
    "  --threshold 1.05"
   ],
   "execution_count": null,
   "outputs": [
    {
     "output_type": "stream",
     "text": [
      "Tool to extract bitext from the WikiMatrix\n",
      "Processing en-ru.tsv.gz\n",
      " - wrote 1159158 lines\n",
      " - with 23693136 source and 20799384 target words\n",
      " - last threshold is 1.0500\n"
     ],
     "name": "stdout"
    }
   ]
  },
  {
   "cell_type": "code",
   "metadata": {
    "id": "dMcqVfF7VmrC"
   },
   "source": [
    "def markup_sentences(model, idx2tag, sentences):\n",
    "    markup = []\n",
    "    \n",
    "    for sentence in sentences:\n",
    "        words = TOKENIZER.tokenize(sentence)\n",
    "        tokens = torch.LongTensor(TOKENIZER.convert_tokens_to_ids(words))\n",
    "        preds = model(tokens.unsqueeze(0).to(DEVICE))\n",
    "        preds = preds.view(-1, preds.shape[-1])\n",
    "        preds = preds.argmax(1)\n",
    "        preds = preds.cpu().numpy()\n",
    "        preds = [idx2tag[tag] for tag in preds]\n",
    "        markup.append(preds)\n",
    "    \n",
    "    return markup"
   ],
   "execution_count": null,
   "outputs": []
  },
  {
   "cell_type": "code",
   "metadata": {
    "colab": {
     "base_uri": "https://localhost:8080/"
    },
    "id": "XMU9D22gV26n",
    "outputId": "72c2ca51-91cc-40b1-bf59-d6fbb5117abd"
   },
   "source": [
    "en_sentences = []\n",
    "ru_sentences = []\n",
    "\n",
    "with open(\"/content/multilingual-bert-ner/WikiMatrix.en-ru.txt.en\") as file:\n",
    "    for line in file:\n",
    "        en_sentences.append(line)\n",
    "\n",
    "with open(\"/content/multilingual-bert-ner/WikiMatrix.en-ru.txt.ru\") as file:\n",
    "    for line in file:\n",
    "        ru_sentences.append(line)\n",
    "\n",
    "print('RU:', len(ru_sentences), 'EN:', len(en_sentences))"
   ],
   "execution_count": null,
   "outputs": [
    {
     "output_type": "stream",
     "text": [
      "RU: 1159158 EN: 1159158\n"
     ],
     "name": "stdout"
    }
   ]
  },
  {
   "cell_type": "code",
   "metadata": {
    "colab": {
     "base_uri": "https://localhost:8080/"
    },
    "id": "AG42oZBPWCNv",
    "outputId": "d27005ad-cf13-455b-9922-12d887ef0000"
   },
   "source": [
    "ru_sentences_id = []\n",
    "\n",
    "ru_sentences_new = []\n",
    "en_sentences_new = []\n",
    "\n",
    "for idx in range(len(ru_sentences)):\n",
    "    if len(ru_sentences[idx]) <= 200 and len(ru_sentences[idx]) >= 190:\n",
    "        ru_sentences_id.append(idx)\n",
    "\n",
    "for idx in ru_sentences_id:\n",
    "    ru_sentences_new.append(ru_sentences[idx])\n",
    "    en_sentences_new.append(en_sentences[idx])\n",
    "                            \n",
    "print('RU:', len(ru_sentences_new), 'EN:', len(en_sentences_new))"
   ],
   "execution_count": null,
   "outputs": [
    {
     "output_type": "stream",
     "text": [
      "RU: 32802 EN: 32802\n"
     ],
     "name": "stdout"
    }
   ]
  },
  {
   "cell_type": "code",
   "metadata": {
    "colab": {
     "base_uri": "https://localhost:8080/"
    },
    "id": "5ITEhuNLnbpc",
    "outputId": "70daf47d-b70d-4042-9f9d-3716deaf6e17"
   },
   "source": [
    "TOKENIZER = BertTokenizer.from_pretrained('bert-base-multilingual-cased', do_lower_case=False)\n",
    "DEVICE = 'cuda' if torch.cuda.is_available else 'cpu'\n",
    "bert = BertModel.from_pretrained('bert-base-multilingual-cased', output_attentions=True)\n",
    "bert.to(DEVICE)"
   ],
   "execution_count": null,
   "outputs": [
    {
     "output_type": "execute_result",
     "data": {
      "text/plain": [
       "BertModel(\n",
       "  (embeddings): BertEmbeddings(\n",
       "    (word_embeddings): Embedding(119547, 768, padding_idx=0)\n",
       "    (position_embeddings): Embedding(512, 768)\n",
       "    (token_type_embeddings): Embedding(2, 768)\n",
       "    (LayerNorm): LayerNorm((768,), eps=1e-12, elementwise_affine=True)\n",
       "    (dropout): Dropout(p=0.1, inplace=False)\n",
       "  )\n",
       "  (encoder): BertEncoder(\n",
       "    (layer): ModuleList(\n",
       "      (0): BertLayer(\n",
       "        (attention): BertAttention(\n",
       "          (self): BertSelfAttention(\n",
       "            (query): Linear(in_features=768, out_features=768, bias=True)\n",
       "            (key): Linear(in_features=768, out_features=768, bias=True)\n",
       "            (value): Linear(in_features=768, out_features=768, bias=True)\n",
       "            (dropout): Dropout(p=0.1, inplace=False)\n",
       "          )\n",
       "          (output): BertSelfOutput(\n",
       "            (dense): Linear(in_features=768, out_features=768, bias=True)\n",
       "            (LayerNorm): LayerNorm((768,), eps=1e-12, elementwise_affine=True)\n",
       "            (dropout): Dropout(p=0.1, inplace=False)\n",
       "          )\n",
       "        )\n",
       "        (intermediate): BertIntermediate(\n",
       "          (dense): Linear(in_features=768, out_features=3072, bias=True)\n",
       "        )\n",
       "        (output): BertOutput(\n",
       "          (dense): Linear(in_features=3072, out_features=768, bias=True)\n",
       "          (LayerNorm): LayerNorm((768,), eps=1e-12, elementwise_affine=True)\n",
       "          (dropout): Dropout(p=0.1, inplace=False)\n",
       "        )\n",
       "      )\n",
       "      (1): BertLayer(\n",
       "        (attention): BertAttention(\n",
       "          (self): BertSelfAttention(\n",
       "            (query): Linear(in_features=768, out_features=768, bias=True)\n",
       "            (key): Linear(in_features=768, out_features=768, bias=True)\n",
       "            (value): Linear(in_features=768, out_features=768, bias=True)\n",
       "            (dropout): Dropout(p=0.1, inplace=False)\n",
       "          )\n",
       "          (output): BertSelfOutput(\n",
       "            (dense): Linear(in_features=768, out_features=768, bias=True)\n",
       "            (LayerNorm): LayerNorm((768,), eps=1e-12, elementwise_affine=True)\n",
       "            (dropout): Dropout(p=0.1, inplace=False)\n",
       "          )\n",
       "        )\n",
       "        (intermediate): BertIntermediate(\n",
       "          (dense): Linear(in_features=768, out_features=3072, bias=True)\n",
       "        )\n",
       "        (output): BertOutput(\n",
       "          (dense): Linear(in_features=3072, out_features=768, bias=True)\n",
       "          (LayerNorm): LayerNorm((768,), eps=1e-12, elementwise_affine=True)\n",
       "          (dropout): Dropout(p=0.1, inplace=False)\n",
       "        )\n",
       "      )\n",
       "      (2): BertLayer(\n",
       "        (attention): BertAttention(\n",
       "          (self): BertSelfAttention(\n",
       "            (query): Linear(in_features=768, out_features=768, bias=True)\n",
       "            (key): Linear(in_features=768, out_features=768, bias=True)\n",
       "            (value): Linear(in_features=768, out_features=768, bias=True)\n",
       "            (dropout): Dropout(p=0.1, inplace=False)\n",
       "          )\n",
       "          (output): BertSelfOutput(\n",
       "            (dense): Linear(in_features=768, out_features=768, bias=True)\n",
       "            (LayerNorm): LayerNorm((768,), eps=1e-12, elementwise_affine=True)\n",
       "            (dropout): Dropout(p=0.1, inplace=False)\n",
       "          )\n",
       "        )\n",
       "        (intermediate): BertIntermediate(\n",
       "          (dense): Linear(in_features=768, out_features=3072, bias=True)\n",
       "        )\n",
       "        (output): BertOutput(\n",
       "          (dense): Linear(in_features=3072, out_features=768, bias=True)\n",
       "          (LayerNorm): LayerNorm((768,), eps=1e-12, elementwise_affine=True)\n",
       "          (dropout): Dropout(p=0.1, inplace=False)\n",
       "        )\n",
       "      )\n",
       "      (3): BertLayer(\n",
       "        (attention): BertAttention(\n",
       "          (self): BertSelfAttention(\n",
       "            (query): Linear(in_features=768, out_features=768, bias=True)\n",
       "            (key): Linear(in_features=768, out_features=768, bias=True)\n",
       "            (value): Linear(in_features=768, out_features=768, bias=True)\n",
       "            (dropout): Dropout(p=0.1, inplace=False)\n",
       "          )\n",
       "          (output): BertSelfOutput(\n",
       "            (dense): Linear(in_features=768, out_features=768, bias=True)\n",
       "            (LayerNorm): LayerNorm((768,), eps=1e-12, elementwise_affine=True)\n",
       "            (dropout): Dropout(p=0.1, inplace=False)\n",
       "          )\n",
       "        )\n",
       "        (intermediate): BertIntermediate(\n",
       "          (dense): Linear(in_features=768, out_features=3072, bias=True)\n",
       "        )\n",
       "        (output): BertOutput(\n",
       "          (dense): Linear(in_features=3072, out_features=768, bias=True)\n",
       "          (LayerNorm): LayerNorm((768,), eps=1e-12, elementwise_affine=True)\n",
       "          (dropout): Dropout(p=0.1, inplace=False)\n",
       "        )\n",
       "      )\n",
       "      (4): BertLayer(\n",
       "        (attention): BertAttention(\n",
       "          (self): BertSelfAttention(\n",
       "            (query): Linear(in_features=768, out_features=768, bias=True)\n",
       "            (key): Linear(in_features=768, out_features=768, bias=True)\n",
       "            (value): Linear(in_features=768, out_features=768, bias=True)\n",
       "            (dropout): Dropout(p=0.1, inplace=False)\n",
       "          )\n",
       "          (output): BertSelfOutput(\n",
       "            (dense): Linear(in_features=768, out_features=768, bias=True)\n",
       "            (LayerNorm): LayerNorm((768,), eps=1e-12, elementwise_affine=True)\n",
       "            (dropout): Dropout(p=0.1, inplace=False)\n",
       "          )\n",
       "        )\n",
       "        (intermediate): BertIntermediate(\n",
       "          (dense): Linear(in_features=768, out_features=3072, bias=True)\n",
       "        )\n",
       "        (output): BertOutput(\n",
       "          (dense): Linear(in_features=3072, out_features=768, bias=True)\n",
       "          (LayerNorm): LayerNorm((768,), eps=1e-12, elementwise_affine=True)\n",
       "          (dropout): Dropout(p=0.1, inplace=False)\n",
       "        )\n",
       "      )\n",
       "      (5): BertLayer(\n",
       "        (attention): BertAttention(\n",
       "          (self): BertSelfAttention(\n",
       "            (query): Linear(in_features=768, out_features=768, bias=True)\n",
       "            (key): Linear(in_features=768, out_features=768, bias=True)\n",
       "            (value): Linear(in_features=768, out_features=768, bias=True)\n",
       "            (dropout): Dropout(p=0.1, inplace=False)\n",
       "          )\n",
       "          (output): BertSelfOutput(\n",
       "            (dense): Linear(in_features=768, out_features=768, bias=True)\n",
       "            (LayerNorm): LayerNorm((768,), eps=1e-12, elementwise_affine=True)\n",
       "            (dropout): Dropout(p=0.1, inplace=False)\n",
       "          )\n",
       "        )\n",
       "        (intermediate): BertIntermediate(\n",
       "          (dense): Linear(in_features=768, out_features=3072, bias=True)\n",
       "        )\n",
       "        (output): BertOutput(\n",
       "          (dense): Linear(in_features=3072, out_features=768, bias=True)\n",
       "          (LayerNorm): LayerNorm((768,), eps=1e-12, elementwise_affine=True)\n",
       "          (dropout): Dropout(p=0.1, inplace=False)\n",
       "        )\n",
       "      )\n",
       "      (6): BertLayer(\n",
       "        (attention): BertAttention(\n",
       "          (self): BertSelfAttention(\n",
       "            (query): Linear(in_features=768, out_features=768, bias=True)\n",
       "            (key): Linear(in_features=768, out_features=768, bias=True)\n",
       "            (value): Linear(in_features=768, out_features=768, bias=True)\n",
       "            (dropout): Dropout(p=0.1, inplace=False)\n",
       "          )\n",
       "          (output): BertSelfOutput(\n",
       "            (dense): Linear(in_features=768, out_features=768, bias=True)\n",
       "            (LayerNorm): LayerNorm((768,), eps=1e-12, elementwise_affine=True)\n",
       "            (dropout): Dropout(p=0.1, inplace=False)\n",
       "          )\n",
       "        )\n",
       "        (intermediate): BertIntermediate(\n",
       "          (dense): Linear(in_features=768, out_features=3072, bias=True)\n",
       "        )\n",
       "        (output): BertOutput(\n",
       "          (dense): Linear(in_features=3072, out_features=768, bias=True)\n",
       "          (LayerNorm): LayerNorm((768,), eps=1e-12, elementwise_affine=True)\n",
       "          (dropout): Dropout(p=0.1, inplace=False)\n",
       "        )\n",
       "      )\n",
       "      (7): BertLayer(\n",
       "        (attention): BertAttention(\n",
       "          (self): BertSelfAttention(\n",
       "            (query): Linear(in_features=768, out_features=768, bias=True)\n",
       "            (key): Linear(in_features=768, out_features=768, bias=True)\n",
       "            (value): Linear(in_features=768, out_features=768, bias=True)\n",
       "            (dropout): Dropout(p=0.1, inplace=False)\n",
       "          )\n",
       "          (output): BertSelfOutput(\n",
       "            (dense): Linear(in_features=768, out_features=768, bias=True)\n",
       "            (LayerNorm): LayerNorm((768,), eps=1e-12, elementwise_affine=True)\n",
       "            (dropout): Dropout(p=0.1, inplace=False)\n",
       "          )\n",
       "        )\n",
       "        (intermediate): BertIntermediate(\n",
       "          (dense): Linear(in_features=768, out_features=3072, bias=True)\n",
       "        )\n",
       "        (output): BertOutput(\n",
       "          (dense): Linear(in_features=3072, out_features=768, bias=True)\n",
       "          (LayerNorm): LayerNorm((768,), eps=1e-12, elementwise_affine=True)\n",
       "          (dropout): Dropout(p=0.1, inplace=False)\n",
       "        )\n",
       "      )\n",
       "      (8): BertLayer(\n",
       "        (attention): BertAttention(\n",
       "          (self): BertSelfAttention(\n",
       "            (query): Linear(in_features=768, out_features=768, bias=True)\n",
       "            (key): Linear(in_features=768, out_features=768, bias=True)\n",
       "            (value): Linear(in_features=768, out_features=768, bias=True)\n",
       "            (dropout): Dropout(p=0.1, inplace=False)\n",
       "          )\n",
       "          (output): BertSelfOutput(\n",
       "            (dense): Linear(in_features=768, out_features=768, bias=True)\n",
       "            (LayerNorm): LayerNorm((768,), eps=1e-12, elementwise_affine=True)\n",
       "            (dropout): Dropout(p=0.1, inplace=False)\n",
       "          )\n",
       "        )\n",
       "        (intermediate): BertIntermediate(\n",
       "          (dense): Linear(in_features=768, out_features=3072, bias=True)\n",
       "        )\n",
       "        (output): BertOutput(\n",
       "          (dense): Linear(in_features=3072, out_features=768, bias=True)\n",
       "          (LayerNorm): LayerNorm((768,), eps=1e-12, elementwise_affine=True)\n",
       "          (dropout): Dropout(p=0.1, inplace=False)\n",
       "        )\n",
       "      )\n",
       "      (9): BertLayer(\n",
       "        (attention): BertAttention(\n",
       "          (self): BertSelfAttention(\n",
       "            (query): Linear(in_features=768, out_features=768, bias=True)\n",
       "            (key): Linear(in_features=768, out_features=768, bias=True)\n",
       "            (value): Linear(in_features=768, out_features=768, bias=True)\n",
       "            (dropout): Dropout(p=0.1, inplace=False)\n",
       "          )\n",
       "          (output): BertSelfOutput(\n",
       "            (dense): Linear(in_features=768, out_features=768, bias=True)\n",
       "            (LayerNorm): LayerNorm((768,), eps=1e-12, elementwise_affine=True)\n",
       "            (dropout): Dropout(p=0.1, inplace=False)\n",
       "          )\n",
       "        )\n",
       "        (intermediate): BertIntermediate(\n",
       "          (dense): Linear(in_features=768, out_features=3072, bias=True)\n",
       "        )\n",
       "        (output): BertOutput(\n",
       "          (dense): Linear(in_features=3072, out_features=768, bias=True)\n",
       "          (LayerNorm): LayerNorm((768,), eps=1e-12, elementwise_affine=True)\n",
       "          (dropout): Dropout(p=0.1, inplace=False)\n",
       "        )\n",
       "      )\n",
       "      (10): BertLayer(\n",
       "        (attention): BertAttention(\n",
       "          (self): BertSelfAttention(\n",
       "            (query): Linear(in_features=768, out_features=768, bias=True)\n",
       "            (key): Linear(in_features=768, out_features=768, bias=True)\n",
       "            (value): Linear(in_features=768, out_features=768, bias=True)\n",
       "            (dropout): Dropout(p=0.1, inplace=False)\n",
       "          )\n",
       "          (output): BertSelfOutput(\n",
       "            (dense): Linear(in_features=768, out_features=768, bias=True)\n",
       "            (LayerNorm): LayerNorm((768,), eps=1e-12, elementwise_affine=True)\n",
       "            (dropout): Dropout(p=0.1, inplace=False)\n",
       "          )\n",
       "        )\n",
       "        (intermediate): BertIntermediate(\n",
       "          (dense): Linear(in_features=768, out_features=3072, bias=True)\n",
       "        )\n",
       "        (output): BertOutput(\n",
       "          (dense): Linear(in_features=3072, out_features=768, bias=True)\n",
       "          (LayerNorm): LayerNorm((768,), eps=1e-12, elementwise_affine=True)\n",
       "          (dropout): Dropout(p=0.1, inplace=False)\n",
       "        )\n",
       "      )\n",
       "      (11): BertLayer(\n",
       "        (attention): BertAttention(\n",
       "          (self): BertSelfAttention(\n",
       "            (query): Linear(in_features=768, out_features=768, bias=True)\n",
       "            (key): Linear(in_features=768, out_features=768, bias=True)\n",
       "            (value): Linear(in_features=768, out_features=768, bias=True)\n",
       "            (dropout): Dropout(p=0.1, inplace=False)\n",
       "          )\n",
       "          (output): BertSelfOutput(\n",
       "            (dense): Linear(in_features=768, out_features=768, bias=True)\n",
       "            (LayerNorm): LayerNorm((768,), eps=1e-12, elementwise_affine=True)\n",
       "            (dropout): Dropout(p=0.1, inplace=False)\n",
       "          )\n",
       "        )\n",
       "        (intermediate): BertIntermediate(\n",
       "          (dense): Linear(in_features=768, out_features=3072, bias=True)\n",
       "        )\n",
       "        (output): BertOutput(\n",
       "          (dense): Linear(in_features=3072, out_features=768, bias=True)\n",
       "          (LayerNorm): LayerNorm((768,), eps=1e-12, elementwise_affine=True)\n",
       "          (dropout): Dropout(p=0.1, inplace=False)\n",
       "        )\n",
       "      )\n",
       "    )\n",
       "  )\n",
       "  (pooler): BertPooler(\n",
       "    (dense): Linear(in_features=768, out_features=768, bias=True)\n",
       "    (activation): Tanh()\n",
       "  )\n",
       ")"
      ]
     },
     "metadata": {
      "tags": []
     },
     "execution_count": 30
    }
   ]
  },
  {
   "cell_type": "code",
   "metadata": {
    "id": "ca1j98puUayG"
   },
   "source": [
    "def convert_tokens(sentence):\n",
    "    markup = []\n",
    "    \n",
    "    words = ['[CLS]'] + TOKENIZER.tokenize(sentence) + ['[SEP]']\n",
    "    tokens = torch.LongTensor(TOKENIZER.convert_tokens_to_ids(words))\n",
    "    \n",
    "    return words, tokens.unsqueeze(0).to(DEVICE)"
   ],
   "execution_count": null,
   "outputs": []
  },
  {
   "cell_type": "code",
   "metadata": {
    "id": "FQ9XORGIcHEG"
   },
   "source": [
    "en_tokens, en_ids = convert_tokens(en_sentences_new[0])"
   ],
   "execution_count": null,
   "outputs": []
  },
  {
   "cell_type": "code",
   "metadata": {
    "id": "mFGAHhp_UuxB"
   },
   "source": [
    "ru_tokens, ru_ids = convert_tokens(ru_sentences_new[0])"
   ],
   "execution_count": null,
   "outputs": []
  },
  {
   "cell_type": "code",
   "metadata": {
    "id": "fl_fYueEmGrK"
   },
   "source": [
    "# s - means simple\n",
    "s_en_viz_ru = VisAttention(ru_tokens, ru_ids, bert, fine_tuned=False)\n",
    "s_ru_viz_en = VisAttention(en_tokens, en_ids, bert, fine_tuned=False)\n",
    "s_en_viz_en = VisAttention(en_tokens, en_ids, bert, fine_tuned=False)\n",
    "s_ru_viz_ru = VisAttention(ru_tokens, ru_ids, bert, fine_tuned=False)"
   ],
   "execution_count": null,
   "outputs": []
  },
  {
   "cell_type": "code",
   "metadata": {
    "id": "Q2jZPIFKUHu4"
   },
   "source": [
    "en_viz_ru = VisAttention(ru_tokens, ru_ids, EnglishBertModel, fine_tuned=True)\n",
    "ru_viz_en = VisAttention(en_tokens, en_ids, RussianBertModel, fine_tuned=True)\n",
    "en_viz_en = VisAttention(en_tokens, en_ids, EnglishBertModel, fine_tuned=True)\n",
    "ru_viz_ru = VisAttention(ru_tokens, ru_ids, RussianBertModel, fine_tuned=True)"
   ],
   "execution_count": null,
   "outputs": []
  },
  {
   "cell_type": "markdown",
   "metadata": {
    "id": "ofDhUqKeoU0B"
   },
   "source": [
    "## EN -> RU"
   ]
  },
  {
   "cell_type": "markdown",
   "metadata": {
    "id": "xkG5ujMb-3PN"
   },
   "source": [
    "### Word2Word"
   ]
  },
  {
   "cell_type": "code",
   "metadata": {
    "colab": {
     "base_uri": "https://localhost:8080/",
     "height": 475
    },
    "id": "tJ5tvp_gcqKL",
    "outputId": "4e462cca-efec-4b90-e48d-126a33f61ef2"
   },
   "source": [
    "en_viz_ru.word2word()"
   ],
   "execution_count": null,
   "outputs": [
    {
     "output_type": "display_data",
     "data": {
      "image/png": "[encoded data removed]",
      "text/plain": [
       "<Figure size 720x504 with 2 Axes>"
      ]
     },
     "metadata": {
      "tags": [],
      "needs_background": "light"
     }
    }
   ]
  },
  {
   "cell_type": "code",
   "metadata": {
    "colab": {
     "base_uri": "https://localhost:8080/",
     "height": 475
    },
    "id": "QkA09F2WmV1B",
    "outputId": "a90a9d9d-876f-4342-c48f-5959a58cb8f8"
   },
   "source": [
    "s_en_viz_ru.word2word()"
   ],
   "execution_count": null,
   "outputs": [
    {
     "output_type": "display_data",
     "data": {
      "image/png": "[encoded data removed]",
      "text/plain": [
       "<Figure size 720x504 with 2 Axes>"
      ]
     },
     "metadata": {
      "tags": [],
      "needs_background": "light"
     }
    }
   ]
  },
  {
   "cell_type": "markdown",
   "metadata": {
    "id": "0z03crYe-5KA"
   },
   "source": [
    "### Layer2Head"
   ]
  },
  {
   "cell_type": "code",
   "metadata": {
    "colab": {
     "base_uri": "https://localhost:8080/",
     "height": 432
    },
    "id": "YbO8dCWz_DeD",
    "outputId": "80b48777-dd17-4300-a86e-46702b647a8e"
   },
   "source": [
    "en_viz_ru.layer2head()"
   ],
   "execution_count": null,
   "outputs": [
    {
     "output_type": "display_data",
     "data": {
      "image/png": "[encoded data removed]",
      "text/plain": [
       "<Figure size 720x504 with 2 Axes>"
      ]
     },
     "metadata": {
      "tags": [],
      "needs_background": "light"
     }
    }
   ]
  },
  {
   "cell_type": "code",
   "metadata": {
    "colab": {
     "base_uri": "https://localhost:8080/",
     "height": 432
    },
    "id": "gBTHaZ0f_DeF",
    "outputId": "9333ad98-e108-4dcb-9942-baf0cfc7247e"
   },
   "source": [
    "s_en_viz_ru.layer2head()"
   ],
   "execution_count": null,
   "outputs": [
    {
     "output_type": "display_data",
     "data": {
      "image/png": "[encoded data removed]",
      "text/plain": [
       "<Figure size 720x504 with 2 Axes>"
      ]
     },
     "metadata": {
      "tags": [],
      "needs_background": "light"
     }
    }
   ]
  },
  {
   "cell_type": "markdown",
   "metadata": {
    "id": "ZWYukfx_oZCP"
   },
   "source": [
    "# EN -> EN"
   ]
  },
  {
   "cell_type": "markdown",
   "metadata": {
    "id": "W-n76_vR_OF0"
   },
   "source": [
    "### Word2Word"
   ]
  },
  {
   "cell_type": "code",
   "metadata": {
    "colab": {
     "base_uri": "https://localhost:8080/",
     "height": 483
    },
    "id": "12OlZHXMVa8U",
    "outputId": "32dcdcd9-e694-4725-a94d-7e3183826537"
   },
   "source": [
    "en_viz_en.word2word()"
   ],
   "execution_count": null,
   "outputs": [
    {
     "output_type": "display_data",
     "data": {
      "image/png": "[encoded data removed]",
      "text/plain": [
       "<Figure size 720x504 with 2 Axes>"
      ]
     },
     "metadata": {
      "tags": [],
      "needs_background": "light"
     }
    }
   ]
  },
  {
   "cell_type": "code",
   "metadata": {
    "colab": {
     "base_uri": "https://localhost:8080/",
     "height": 483
    },
    "id": "GhZ3aIl2n8XO",
    "outputId": "fd10ece7-ffbc-4c02-8e36-4d64af9aad77"
   },
   "source": [
    "s_en_viz_en.word2word()"
   ],
   "execution_count": null,
   "outputs": [
    {
     "output_type": "display_data",
     "data": {
      "image/png": "[encoded data removed]",
      "text/plain": [
       "<Figure size 720x504 with 2 Axes>"
      ]
     },
     "metadata": {
      "tags": [],
      "needs_background": "light"
     }
    }
   ]
  },
  {
   "cell_type": "markdown",
   "metadata": {
    "id": "m5HoH9zy_MqW"
   },
   "source": [
    "### Layer2Head"
   ]
  },
  {
   "cell_type": "code",
   "metadata": {
    "colab": {
     "base_uri": "https://localhost:8080/",
     "height": 432
    },
    "id": "2YX7REe9_Mqk",
    "outputId": "54aba035-86c3-4502-a83b-b2e2f31f63f4"
   },
   "source": [
    "en_viz_en.layer2head()"
   ],
   "execution_count": null,
   "outputs": [
    {
     "output_type": "display_data",
     "data": {
      "image/png": "[encoded data removed]",
      "text/plain": [
       "<Figure size 720x504 with 2 Axes>"
      ]
     },
     "metadata": {
      "tags": [],
      "needs_background": "light"
     }
    }
   ]
  },
  {
   "cell_type": "code",
   "metadata": {
    "colab": {
     "base_uri": "https://localhost:8080/",
     "height": 432
    },
    "id": "U5rqhch6_Mqk",
    "outputId": "44936c24-a7e7-41d7-f0f3-e738a2daf459"
   },
   "source": [
    "s_en_viz_en.layer2head()"
   ],
   "execution_count": null,
   "outputs": [
    {
     "output_type": "display_data",
     "data": {
      "image/png": "[encoded data removed]",
      "text/plain": [
       "<Figure size 720x504 with 2 Axes>"
      ]
     },
     "metadata": {
      "tags": [],
      "needs_background": "light"
     }
    }
   ]
  },
  {
   "cell_type": "markdown",
   "metadata": {
    "id": "HcboORuaoeKE"
   },
   "source": [
    "# RU -> EN"
   ]
  },
  {
   "cell_type": "markdown",
   "metadata": {
    "id": "qinrzA8r_VDQ"
   },
   "source": [
    "### Word2Word"
   ]
  },
  {
   "cell_type": "code",
   "metadata": {
    "colab": {
     "base_uri": "https://localhost:8080/",
     "height": 483
    },
    "id": "l2Wdtefei1Oy",
    "outputId": "07fdd581-52d4-4f49-aea8-5721adcb4659"
   },
   "source": [
    "ru_viz_en.word2word()"
   ],
   "execution_count": null,
   "outputs": [
    {
     "output_type": "display_data",
     "data": {
      "image/png": "[encoded data removed]",
      "text/plain": [
       "<Figure size 720x504 with 2 Axes>"
      ]
     },
     "metadata": {
      "tags": [],
      "needs_background": "light"
     }
    }
   ]
  },
  {
   "cell_type": "code",
   "metadata": {
    "colab": {
     "base_uri": "https://localhost:8080/",
     "height": 483
    },
    "id": "m9TQF4yBoJhH",
    "outputId": "aa59aa3d-ee97-41a4-85d0-54b5c66afd60"
   },
   "source": [
    "s_ru_viz_en.word2word()"
   ],
   "execution_count": null,
   "outputs": [
    {
     "output_type": "display_data",
     "data": {
      "image/png": "[encoded data removed]",
      "text/plain": [
       "<Figure size 720x504 with 2 Axes>"
      ]
     },
     "metadata": {
      "tags": [],
      "needs_background": "light"
     }
    }
   ]
  },
  {
   "cell_type": "markdown",
   "metadata": {
    "id": "v2TkMlWp_W7I"
   },
   "source": [
    "### Layer2Head"
   ]
  },
  {
   "cell_type": "code",
   "metadata": {
    "colab": {
     "base_uri": "https://localhost:8080/",
     "height": 432
    },
    "id": "NpkhT6e7_ZnV",
    "outputId": "f51d7313-eca0-4d27-8675-1f2e64ddfcfa"
   },
   "source": [
    "ru_viz_en.layer2head()"
   ],
   "execution_count": null,
   "outputs": [
    {
     "output_type": "display_data",
     "data": {
      "image/png": "[encoded data removed]",
      "text/plain": [
       "<Figure size 720x504 with 2 Axes>"
      ]
     },
     "metadata": {
      "tags": [],
      "needs_background": "light"
     }
    }
   ]
  },
  {
   "cell_type": "code",
   "metadata": {
    "colab": {
     "base_uri": "https://localhost:8080/",
     "height": 432
    },
    "id": "KVuksr_f_chs",
    "outputId": "bbc3456f-2503-4ff1-f4de-613f02a922d5"
   },
   "source": [
    "s_ru_viz_en.layer2head()"
   ],
   "execution_count": null,
   "outputs": [
    {
     "output_type": "display_data",
     "data": {
      "image/png": "[encoded data removed]",
      "text/plain": [
       "<Figure size 720x504 with 2 Axes>"
      ]
     },
     "metadata": {
      "tags": [],
      "needs_background": "light"
     }
    }
   ]
  },
  {
   "cell_type": "markdown",
   "metadata": {
    "id": "Rl74EPJZog0-"
   },
   "source": [
    "# RU -> RU"
   ]
  },
  {
   "cell_type": "markdown",
   "metadata": {
    "id": "S_e0W2cf_g_T"
   },
   "source": [
    "### Word2Word"
   ]
  },
  {
   "cell_type": "code",
   "metadata": {
    "id": "DyKfYnvYi8uO",
    "colab": {
     "base_uri": "https://localhost:8080/",
     "height": 475
    },
    "outputId": "c6987ee5-c1e8-45f2-ea1c-b1cfdb9653dc"
   },
   "source": [
    "ru_viz_ru.word2word()"
   ],
   "execution_count": null,
   "outputs": [
    {
     "output_type": "display_data",
     "data": {
      "image/png": "[encoded data removed]",
      "text/plain": [
       "<Figure size 720x504 with 2 Axes>"
      ]
     },
     "metadata": {
      "tags": [],
      "needs_background": "light"
     }
    }
   ]
  },
  {
   "cell_type": "code",
   "metadata": {
    "colab": {
     "base_uri": "https://localhost:8080/",
     "height": 475
    },
    "id": "VmyeUPIsoNrT",
    "outputId": "2024fe28-6785-4815-cac3-06cd3208e93d"
   },
   "source": [
    "s_ru_viz_ru.word2word()"
   ],
   "execution_count": null,
   "outputs": [
    {
     "output_type": "display_data",
     "data": {
      "image/png": "[encoded data removed]",
      "text/plain": [
       "<Figure size 720x504 with 2 Axes>"
      ]
     },
     "metadata": {
      "tags": [],
      "needs_background": "light"
     }
    }
   ]
  },
  {
   "cell_type": "code",
   "metadata": {
    "colab": {
     "base_uri": "https://localhost:8080/",
     "height": 432
    },
    "id": "0iPwegCE_p2x",
    "outputId": "f44cc4ea-aa65-44b8-a292-330bb7620e14"
   },
   "source": [
    "ru_viz_ru.layer2head()"
   ],
   "execution_count": null,
   "outputs": [
    {
     "output_type": "display_data",
     "data": {
      "image/png": "[encoded data removed]",
      "text/plain": [
       "<Figure size 720x504 with 2 Axes>"
      ]
     },
     "metadata": {
      "tags": [],
      "needs_background": "light"
     }
    }
   ]
  },
  {
   "cell_type": "code",
   "metadata": {
    "colab": {
     "base_uri": "https://localhost:8080/",
     "height": 432
    },
    "id": "7zDbswy7_szn",
    "outputId": "05837bee-46ed-43ce-9e40-1e7f1460b095"
   },
   "source": [
    "s_ru_viz_ru.layer2head()"
   ],
   "execution_count": null,
   "outputs": [
    {
     "output_type": "display_data",
     "data": {
      "image/png": "[encoded data removed]",
      "text/plain": [
       "<Figure size 720x504 with 2 Axes>"
      ]
     },
     "metadata": {
      "tags": [],
      "needs_background": "light"
     }
    }
   ]
  },
  {
   "cell_type": "markdown",
   "metadata": {
    "id": "ZTg8Ik2I_mr2"
   },
   "source": [
    "### Layer2Head"
   ]
  },
  {
   "cell_type": "code",
   "metadata": {
    "colab": {
     "base_uri": "https://localhost:8080/"
    },
    "id": "zjpsqm7BWJr0",
    "outputId": "3fc28394-6966-4db3-d19b-1cd9cce8d148"
   },
   "source": [
    "english_markup_EnBERT = markup_sentences(EnglishBertModel, en_train_dataset.idx2tag, en_sentences_new)  \n",
    "english_markup_RuBERT = markup_sentences(RussianBertModel, ru_train_dataset.idx2tag, en_sentences_new)\n",
    "\n",
    "from seqeval.metrics import f1_score\n",
    "print('Russian BERT on English Texts:', f1_score(english_markup_EnBERT, english_markup_RuBERT))"
   ],
   "execution_count": null,
   "outputs": [
    {
     "output_type": "stream",
     "text": [
      "Russian BERT on English Texts: 0.5073159677589502\n"
     ],
     "name": "stdout"
    }
   ]
  },
  {
   "cell_type": "code",
   "metadata": {
    "colab": {
     "base_uri": "https://localhost:8080/"
    },
    "id": "thCzaFDzWKBG",
    "outputId": "df0584bf-8f17-4744-cfcf-76497f7edc53"
   },
   "source": [
    "russian_markup_EnBERT = markup_sentences(EnglishBertModel, en_train_dataset.idx2tag, ru_sentences_new)  \n",
    "russian_markup_RuBERT = markup_sentences(RussianBertModel, ru_train_dataset.idx2tag, ru_sentences_new)\n",
    "\n",
    "from seqeval.metrics import f1_score\n",
    "print('English BERT on Russian Texts:', f1_score(russian_markup_RuBERT, russian_markup_EnBERT))"
   ],
   "execution_count": null,
   "outputs": [
    {
     "output_type": "stream",
     "text": [
      "English BERT on Russian Texts: 0.5162010934335202\n"
     ],
     "name": "stdout"
    }
   ]
  },
  {
   "cell_type": "code",
   "metadata": {
    "colab": {
     "base_uri": "https://localhost:8080/"
    },
    "id": "BtwMa4lnMjoO",
    "outputId": "917afd12-3451-45c8-9d5d-1ad712b12d88"
   },
   "source": [
    "english_markup_EnXLM = markup_sentences(EnglishXLMModel, en_train_dataset.idx2tag, en_sentences_new)  \n",
    "english_markup_RuXLM = markup_sentences(RussianXLMModel, ru_train_dataset.idx2tag, en_sentences_new)\n",
    "\n",
    "from seqeval.metrics import f1_score\n",
    "print('Russian XLM on English Texts:', f1_score(english_markup_EnXLM, english_markup_RuXLM))"
   ],
   "execution_count": null,
   "outputs": [
    {
     "output_type": "stream",
     "text": [
      "Russian XLM on English Texts: 0.5796063017494121\n"
     ],
     "name": "stdout"
    }
   ]
  },
  {
   "cell_type": "code",
   "metadata": {
    "colab": {
     "base_uri": "https://localhost:8080/"
    },
    "id": "F3zy7x1mMjoP",
    "outputId": "0d2ea224-adb6-455d-d9d4-fce9ad811640"
   },
   "source": [
    "russian_markup_EnXLM = markup_sentences(EnglishXLMModel, en_train_dataset.idx2tag, ru_sentences_new)  \n",
    "russian_markup_RuXLM = markup_sentences(RussianXLMModel, ru_train_dataset.idx2tag, ru_sentences_new)\n",
    "\n",
    "from seqeval.metrics import f1_score\n",
    "print('English XLM on Russian Texts:', f1_score(russian_markup_RuXLM, russian_markup_EnXLM))"
   ],
   "execution_count": null,
   "outputs": [
    {
     "output_type": "stream",
     "text": [
      "English XLM on Russian Texts: 0.586135823776363\n"
     ],
     "name": "stdout"
    }
   ]
  }
 ]
}